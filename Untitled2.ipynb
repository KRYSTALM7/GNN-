{
 "cells": [
  {
   "cell_type": "code",
   "execution_count": 1,
   "id": "10b8d335",
   "metadata": {},
   "outputs": [
    {
     "ename": "NameError",
     "evalue": "name 'test_data' is not defined",
     "output_type": "error",
     "traceback": [
      "\u001b[1;31m---------------------------------------------------------------------------\u001b[0m",
      "\u001b[1;31mNameError\u001b[0m                                 Traceback (most recent call last)",
      "Cell \u001b[1;32mIn[1], line 67\u001b[0m\n\u001b[0;32m     65\u001b[0m \u001b[38;5;28;01mfor\u001b[39;00m i \u001b[38;5;129;01min\u001b[39;00m \u001b[38;5;28mrange\u001b[39m(\u001b[38;5;28mlen\u001b[39m(df\u001b[38;5;241m.\u001b[39mcolumns)):\n\u001b[0;32m     66\u001b[0m     plt\u001b[38;5;241m.\u001b[39msubplot(\u001b[38;5;28mlen\u001b[39m(df\u001b[38;5;241m.\u001b[39mcolumns), \u001b[38;5;241m1\u001b[39m, i\u001b[38;5;241m+\u001b[39m\u001b[38;5;241m1\u001b[39m)\n\u001b[1;32m---> 67\u001b[0m     plt\u001b[38;5;241m.\u001b[39mplot(\u001b[43mtest_data\u001b[49m[:, i], label\u001b[38;5;241m=\u001b[39m\u001b[38;5;124m'\u001b[39m\u001b[38;5;124mOriginal Data\u001b[39m\u001b[38;5;124m'\u001b[39m, color\u001b[38;5;241m=\u001b[39m\u001b[38;5;124m'\u001b[39m\u001b[38;5;124mblue\u001b[39m\u001b[38;5;124m'\u001b[39m)\n\u001b[0;32m     68\u001b[0m     plt\u001b[38;5;241m.\u001b[39mplot(test_output[:, i], label\u001b[38;5;241m=\u001b[39m\u001b[38;5;124m'\u001b[39m\u001b[38;5;124mPredicted Data\u001b[39m\u001b[38;5;124m'\u001b[39m, color\u001b[38;5;241m=\u001b[39m\u001b[38;5;124m'\u001b[39m\u001b[38;5;124mgreen\u001b[39m\u001b[38;5;124m'\u001b[39m)\n\u001b[0;32m     69\u001b[0m     plt\u001b[38;5;241m.\u001b[39mscatter(torch\u001b[38;5;241m.\u001b[39mnonzero(anomaly_mask[:, i])\u001b[38;5;241m.\u001b[39msqueeze()\u001b[38;5;241m.\u001b[39mtolist(), test_output[:, i][anomaly_mask[:, i]]\u001b[38;5;241m.\u001b[39msqueeze()\u001b[38;5;241m.\u001b[39mtolist(),\n\u001b[0;32m     70\u001b[0m                 color\u001b[38;5;241m=\u001b[39m\u001b[38;5;124m'\u001b[39m\u001b[38;5;124mred\u001b[39m\u001b[38;5;124m'\u001b[39m, label\u001b[38;5;241m=\u001b[39m\u001b[38;5;124m'\u001b[39m\u001b[38;5;124mAnomalies\u001b[39m\u001b[38;5;124m'\u001b[39m)\n",
      "\u001b[1;31mNameError\u001b[0m: name 'test_data' is not defined"
     ]
    },
    {
     "data": {
      "image/png": "[encoded data removed]",
      "text/plain": [
       "<Figure size 1200x800 with 1 Axes>"
      ]
     },
     "metadata": {},
     "output_type": "display_data"
    }
   ],
   "source": [
    "import pandas as pd\n",
    "import torch\n",
    "import torch.nn as nn\n",
    "import torch.optim as optim\n",
    "import torch.nn.functional as F\n",
    "from torch_geometric.nn import ChebConv\n",
    "from torch_geometric.data import Data, DataLoader\n",
    "import matplotlib.pyplot as plt\n",
    "\n",
    "# Load your time series sensor data into a pandas DataFrame\n",
    "df = pd.read_csv(r'C:\\Users\\SUJAN\\preprocessed_data.csv')  \n",
    "\n",
    "# Exclude the 'date' and 'machine_status' columns from the DataFrame\n",
    "df = df.iloc[:, :-2]\n",
    "\n",
    "# Convert the sensor data to PyTorch tensors\n",
    "data = torch.tensor(df.values, dtype=torch.float32)\n",
    "\n",
    "# Define the GNN model\n",
    "class GNN(nn.Module):\n",
    "    def __init__(self, input_dim, hidden_dim):\n",
    "        super(GNN, self).__init__()\n",
    "        self.conv1 = ChebConv(input_dim, hidden_dim, K=2)\n",
    "        self.conv2 = ChebConv(hidden_dim, input_dim, K=2)\n",
    "\n",
    "    def forward(self, x, edge_index):\n",
    "        x = self.conv1(x, edge_index)\n",
    "        x = F.relu(x)\n",
    "        x = self.conv2(x, edge_index)\n",
    "        return x\n",
    "\n",
    "# Create a PyTorch geometric Data object\n",
    "edges = torch.tensor([[i, i + 1] for i in range(len(data) - 1)], dtype=torch.long).t().contiguous()\n",
    "graph = Data(x=data, edge_index=edges)\n",
    "\n",
    "# Create a PyTorch geometric DataLoader for batch training\n",
    "loader = DataLoader([graph], batch_size=1, shuffle=True)\n",
    "\n",
    "# Initialize the GNN model and define the optimizer\n",
    "model = GNN(input_dim=len(df.columns), hidden_dim=64)\n",
    "optimizer = optim.Adam(model.parameters(), lr=0.01)\n",
    "\n",
    "# Train the GNN model\n",
    "model.train()\n",
    "for epoch in range(100):\n",
    "    for batch in loader:\n",
    "        optimizer.zero_grad()\n",
    "        out = model(batch.x, batch.edge_index)\n",
    "        loss = F.mse_loss(out[:-1], batch.x[1:])  # Mean Squared Error loss\n",
    "        loss.backward()\n",
    "        optimizer.step()\n",
    "\n",
    "# Test the GNN model on the data\n",
    "model.eval()\n",
    "with torch.no_grad():\n",
    "    test_output = model(graph.x, graph.edge_index)\n",
    "\n",
    "# Compute the anomaly scores for each variable\n",
    "anomaly_threshold = 0.1  # Adjust this threshold as needed\n",
    "anomaly_mask = torch.abs(data - test_output) > anomaly_threshold\n",
    "anomaly_scores = torch.mean(torch.abs(data - test_output), dim=1)\n",
    "\n",
    "# Plot the results\n",
    "plt.figure(figsize=(12, 8))\n",
    "for i in range(len(df.columns)):\n",
    "    plt.subplot(len(df.columns), 1, i+1)\n",
    "    plt.plot(test_data[:, i], label='Original Data', color='blue')\n",
    "    plt.plot(test_output[:, i], label='Predicted Data', color='green')\n",
    "    plt.scatter(torch.nonzero(anomaly_mask[:, i]).squeeze().tolist(), test_output[:, i][anomaly_mask[:, i]].squeeze().tolist(),\n",
    "                color='red', label='Anomalies')\n",
    "    plt.xlabel('Time')\n",
    "    plt.ylabel('Value')\n",
    "    plt.legend()\n",
    "plt.suptitle('GNN Anomaly Detection')\n",
    "plt.tight_layout()\n",
    "plt.show()\n",
    "\n",
    "# Print the anomaly detection results\n",
    "if torch.any(anomaly_mask):\n",
    "    print(\"Anomalies detected!\")\n",
    "    print(\"Anomaly indices:\")\n",
    "    for i in range(len(df.columns)):\n",
    "        print(f\"Variable {df.columns[i]}:\", torch.nonzero(anomaly_mask[:, i]).squeeze().tolist())\n",
    "else:\n",
    "    print(\"No anomalies detected.\")"
   ]
  },
  {
   "cell_type": "code",
   "execution_count": null,
   "id": "322039fe",
   "metadata": {},
   "outputs": [],
   "source": []
  }
 ],
 "metadata": {
  "kernelspec": {
   "display_name": "Python 3 (ipykernel)",
   "language": "python",
   "name": "python3"
  },
  "language_info": {
   "codemirror_mode": {
    "name": "ipython",
    "version": 3
   },
   "file_extension": ".py",
   "mimetype": "text/x-python",
   "name": "python",
   "nbconvert_exporter": "python",
   "pygments_lexer": "ipython3",
   "version": "3.8.16"
  }
 },
 "nbformat": 4,
 "nbformat_minor": 5
}
