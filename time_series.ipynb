{
 "cells": [
  {
   "cell_type": "markdown",
   "metadata": {
    "id": "2Pmxv2ioyCRw"
   },
   "source": [
    "##### Copyright 2019 The TensorFlow Authors."
   ]
  },
  {
   "cell_type": "code",
   "execution_count": null,
   "metadata": {
    "id": "b-2ShX25yNWf"
   },
   "outputs": [],
   "source": [
    "#@title Licensed under the Apache License, Version 2.0 (the \"License\");\n",
    "# you may not use this file except in compliance with the License.\n",
    "# You may obtain a copy of the License at\n",
    "#\n",
    "# https://www.apache.org/licenses/LICENSE-2.0\n",
    "#\n",
    "# Unless required by applicable law or agreed to in writing, software\n",
    "# distributed under the License is distributed on an \"AS IS\" BASIS,\n",
    "# WITHOUT WARRANTIES OR CONDITIONS OF ANY KIND, either express or implied.\n",
    "# See the License for the specific language governing permissions and\n",
    "# limitations under the License."
   ]
  },
  {
   "cell_type": "markdown",
   "metadata": {
    "id": "pa49bUnKyRgF"
   },
   "source": [
    "# Time series forecasting"
   ]
  },
  {
   "cell_type": "markdown",
   "metadata": {
    "id": "11Ilg92myRcw"
   },
   "source": [
    "<table class=\"tfo-notebook-buttons\" align=\"left\">\n",
    "  <td>\n",
    "    <a target=\"_blank\" href=\"https://www.tensorflow.org/tutorials/structured_data/time_series\"><img src=\"https://www.tensorflow.org/images/tf_logo_32px.png\" />View on TensorFlow.org</a>\n",
    "  </td>\n",
    "  <td>\n",
    "    <a target=\"_blank\" href=\"https://colab.research.google.com/github/tensorflow/docs/blob/master/site/en/tutorials/structured_data/time_series.ipynb\"><img src=\"https://www.tensorflow.org/images/colab_logo_32px.png\" />Run in Google Colab</a>\n",
    "  </td>\n",
    "  <td>\n",
    "    <a target=\"_blank\" href=\"https://github.com/tensorflow/docs/blob/master/site/en/tutorials/structured_data/time_series.ipynb\"><img src=\"https://www.tensorflow.org/images/GitHub-Mark-32px.png\" />View source on GitHub</a>\n",
    "  </td>\n",
    "  <td>\n",
    "    <a href=\"https://storage.googleapis.com/tensorflow_docs/docs/site/en/tutorials/structured_data/time_series.ipynb\"><img src=\"https://www.tensorflow.org/images/download_logo_32px.png\" />Download notebook</a>\n",
    "  </td>\n",
    "</table>"
   ]
  },
  {
   "cell_type": "markdown",
   "metadata": {
    "id": "GU8C5qm_4vZb"
   },
   "source": [
    "This tutorial is an introduction to time series forecasting using TensorFlow. It builds a few different styles of models including Convolutional and Recurrent Neural Networks (CNNs and RNNs).\n",
    "\n",
    "This is covered in two main parts, with subsections:\n",
    "\n",
    "* Forecast for a single time step:\n",
    "  * A single feature.\n",
    "  * All features.\n",
    "* Forecast multiple steps:\n",
    "  * Single-shot: Make the predictions all at once.\n",
    "  * Autoregressive: Make one prediction at a time and feed the output back to the model."
   ]
  },
  {
   "cell_type": "markdown",
   "metadata": {
    "id": "XVhK72Pu1cJL"
   },
   "source": [
    "## Setup"
   ]
  },
  {
   "cell_type": "code",
   "execution_count": 1,
   "metadata": {
    "id": "7rZnJaGTWQw0"
   },
   "outputs": [],
   "source": [
    "import os\n",
    "import datetime\n",
    "\n",
    "import IPython\n",
    "import IPython.display\n",
    "import matplotlib as mpl\n",
    "import matplotlib.pyplot as plt\n",
    "import numpy as np\n",
    "import pandas as pd\n",
    "import seaborn as sns\n",
    "import tensorflow as tf\n",
    "\n",
    "mpl.rcParams['figure.figsize'] = (8, 6)\n",
    "mpl.rcParams['axes.grid'] = False"
   ]
  },
  {
   "cell_type": "markdown",
   "metadata": {
    "id": "TokBlnUhWFw9"
   },
   "source": [
    "## The weather dataset\n",
    "\n",
    "This tutorial uses a <a href=\"https://www.bgc-jena.mpg.de/wetter/\" class=\"external\">weather time series dataset</a> recorded by the <a href=\"https://www.bgc-jena.mpg.de\" class=\"external\">Max Planck Institute for Biogeochemistry</a>.\n",
    "\n",
    "This dataset contains 14 different features such as air temperature, atmospheric pressure, and humidity. These were collected every 10 minutes, beginning in 2003. For efficiency, you will use only the data collected between 2009 and 2016. This section of the dataset was prepared by François Chollet for his book <a href=\"https://www.manning.com/books/deep-learning-with-python\" class=\"external\">Deep Learning with Python</a>."
   ]
  },
  {
   "cell_type": "code",
   "execution_count": 2,
   "metadata": {
    "colab": {
     "base_uri": "https://localhost:8080/"
    },
    "id": "xyv_i85IWInT",
    "outputId": "35ad0a9f-76b5-4ff5-fff3-46fb8ab92738"
   },
   "outputs": [
    {
     "name": "stdout",
     "output_type": "stream",
     "text": [
      "Downloading data from https://storage.googleapis.com/tensorflow/tf-keras-datasets/jena_climate_2009_2016.csv.zip\n",
      "13568290/13568290 [==============================] - 2s 0us/step\n"
     ]
    }
   ],
   "source": [
    "zip_path = tf.keras.utils.get_file(\n",
    "    origin='https://storage.googleapis.com/tensorflow/tf-keras-datasets/jena_climate_2009_2016.csv.zip',\n",
    "    fname='jena_climate_2009_2016.csv.zip',\n",
    "    extract=True)\n",
    "csv_path, _ = os.path.splitext(zip_path)"
   ]
  },
  {
   "cell_type": "markdown",
   "metadata": {
    "id": "R81Wx8WP4c3G"
   },
   "source": [
    "This tutorial will just deal with **hourly predictions**, so start by sub-sampling the data from 10-minute intervals to one-hour intervals:"
   ]
  },
  {
   "cell_type": "code",
   "execution_count": 3,
   "metadata": {
    "id": "TX6uGeeeWIkG"
   },
   "outputs": [],
   "source": [
    "df = pd.read_csv(csv_path)\n",
    "# Slice [start:stop:step], starting from index 5 take every 6th record.\n",
    "df = df[5::6]\n",
    "\n",
    "date_time = pd.to_datetime(df.pop('Date Time'), format='%d.%m.%Y %H:%M:%S')"
   ]
  },
  {
   "cell_type": "markdown",
   "metadata": {
    "id": "VdbOWXiTWM2T"
   },
   "source": [
    "Let's take a glance at the data. Here are the first few rows:"
   ]
  },
  {
   "cell_type": "code",
   "execution_count": 4,
   "metadata": {
    "colab": {
     "base_uri": "https://localhost:8080/",
     "height": 967
    },
    "id": "ojHE-iCCWIhz",
    "outputId": "d6829830-09a7-4667-8902-5d9ded9f9f43"
   },
   "outputs": [
    {
     "data": {
      "text/html": [
       "\n",
       "\n",
       "  <div id=\"df-47fb6134-5689-4e25-9e44-8466c6718bb9\">\n",
       "    <div class=\"colab-df-container\">\n",
       "      <div>\n",
       "<style scoped>\n",
       "    .dataframe tbody tr th:only-of-type {\n",
       "        vertical-align: middle;\n",
       "    }\n",
       "\n",
       "    .dataframe tbody tr th {\n",
       "        vertical-align: top;\n",
       "    }\n",
       "\n",
       "    .dataframe thead th {\n",
       "        text-align: right;\n",
       "    }\n",
       "</style>\n",
       "<table border=\"1\" class=\"dataframe\">\n",
       "  <thead>\n",
       "    <tr style=\"text-align: right;\">\n",
       "      <th></th>\n",
       "      <th>p (mbar)</th>\n",
       "      <th>T (degC)</th>\n",
       "      <th>Tpot (K)</th>\n",
       "      <th>Tdew (degC)</th>\n",
       "      <th>rh (%)</th>\n",
       "      <th>VPmax (mbar)</th>\n",
       "      <th>VPact (mbar)</th>\n",
       "      <th>VPdef (mbar)</th>\n",
       "      <th>sh (g/kg)</th>\n",
       "      <th>H2OC (mmol/mol)</th>\n",
       "      <th>rho (g/m**3)</th>\n",
       "      <th>wv (m/s)</th>\n",
       "      <th>max. wv (m/s)</th>\n",
       "      <th>wd (deg)</th>\n",
       "    </tr>\n",
       "  </thead>\n",
       "  <tbody>\n",
       "    <tr>\n",
       "      <th>5</th>\n",
       "      <td>996.50</td>\n",
       "      <td>-8.05</td>\n",
       "      <td>265.38</td>\n",
       "      <td>-8.78</td>\n",
       "      <td>94.4</td>\n",
       "      <td>3.33</td>\n",
       "      <td>3.14</td>\n",
       "      <td>0.19</td>\n",
       "      <td>1.96</td>\n",
       "      <td>3.15</td>\n",
       "      <td>1307.86</td>\n",
       "      <td>0.21</td>\n",
       "      <td>0.63</td>\n",
       "      <td>192.7</td>\n",
       "    </tr>\n",
       "    <tr>\n",
       "      <th>11</th>\n",
       "      <td>996.62</td>\n",
       "      <td>-8.88</td>\n",
       "      <td>264.54</td>\n",
       "      <td>-9.77</td>\n",
       "      <td>93.2</td>\n",
       "      <td>3.12</td>\n",
       "      <td>2.90</td>\n",
       "      <td>0.21</td>\n",
       "      <td>1.81</td>\n",
       "      <td>2.91</td>\n",
       "      <td>1312.25</td>\n",
       "      <td>0.25</td>\n",
       "      <td>0.63</td>\n",
       "      <td>190.3</td>\n",
       "    </tr>\n",
       "    <tr>\n",
       "      <th>17</th>\n",
       "      <td>996.84</td>\n",
       "      <td>-8.81</td>\n",
       "      <td>264.59</td>\n",
       "      <td>-9.66</td>\n",
       "      <td>93.5</td>\n",
       "      <td>3.13</td>\n",
       "      <td>2.93</td>\n",
       "      <td>0.20</td>\n",
       "      <td>1.83</td>\n",
       "      <td>2.94</td>\n",
       "      <td>1312.18</td>\n",
       "      <td>0.18</td>\n",
       "      <td>0.63</td>\n",
       "      <td>167.2</td>\n",
       "    </tr>\n",
       "    <tr>\n",
       "      <th>23</th>\n",
       "      <td>996.99</td>\n",
       "      <td>-9.05</td>\n",
       "      <td>264.34</td>\n",
       "      <td>-10.02</td>\n",
       "      <td>92.6</td>\n",
       "      <td>3.07</td>\n",
       "      <td>2.85</td>\n",
       "      <td>0.23</td>\n",
       "      <td>1.78</td>\n",
       "      <td>2.85</td>\n",
       "      <td>1313.61</td>\n",
       "      <td>0.10</td>\n",
       "      <td>0.38</td>\n",
       "      <td>240.0</td>\n",
       "    </tr>\n",
       "    <tr>\n",
       "      <th>29</th>\n",
       "      <td>997.46</td>\n",
       "      <td>-9.63</td>\n",
       "      <td>263.72</td>\n",
       "      <td>-10.65</td>\n",
       "      <td>92.2</td>\n",
       "      <td>2.94</td>\n",
       "      <td>2.71</td>\n",
       "      <td>0.23</td>\n",
       "      <td>1.69</td>\n",
       "      <td>2.71</td>\n",
       "      <td>1317.19</td>\n",
       "      <td>0.40</td>\n",
       "      <td>0.88</td>\n",
       "      <td>157.0</td>\n",
       "    </tr>\n",
       "  </tbody>\n",
       "</table>\n",
       "</div>\n",
       "      <button class=\"colab-df-convert\" onclick=\"convertToInteractive('df-47fb6134-5689-4e25-9e44-8466c6718bb9')\"\n",
       "              title=\"Convert this dataframe to an interactive table.\"\n",
       "              style=\"display:none;\">\n",
       "\n",
       "  <svg xmlns=\"http://www.w3.org/2000/svg\" height=\"24px\"viewBox=\"0 0 24 24\"\n",
       "       width=\"24px\">\n",
       "    <path d=\"M0 0h24v24H0V0z\" fill=\"none\"/>\n",
       "    <path d=\"M18.56 5.44l.94 2.06.94-2.06 2.06-.94-2.06-.94-.94-2.06-.94 2.06-2.06.94zm-11 1L8.5 8.5l.94-2.06 2.06-.94-2.06-.94L8.5 2.5l-.94 2.06-2.06.94zm10 10l.94 2.06.94-2.06 2.06-.94-2.06-.94-.94-2.06-.94 2.06-2.06.94z\"/><path d=\"M17.41 7.96l-1.37-1.37c-.4-.4-.92-.59-1.43-.59-.52 0-1.04.2-1.43.59L10.3 9.45l-7.72 7.72c-.78.78-.78 2.05 0 2.83L4 21.41c.39.39.9.59 1.41.59.51 0 1.02-.2 1.41-.59l7.78-7.78 2.81-2.81c.8-.78.8-2.07 0-2.86zM5.41 20L4 18.59l7.72-7.72 1.47 1.35L5.41 20z\"/>\n",
       "  </svg>\n",
       "      </button>\n",
       "\n",
       "\n",
       "\n",
       "    <div id=\"df-f9f7d96b-99c8-4fc2-a7b9-1fd626914887\">\n",
       "      <button class=\"colab-df-quickchart\" onclick=\"quickchart('df-f9f7d96b-99c8-4fc2-a7b9-1fd626914887')\"\n",
       "              title=\"Suggest charts.\"\n",
       "              style=\"display:none;\">\n",
       "\n",
       "<svg xmlns=\"http://www.w3.org/2000/svg\" height=\"24px\"viewBox=\"0 0 24 24\"\n",
       "     width=\"24px\">\n",
       "    <g>\n",
       "        <path d=\"M19 3H5c-1.1 0-2 .9-2 2v14c0 1.1.9 2 2 2h14c1.1 0 2-.9 2-2V5c0-1.1-.9-2-2-2zM9 17H7v-7h2v7zm4 0h-2V7h2v10zm4 0h-2v-4h2v4z\"/>\n",
       "    </g>\n",
       "</svg>\n",
       "      </button>\n",
       "    </div>\n",
       "\n",
       "<style>\n",
       "  .colab-df-quickchart {\n",
       "    background-color: #E8F0FE;\n",
       "    border: none;\n",
       "    border-radius: 50%;\n",
       "    cursor: pointer;\n",
       "    display: none;\n",
       "    fill: #1967D2;\n",
       "    height: 32px;\n",
       "    padding: 0 0 0 0;\n",
       "    width: 32px;\n",
       "  }\n",
       "\n",
       "  .colab-df-quickchart:hover {\n",
       "    background-color: #E2EBFA;\n",
       "    box-shadow: 0px 1px 2px rgba(60, 64, 67, 0.3), 0px 1px 3px 1px rgba(60, 64, 67, 0.15);\n",
       "    fill: #174EA6;\n",
       "  }\n",
       "\n",
       "  [theme=dark] .colab-df-quickchart {\n",
       "    background-color: #3B4455;\n",
       "    fill: #D2E3FC;\n",
       "  }\n",
       "\n",
       "  [theme=dark] .colab-df-quickchart:hover {\n",
       "    background-color: #434B5C;\n",
       "    box-shadow: 0px 1px 3px 1px rgba(0, 0, 0, 0.15);\n",
       "    filter: drop-shadow(0px 1px 2px rgba(0, 0, 0, 0.3));\n",
       "    fill: #FFFFFF;\n",
       "  }\n",
       "</style>\n",
       "\n",
       "    <script>\n",
       "      async function quickchart(key) {\n",
       "        const containerElement = document.querySelector('#' + key);\n",
       "        const charts = await google.colab.kernel.invokeFunction(\n",
       "            'suggestCharts', [key], {});\n",
       "      }\n",
       "    </script>\n",
       "\n",
       "      <script>\n",
       "\n",
       "function displayQuickchartButton(domScope) {\n",
       "  let quickchartButtonEl =\n",
       "    domScope.querySelector('#df-f9f7d96b-99c8-4fc2-a7b9-1fd626914887 button.colab-df-quickchart');\n",
       "  quickchartButtonEl.style.display =\n",
       "    google.colab.kernel.accessAllowed ? 'block' : 'none';\n",
       "}\n",
       "\n",
       "        displayQuickchartButton(document);\n",
       "      </script>\n",
       "      <style>\n",
       "    .colab-df-container {\n",
       "      display:flex;\n",
       "      flex-wrap:wrap;\n",
       "      gap: 12px;\n",
       "    }\n",
       "\n",
       "    .colab-df-convert {\n",
       "      background-color: #E8F0FE;\n",
       "      border: none;\n",
       "      border-radius: 50%;\n",
       "      cursor: pointer;\n",
       "      display: none;\n",
       "      fill: #1967D2;\n",
       "      height: 32px;\n",
       "      padding: 0 0 0 0;\n",
       "      width: 32px;\n",
       "    }\n",
       "\n",
       "    .colab-df-convert:hover {\n",
       "      background-color: #E2EBFA;\n",
       "      box-shadow: 0px 1px 2px rgba(60, 64, 67, 0.3), 0px 1px 3px 1px rgba(60, 64, 67, 0.15);\n",
       "      fill: #174EA6;\n",
       "    }\n",
       "\n",
       "    [theme=dark] .colab-df-convert {\n",
       "      background-color: #3B4455;\n",
       "      fill: #D2E3FC;\n",
       "    }\n",
       "\n",
       "    [theme=dark] .colab-df-convert:hover {\n",
       "      background-color: #434B5C;\n",
       "      box-shadow: 0px 1px 3px 1px rgba(0, 0, 0, 0.15);\n",
       "      filter: drop-shadow(0px 1px 2px rgba(0, 0, 0, 0.3));\n",
       "      fill: #FFFFFF;\n",
       "    }\n",
       "  </style>\n",
       "\n",
       "      <script>\n",
       "        const buttonEl =\n",
       "          document.querySelector('#df-47fb6134-5689-4e25-9e44-8466c6718bb9 button.colab-df-convert');\n",
       "        buttonEl.style.display =\n",
       "          google.colab.kernel.accessAllowed ? 'block' : 'none';\n",
       "\n",
       "        async function convertToInteractive(key) {\n",
       "          const element = document.querySelector('#df-47fb6134-5689-4e25-9e44-8466c6718bb9');\n",
       "          const dataTable =\n",
       "            await google.colab.kernel.invokeFunction('convertToInteractive',\n",
       "                                                     [key], {});\n",
       "          if (!dataTable) return;\n",
       "\n",
       "          const docLinkHtml = 'Like what you see? Visit the ' +\n",
       "            '<a target=\"_blank\" href=https://colab.research.google.com/notebooks/data_table.ipynb>data table notebook</a>'\n",
       "            + ' to learn more about interactive tables.';\n",
       "          element.innerHTML = '';\n",
       "          dataTable['output_type'] = 'display_data';\n",
       "          await google.colab.output.renderOutput(dataTable, element);\n",
       "          const docLink = document.createElement('div');\n",
       "          docLink.innerHTML = docLinkHtml;\n",
       "          element.appendChild(docLink);\n",
       "        }\n",
       "      </script>\n",
       "    </div>\n",
       "  </div>\n"
      ],
      "text/plain": [
       "    p (mbar)  T (degC)  Tpot (K)  Tdew (degC)  rh (%)  VPmax (mbar)  \\\n",
       "5     996.50     -8.05    265.38        -8.78    94.4          3.33   \n",
       "11    996.62     -8.88    264.54        -9.77    93.2          3.12   \n",
       "17    996.84     -8.81    264.59        -9.66    93.5          3.13   \n",
       "23    996.99     -9.05    264.34       -10.02    92.6          3.07   \n",
       "29    997.46     -9.63    263.72       -10.65    92.2          2.94   \n",
       "\n",
       "    VPact (mbar)  VPdef (mbar)  sh (g/kg)  H2OC (mmol/mol)  rho (g/m**3)  \\\n",
       "5           3.14          0.19       1.96             3.15       1307.86   \n",
       "11          2.90          0.21       1.81             2.91       1312.25   \n",
       "17          2.93          0.20       1.83             2.94       1312.18   \n",
       "23          2.85          0.23       1.78             2.85       1313.61   \n",
       "29          2.71          0.23       1.69             2.71       1317.19   \n",
       "\n",
       "    wv (m/s)  max. wv (m/s)  wd (deg)  \n",
       "5       0.21           0.63     192.7  \n",
       "11      0.25           0.63     190.3  \n",
       "17      0.18           0.63     167.2  \n",
       "23      0.10           0.38     240.0  \n",
       "29      0.40           0.88     157.0  "
      ]
     },
     "execution_count": 4,
     "metadata": {},
     "output_type": "execute_result"
    },
    {
     "data": {
      "text/html": [
       "<h4 class=\"colab-quickchart-section-title\">Values</h4>\n",
       "<style>\n",
       "  .colab-quickchart-section-title {\n",
       "      clear: both;\n",
       "  }\n",
       "</style>"
      ],
      "text/plain": [
       "<google.colab._quickchart_helpers.SectionTitle at 0x793f23a9ce20>"
      ]
     },
     "metadata": {},
     "output_type": "display_data"
    },
    {
     "data": {
      "text/html": [
       "      <div class=\"colab-quickchart-chart-with-code\" id=\"chart-19dd4d15-7c92-45eb-95d6-e2f1d384cc5a\">\n",
       "        <img src=\"data:image/png;base64,iVBORw0KGgoAAAANSUhEUgAAAMQAAABgCAYAAABCK92TAAAAOXRFWHRTb2Z0d2FyZQBNYXRwbG90\n",
       "bGliIHZlcnNpb24zLjcuMSwgaHR0cHM6Ly9tYXRwbG90bGliLm9yZy/bCgiHAAAACXBIWXMAAA9h\n",
       "AAAPYQGoP6dpAAAShElEQVR4nO3deVQT594H8C/7EkMCBARZxQQFZFHAixYuFtRqbxfFak+rxa21\n",
       "PbXV1mptj628Xrd7asuV0lrce3y1VkWtuFFt9RWoG9a1FSlYEJRF1gABEpL83j/QNDHBGggk4PM5\n",
       "J+eQmWee5zdkfjOTzPPMmBERgWEYAIC5sQNgGFPCEoJh1LCEYBg1LCEYRg1LCIZRwxKCYdSwhGAY\n",
       "NSwhGEYNSwiGUcMSwkStXr0a8+bN61IdM2fOxPTp0w0U0V8uXryIIUOGQCaTGbxuY2MJYYIqKiqw\n",
       "du1aJCUlGTsUnSIiIhAQEIDU1FRjh2JwLCFM0DfffIOxY8fC1dXV2KFoaWtrAwC88cYbSElJgUKh\n",
       "MHJEhsUSopuNHj0a77zzDhISEsDlciEUCrF9+/ZHLrNv3z4888wzWvW8++67ePnll+Hg4ABPT098\n",
       "//33uH79OkaOHAkul4sRI0YgPz9fYzmZTIbXX38dfD4f3t7e+Oyzz1TzWltbMWXKFHh4eIDL5WLw\n",
       "4MH4+uuvNZb39fVFUlISxo8fDy6Xiy+++AIAEBcXh8rKSly8eLEr/x7TQ0y3io2NJVtbW8rIyKC2\n",
       "tjY6cuQIWVlZUU5Ojs7yzc3NBIDOnTunVQ+Px6PTp0+TQqGgdevWkb29PT377LNUVFREUqmUEhIS\n",
       "aNy4caplZsyYQZaWlpSWlkYymYzOnj1Ljo6OtGPHDlVbW7dupbq6OlIoFHT48GGytramzMxMVR0+\n",
       "Pj7Uv39/OnPmDCmVSpJIJKp5QUFBlJqaash/l9GxhOhmsbGxlJCQoDFt6tSpNHv2bJ3l7969SwAo\n",
       "Ly9Pqx71Zerr6wkAfffdd6pp6enpxOfzVe9nzJhBw4cP16jnww8/pLi4uA7jfeGFF2jhwoWq9z4+\n",
       "PvTRRx/pLDtq1Chavnx5h3X1RuyUqQcMHDhQ631paanOso6OjgAAsVisNc/d3V31N4fD0TmtsbHx\n",
       "sduWSqVYtGgR/P39wePxwOfzcezYMdy7d++RdTwgFovh5OSkc15vxRKiBxQXF2u99/T01FnWzs4O\n",
       "gYGB+P3337u97eTkZBw6dAiHDh1CXV0d6uvrMWHCBNBDY8bMzbU3k9bWVhQUFCAiIsIgcZoKlhA9\n",
       "4OjRozhy5AgUCgUyMzNx4MABzJo1q8PyCQkJ+PHHHw3S9tWrV7F582bI5XJcuHABmzZtUrUtFoth\n",
       "Y2MDFxcXKJVK7N27F8ePH3+sek+dOgVXV1dERkYaJE5TwRKiB8yePRtbtmwBn8/HvHnzkJaWhpiY\n",
       "mA7Lv/322zh+/DgqKyu73PakSZNw7tw5CAQCTJ48GYsWLVJdrFu0aBG8vLzg4+ODAQMG4Oeff8bE\n",
       "iRMfq95NmzZhwYIFsLCw6HKMpsSMHj4+MgY1evRoREdHY+XKlXott2rVKpSVlWn9DGoKfv31V7z6\n",
       "6qu4du0abGxsjB2OQVkaOwBGt6VLlxo7hA6Fh4drXe/oK9gpE8OoYadMDKOGHSEYRo3eCZGZmYmI\n",
       "iAiEhIQgKioKV69eBQDk5ubiqaeeQmhoKMLCwnDy5EnVMpMmTUJYWJjqZW5ujoyMDJ31+/r6YvDg\n",
       "waqyu3fv7uSqMUwn6HNZu7a2lpycnOi3334jIqKsrCwKCgoipVJJHh4edOLECSIiys/PJy8vL2pu\n",
       "btaqIzc3l5ydnUkqlepsw8fHhy5fvqxPWAxjMHodIW7dugVnZ2cEBQUBAGJiYlBSUoLc3FxUVVVh\n",
       "zJgxAAB/f39VN4CHbdmyBdOnT4e1tbUB0plhDEuvhBCJRKipqcGZM2cAABkZGWhsbMSdO3fg7u6O\n",
       "PXv2AGg/fcrPz9fqNtDS0oJdu3Zhzpw5j2wnMTERwcHBmDNnDqqqqjosJ5VK0dDQoPF60D2Z6dtu\n",
       "VTV1S716JQSPx0N6ejo+/vhjhIeH4/jx4wgMDISlpSUOHjyIrVu3YtiwYUhJSUF0dDQsLTUvc6Sn\n",
       "p8Pf3x/BwcEdtpGVlYVr167h0qVLEAgEmDFjRodl16xZAx6Pp/FKT0/XZ5WYXuZOXTPm7byE+C9O\n",
       "41JJneEb6Mr5VmtrK/H5fCooKNCaN2TIEPrpp580psXGxlJaWtpj119WVkb9+vV7ZPtisVjjNX/+\n",
       "/MdfAabXkEjb6Isfb5L/0qPks+QwDfzoMG3KumXwdvS+Ul1eXq7qcrxixQrExcVBKBRqTN+0aRM4\n",
       "HA7i4uJUyxUWFuLixYsd/roEABKJBG1tbeDz+QCAXbt2YdiwYR2Wt7Gx0eo60Nf61jzpiAgZV8vw\n",
       "n2M3US5uBQCM9HPGsucDEeDuYPD29E6IZcuWITs7G3K5HCNHjsSWLVsAABs3bsTOnTtBRAgICMCB\n",
       "AwdgZmamWm7r1q2YPHkyHBw0VyIjIwMZGRnYvHkzKisrMXnyZCgUChAR/Pz8/na4JdN3XbtTj+WH\n",
       "buDX2+2nRp6OdvjkXwF4JshNY9sypD53pXrhwoVITk42dhhMF9xrbMXazHykX7oDIsDe2gLznhZi\n",
       "TvRA2Fp17xkA69zHmAypXIFvfylG6slCNEnlAICEYR74cPwQuPFseyQGlhCM0RERfs67h5VHbqC4\n",
       "phkAEOrFR9LzgRju7dijsbCEYIyqoLIR/z58A9kF1QAAF64NlowfgoRhHjA3757vCY/CEoIxCnFz\n",
       "G/770x/433O3oVASrC3MMSdmIOY9LUQ/G+NtliwhmB4lVyixK7cUycfzUdfcfhfAcYH9sfRfAfBx\n",
       "5hg5OpYQTA86c6sa/z50Azcr2m+V49+/H5Y9F4RokcDIkf2FJQTT7Uprm7HqSB4yf68AAPDsrPDB\n",
       "OH+8OsIblhamNSSHJQTTbSRSOb75v1vYmP0nZHIlLMzNMP0f3nhvjD8cOabZ25klBGNwSiXh4NW7\n",
       "+M+xm6hskAIARg1yRtLzQRjsxjVydI9mciPmCgoKMGrUKPj7+yMyMtJgd7BjesaV0npMTjuD93df\n",
       "RWWDFN5O9tjwWjh2vv4Pk08GAKY3Yu7pp5+mbdu2ERHR3r17KSIiQp8Q6f3339erPGMYleIWWrj7\n",
       "CvksOUw+Sw5TwKfH6OtTBdQikxs7NL3olRC5ubkkEok0pnG5XDp//jxZW1trTA8ODqZ9+/Zp1fHW\n",
       "W2/RggULdNZfWVlJXC6X2traiIhIqVRS//79dXYv7whLiJ7VIpPT16cKKPDTY6pkWLj7ClWIW4wd\n",
       "Wqfo9R1CfcTcqFGjdI6Ymzp16t+OmMvOztZZf2lpKdzd3VUDi8zMzODt7Y2SkhIIhUKt8lKpFFKp\n",
       "VGNaX3uijSmplciQV96AvPIG3ChvQF55IwrvNaJN0d4/NMyLj/95IQhhXnzjBtoFeiWE+oi5pqYm\n",
       "jBw5UmPE3JIlS7BmzRoEBQV1esScPtasWYPly5drTIuKijJI3U8yhZJQXCP5a+Mva9/4KxpadZZ3\n",
       "59li8TODMTHMON0tDKlL3b+lUinc3NyQm5urtQcPCAjAV199hfj4eNW00aNH45VXXsGbb76ps757\n",
       "9+5BKBSitrYWlpaWICK4u7sjJyfnsY8Qn376KVJSUjq7Sk+cJqkcN1V7/UbklTcgv6IRLW26j7Q+\n",
       "zvYIcHNAgLsDAgc4IMCdCw++XbeNT+hpJjViztXVFcOHD8eOHTswc+ZM7Nu3D56enjqTAWAj5vRB\n",
       "RLhb34K88sb7e/wG5FU04Pb93qUPs7Uyx2A3BwS6OyDQnYsAdwcMduOCa2vVw5H3LJMaMQcAGzZs\n",
       "wMyZM7F69Wo4ODhg27ZtXVm/J1JrmwIFlU1q5/rtr4ZWuc7ybg62CLi/0bfv9R3g68yBRS8//ekM\n",
       "NmKuD6hukuKXwmpkF1Tj2p163KqSQKHU/litLMwgdOUiwJ2LQPf2DT/A3QFOJnrV2BjYlepeqLVN\n",
       "gdziWmQXtCdBXnmDVhlHeyvVBv9g4xe69oO1pWn1HTI1LCF6AaWSkFfRgJz7CXChuBYyuVKjTNAA\n",
       "B0SLBBjh64SgATz0d7DpM190exJLCBNVIW5FdkEVcgqrkVNQjRqJTGO+O88W0UIBokUCPCUUQNCv\n",
       "bz3Jx1hYQpgIiVSO80U1qtOgwnuat2q0t7bASD9nRIsEiBEJMMilHzsCdAOWEEaiUBKu3xUjp6AK\n",
       "2QXVuFRSp7riCwDmZkCwJx//FAkQLRRgmLcjO//vASwhelBpbTOyC6qRU1iFXwprIG5p05jv5WSH\n",
       "aKEL/ikSYNQgAXj2ffs3f1PEEqIbiVvacPZWDXIKq5BTUK26xcoDXFtLjBrkjGhRexKYwpjiJx1L\n",
       "CANolslRVC1BUbUExdUS/Fktwa17TfitrEHjeoCFuRmGe/MRLXRBtEiAUE+eyQ2hfNKxhHhMMrkS\n",
       "pXXNKKpq3/CLaiSqvzvq9AYAfgIOYkQCRItcEOXn1Oe7PvR2eidEZmYmPvnkE8hkMtjb22PDhg0I\n",
       "DQ1Fbm4u3nvvPTQ1NcHMzAzJyckafZnWr1+P1NRUWFpawtzcHOfPn4etrfbtCc3MzDB06FBVn6TU\n",
       "1FTExMR0YRUfn1JJKG9ovb+hN+HP+3v8omoJSutadF79fcDR3goDBRwMFPTDQIE9fAUchHnx4elo\n",
       "3yOxM4ahV0LU1dVh2rRpyMrKQlBQELKzszFt2jRcv34dkyZNwrfffosxY8bgjz/+wJgxY5Cfnw87\n",
       "OzscPHgQO3fuxLlz58Dj8VBVVQUrq473lNnZ2apb4hsaEaFWIkPR/VObouq/9vTFNRJIH7rgpc7O\n",
       "yqJ9o3fhwE/AwUABB74CDgY6c0x20DyjH70SojPPmEtISMDatWuRlJQEHo8HAHBxcTHwanTs19u1\n",
       "yCmoQVF1kyoJGjvo5Aa09/fxdrK/v7d/sMfnwM+FA1cuu/rb1/XIiLkbN27g4sWLWL58OaRSKRIT\n",
       "EzF//vwO24mPj4dcLkd8fDxWrFgBDkf3ry+PM2Iu649qpPxcoDHNzAwYwLODnwtHteH7Ctr3+h58\n",
       "O/ZF9wnWIyPm5HI5ioqKkJWVhbq6OsTGxsLPzw/PPfecVhu3b9+Gt7c3JBIJ3nrrLSxevBjr16/X\n",
       "Gc/jjJiL9HXC1AhPjT29t5N9tz9ngOmdemTE3NChQ/Hll1+qvmQvXrwYNjY2WLly5SPrP3v2LObO\n",
       "nYvr16932P7DR4jExET4+fl1dpU6RaFQ4MKFCxgxYkSvHaDU29fhQfwvvfQSPvjgg85XpO9dCcrK\n",
       "ylR/L126lBISErSmb9y4kcLDw0mpVBIR0apVq2jx4sVERNTc3EwRERG0Z88erbpra2tJIpEQEZFC\n",
       "oaAFCxbQa6+9pm+IPU4sFhMAEovFxg6l03r7Ohgqfr1PlpctW4YhQ4ZAKBTi9u3bGiPm/P39IRKJ\n",
       "cOjQIY0RcwsXLkRlZSUCAwMRERGBCRMmYMqUKQCAtLQ0LFu2DABw8+ZNREVFITQ0FMHBwaipqcG6\n",
       "des6n+0Mo6c+N2LOGBoaGsDj8SAWi7WGyPYWvX0dDBU/+zmFYdSwhDAAGxsbJCUlad0BpDfp7etg\n",
       "qPjZKRPDqGFHCIZRwxKCYdSwhGAYNSwh9DR//nz4+vrCzMwMV65cUU3vLQ96aW1txcSJE+Hv74/Q\n",
       "0FCMHTsWhYWFANrvrTt+/HiIRCIMHToUWVlZRo62Y+PGjUNISAjCwsIQExODy5cvAzDA52CAi4RP\n",
       "lNOnT1NpaSn5+PjQ5cuXVdO7+qCXntLS0kJHjhxR9SJITU2l2NhYIiKaNWsWJSUlERHRhQsXyMPD\n",
       "g2QymZEifbS6ujrV3/v376eQkBAi6vrnwBKik9QTwhAPejGW3Nxc8vHxISIiDodD5eXlqnmRkZGq\n",
       "p0KZsm3btlFoaKhBPgc2hNQA9H3QiylJSUnBiy++iJqaGrS1tcHNzU01z9fXFyUlJUaM7tESExNx\n",
       "6tQpAMDRo0cN8jmw7xBPsNWrV6OwsBBr1qwxdiidsn37dpSWlmLlypVYsmSJQepkCWEAXl5eKC8v\n",
       "h1zePhKPiFBSUgJvb28jR9axzz//HPv378exY8dgb28PZ2dnWFpaoqKiQlWmuLjYpNfhgRkzZuDU\n",
       "qVPw9PTs8ufAEsIA1B/0AuBvH/RibMnJydi1axdOnDihMXZ9ypQpSEtLA9D+mOW7d+8iNjbWSFF2\n",
       "rL6+HmVlZar3P/zwA5ydnQ3zOXTP15y+a+7cueTh4UEWFhbk6upKgwYNIiKimzdvUlRUFIlEIgoP\n",
       "D6dr164ZOVLdSktLCQD5+flRaGgohYaG0ogRI4iIqKKigsaOHUtCoZACAwPp5MmTRo5Wt+LiYoqM\n",
       "jKShQ4dSSEgIxcfHq37g6OrnwPoyMYwadsrEMGpYQjCMGpYQDKOGJQTDqGEJwTBqWEIwjBqWEAyj\n",
       "hiUEw6hhCcEwalhCMIwalhAMo+b/AXsTVYwd7LeRAAAAAElFTkSuQmCC\n",
       "\">\n",
       "        \n",
       "      </div>\n",
       "      <script></script>\n",
       "      <script type=\"text/javascript\">\n",
       "        (() => {\n",
       "          const chartElement = document.getElementById(\"chart-19dd4d15-7c92-45eb-95d6-e2f1d384cc5a\");\n",
       "          async function getCodeForChartHandler(event) {\n",
       "            const chartCodeResponse =  await google.colab.kernel.invokeFunction(\n",
       "                'getCodeForChart', [\"chart-19dd4d15-7c92-45eb-95d6-e2f1d384cc5a\"], {});\n",
       "            const responseJson = chartCodeResponse.data['application/json'];\n",
       "            await google.colab.notebook.addCell(responseJson.code, 'code');\n",
       "          }\n",
       "          chartElement.onclick = getCodeForChartHandler;\n",
       "        })();\n",
       "      </script>\n",
       "      <style>\n",
       "        .colab-quickchart-chart-with-code  {\n",
       "            display: block;\n",
       "            float: left;\n",
       "            border: 1px solid transparent;\n",
       "        }\n",
       "\n",
       "        .colab-quickchart-chart-with-code:hover {\n",
       "            cursor: pointer;\n",
       "            border: 1px solid #aaa;\n",
       "        }\n",
       "      </style>"
      ],
      "text/plain": [
       "import numpy as np\n",
       "from google.colab import autoviz\n",
       "df_6931137707896255445 = autoviz.get_registered_df('df_6931137707896255445')\n",
       "\n",
       "def value_plot(df, y, sort_ascending=False, figsize=(2, 1)):\n",
       "  from matplotlib import pyplot as plt\n",
       "  if sort_ascending:\n",
       "    df = df.sort_values(y).reset_index(drop=True)\n",
       "  _, ax = plt.subplots(figsize=figsize)\n",
       "  df[y].plot(kind='line')\n",
       "  plt.title(y)\n",
       "  ax.spines[['top', 'right',]].set_visible(False)\n",
       "  plt.tight_layout()\n",
       "  return autoviz.MplChart.from_current_mpl_state()\n",
       "\n",
       "chart = value_plot(df_6931137707896255445, *['p (mbar)'], **{})\n",
       "chart"
      ]
     },
     "metadata": {},
     "output_type": "display_data"
    },
    {
     "data": {
      "text/html": [
       "      <div class=\"colab-quickchart-chart-with-code\" id=\"chart-07ab5308-4ed5-438c-8402-9610f3d28842\">\n",
       "        <img src=\"data:image/png;base64,iVBORw0KGgoAAAANSUhEUgAAAMQAAABgCAYAAABCK92TAAAAOXRFWHRTb2Z0d2FyZQBNYXRwbG90\n",
       "bGliIHZlcnNpb24zLjcuMSwgaHR0cHM6Ly9tYXRwbG90bGliLm9yZy/bCgiHAAAACXBIWXMAAA9h\n",
       "AAAPYQGoP6dpAAAQwklEQVR4nO3de1hTZ54H8G8uJELCpVwCSEIot9YsggVCUUTKtFi1tlKrotOL\n",
       "253SyzprLbad2cf6aGtbd58RZ2y33dq60qqtVSRtZQXRPgo6q5WgiJaWQlQgchfkFiSB5Ld/KGlS\n",
       "cQQNJMD7eZ7zBN+cc/I7Ofl6znsuCYeICAzDAAC49i6AYRwJCwTDWGCBYBgLLBAMY4EFgmEssEAw\n",
       "jAUWCIaxwALBMBZYIBjGAguEncyePRvZ2dm3fP77778Hh8MZxYquy8nJQXJy8qi/rqNggbgLYrHY\n",
       "PAgEAvB4PKu248ePDzrd/v370dLSgsWLF49yxcD58+exdOlS+Pv7QywWIygoCMuWLcOZM2cAAE89\n",
       "9RQ6OjqQk5Mz6rU5AhaIu9Dd3W0e3nzzTSQmJlq1JSYmDjpdZmYm0tPTR7laoLCwEHFxcfD19cXJ\n",
       "kyfR1dWFs2fPIiUlxWpr9cILL2Dz5s2jXp9DIMYm1qxZQ0lJSbcdr7m5mTgcDmk0Gqv2kpISiouL\n",
       "I5FIRDExMZSZmUm/XT1ffPEFRUZGkpubGykUCtq9e7fV89u3b6eQkBASi8X05JNP0ooVK6xqCg8P\n",
       "p2eeeea2NV64cIEAUENDw23HHW9YIGxkqIHIz8+nSZMmWbV1dHSQt7c3vfXWW9Tb20vl5eUUEhJi\n",
       "FYisrCySyWSkVqvJaDTS8ePHydXVlY4fP05EREVFRSQQCCgvL4/6+/vpwIED5OzsbK6psrKSANCh\n",
       "Q4eGtDwikYhyc3OHtvDjCNtlGmVtbW1wd3e3asvNzQWXy8X69eshFAqhUCjw6quvWo2zefNmrFmz\n",
       "BrGxseByuZg5cybS0tLw+eefAwB27NiBBQsWYO7cueDxeJg3bx7mzZtnnr65uRkAIJVKh1Snu7s7\n",
       "2tra7mJJxyYWiFHm6emJjo4Oq7bLly9DJpOBx+OZ2+69916rcaqqqrB69Wp4eHiYh927d6O+vh4A\n",
       "UFdXB7lcbjVNUFCQ+W+JRGJ+raHo6OiAp6fnkJdrvGCBGGXR0dHQ6/W4ePGiuU0qlUKr1cJoNJrb\n",
       "qqurrabz8/PDxx9/jPb2dvPQ3d2NvLw8AEBAQABqamqsprH8d1hYGMLDw7Fz587b1njp0iXodDrE\n",
       "xsbeySKOaSwQo0wikSAhIQEFBQXmtvnz58NoNOKdd96BXq9HRUUFtmzZYjXdqlWrsGHDBqjVaphM\n",
       "Juj1eqjVapw+fRoA8Oyzz+K7775DQUEBjEYjDh48aA7LgK1btyI7OxsZGRmoqakBEaGzsxM7duzA\n",
       "mjVrzOMdPHgQ8fHx8PPzG8F3wkHZuxMzXgy1U01E9M0339C0adOs2k6dOkWxsbH/8CjTrl27KDo6\n",
       "mtzd3cnLy4uSkpKoqKjI/Py2bdsoODiYxGIxpaamUnp6Oj366KNW8ygrK6MlS5aQRCIhkUhEcrmc\n",
       "li1bRmfOnDGPEx0dTdnZ2cN8B8YHDhG7p9oeZs+ejfT09BE9OZeamgpfX19s3bp1yNOoVCp88MEH\n",
       "KCwsHLG6HBkLxDiSk5ODlJQUODs7Q6VS4emnn8aRI0cwa9Yse5c2ZvDtXQBjO7m5uUhPT4fBYIBc\n",
       "Lsf27dtZGIaJbSEYxgI7ysQwFmwaiJaWFjz++OOIjIzElClTsHz5cly7ds2WL8EwI8qmgXjvvfcQ\n",
       "FhaGc+fO4ccff0RTUxOysrJs+RIMM6JsGggOh4Ouri6YTCYYDAb09PQM+doZhnEENg3E2rVrodFo\n",
       "4OfnB4lEgilTpuCJJ5645fh6vR6dnZ1WQ2Zm5qDjapq7wfr/zEgbViCmT58Ob2/vQQetVouvv/4a\n",
       "CoUCDQ0NqK+vR2VlJbZt23bL+W3cuBHu7u5Ww759+24a79IVHeb87Rie/Z9ilNd3DDInhrENmx52\n",
       "jYiIwKeffooZM2YAAD766COcOHECX3755aDj6/V66PV6q7a1a9fedB2P6sxl/DnnPAxGEzgc4Klo\n",
       "KVbPDoe/u7OtSmcYADbeZQoODsbBgwcBAH19fSgoKEBERMQtxxcKhXBzc7MaLC+BHrAwWorvM5Iw\n",
       "P9IfRMC+05eRvKkQmYd+Qbe+35aLwExwNg3Eli1bcOrUKUydOhVRUVHw8fHBa6+9ZpN5B3q54L9+\n",
       "Hw3Vv85ArPwe9PaZ8OERDR76y1Hs+qEG/UaTTV6Hmdgc7kx1RkbGbW9wJyIUlDfiP/IrUN3aAwAI\n",
       "lYjx73Pvx+/ul9jl61uY8WFMnqnmcDiYE+GPQ68lYf3jCtzj4gRNczf+8EUJfv/ZKfxYxzrezJ0Z\n",
       "k4EYIOBz8c8J96LwjWS8nBQCAZ+LkxdbMf/DvyNjz1nUtbOz5MzwjOlADHB3dsKf596PI6uTkDpt\n",
       "MgBAVVqH5E2F+M+DFejs7bNzhcxYMS4CMUB6jwv+tvQB7P9jAh681xOGfhP+u/ACHvpLIb44UY0+\n",
       "1vFmbmNcBWJApNQDX78Yj8+ei0WwjwhtOgPW7S/Ho389hoLyRnbGm7mlcRkI4HrHO0Xhi4JVs7Ah\n",
       "NQJeIgEuXtHhpZ2nkbb1B5zVttu7RMYBjdtADHDicfFsvByFbzyEFckhEPK5KK5uQ+pH/4eVu0uh\n",
       "beuxd4mMAxn3gRjgOskJbzx6P46+/hCeipaCwwH2l9Xj4cwivJ/3Mzp6WMebmUCBGDDZwxmZS6KQ\n",
       "+8eZSAj1gsFowqfHLiJp01Fs//slGPpZx3sim3CBGBAR4I5df3gQWc8rESYRo72nD+/8709I+WsR\n",
       "8s83sI73BDVhAwFc73gn3ydB/quJ2LhwKrzFQtS09uCVL89g0Scncab2qr1LZEYZ+xoaAHweF8vi\n",
       "AvFE1GRsPXYRnx27iNM1V7Hw4xN4bKo/3pxzH+ReohGvg4ig7zdBp+9Hj8EInaEfOr0RPRaPPC4H\n",
       "wd5ihEhEcBGw1Wdr7B21IBLykZESjqcfDMTmQ5XYe1qLA+cbcOinRjw3PQj/9rtQeLgIAABGE6HH\n",
       "cOODq//N4432Hn0/dAbrD7TuN+09+hvj33g0DWNPLcDDGSESMUJ9xAiV/Dp4igQj9A6Nfza92rWp\n",
       "qQmvvPIKNBoN+vr68NJLL2HVqlXDmsdQrnYdLT83dGJjfgWOVbYAAJydeHAR8KAz9KO3b2Q7385O\n",
       "PIiEPLgI+HAR8CASXn/U95lwoaUbrTrDLaf1FAkQ6iO+HhaLYbL7JHYl8G3YdAuRkZEBhUIBlUoF\n",
       "nU6HhIQEJCQkQKlU2vJlRs0Ufzfs+Jc4HKtswft5P6OisQvX+oxW43A517csIgEfLkLe9UeLD7Bl\n",
       "u7OAB5GAB5dbjD/wnLMTDzzuP/7gXtUZoGnphqbZeqhrv4Y2nQHFujYUV1v/4ImLgIcQi63JwN9y\n",
       "Lxc48SZ0d9LMpoEoKyvDihUrAAAikQizZs3Czp07x2wgBswK90FCqDd+aewCj8ux+sAL+Vy7/K97\n",
       "j0gApcgTyiDrHzXpMfTjYovOOigt3ai+okOPwYjzdR04/5vL4514HMi9RDfteoX4iOEsuPkOxvHM\n",
       "poGIiYnBV199hfj4eLS2tqKgoAD33XffLccf7J5qyx8NcSQ8LgeKyW72LuO2XAR8RAS4IyLA+me7\n",
       "+owm1LT2QNPcjQsWW5YLLd3oMRjN/0a59fwCPJytQhIqEUPh7waRcHx2P4fVh5g+fTqqqqoGfa60\n",
       "tBTOzs54/fXXUVpaColEguDgYLS0tEClUg06zfr16/H2229btcXHx+PkyZPDWATmbphMhIbOXqst\n",
       "yoUbW5W2W/RTXAQ8PDbVH2lKGWLk94yrfsmI3kL68ssvw8fHBxs2bBj0+aF+6wZjH206w027Xr80\n",
       "dqKp89d1FuIjwpJYGRZGS+HjKrRjtbZh00C0trbCzc0NTk5OKC0txdy5c1FaWgp/f/8hz8ORjjIx\n",
       "NyMilNRcxR61FgfONZgPMvC5HDw8RYI0pQyzwnzAH6OddJvuCBYXF2PlypXg8/lwdXXF3r17hxUG\n",
       "xvFxOBwog6535tc9rkBuWQP2lGhRpm1HQXkTCsqb4OsmxKIYKZbEykblhKYtjclv3WAczy+NXdij\n",
       "1uKb0su4anHlcHywJ9KUMsyN8MckJ8c/YsUCwdiUvt+I739qxp4SLY5XtWDg0+U6iY8F0yZjqTLw\n",
       "piNgjmR8Hjtj7EbI5+GxSH88FumPuvZr2FdyGXtLtKhrv4ZdP9Ri1w+1UPi7YUmsFKkPBJgvhXEU\n",
       "bAvBjDiTiXDiQiu+VtfiUHkTDDe+7EHA52LOP/khTSnD9GAvcG9zdn40sC0EM+K4XA5mhnljZpg3\n",
       "ruoM+PZsHfaotaho7ML+snrsL6uHzNMZi2NkWBQjxWQP+32JNdtCMHZBRDhf14E9ai32n61H140v\n",
       "reZygMQwH6QpZXhkii8E/NE9fMu2EIxdcDgcREo9ECn1wFuPKZD/YwP2qLU4dakNRZUtKKpsgadI\n",
       "gCcfCECaUoZwX9fRqYttIRhHUn1Fh70lWuw7fRnNXb+eEX8g0ANpsTLMj5oM8QheR8UCwTikfqMJ\n",
       "hb+0YE+JFkcqmmG8cefUwHVUS+NkiJF73mYuw8d2mRiHxOdx8YjCF48ofNHc1QvVmTrsVWtx8YoO\n",
       "2acv49IVHfa9MsP2r2vzOTKMjUlcJ+HlpBC8NCvYfB1VYpj3iLyWw+0yLVy4EEFBQXatwWg0ori4\n",
       "GHFxcYP+xNdYNl6XbWC5Fi1ahNWrV9/xfBwuEI6gs7MT7u7u6OjogJub498UNBzjddlstVxj8xpd\n",
       "hhkhLBAMY4EFgmEssEAMQigUYt26dRAKx/4tkb81XpfNVsvFOtUMY4FtIRjGAgsEw1hggWAYCxM+\n",
       "ECtXrkRQUBA4HA7Onj1rbq+qqsKMGTMQHh4OpVKJ8vLyW8/EAfX29iI1NRXh4eGIiopCSkoKNBoN\n",
       "AKC5uRlz5sxBWFgYIiIicOzYMTtXO3yzZ89GZGQkpk2bhsTERJSWlgKwwXqjCa6oqIi0Wi3J5XIq\n",
       "LS01tycnJ1NWVhYREWVnZ1NsbKx9CrxD165dowMHDpDJZCIiog8//JCSkpKIiOj555+ndevWERFR\n",
       "cXExBQQEkMFgsFOld+bq1avmv1UqFUVGRhLR3a+3CR+IAZaBaGpqIldXV+rr6yMiIpPJRL6+vlRV\n",
       "VWXHCu+OWq0muVxOREQikYgaGhrMzymVSjp8+LCdKrt7WVlZFBUVZZP1xq52HYRWq4W/vz/4/Otv\n",
       "D4fDQWBgIGpraxEaGmrn6u7Mli1bsGDBArS2tqKvrw9+fn7m54KCglBbW2vH6u7Mc889h6NHjwIA\n",
       "8vLybLLeJnwfYiJ4//33odFosHHjRnuXYlM7duyAVqvFu+++iz/96U82mScLxCBkMhkaGhrQ33/9\n",
       "xnciQm1tLQIDA+1c2fBt2rQJKpUK+fn5cHFxgZeXF/h8PhobG83jVFdXj8llG7B8+XIcPXoUUqn0\n",
       "rtcbC8QgJBIJoqOjsWvXLgBATk4OpFLpmNtd2rx5M3bv3o3Dhw/Dw8PD3L548WJ88sknAAC1Wo26\n",
       "ujokJSXZqcrha29vR319vfnf3377Lby8vGyz3kammzN2vPjiixQQEEA8Ho8kEgmFhIQQEVFFRQXF\n",
       "x8dTWFgYxcTE0Llz5+xc6fBotVoCQMHBwRQVFUVRUVEUFxdHRESNjY2UkpJCoaGhpFAo6MiRI3au\n",
       "dniqq6tJqVRSREQERUZG0sMPP2w+IHK3641dy8QwFtguE8NYYIFgGAssEAxjgQWCYSywQDCMBRYI\n",
       "hrHAAsEwFlggGMYCCwTDWGCBYBgLLBAMY+H/AbPT7rOfMZTOAAAAAElFTkSuQmCC\n",
       "\">\n",
       "        \n",
       "      </div>\n",
       "      <script></script>\n",
       "      <script type=\"text/javascript\">\n",
       "        (() => {\n",
       "          const chartElement = document.getElementById(\"chart-07ab5308-4ed5-438c-8402-9610f3d28842\");\n",
       "          async function getCodeForChartHandler(event) {\n",
       "            const chartCodeResponse =  await google.colab.kernel.invokeFunction(\n",
       "                'getCodeForChart', [\"chart-07ab5308-4ed5-438c-8402-9610f3d28842\"], {});\n",
       "            const responseJson = chartCodeResponse.data['application/json'];\n",
       "            await google.colab.notebook.addCell(responseJson.code, 'code');\n",
       "          }\n",
       "          chartElement.onclick = getCodeForChartHandler;\n",
       "        })();\n",
       "      </script>\n",
       "      <style>\n",
       "        .colab-quickchart-chart-with-code  {\n",
       "            display: block;\n",
       "            float: left;\n",
       "            border: 1px solid transparent;\n",
       "        }\n",
       "\n",
       "        .colab-quickchart-chart-with-code:hover {\n",
       "            cursor: pointer;\n",
       "            border: 1px solid #aaa;\n",
       "        }\n",
       "      </style>"
      ],
      "text/plain": [
       "import numpy as np\n",
       "from google.colab import autoviz\n",
       "df_6931137707896255445 = autoviz.get_registered_df('df_6931137707896255445')\n",
       "\n",
       "def value_plot(df, y, sort_ascending=False, figsize=(2, 1)):\n",
       "  from matplotlib import pyplot as plt\n",
       "  if sort_ascending:\n",
       "    df = df.sort_values(y).reset_index(drop=True)\n",
       "  _, ax = plt.subplots(figsize=figsize)\n",
       "  df[y].plot(kind='line')\n",
       "  plt.title(y)\n",
       "  ax.spines[['top', 'right',]].set_visible(False)\n",
       "  plt.tight_layout()\n",
       "  return autoviz.MplChart.from_current_mpl_state()\n",
       "\n",
       "chart = value_plot(df_6931137707896255445, *['T (degC)'], **{})\n",
       "chart"
      ]
     },
     "metadata": {},
     "output_type": "display_data"
    },
    {
     "data": {
      "text/html": [
       "      <div class=\"colab-quickchart-chart-with-code\" id=\"chart-6f44262c-9940-4dad-af32-eaee403b53fd\">\n",
       "        <img src=\"data:image/png;base64,iVBORw0KGgoAAAANSUhEUgAAAMQAAABgCAYAAABCK92TAAAAOXRFWHRTb2Z0d2FyZQBNYXRwbG90\n",
       "bGliIHZlcnNpb24zLjcuMSwgaHR0cHM6Ly9tYXRwbG90bGliLm9yZy/bCgiHAAAACXBIWXMAAA9h\n",
       "AAAPYQGoP6dpAAAROElEQVR4nO3deVzU953H8dccMCMIKBCOOBwqUDQIKOeqBMQYj2yszWqs0Ry2\n",
       "ianurk20Xkm7kj6iScXi1Udq10QfOU3Wq7TGmOKBmt2GI/GoVnFIxBlRBgXlCgzHfPcPdDIIRsDR\n",
       "YeT7fDzmMeF3fn6Z39vfMb/vdxRCCIEkSQAoHV2AJPUkMhCSZEMGQpJsyEBIkg0ZCEmyIQMhSTZk\n",
       "ICTJhgyEJNmQgZAkGzIQvcCcOXPIzMzs9PSFhYVERkbS2Nh4F6vqmWQg7Kxv377Wl6urKyqVqs2w\n",
       "I0eO2GU9aWlp/PrXv77tdMeOHWP37t3Mnz/fOiw0NJS3337b+ve1a9dIT08nISGBsrIy4uPjGTJk\n",
       "CBs2bLBLrc5EBsLOamtrra/FixeTkpLSZlhKSso9rWfNmjXMmjULjUbT4fiSkhJGjRqFh4cHhw4d\n",
       "IiAgAIAXXniBdevW0dLSci/LdTgZCAfIyMhg9OjRLFu2DD8/PwICAli0aBFNTU3WaU6fPs3EiRPx\n",
       "9fVFp9Px4osvUlVVBcAvfvELjhw5wqpVq6xHno60tLSQnZ3N+PHjOxxfWFhIcnIyY8eOZdeuXbi5\n",
       "uVnHpaenYzKZKCwstOOW93wyEA6Sl5eHWq3GaDSSm5vLjh07WLVqFQA1NTU88sgjDB06FIPBQEFB\n",
       "AWfOnOHZZ58FYOPGjaSkpLB48WLrkacjer2eqqoqoqKi2o3bu3cvY8aMYcmSJaxfvx6lsu2uoNVq\n",
       "CQ8Pp6CgwM5b3rPJQDiIt7c3GRkZaDQaIiMjWbRoEZs3bwZg9+7dNDY28rvf/Q43NzcCAwNZu3Yt\n",
       "2dnZlJWVdXodlZWVAHh5ebUbl5OTg7e3N08++eQt5/fy8rIuo7eQgXCQoKAgVCqV9e+BAwdiNBoB\n",
       "MBqNhISEoFarrePDwsIAMBgMnV6Ht7c3gPVUy9bKlSsZMWIEo0aNQq/Xdzh/VVWVdRm9hQyEgxiN\n",
       "xjYXrCUlJeh0OqA1LAaDgebmZuv4b775BoDg4GCAdqc4HQkPD8fT05NTp061G6fRaNi+fTvp6emM\n",
       "Hj2ao0ePthnf0NCAXq8nPj6+6xvnxGQgHKSyspLf/va3mM1mioqKyMzMZPbs2QA89thjqNVqXnnl\n",
       "Ferr6ykrK+Pll1/m8ccft94FCggI4OzZsz+4DpVKxeTJk/n8889vOX7z5s0888wzpKWlcfjwYeu4\n",
       "gwcP4ufnR0JCgp222DnIQDhIUlISjY2N6HQ6Hn74YaZMmcLSpUsB8PT0JCcnh+PHj6PT6YiLiyMs\n",
       "LIx3333XOv/ChQspKiqif//+9OvX75brWbBgAe+//z5ms/mW02RmZrJs2TImTJjAX/7yFwA2bdrE\n",
       "L3/5yzandb2BQrapvvcyMjLYt28fX3zxxT1Z3wsvvEBERASLFi3q1PRfffUVTz31FCdOnLjl9xf3\n",
       "K/XtJ5Gc3aZNm7o0fVxcHEVFRXepmp5NnjJJkg15yiRJNuQRQpJsyEBIkg0ZCEmyIQMhSTacIhDr\n",
       "1q1rN+xqXSMVtbf+skmSusMpAnH+/Pl2w36fU0RaZi5v5RbT0NS7GrFId49TBOJmTS0W/lFaTY25\n",
       "mVV7i0hfncuOry5gscg7yNKdccpAuKiU7Jo7kqwnY3jQS8vFqgYWbjvOv274gi/0VxxdnuTEnDIQ\n",
       "AEqlgidG6DjwqzSWTIjEQ6Pmn5eqmfVOHs9tyaeorMbRJUpOyGkDcYPWRcXctMEcWjyG50aGolYq\n",
       "yC26zMR1h1my/QSm6gZHlyg5kS4FoqGhgSlTphAREUFMTAzjxo2juLgYACEEGRkZREREMGzYMMaM\n",
       "GWOdLy0tjYEDBxIbG0tsbCxr1qyx71YA3u6uZEx+iJwFqUyMCsAi4JNCI2mZuWTlnKXO3Hz7hUi9\n",
       "Xpefdp0zZw4TJ05EoVDwhz/8geeff57c3FzWr1/PiRMnOHnyJK6uru3a/q5Zs4YpU6bYq+5bGujr\n",
       "zh9nxfHV+UpWfHqarw3XWL9fz0d5Bl4eF870+CDUKqc/MEp3SZf2DK1Wy6RJk1AoFAAkJydTUlIC\n",
       "tDYyefPNN3F1dQWwtuxylLgQb3bMHclbM0cQ4uPGlVozr+46yYR1R9h/2oR8plHqyB39U7lu3Tp+\n",
       "/OMfU11djclkIjs7m6SkJJKSkvjkk0/aTLt06VKGDRvG9OnT+fbbb2+5TLPZTHV1dZtXdzvLUigU\n",
       "TBoWSM7LqSx/fCj93VwoLq/l5+8WMmPTl/zjQvvG91IvJ7ppxYoVIjk5WdTV1YmKigoBiNdee00I\n",
       "IcS5c+dEYGCgOHbsmBBCCIPBIIQQwmKxiA0bNoghQ4bccrnLly8XQJtXcnJyd8ts49p3jWLlnn+K\n",
       "8Ff3iJAlu0XIkt1i/tavhaGizi7Ll5xft9pDrF69mo8//ph9+/ZZ2/N6eHhw/PhxBg0aBMC0adMY\n",
       "P348zz//fLv5tVotpaWl+Pj4tBtnNpvbtf/9zW9+0+HjG9114ep3/P5vZ9l1tBQAV7WS2SNDmTcm\n",
       "DK8+LnZbj+R8unzKlJWVxdatW8nJyWnTuH3GjBns3bsXaO1RIj8/n+joaJqbmzGZTNbpduzYgb+/\n",
       "f4dhgNbuUTw9Pdu87N3QXdffjTXTY9n9n6MZOdiHxmYLfzr8LamZB3nni3M0Nlvsuj7JeXTpCHHh\n",
       "wgWCgoIYNGgQHh4eQOsOnJeXR0VFBbNnz7ZeH8ybN4958+ZRV1dHamoqZrMZpVKJr68vWVlZxMTE\n",
       "dLrIBQsWkJWV1cVN6xwhBLlFl1m55zT68tYuIYO93VgyIZJJwwKsNxCk3sEpmpDezUDc0NxiYdtX\n",
       "F8jKOcvlmtZTtuHB/Xh10hDiQ3tX73W9mbwhf51apWRGYjC5v0rjpUfC6eOi4qjhGlM3/p0X3y/k\n",
       "28sddygs3V9kIG7irlHz0iMRHFqUxozEIJQK+PyUiUfXHGZ59knZBuM+J0+ZbuOsqYY3PzvDgTPl\n",
       "APTVqJmbNpifjx6I1qV7F/stFoG5uYWGJgvm5hbMTRYarr+bmy00NLW0ebed9sZ7c4tgQL8+hPv3\n",
       "JdzPA39PjbzesQPZUdltRPh7sPm5BP6v+Aor9pzm1MVqMj8v4oMvzzMhKoCmFssP7MgWzB3s3E0t\n",
       "9v83yEOrJtyvNRzh/n0J8+tLuL8HD3ppZVC6QB4husBiEWQfL2X152cpvVZvl2W6qBRo1Co0aiVa\n",
       "l9Z3zY13m2Hfj1OiVatQKhWcr6hDb6qlpKKOW7WNcndVEebXl7DrQbkRGl3/PiiVMig3k0eILlAq\n",
       "FfxkuI6JUYFsKzRy4Vo9GrUKrYuy3U6tvXmnvr4ja65Pq3VR4qpS2uVBQ3NzC+eutIZDX15LcXkN\n",
       "elMt567UUdfYwvELVRy/6TEVrYuSwQ9cD4i/R+sRxa8vwd5uvfrhRxmIbtC6qHj6X0IdXYaVRq0i\n",
       "MsCTyADPNsObWizWo4i+/PrLVMO3l+toaLJw6mI1py5Wt5nHVaVk0APu1wPy/VElxMcdV/X9HxQZ\n",
       "iPuYi0pJmJ8HYX4eTLQZ3txiwXi1Hr2p5voRpRZ9eQ3F5bU0NFk4U1bDmbIa4JJ1HrVSQaivOxH+\n",
       "radfUQ96kvYjv/suJDIQvZBapWSgrzsDfd159KHvh1ssgtJr9eivn3LdOKoUm2qoa2yh+Hp4oLWt\n",
       "i29fV56MD2JGYjBB3m4dr8zJyEBIVkqlgiBvN4K83UiP9LcOF0JwsaoBvan1KHLWVENu0WXKa8y8\n",
       "lfsNfzz0DakRDzAzKYT0SD9UTnyxLgMh3ZZCoWBAvz4M6NeHtB/5Aa3XJ/tPm/gwz8AR/RVyiy6T\n",
       "W3SZB720/DQxmOkJQfh7ah1cedfJ267SHSu5UsdH+Qa2FRq5+l3rj8+rlArGDfFnVnIIIwf7OM0t\n",
       "3nvSycANBw4cQKVSsXbtWrsUL/UMob7uvDJpCH9fNpa102NJCO1Pi0Ww91QZs97JI/33ufz34W+o\n",
       "rGt0dKm3dc86GaiqqmLp0qVMmjTJbsVLPYvWRcWU4QOYMnwAZ8qq+SjPwM6vSymp+I6Ve86w+m9n\n",
       "eWxYIDOTgokL6d8jv0G/o1OmwsJCpk6dav2N5QMHDhAREdHhtE8//TTTpk1j586dxMbG8tJLL3V6\n",
       "PfKUyXnVmZv56/GLfJB3npOl33/n8SN/D2YmB/OT4QPw0PacVor3pJOB7du3o1QqmTx58m2Xac9O\n",
       "BiTHc9eo+WliMH/9j9Fk//sonozXoXVRUmSq4b+yT5G0cj/Ldp7gZGnP6PCh23eZVq5cSXFxMfv3\n",
       "76ehoYHm5mbq6+vJy8ujpKSEkSNHEhkZib+/P6+//jq5ubmdWu4bb7zBa6+91mZYcnJyd8uUegiF\n",
       "QkFMUD9igvrx6mND2fX1BT7IM1BcXsvWfCNb843E6LyYmRzC49EP0sfVMb+Pfdc7GQgMDORnP/sZ\n",
       "ffr0AeDKlSu4uroyd+5cVqxY0W7Z96KTAalnEEKQf66SD/MMfHbykvUpYA+tmn8boWNWcjBhfh73\n",
       "tKYuByIrK4sPP/yQffv20b9/f+vwOXPmEBsby7x586isrGT48OFs27aNxMTENvM/99xz8hpCaudK\n",
       "rZlthRf4KP88xsrvnyROGujNzOQQxj/kj0Z9948ad72TgZvJQEg/xGIRHCm+wodfnmffaZP1sXYf\n",
       "d1emxQcxM+nuPiYiv5iTeqxLVfV8nG/k4wIDpurW02iFAh4Of4CZScGkR/rZ/VH1++tRRem+EujV\n",
       "h5fHRfC/S9L509NxpIT7IgQcOnuZBf9zHPNd6D9LPssk9XhqlZLxDwUw/qEAzle0PibiqlLirrH/\n",
       "7usUp0xPPPEEoaGhDlt/S0sL+fn5JCYm2r0XQUe437YHvt+mqVOnsnDhwm4vxykC4WjV1dV4eXlR\n",
       "VVWFp6fn7Wfo4e637QH7bZO8hpAkGzIQkmRDBkKSbMhAdIJGo2H58uVoNBpHl2IX99v2gP22SV5U\n",
       "S5INeYSQJBsyEJJkQwZCkmzIQNxk/vz5hIaGolAoOHbsmHW4Xq9n5MiRREREkJCQwKlTpxxXZBf8\n",
       "UMcQ5eXlTJgwgfDwcKKiojh8+LCDq+28Rx99lOjoaGJjY0lJSeHo0aOAHT6nu/9Dp87l0KFDwmg0\n",
       "ipCQEHH06FHr8DFjxogtW7YIIYTYtm2biI+Pd0yBXVRfXy8+/fRTYbFYhBBCbNiwQaSmpgohhJg9\n",
       "e7ZYvny5EEKI/Px8MWDAANHY2OigSrvm6tWr1v/euXOniI6OFkLc+eckA3ELtoEwmUzCw8NDNDU1\n",
       "CSFaf2/b399f6PV6B1bYPQUFBSIkJEQIIYS7u7u4dOmSdVxCQoLIyclxUGXdt2XLFhETE2OXz0k+\n",
       "7doJRqORwMBA1OrW/10KhYLg4GAMBgNhYWEOrq5rbnQMUVFRQVNTEwEBAdZxoaGhGAwGB1bXNc88\n",
       "8wwHDx4EYM+ePXb5nOQ1RC9yo2OIN954w9Gl2MV7772H0Wjk9ddfZ8mSJXZZpgxEJwQFBXHp0iWa\n",
       "m5uB1sbxBoOB4OBgB1fWeatXr2bnzp189tlnuLm54ePjg1qtbtOhXElJiVNt0w3PPvssBw8eRKfT\n",
       "3fHnJAPRCX5+fowYMYIPPvgAgB07dqDT6ZzmdCkrK4utW7eSk5Nj7SUFWntG2bhxIwAFBQWUlpaS\n",
       "mprqoCo779q1a1y8eNH695///Gd8fHzs8zndncsc5zVnzhwxYMAAoVKphJ+fnxg8eLAQQogzZ86I\n",
       "5ORkER4eLuLi4sSJEyccXGnnGI1GAYhBgwaJmJgYERMTIxITE4UQQpSVlYlx48aJsLAwMXToUHHg\n",
       "wAEHV9s5JSUlIiEhQURFRYno6GgxduxY6w2QO/2c5LNMkmRDnjJJkg0ZCEmyIQMhSTZkICTJhgyE\n",
       "JNmQgZAkGzIQkmRDBkKSbMhASJINGQhJsiEDIUk2/h/9zvrDg3RccQAAAABJRU5ErkJggg==\n",
       "\">\n",
       "        \n",
       "      </div>\n",
       "      <script></script>\n",
       "      <script type=\"text/javascript\">\n",
       "        (() => {\n",
       "          const chartElement = document.getElementById(\"chart-6f44262c-9940-4dad-af32-eaee403b53fd\");\n",
       "          async function getCodeForChartHandler(event) {\n",
       "            const chartCodeResponse =  await google.colab.kernel.invokeFunction(\n",
       "                'getCodeForChart', [\"chart-6f44262c-9940-4dad-af32-eaee403b53fd\"], {});\n",
       "            const responseJson = chartCodeResponse.data['application/json'];\n",
       "            await google.colab.notebook.addCell(responseJson.code, 'code');\n",
       "          }\n",
       "          chartElement.onclick = getCodeForChartHandler;\n",
       "        })();\n",
       "      </script>\n",
       "      <style>\n",
       "        .colab-quickchart-chart-with-code  {\n",
       "            display: block;\n",
       "            float: left;\n",
       "            border: 1px solid transparent;\n",
       "        }\n",
       "\n",
       "        .colab-quickchart-chart-with-code:hover {\n",
       "            cursor: pointer;\n",
       "            border: 1px solid #aaa;\n",
       "        }\n",
       "      </style>"
      ],
      "text/plain": [
       "import numpy as np\n",
       "from google.colab import autoviz\n",
       "df_6931137707896255445 = autoviz.get_registered_df('df_6931137707896255445')\n",
       "\n",
       "def value_plot(df, y, sort_ascending=False, figsize=(2, 1)):\n",
       "  from matplotlib import pyplot as plt\n",
       "  if sort_ascending:\n",
       "    df = df.sort_values(y).reset_index(drop=True)\n",
       "  _, ax = plt.subplots(figsize=figsize)\n",
       "  df[y].plot(kind='line')\n",
       "  plt.title(y)\n",
       "  ax.spines[['top', 'right',]].set_visible(False)\n",
       "  plt.tight_layout()\n",
       "  return autoviz.MplChart.from_current_mpl_state()\n",
       "\n",
       "chart = value_plot(df_6931137707896255445, *['Tpot (K)'], **{})\n",
       "chart"
      ]
     },
     "metadata": {},
     "output_type": "display_data"
    },
    {
     "data": {
      "text/html": [
       "      <div class=\"colab-quickchart-chart-with-code\" id=\"chart-6da0f18a-0fdc-4f8c-82d0-cf4acce6050a\">\n",
       "        <img src=\"data:image/png;base64,iVBORw0KGgoAAAANSUhEUgAAAMQAAABgCAYAAABCK92TAAAAOXRFWHRTb2Z0d2FyZQBNYXRwbG90\n",
       "bGliIHZlcnNpb24zLjcuMSwgaHR0cHM6Ly9tYXRwbG90bGliLm9yZy/bCgiHAAAACXBIWXMAAA9h\n",
       "AAAPYQGoP6dpAAATB0lEQVR4nO3de1RTZ7oG8CcXCAgkASQCCZCRiwoIIrVeRkTLARxnRi1U2zqd\n",
       "6amnWtuZao92taVTCl6WduY4Vp1Tx6nHqVZbSy3WWoUBrRXt0imoUfCCAhZykas1CVQIJHnPH+g2\n",
       "GUBBkIB8v7VYki/bvd+d7If97TuPiAgMwwAA+I4ugGEGEhYIhrHBAsEwNlggGMYGCwTD2GCBYBgb\n",
       "LBAMY4MFgmFssEAwjA0WiD40depUZGZm9tv09Ho9lEolNBpNl8O88847mD59er/VdMerr77ar59F\n",
       "X2GB6IS7uzv34+zsDIFAYNd24sQJR5cIAFi1ahXmzp2LgICAfp/2gQMHkJCQAE9PT0gkEowePRor\n",
       "VqxAdXU1ACA9PR0bN26ETqfr99p6gwWiE01NTdzPG2+8gbi4OLu2uLg4R5cIo9GIbdu2YfHixf0+\n",
       "7ffeew/PPfccUlNTceXKFRgMBuTn58PNzQ0FBQUAAJlMhqSkJGzZsqXf6+sNFogHZDab8cYbb8DX\n",
       "1xc+Pj5IS0vrMIxOp8OCBQsgl8shk8nw7LPPor6+HgDw9ddfw9/fnxt2586d4PF4+Oqrr7jxi8Xi\n",
       "LtdG+fn5kEqlCA8Pt2vftWsXQkND4eHhgZSUFOj1erv3W1pa8PbbbyM4OBienp6YNm0aVCoV935b\n",
       "WxtWrFhhN1+2XUG1Wo309HS8//77eOWVVyCTyQAAgYGBWLVqFZ555hluXDNnzsS+ffu6+YkODCwQ\n",
       "D+jPf/4zPv/8cxw9ehRarRZCoRDff/89977JZEJCQgL8/f1x9epVXLt2DUKhEAsWLAAATJ8+HQ0N\n",
       "DSgpKQEA5OXlITQ0FPn5+QCAf/3rXwCAyZMndzr906dPIzIy0q7t5MmTWLhwITZs2ICbN2/ihRde\n",
       "wPbt2+2GWbJkCQoLC1FQUID6+nrMnz8fycnJXHDWrVuH/fv3o6CgAFqtFiKRyG6+8vLyYLVa8dxz\n",
       "z933M4qKikJpaSmampruO+yAQcw9/fGPf6T4+PgO7SEhIbR582butdlsJh8fH8rIyCAiouzsbPL3\n",
       "9yer1coNo9VqCQBpNBoiIoqLi6P169eT1WolHx8fys7OpuDgYCIiSk9Pp9mzZ3dZ16JFi+jpp5+2\n",
       "a3vxxRcpJSXFri0lJYWrv6GhgQBQaWlph3nZtWsXEREFBwfTBx98YDdfMpmMm681a9aQTCbrsi5b\n",
       "V69eJQBUVVXVreEHAraGeEBarRY/+9nPuNcCgQCBgYHc67KyMtTW1sLT0xNSqRRSqRQREREQiURQ\n",
       "q9UAgKSkJOTn50OlUkEqleLJJ59EY2MjKioqcPjwYSQlJXU5fS8vLxgMhnvWBMDudXl5OQBg4sSJ\n",
       "XE1SqRQ6nQ5arRZAezcvKCjIbr5sN9plMhkaGhpgMpnu+xndqc/Ly+u+ww4UQkcXMFgpFApUVlZy\n",
       "ry0Wi93uT19fXwQFBaGioqLLcSQmJmLt2rX46quvkJycDB6Ph8TERGRlZaGoqAg7d+7s8v/Gxsbi\n",
       "008/vWdNAOxe+/r6AgCKi4vtwmtLLpejqqqKe221WrmwAEBycjL4fD4++eQTLFy4sMv6AKCkpASj\n",
       "Ro2Cu7v7PYcbUBy9ihrouuoyrV69mpRKJV2+fJlaWlro3XffJaFQyHUtjEYjBQQE0DvvvEN6vZ6I\n",
       "iGpra+mzzz7jxmGxWMjT05MkEgkdOHCAiIh27txJEomElErlPevS6/Xk5uZGly5d4tpOnDhBTk5O\n",
       "dPDgQTKbzXTw4EFydXW1q3/u3Ln0q1/9iiorK7k6c3Jy6Pr160RElJmZSSEhIXTlyhUymUy0cuVK\n",
       "u/kiIlq7di2JxWLaunUr1dfXE1F7dzAzM5P27NnDDTd//nx666237vMJDyysy/SA3nzzTaSkpCA+\n",
       "Ph4KhQKtra2YOHEi976HhwdOnToFtVqNsWPHQiwWY8qUKTh+/Dg3DJ/PR0JCAm7duoUZM2YAaO9G\n",
       "GY1GJCYm3nP6EokEL774Iv7+979zbVOnTsWHH36IZcuWQSqVYvv27R3+in/66aeIjY1FYmIiPDw8\n",
       "MGrUKGzbtg10+0ritLQ0/PKXv0RcXBzkcjmam5sRExMDFxcXbhxpaWn4+OOPkZWVheDgYEgkEiQk\n",
       "JKCpqYk7CFhfX4+8vDz8/ve/f7AP2EF4ROya6sHq5s2bGDduHE6cONFlF6i3zGYz/Pz8sHnzZjz7\n",
       "7LPd/n9Lly6Fp6cnVq5c+VDqelhYIBg7jY2NOHbsGJKTk9Ha2oqMjAzs2LEDFRUVkEqlji7voWNd\n",
       "JsaO1WrF6tWrMXz4cMjlchQWFiInJ2dIhAFgawiGscPWEAxjgwWCYWywQDCMDRYIhrExqAKxadOm\n",
       "Dm3GljbUGlscUA3zKBpUgbA9x+aOTUfKMGP9MfztWAVMZosDqmIeJf0WiNraWqSkpCAqKgpjxozB\n",
       "xo0bez1Oi5VQojXgVqsFf/pnKZLfP46jpbW9L5YZsvotEMuXL0d4eDiKi4tx+vRp7NixA0VFRb0a\n",
       "p4DPw2eLJ+Ev86Lh4yFC5Y1bWLjjNBbuKMIPDT/1UeXMUNJvgTh//jxmzZoFAHBzc8O0adOwa9eu\n",
       "Xo+Xz+chNVaBoyvi8dK0kXAS8HC0tA5J7xfgvdxSNJnMvZ4GM3T0WyDunL9vtVq5MyH//dx9WyaT\n",
       "CUaj0e7HYul6G8HDxQlps8bgn69NQ3yYD9oshK0FFXhi/TF8qdKCHZBnuqPPTt2YPHkyysrKOn1P\n",
       "pVLB1dUVr7/+OlQqFWQyGUaOHIn6+vouL0LPzMzscKbkpEmTcOrUqfvWQkQ4WlqHVQcvoerGLQBA\n",
       "bJAnMn8dgbEKSQ/njBlKHHYu05IlS+Dj44PVq1d3+r7JZOpwmWJ6enqnu167YjJbsP27H/C/R8tx\n",
       "q9UCHg94ZkIAXk8aBW93Ua/qZx5N/XYJ6Y0bNyAWi+Hk5ASVSoX9+/fb3f7k34lEIohE9gutQCDo\n",
       "0TRFQgFemR6ClBgF3su9jP3nrmNPoQYHi6uxPDEMv50UBKFgUO15Zh6yflsaCgsLER4ejjFjxuCl\n",
       "l17C559/Dj8/v36Ztq/EBRuficHeJZMR4S9GY4sZK7++hFmbT+BkeUO/1MAMDoPq9O/ly5djw4YN\n",
       "vRqHxUrIKtLgf/JKcfNWGwDgF5G+eHvWGAR4DeuLMplBbMj1FwR8HhZMDMSx12fgP6cowecBuRdq\n",
       "8B8bCrDxyFW0tLGj3UPZkAvEHZJhTsicHYGcZXGYNNILJrMVG4+UIeEvBcgtqWa7aYeoIRuIO0b7\n",
       "irFn0SRs+c14yKWu0Omb8fInZ/Gb//seV2oaHV0e08+GfCAAgMfjYdZYPxxZHo9lCaEQCfk4WXED\n",
       "szafQOaBizDc3tZgHn0sEDZcnQX478QwHFkej5kRvrBYCTtOVmLGX45hT6EaFivrRj3qWCA6EeA1\n",
       "DFt/G4vd/zURoTJ3/PhTK9L2lWDOB9/hTNWPji6PeYjYvV3vYWrocOQsi8OuU1V4/8hVXNAZkfq3\n",
       "U3gyRo63fjEaI8Qu9x9JD7W0WWBsboOxpQ2G5rs/xmazze/t//7UaobS2w3RAVLEBEgR7OMOPp/X\n",
       "5zUNJUPuOMSDamgyYX3eFWSd1oAIGOYswKtPhGLhVCVEwrtH0IkITSYzjC1mGG7dXoBb7i7IxuZ/\n",
       "W9Bb7Bd0k9n6wDW6i4SIUkgwLkDKhUT2EEL7KGOB6KFirR4ZBy5CpdYDAORSV3i7O3MLurHF3Ott\n",
       "DR4PELs4QeLqBLGrEBLX279zbe3/ujgJUFbbCJVGjxKtAc2dHEPxk7hwARkXIMVYuQRuItYx6Ar7\n",
       "ZHooSiFF9pIp2H9Oh3W5pdDpm6HTN3cYzlnAv73gCrkF2Hahtl3Yxbbtw5zg7izscdfHbLGirK4J\n",
       "5zR6nNfocU6jx9XaRlQbWlBtqEHuhRoAAJ8HhI3wsAtJqMydndN1W5+uIQ4dOoR3330XFy5cwMsv\n",
       "v2x3majVasWyZcuQk5MDHo+H1157DX/4wx96NP6BsIaw1WQy47uyBjgJeHZ/uSWuThAJ+eDxHNuf\n",
       "/8lkRonOwAXkvEaP64aON2QY5ixApLy9q3UnKP4SF4fX7wh9uoYIDQ3FP/7xD+zdu7fDc8V2796N\n",
       "S5cu4erVqzAYDIiJicGMGTMQERHRlyX0K3eREDMjfR1dRpfcREJMGumNSSO9ubY6YwtUNmuRYq0B\n",
       "TSYzCn/4EYU/3N2D5uMh4gIyLkCKsQoJxC5OjpiNftWngQgLCwMAfPnllx3ey8rKwqJFiyAQCODl\n",
       "5YWnn34ae/bswZo1a/qyBOY+ZGIXJEf4IjmiPchWK6Givr2rdU6jx3mtHqXVjahvNOHwpVocvtR+\n",
       "0wYeDwj2cUe0Qopxge0b7KN9PR65rla/bUOo1Wq7Z5cplUruSZud6ewCoXtdQso8GD6fh9ARHggd\n",
       "4YF5j7U/S66lzYILOoNdSDQ/NqO8rgnldU3IPtv+iC0fDxGejJEjdbwCo3w9HDkbfaZHgbjfZaK2\n",
       "D+frrXXr1nV6CSnz8Lk4CfCY0guPKe8+LLGhyYRirR7n1Hqc0xqgUt9EfaMJHx6/hg+PX8NYuQRP\n",
       "xSowO9ofnm7ODqy+d3oUiO5cz9yVwMBAVFVVcc9drqysvOdTb9LS0rB8+XK7tvT09AeePtM7w91F\n",
       "eGL0CDwxegQAoNVsxbErdcg+q8U3l+tQojOgRGfAmkOX8MRoGZ6KDcD0UT5wGmRdqn7rMs2bNw/b\n",
       "tm3DvHnzYDAYkJWVhYMHD3Y5fF9cQso8PM5CPpIifJEU4Ysff2rFgXM6fHFWiws6I/Iu1iLvYi28\n",
       "3ZwxZ5wcqbFyRPgPjps79Olu12+++QbPP/88jEYjiAgSiQRbtmzB7NmzYbFYsHTpUuTm5oLH42Hp\n",
       "0qVYtmxZj8Y/0Ha7Mh2V1hiRfUaLL1XX0dB0dxtwjJ8YqePlmBsjx/ABfIMHdqSaeSjMFiuOl9Uj\n",
       "+4wOhy/VotXSfkqKkM/D9FE+eCpWgSdGj4CzcGB1qdiRauahEAr43DaH/lYrvi6uxhdntDiv0ePI\n",
       "5TocuVwH6TAnzIn2R2qsAmPlkgFxIJCtIZh+VV7XiC/O6PClSota490uVdgId6SOV+DJGLlDT0hk\n",
       "gWAcwmIlfFfegC/OaJF/sYY7y5fPA6aF+SB1vAKJ4SPg4tS/O1JYl4lxCAGfh/gwH8SH+cDQ3IZD\n",
       "xdXIPqvFmaqbOHalHseu1EPsIsSvb3epYgKk/dKlYmsIZkC5Vt+EfWd12HdWa3ci4kgfN6SOVyBl\n",
       "vBx+EteHNn0WCGZAsloJp67dwBdntMi9UI2WtvYuFY8HTA0ZjtTxCsyM9O3zLhXrMjEDEp/Pw89D\n",
       "huPnIcOxak4Ecktq8MVZLQp/+BEnyhpwsuIGpoR4s0AwQ4+HixPmTwjA/AkBUN+4heyzWjQ0mSDz\n",
       "6Pu9UYOqy5SSkgKlUumQaVssFhQWFuLxxx9/JE4heVTn56mnnsKKFSseeDyDKhCOZDQaIZFIYDAY\n",
       "IBaLHV1Or7H56dzAOm7OMA7GAsEwNlggGMYGC0Q3iUQiZGRkdLhGY7Bi89M5tlHNMDbYGoJhbLBA\n",
       "MIwNFgiGscEC0YmlS5dCqVSCx+Ph3LlzXHtZWRmmTJmCsLAwTJgwARcvXnRckT3Q0tKCuXPnIiws\n",
       "DNHR0UhMTER5eTkAoK6uDjNnzkRoaCgiIyNx/PhxB1fbPUlJSYiKisK4ceMQFxfHPfO8198RMR0U\n",
       "FBSQRqOhoKAgUqlUXPuMGTPoo48+IiKivXv30mOPPeaYAnuoubmZDh06RFarlYiI/vrXv1J8fDwR\n",
       "Eb3wwguUkZFBRESFhYUkl8uptbXVQZV2382bN7nf9+3bR1FRUUTU+++IBeIebANRW1tLHh4e1NbW\n",
       "RkREVquVRowYQWVlZQ6s8MEUFRVRUFAQERG5ublRdXU1996ECRPo8OHDDqrswXz00UcUHR3dJ98R\n",
       "O9u1mzQaDfz8/CAUtn9kPB4PgYGBUKvVCAkJcXB1PbNp0ybMmTMHN27cQFtbG3x9796wWalUQq1W\n",
       "O7C67vvd736Hb7/9FgCQk5PTJ98R24YYYtauXYvy8nKsW7fO0aX02scffwyNRoM1a9bgzTff7JNx\n",
       "skB0U0BAAKqrq2E2mwG0PzpLrVbf83acA8369euxb98+5ObmYtiwYfD29oZQKERNTQ03zP1uMToQ\n",
       "Pf/88/j222+hUCh6/R2xQHSTTCbD+PHjsXv3bgBAdnY2FArFoOkubdiwAXv27MHhw4chlUq59nnz\n",
       "5mHr1q0AgKKiIuh0OsTHxzuoyu7R6/W4fv0693r//v3w9vbum+/o4WzmDG6LFy8muVxOAoGAZDIZ\n",
       "BQcHExFRaWkpTZo0iUJDQyk2NpaKi4sdXGn3aDQaAkAjR46k6Ohoio6Opscff5yIiGpqaigxMZFC\n",
       "QkIoPDycjh496uBq76+yspImTJhAkZGRFBUVRQkJCdzOj95+R+xcJoaxwbpMDGODBYJhbLBAMIwN\n",
       "FgiGscECwTA2WCAYxgYLBMPYYIFgGBssEAxjgwWCYWywQDCMjf8HOUG6I8WPJUIAAAAASUVORK5C\n",
       "YII=\n",
       "\">\n",
       "        \n",
       "      </div>\n",
       "      <script></script>\n",
       "      <script type=\"text/javascript\">\n",
       "        (() => {\n",
       "          const chartElement = document.getElementById(\"chart-6da0f18a-0fdc-4f8c-82d0-cf4acce6050a\");\n",
       "          async function getCodeForChartHandler(event) {\n",
       "            const chartCodeResponse =  await google.colab.kernel.invokeFunction(\n",
       "                'getCodeForChart', [\"chart-6da0f18a-0fdc-4f8c-82d0-cf4acce6050a\"], {});\n",
       "            const responseJson = chartCodeResponse.data['application/json'];\n",
       "            await google.colab.notebook.addCell(responseJson.code, 'code');\n",
       "          }\n",
       "          chartElement.onclick = getCodeForChartHandler;\n",
       "        })();\n",
       "      </script>\n",
       "      <style>\n",
       "        .colab-quickchart-chart-with-code  {\n",
       "            display: block;\n",
       "            float: left;\n",
       "            border: 1px solid transparent;\n",
       "        }\n",
       "\n",
       "        .colab-quickchart-chart-with-code:hover {\n",
       "            cursor: pointer;\n",
       "            border: 1px solid #aaa;\n",
       "        }\n",
       "      </style>"
      ],
      "text/plain": [
       "import numpy as np\n",
       "from google.colab import autoviz\n",
       "df_6931137707896255445 = autoviz.get_registered_df('df_6931137707896255445')\n",
       "\n",
       "def value_plot(df, y, sort_ascending=False, figsize=(2, 1)):\n",
       "  from matplotlib import pyplot as plt\n",
       "  if sort_ascending:\n",
       "    df = df.sort_values(y).reset_index(drop=True)\n",
       "  _, ax = plt.subplots(figsize=figsize)\n",
       "  df[y].plot(kind='line')\n",
       "  plt.title(y)\n",
       "  ax.spines[['top', 'right',]].set_visible(False)\n",
       "  plt.tight_layout()\n",
       "  return autoviz.MplChart.from_current_mpl_state()\n",
       "\n",
       "chart = value_plot(df_6931137707896255445, *['Tdew (degC)'], **{})\n",
       "chart"
      ]
     },
     "metadata": {},
     "output_type": "display_data"
    },
    {
     "data": {
      "text/html": [
       "<h4 class=\"colab-quickchart-section-title\">Distributions</h4>\n",
       "<style>\n",
       "  .colab-quickchart-section-title {\n",
       "      clear: both;\n",
       "  }\n",
       "</style>"
      ],
      "text/plain": [
       "<google.colab._quickchart_helpers.SectionTitle at 0x793f279e44c0>"
      ]
     },
     "metadata": {},
     "output_type": "display_data"
    },
    {
     "data": {
      "text/html": [
       "      <div class=\"colab-quickchart-chart-with-code\" id=\"chart-0dd0a001-6bec-4ef9-8bbc-a906e5bd7ba3\">\n",
       "        <img src=\"data:image/png;base64,iVBORw0KGgoAAAANSUhEUgAAALkAAABgCAYAAABBnNO7AAAAOXRFWHRTb2Z0d2FyZQBNYXRwbG90\n",
       "bGliIHZlcnNpb24zLjcuMSwgaHR0cHM6Ly9tYXRwbG90bGliLm9yZy/bCgiHAAAACXBIWXMAAA9h\n",
       "AAAPYQGoP6dpAAAM90lEQVR4nO3de1BU5f8H8PcSSonLgiFIoksTd1hBQYaLhdGUyXdiBKwmhgES\n",
       "yyYzJiInxmHQLGtsakCnhKG0HCcyIRO1kKQL0UqwVGKmDBYmRLBeYHW4w35+fzicn8iCHDgH1vXz\n",
       "mmHGc/ac5/k88Hb34XAuCiIiMGbBrKa7AMbkxiFnFo9Dziweh5xZPA45s3gccmbxOOTM4nHImcXj\n",
       "kDOLxyGXwbZt27B+/fpJtZGSkoLExESJKvp/Op0O3t7e6Ovrk7xtc8Uhl1hrayveffddZGdnT3cp\n",
       "JgUHB8PHxwc7d+6c7lKmDIdcYrt27cKjjz4KJyen6S5lhP7+fgDAc889h9zcXAwODk5zRVODQz6G\n",
       "5cuX46WXXkJcXByUSiXc3d2xd+/eMfcpLi7GihUrRrSzYcMGPP3007Czs4Orqys+//xznDp1CmFh\n",
       "YVAqlQgJCUF9ff2w/fr6+rB27VrY29tj4cKF2L59u/BaT08PnnzyScyfPx9KpRJeXl744IMPhu3v\n",
       "5uaG7OxsPP7441AqlXjvvfcAAFFRUWhra4NOp5vMt+f2QWxUkZGRdPfdd1NJSQn19/fT0aNHacaM\n",
       "GVRZWWly+66uLgJAVVVVI9pRqVT0448/0uDgIOXk5NCsWbMoOjqaGhsbqbe3l+Li4uixxx4T9klO\n",
       "TiZra2vKy8ujvr4+OnHiBDk4ONC+ffuEvnbv3k3t7e00ODhIR44coZkzZ1JpaanQhlqtJmdnZ9Jq\n",
       "tWQ0Gqmzs1N4zc/Pj3bu3Cnlt8tsccjHEBkZSXFxccPWPfXUU7RmzRqT2//7778EgM6cOTOinRv3\n",
       "6ejoIAD02WefCeuKiorI3t5eWE5OTqYlS5YMa2fjxo0UFRU1ar0xMTGUnp4uLKvVanr99ddNbhse\n",
       "Hk5btmwZtS1LwtOVW7j//vtHLDc1NZnc1sHBAQBgMBhGvObi4iL829bW1uS6a9eujbvv3t5eZGRk\n",
       "wNPTEyqVCvb29vjmm2+g1+vHbGOIwWDAnDlzTL5maTjkt3D+/PkRy66uria3veeee+Dr64vTp0/L\n",
       "3vf777+Pw4cP4/Dhw2hvb0dHRwdWrlwJuukaGCurkT/inp4eNDQ0IDg4WJI6zR2H/Ba+/vprHD16\n",
       "FIODgygtLcXBgwfx7LPPjrp9XFwcjh07JknfJ0+exEcffYSBgQFUV1ejoKBA6NtgMMDGxgZz586F\n",
       "0WjEgQMHUFZWNq52v//+ezg5OWHp0qWS1GnuOOS3sGbNGnz88cewt7fH+vXrkZeXhwcffHDU7V98\n",
       "8UWUlZWhra1t0n3HxsaiqqoKjo6OiI+PR0ZGhvAHooyMDCxYsABqtRr33XcfysvLsWrVqnG1W1BQ\n",
       "gLS0NNx1112TrvF2oKCbP9+YYPny5Vi2bBnefPNNUfu99dZbaGlpGXFIzxzU1tYiISEBdXV1sLGx\n",
       "me5ypoT1dBdgiTZt2jTdJYwqKChoxPF4S8fTFWbxeLrCLB6/kzOLxyFnFk/WkL/88stwc3ODQqHA\n",
       "77//LmdXjI1K1pCvXr0alZWVUKvVcnbD2JhkDflDDz006p/AbyU3N1fiatidyiyOk/f29qK3t3fY\n",
       "ur///nuaqmGWxixC/vbbb2PLli3D1oWGhprc1u31oyPWnX/nf5PeVgqT7c/U/mLbMAfmNg6zOLqS\n",
       "mZkJg8Ew7CskJGS6y2IWwizeyW1sbEacR3GnnDzE5Cf6nbyurm5c6wBg3bp1cHV1RXNzM1asWAF3\n",
       "d3fxFTI2SaJDnpKSMq51AJCfn4/m5mYMDAygra0N586dE9sdY5M27umKXq9Ha2sruru7cerUKeEK\n",
       "FIPBgM7OTtkKZGyyxh3ywsJC5OTkoKWlBTExMcJ6lUqFjRs3ylIcY1IYd8jT0tKQlpaGrVu3Iisr\n",
       "S86aGJOU6KMrWVlZMBqNaG1txcDAgLB+4cKFkhbGmFREh/zTTz/Fhg0bMGPGDOFKcIVCMeJWCIyZ\n",
       "C9Ehf+ONN1BTUwMvLy856mFMcqIPITo6OnLA2W1FdMhXrVqFnJwc6PV6XL16VfhizFyJnq4MXYme\n",
       "np4OhUIBIoJCobhjbgPMbj+iQ240GuWogzHZmMVZiIzJSfQ7uZWVFRQKxYj1PF1h5kp0yG+8vXB3\n",
       "dzf27t3LAWdmTfR0xdbWVvhydHREeno6ioqK5KiNMUlMek5+9uxZXLp0SYpaGJOF6OmKg4ODMCcf\n",
       "OnflTnpcHrv9iA75jTcJsra2xrx58/hSNWbWRIdcrVajq6tLCLuDgwNmzZoldV2MSUZ0yLVaLeLj\n",
       "4zFv3jwAQFtbG4qLixEWFiZ5cYxJQXTIh46mREREALge+ldeeQVVVVWSF8eYFEQfXenu7hYCDgDh\n",
       "4eHo6emRtCjGpCQ65LNnz8bx48eF5fLycuG5lIyZI9HTlR07diAuLk44omI0GvHll19KXhhjUhEd\n",
       "8paWFuh0OuERfs7Ozqiurpa8MMakInq6kpWVhblz58Lf3x/+/v5wdHTkq/eZWZv0n/X5gglm7kSH\n",
       "XKlUQqvVCss///wzlEqlpEUxJiXRc/Lt27cjNjYW3t7eAICGhgYcPHjQ5LYNDQ1ITk7GpUuXoFKp\n",
       "8Mknn8DPz29yFTMmkuiQh4WF4cyZMzhx4gSA68fJ7e3tTW67bt06PP/880hJSUFRURFSUlJQU1Mz\n",
       "qYIZE2tCc3IHBwdER0cjOjp61IDr9XrodDokJiYCAOLj49HU1MR3tmVTTrab8Dc1NcHFxQXW1te7\n",
       "UCgUWLhwIS5cuDDiPuWmnhnEv8wyqcj22PHa2lokJCSgvr5eWBcSEoJ33nkHUVFRw7bdvHnziGcG\n",
       "eXt7Y+XKlcPWDQ4Oorq6GiEhIRZ9eu+dNs7Vq1fj1Vdfla0f2UKu1+vh7u6OK1euwNraGkQEFxcX\n",
       "VFZWjuud3NQjVq5evQqVSgWDwQA7Ozs5yjYLPE5pyXZLCicnJyxZsgT79u0DABQXF8PV1dXkI1Vs\n",
       "bGxgZ2c37OvmgDM2UbI+GCs/Px8pKSnYtm0b7OzssGfPHjm7Y8wkWUPu5eUlHGpkbLrcVnfQsrGx\n",
       "QXZ2tsVPZXic0pLtF0/GzMVt9U7O2ERwyJnF45AzizctIS8tLUVwcDAWLVqE0NBQnDx5EgBQU1OD\n",
       "iIgIBAQEIDAwEN99992w/T788EP4+PhAo9EgICBg1AuoFQoFNBoNAgMDERgYiJ9++kn2MZkykXHG\n",
       "xsYKdQcGBsLKygolJSUm229oaEB4eDg8PT2xdOlSnD59ekrGdTO5x+nm5gYvLy9h2/3794srkKbY\n",
       "lStXaM6cOfTHH38QEVFFRQX5+fmR0Wik+fPn07fffktERPX19bRgwQLq6uoiIqKvvvqKwsPDqaOj\n",
       "g4iI9Ho9DQwMmOwDALW3t8s/mDFMdJw3qqmpoXvvvZd6e3tN9vHwww/Tnj17iIjowIEDFBwcLM9g\n",
       "xjAV41Sr1fTbb79NuMYpD3lNTQ15eHgMW6dUKumXX36hmTNnDluv0WiouLiYiIgiIiLo2LFj4+rD\n",
       "HEI+0XHe6IUXXqC0tDST7be1tZFSqaT+/n4iIjIajeTs7EwNDQ3SDGCc5B4n0eRDPuXTFQ8PD1y+\n",
       "fFm4uqikpATXrl1Dc3MzXFxc8MUXXwC4/lFXX1+P8+fPAwD+/PNP6HQ6REREIDg4GDt27Bizn0ce\n",
       "eQQBAQFIT09HZ2enrGMyZaLjHNLd3Y3CwkKkpqaabH+sszynktzjHJKUlASNRoPU1FRcvHhRVI1T\n",
       "HnKVSoWioiJkZmYiKCgIZWVl8PX1hbW1NQ4dOoTdu3dj8eLFyM3NxbJly4Qf4sDAABobG1FRUYHS\n",
       "0lLk5+fjyJEjJvv4559/UFtbC61Wi4sXL+K1116byiECmPg4hxQVFcHT0xMajWbKaxdjKsZZUVGB\n",
       "uro6/Prrr3B0dERycrK4Iif8GSCRnp4esre3N/kx6+3tTcePHyciIj8/PyovLxdey8jIoE2bNt2y\n",
       "fa1WS/7+/tIVPEHjHeeQyMhIysvLG7U9c5mu3Ezqcd6spaWFZs+eLaqmaTm68t9//wn/3rp1K6Ki\n",
       "ouDu7j5sfUFBAWxtbYVzzxMSElBaWgrg+kfcDz/8gICAgBFtt7e3o6urC8D1Gx/t378fixcvlnM4\n",
       "o5rIOAHg3Llz0Ol0eOaZZ0ZtW8xZnnKTc5ydnZ3o6OgQlgsLC8X/PEX9l5DI2rVrycvLix544AFK\n",
       "TEwUfkncvHkzeXh4kLu7Oz3xxBN04cIFYZ/u7m5KSkoiHx8f8vX1paysLOG1Xbt2CctarZY0Gg0t\n",
       "WrSIfH19KTExkS5fvjyl4xsykXESEWVmZlJSUtKI9g4dOkSpqanC8tmzZyk0NJQ8PDwoKCiI6urq\n",
       "ZB3PaOQc519//UWBgYGk0WjI39+fYmJiqLGxUVR9fO4Ks3j8F09m8TjkzOJxyJnF45Azi8chZxaP\n",
       "Q84sHoecWTwOObN4HHJm8TjkzOJxyJnF+z/j4rKwt61EwgAAAABJRU5ErkJggg==\n",
       "\">\n",
       "        \n",
       "      </div>\n",
       "      <script></script>\n",
       "      <script type=\"text/javascript\">\n",
       "        (() => {\n",
       "          const chartElement = document.getElementById(\"chart-0dd0a001-6bec-4ef9-8bbc-a906e5bd7ba3\");\n",
       "          async function getCodeForChartHandler(event) {\n",
       "            const chartCodeResponse =  await google.colab.kernel.invokeFunction(\n",
       "                'getCodeForChart', [\"chart-0dd0a001-6bec-4ef9-8bbc-a906e5bd7ba3\"], {});\n",
       "            const responseJson = chartCodeResponse.data['application/json'];\n",
       "            await google.colab.notebook.addCell(responseJson.code, 'code');\n",
       "          }\n",
       "          chartElement.onclick = getCodeForChartHandler;\n",
       "        })();\n",
       "      </script>\n",
       "      <style>\n",
       "        .colab-quickchart-chart-with-code  {\n",
       "            display: block;\n",
       "            float: left;\n",
       "            border: 1px solid transparent;\n",
       "        }\n",
       "\n",
       "        .colab-quickchart-chart-with-code:hover {\n",
       "            cursor: pointer;\n",
       "            border: 1px solid #aaa;\n",
       "        }\n",
       "      </style>"
      ],
      "text/plain": [
       "import numpy as np\n",
       "from google.colab import autoviz\n",
       "df_6931137707896255445 = autoviz.get_registered_df('df_6931137707896255445')\n",
       "\n",
       "def histogram(df, colname, num_bins=20, figsize=(2, 1)):\n",
       "  from matplotlib import pyplot as plt\n",
       "  _, ax = plt.subplots(figsize=figsize)\n",
       "  plt.hist(df[colname], bins=num_bins, histtype='stepfilled')\n",
       "  plt.ylabel('count')\n",
       "  plt.title(colname)\n",
       "  ax.spines[['top', 'right',]].set_visible(False)\n",
       "  plt.tight_layout()\n",
       "  return autoviz.MplChart.from_current_mpl_state()\n",
       "\n",
       "chart = histogram(df_6931137707896255445, *['p (mbar)'], **{})\n",
       "chart"
      ]
     },
     "metadata": {},
     "output_type": "display_data"
    },
    {
     "data": {
      "text/html": [
       "      <div class=\"colab-quickchart-chart-with-code\" id=\"chart-4349ef2e-5633-4171-9889-a9a071664e94\">\n",
       "        <img src=\"data:image/png;base64,iVBORw0KGgoAAAANSUhEUgAAALQAAABgCAYAAAC0YlgLAAAAOXRFWHRTb2Z0d2FyZQBNYXRwbG90\n",
       "bGliIHZlcnNpb24zLjcuMSwgaHR0cHM6Ly9tYXRwbG90bGliLm9yZy/bCgiHAAAACXBIWXMAAA9h\n",
       "AAAPYQGoP6dpAAALD0lEQVR4nO3de0xTZx8H8O8BtLoWKlgrZFUY3hHNhqQRL6hLmLFz88Lm3cgf\n",
       "osZlsrHEvAuSOYnRGDGo0cTFCKITI1a3ERUWt0hQvBRvuMULqDhYtUXJCihWaZ/3D15PPBO1p/S0\n",
       "h/P+PslJ6NNz+fXw5fD09Ok5HGOMgRCFCAp0AYT4EgWaKAoFmigKBZooCgWaKAoFmigKBZooCgWa\n",
       "KAoFmigKBVpiH330EYqLi1/7/MmTJ8FxnB8r6mA2mzFlyhS/b1dqFGgPaDQafurZsyeCg4MFbRUV\n",
       "FZ0u98svv6CxsRGff/65nysGrl27hnnz5iEqKgoajQYxMTGYP38+Ll26BABITU2Fw+GA2Wz2e21S\n",
       "okB7oLW1lZ9Wr16NiRMnCtomTpzY6XK5ublIT0/3c7XAqVOnYDQa0b9/f5w9exYtLS24cuUKUlJS\n",
       "BP8tli5dii1btvi9PkkxIkpWVhabNGnSW+ez2+2M4zhWW1sraK+qqmJGo5Gp1Wo2ZswYlpuby/79\n",
       "a9i7dy8bPXo0CwsLY3FxcayoqEjw/J49e9igQYOYRqNhs2bNYl988YWgpqFDh7JFixa9tcbbt28z\n",
       "AOz+/ftvnbe7oECL5GmgT5w4wXr16iVoczgcTKfTsTVr1rCnT5+yP//8kw0aNEgQ6Pz8fDZgwABm\n",
       "sViYy+ViFRUVLDQ0lFVUVDDGGCsvL2c9e/Zkx48fZ+3t7ezYsWOsd+/efE23bt1iANivv/7q0etR\n",
       "q9WspKTEsxffDVCXQyJNTU3QarWCtpKSEgQFBWHt2rVQqVSIi4tDRkaGYJ4tW7YgKysLiYmJCAoK\n",
       "woQJEzB37lwUFBQAAAoLCzFjxgxMmzYNwcHBMJlMMJlM/PJ2ux0AYDAYPKpTq9WiqampC69UXijQ\n",
       "EomIiIDD4RC0NTQ0YMCAAQgODubb3nvvPcE8NTU1+Oabb9CnTx9+KioqgtVqBQD8/fffiI6OFiwT\n",
       "ExPD/6zX6/ltecLhcCAiIsLj1yV3FGiJJCQkwOl04s6dO3ybwWBAfX09XC4X31ZXVydYLjIyEjt3\n",
       "7sQ///zDT62trTh+/DgA4N1338W9e/cEy7z8eMiQIRg6dCj27dv31hrv3r2Lx48fIzEx0ZuXKEsU\n",
       "aIno9XqMHz8eZWVlfNv06dPhcrmwbt06OJ1O3LhxA1u3bhUs99VXXyEnJwcWiwVutxtOpxMWiwUX\n",
       "L14EACxevBg///wzysrK4HK5UFpayof9hV27dqG4uBiZmZm4d+8eGGNobm5GYWEhsrKy+PlKS0sx\n",
       "duxYREZGSrgn/CzQnfjuxtM3hYwxdvToUfb+++8L2s6fP88SExPfeJZj//79LCEhgWm1Wta3b182\n",
       "adIkVl5ezj+/e/duFhsbyzQaDZs5cyZLT09nU6dOFazj6tWrbM6cOUyv1zO1Ws2io6PZ/Pnz2aVL\n",
       "l/h5EhISWHFxscg9IG8UaImlpKSwQ4cOSbqNGTNmsGXLlolaxmw2e/yH2Z1wjNGXZLsbs9mMlJQU\n",
       "9O7dG0eOHMHChQvx+++/Izk5OdClBVxIoAsg4pWUlCA9PR3Pnj1DdHQ09uzZQ2H+HzpCE0WhsxxE\n",
       "USjQRFEkDfSqVasQExMDjuNw5coVKTdFCACJA/3ZZ5/h9OnTr3xUS4hUJA10cnKyx4Nk/u3fn6AR\n",
       "4glZnLZzOp1wOp2CtpfHQBDiKVkEesOGDfj+++8FbWPHju103pj/HOu0vW7jxz6vyxti63vd/GLW\n",
       "IXf+/J3J4izHt99+C4fDIZiMRmOgyyLdkCyO0CqVCiqVStD28phhQjwl+ghdXV3tURsALF++HAaD\n",
       "AQ0NDZg6dSoGDx4svkJCRBAd6LS0NI/agI5xuQ0NDWhvb4fNZkNtba3YzREiisddDrvdjgcPHqCt\n",
       "rQ3Xrl3DiyEgDocDjx8/lqxAQsTwONBFRUXIy8uD1WrFp59+yrdrtVqsXr1akuIIEcvjQGdkZCAj\n",
       "IwM5OTnIzs6WsiZCvCb6LEd2djbcbjcePHiA9vZ2vn3gwIE+LYwQb4gO9N69e/Hll1+iR48eCArq\n",
       "eE/JcRx/PQhCAkl0oNetWweLxYJhw4ZJUQ8hXSL6tJ1Op6MwE9kSHeiZM2ciLy8Pdrsdzc3N/ESI\n",
       "HIjucry4UElmZiY4jgNjDBzHCa4GREigiA602+2Wog5CfEIWo+0I8RXRR+igoKBO7wlCXQ4iB6ID\n",
       "3dLSwv/c1taGwsJCCjORDdFdDrVazU86nQ6ZmZk4fPiwFLURIlqX+9A3btzAw4cPfVELIV0mussR\n",
       "Hh7O96FfjOXYvn27b6sixEuiA/3yBWNCQkIQGRlJX5cisiE60NHR0Xjy5Akf7PDwcLzzzju+rosQ\n",
       "r4gOdGVlJVJTU/nbGNhsNpjNZiQlJfm8OELEEh3oF2c1xo8fD6Aj4F9//TXOnTvn8+IIEUv0WY62\n",
       "tjY+zAAwbtw4PH361KdFEeIt0YHWaDQ4efIk//i3336DWq32aVGEeEt0l2Pbtm2YPXs2f2bD7Xbj\n",
       "yJEjPi+MEG+IDrTVakVVVRVsNhsAoH///rhw4YLPCyPEG6K7HNnZ2ejXrx/i4+MRHx8PnU5H3wIn\n",
       "stHlj75pcD+RE9GBDg0NRWVlJf/4zJkzCA0N9WlRhHhLdB9606ZNmDVrFoYPHw4AqKmpwdGjRzud\n",
       "t6amBkuWLMHDhw+h1WpRUFCAkSNHdq1iQt5AdKCTkpJw/fp1nD17FkDHeeg+ffp0Ou/y5cuxbNky\n",
       "pKWl4fDhw0hLS4PFYulSwYS8iVd96PDwcJhMJphMpteG2W63o6qqCosWLQIApKamor6+nq5ASiQl\n",
       "2QXP6+vrERUVhZCQjk1wHIeBAwfir7/+euU60Z3dY4XeaBJvSHZr5IsXL2LBggW4efMm32Y0GrFx\n",
       "40Z8+OGHgnnXrl37yj1Whg8fjmnTpklRmt+5XC5cuHABRqORhtp24uX9Exsbi4yMDK/XJVmg7XY7\n",
       "Bg8ejKamJoSEhIAxhqioKJw+fdqjI3Rnt6norpqbm6HVauFwOBAWFhbocmTHl/tHsssY6PV6JCQk\n",
       "YP/+/QAAs9kMg8HQ6W0pVCoVwsLCBJNSwkz8S7IjNADcvHkTaWlpePToEcLCwpCfn49Ro0ZJtTnZ\n",
       "oiP0m/ly/0h6F6xhw4bxp/cI8Qe6cpIfqFQqfPfdd9SNeg1f7h9JuxyE+BsdoYmiUKCJolCgiaJQ\n",
       "oP3IZrNh9uzZGD16NEaMGIG8vLxAlyQrjY2N+OSTT/j9s2TJErS1tYlaBwXajzIzMxEXF4fq6mpU\n",
       "VVWhoKCARh++ZP369RgyZAiqq6vxxx9/wGazIT8/X9Q6KNB+dPXqVZhMJgAdV3FNTk7Gvn37AlyV\n",
       "fHAch5aWFrjdbjx79gxPnjyBwWAQtQ4KtB+NGTMGBw4cgNvtRmNjI8rKylBXVxfosmQjOzsbtbW1\n",
       "iIyMhF6vx4gRIwS34fYEBdqHkpKSoNPpOp3q6+uRm5uL1tZWfPDBB1iwYAEmT57MD6/9f/C2/XPw\n",
       "4EHExcXh/v37sFqtuHXrFnbv3i1qG/TBSgCtWLEC/fr1Q05OTqBLkYX4+Hj88MMPGDduHABgx44d\n",
       "qKysxI8//ujxOugI7UePHj3C8+fPAQCXL1/GTz/9hJUrVwa4KvmIjY1FaWkpAOD58+coKytDfHy8\n",
       "qHXQEdqPTpw4gVWrViEkJAShoaHYvHkzkpOTA12WbNy9excrVqyA1WqFy+VCUlISduzYgV69enm8\n",
       "Dgo0URTqchBFoUATRaFAE0WhQBNFoUATRaFAE0WhQBNFoUATRaFAE0WhQBNFoUATRfkvTK3d6hc1\n",
       "sesAAAAASUVORK5CYII=\n",
       "\">\n",
       "        \n",
       "      </div>\n",
       "      <script></script>\n",
       "      <script type=\"text/javascript\">\n",
       "        (() => {\n",
       "          const chartElement = document.getElementById(\"chart-4349ef2e-5633-4171-9889-a9a071664e94\");\n",
       "          async function getCodeForChartHandler(event) {\n",
       "            const chartCodeResponse =  await google.colab.kernel.invokeFunction(\n",
       "                'getCodeForChart', [\"chart-4349ef2e-5633-4171-9889-a9a071664e94\"], {});\n",
       "            const responseJson = chartCodeResponse.data['application/json'];\n",
       "            await google.colab.notebook.addCell(responseJson.code, 'code');\n",
       "          }\n",
       "          chartElement.onclick = getCodeForChartHandler;\n",
       "        })();\n",
       "      </script>\n",
       "      <style>\n",
       "        .colab-quickchart-chart-with-code  {\n",
       "            display: block;\n",
       "            float: left;\n",
       "            border: 1px solid transparent;\n",
       "        }\n",
       "\n",
       "        .colab-quickchart-chart-with-code:hover {\n",
       "            cursor: pointer;\n",
       "            border: 1px solid #aaa;\n",
       "        }\n",
       "      </style>"
      ],
      "text/plain": [
       "import numpy as np\n",
       "from google.colab import autoviz\n",
       "df_6931137707896255445 = autoviz.get_registered_df('df_6931137707896255445')\n",
       "\n",
       "def histogram(df, colname, num_bins=20, figsize=(2, 1)):\n",
       "  from matplotlib import pyplot as plt\n",
       "  _, ax = plt.subplots(figsize=figsize)\n",
       "  plt.hist(df[colname], bins=num_bins, histtype='stepfilled')\n",
       "  plt.ylabel('count')\n",
       "  plt.title(colname)\n",
       "  ax.spines[['top', 'right',]].set_visible(False)\n",
       "  plt.tight_layout()\n",
       "  return autoviz.MplChart.from_current_mpl_state()\n",
       "\n",
       "chart = histogram(df_6931137707896255445, *['T (degC)'], **{})\n",
       "chart"
      ]
     },
     "metadata": {},
     "output_type": "display_data"
    },
    {
     "data": {
      "text/html": [
       "      <div class=\"colab-quickchart-chart-with-code\" id=\"chart-0555fd42-9a9e-4016-8624-6aaaba6f8179\">\n",
       "        <img src=\"data:image/png;base64,iVBORw0KGgoAAAANSUhEUgAAALkAAABgCAYAAABBnNO7AAAAOXRFWHRTb2Z0d2FyZQBNYXRwbG90\n",
       "bGliIHZlcnNpb24zLjcuMSwgaHR0cHM6Ly9tYXRwbG90bGliLm9yZy/bCgiHAAAACXBIWXMAAA9h\n",
       "AAAPYQGoP6dpAAAMt0lEQVR4nO3df0zU9R8H8OfB5TWBIxgizJND5ccl4DkQUBHBs0b+RmG1OQr6\n",
       "A3FrycQgsVhkjQrWAJ2Zo1lmW6tBjEZbzR9ZEMUPF9kMCXV0Z3gwJA6kAxRe3z+cn31PDuUjn4Pz\n",
       "0+ux3ebn83l/Pu/XHU/v3ve5zw8FEREYkzGX2S6AMUfjkDPZ45Az2eOQM9njkDPZ45Az2eOQM9nj\n",
       "kDPZ45Az2eOQy9CuXbtQUlIy5fYtLS3Q6XQYHR11YFWzh0M+Te7u7sJjzpw5cHV1tZlXV1cnST+J\n",
       "iYl4/fXXH9iutbUVtbW12LNnjzAvMDAQH330kTDd398Pg8GA6OhomM1mrFixAk8++SQOHz4sSa3O\n",
       "hkM+TTdv3hQeeXl5iI+Pt5kXHx8/o/WUlpYiLS0NKpXK7vLOzk7ExcXBw8MDP/zwA/z8/AAAmZmZ\n",
       "KC8vx9jY2EyWOyM45DOgsLAQa9asQX5+Pnx9feHn54fc3FzcunVLaNPW1oYNGzbAx8cHGo0GWVlZ\n",
       "sFgsAIDdu3ejrq4OxcXFwieEPWNjY6ipqUFSUpLd5S0tLVi5ciXWr1+P6upqzJ07V1hmMBjQ3d2N\n",
       "lpYWCZ+5c+CQz5DGxkYolUqYTCacO3cOVVVVKC4uBgAMDg7iqaeewtKlS2E0GtHc3IxLly4hPT0d\n",
       "APDhhx8iPj4eeXl5wieEPR0dHbBYLAgPD5+w7Ntvv8W6devw6quv4tChQ3Bxsf3TP/744wgODkZz\n",
       "c7PEz3z2cchniLe3NwoLC6FSqaDT6ZCbm4vjx48DAGprazE6Oor33nsPc+fOhb+/P8rKylBTUwOz\n",
       "2TzlPvr6+gAAnp6eE5adOnUK3t7eePbZZydd39PTU9iGnHDIZ8jChQvh6uoqTC9atAgmkwkAYDKZ\n",
       "oNVqoVQqheVBQUEAAKPROOU+vL29AUAY5vy/oqIiREZGIi4uDh0dHXbXt1gswjbkhEM+Q0wmk82X\n",
       "us7OTmg0GgB3/gMYjUbcvn1bWH7lyhUAQEBAAABMGF7YExwcDLVajYsXL05YplKpUFlZCYPBgDVr\n",
       "1uDXX3+1WT48PIyOjg6sWLFC/JNzchzyGdLX14eDBw9iZGQE7e3tKCkpwYsvvggA2LRpE5RKJQ4c\n",
       "OACr1Qqz2Yy9e/diy5Ytwt4PPz8//Pnnn/ftw9XVFVu3bsV333036fLjx4/jhRdeQGJiIn788Udh\n",
       "2ffffw9fX19ER0dL9IydB4d8hsTGxmJ0dBQajQZr165FcnIy9u/fDwBQq9U4deoUfvvtN2g0GkRF\n",
       "RSEoKAgnTpwQ1t+3bx/a29vh5eWFJ554YtJ+cnJycPLkSYyMjEzapqSkBPn5+XjmmWfw9ddfAwAq\n",
       "KiqQnZ1tM6SSCwWf4+l4hYWFOH36NOrr62ekv8zMTISEhCA3N3dK7c+fP4+dO3fiwoULk+5ff5Qp\n",
       "H9yEPWoqKipEtY+KikJ7e7uDqpl9PFxhssfDFSZ7/E7OZI9DzmTPoSHfs2cPAgMDoVAo0Nra6siu\n",
       "GJuUQ0OempqK+vp6aLVaR3bD2H05NORr164VfroWq7y8XOJq2H+VU+wnHxkZmfAL3dWrV2epGiY3\n",
       "ThHyd955B2+++abNvJUrV9ptG7j/m0m30/nuJknrksJk9d6v1vs9R7HbepQ8zGs1FU6xdyU/Px8W\n",
       "i8XmERMTM9tlMZlwindylUo14ZgJOR4oxGaH6HfyCxcuTGkeAGRlZUGj0eDatWtISkoSTgRgbCaJ\n",
       "DnlGRsaU5gHAsWPHcO3aNdy+fRvd3d24fPmy2O4Ym7YpD1d6enpgNpthtVrx+++/4+4hLxaLBUND\n",
       "Qw4rkLHpmnLIP//8c5SVlaGrqwtbt24V5nt6eiIvL88hxTEmhSmHPDs7G9nZ2XjrrbdQUFDgyJoY\n",
       "k5TovSsFBQUYHx+H2Wy2OfH27gm3jDkb0SE/ceIEXn75ZTz22GPCGeQKhQI9PT2SF8eYFESH/ODB\n",
       "g2hubkZoaKgj6mFMcqJ3Ifr4+HDA2SNFdMiTk5NRVlaGnp4eDAwMCA/GnJXo4cprr70G4M71PRQK\n",
       "BYgICoVClpf8ZfIgOuTj4+OOqIMxh3GKoxAZcyTR7+QuLi5QKBQT5vNwhTkr0SEfHBwU/m21WvHp\n",
       "p59ywJlTEz1ccXNzEx4+Pj7IyclBZWWlI2pjTBLTHpNfunQJvb29UtTCmEOIHq54eXkJY/K7x67I\n",
       "9dZ4TB5Eh/z/LxKkVCrh5+fHp6oxpyY65FqtFv/++68Qdi8vL5tb5THmbESHvKGhASkpKcJtPrq7\n",
       "u1FVVYVVq1ZJXhxjUhAd8rt7U+Li4gDcCf3evXvxyy+/SF4cY1IQvXfFarUKAQeA1atXY3h4WNKi\n",
       "GJOS6JC7u7vj9OnTwvSZM2fg5uYmaVGMSUn0cOXQoUPYsWOHsEdlfHwcX331leSFMSYV0SHv6upC\n",
       "S0sLuru7AQDz589HU1OT5IUxJhXRw5WCggLMmzcP4eHhCA8Ph4+PD5+9z5zatH/W5xMmmLMTHXIP\n",
       "Dw80NDQI0z/99BM8PDwkLYoxKYkekxcXF2P79u3Q6XQAgI6ODlRXV9tt29HRgfT0dPT29sLT0xOf\n",
       "fPIJwsLCplcxYyKJDvmqVavQ1taGn3/+GcCd/eST3es9KysLu3btQkZGBiorK5GRkYHm5uZpFcyY\n",
       "WA81Jvfy8sLGjRuxcePGSQPe09ODlpYWpKWlAQBSUlJgMpn4yrZsxjnsIvwmkwn+/v5QKu90oVAo\n",
       "EBAQAKPROOE65fbuGcRfZplUHHbb8fPnz2Pnzp1ob28X5sXExODdd9+FwWCwaVtYWDjhnkE6nQ4b\n",
       "NmxwRGk2xsbG0NTUhJiYGKc6ZJjrejCtVovs7OwHtnNYyHt6ehAUFIS+vj4olUoQEfz9/VFfXz+l\n",
       "d3J7t1hxhIGBAXh6esJisUCtVju8v6niuqTjsEtS+Pr6IjIyEp999hkAoKqqChqNxu4tVVQqFdRq\n",
       "tc1jJgLO/hscemOsY8eOISMjA0VFRVCr1fj4448d2R1jdjk05KGhocKuRsZmy3/+CloqlQpvvPGG\n",
       "0w2PuC7pOOyLJ2PO4j//Ts7kj0POZI9DzmRPNiEfHh5GcnIyQkJCoNfr8fTTTwvHyRARCgsLERIS\n",
       "goiICKxbt27C+mfPnoWrqyvKysom7aOxsRF6vR4hISEwGAz4+++/naIuhUKBiIgILF++HMuXL0dd\n",
       "XZ3D6kpMTMSiRYuEvkpLSyfto7a2FjqdDsHBwdixY8fs3ZGEZMJqtdI333xD4+PjRER0+PBhSkhI\n",
       "ICKisrIy2r59O42MjBAR0fXr123W7e/vp+joaNq8eTOVlpba3f7Y2BgtWbKEzp49S0REJSUllJqa\n",
       "Out1EREBoH/++eeBtUhRV0JCAlVXVz9w+4ODg+Tr60ttbW1ERPTSSy/RK6+8IqpGqcgm5Pdqbm4m\n",
       "rVZLREQLFiyg9vb2SdumpaVRTU0NpaenTxqmpqYmCg0NFaYHBgZIpVKR1Wqd1bqIHi7kD1vXVEP+\n",
       "5ZdfUlJSkjB98eJFWrBgwbRqfFiyGa7cq7y8HNu2bcPAwAC6u7tRU1OD2NhYxMbG4osvvhDaVVZW\n",
       "wsXFxeZW6vYYjUZotVph2sPDA2q1Gl1dXbNa113r16+HXq9HTk4OhoaGRNUkpi4A2L9/PyIiIvDc\n",
       "c8/h6tWrdrd37+sVGBiI69ev29zgeKY49BfP2VJUVITLly/jzJkzGB4exu3bt2G1WtHY2IjOzk6s\n",
       "Xr0aOp0O8+fPx9tvv41z58490nX99ddfCAgIwNDQEHbv3o3c3Fx88MEHktel1+tx8uRJLFy4EESE\n",
       "I0eOYPPmzfjjjz8e8hWZIbPy+eFAJSUlFBUVZfPx7e7uTleuXBGmU1NTqaKigmpra8nX15e0Wi1p\n",
       "tVpyc3MjLy8vOnDgwITt2huuzJkzZ8rDFUfVda+GhgYKDw+fUk1i67JHpVJRb2/vhPnONFyRVcjf\n",
       "f/99ioyMpL6+Ppv5mZmZdOTIESIiunHjBgUEBFBjY+OE9e839h0bG6PFixfbfPFMSUmZ9br6+vpo\n",
       "aGhIqDE7O5uef/55h9R169YtMpvNQrvKykoKCAiwu+2BgQGaN2+ezRfPffv2Takuqckm5CaTiQDQ\n",
       "4sWLSa/Xk16vp5iYGCIi6u3tpS1btlBYWBiFhYUJf8B73Rumo0ePUkFBgTDd0NBAERERFBwcTAkJ\n",
       "CWQ0Gme9rrs1LVu2jJYuXUppaWl048YNh9R18+ZNioqKovDwcFq2bBkZDAZqbW0VtllQUEBHjx4V\n",
       "pmtqaig0NJSWLFlC27Zto/7+/gfW5Qh87AqTPdnuXWHsLg45kz0OOZM9DjmTPQ45kz0OOZM9DjmT\n",
       "PQ45kz0OOZM9DjmTPQ45k73/Ac9i4tVgH+i2AAAAAElFTkSuQmCC\n",
       "\">\n",
       "        \n",
       "      </div>\n",
       "      <script></script>\n",
       "      <script type=\"text/javascript\">\n",
       "        (() => {\n",
       "          const chartElement = document.getElementById(\"chart-0555fd42-9a9e-4016-8624-6aaaba6f8179\");\n",
       "          async function getCodeForChartHandler(event) {\n",
       "            const chartCodeResponse =  await google.colab.kernel.invokeFunction(\n",
       "                'getCodeForChart', [\"chart-0555fd42-9a9e-4016-8624-6aaaba6f8179\"], {});\n",
       "            const responseJson = chartCodeResponse.data['application/json'];\n",
       "            await google.colab.notebook.addCell(responseJson.code, 'code');\n",
       "          }\n",
       "          chartElement.onclick = getCodeForChartHandler;\n",
       "        })();\n",
       "      </script>\n",
       "      <style>\n",
       "        .colab-quickchart-chart-with-code  {\n",
       "            display: block;\n",
       "            float: left;\n",
       "            border: 1px solid transparent;\n",
       "        }\n",
       "\n",
       "        .colab-quickchart-chart-with-code:hover {\n",
       "            cursor: pointer;\n",
       "            border: 1px solid #aaa;\n",
       "        }\n",
       "      </style>"
      ],
      "text/plain": [
       "import numpy as np\n",
       "from google.colab import autoviz\n",
       "df_6931137707896255445 = autoviz.get_registered_df('df_6931137707896255445')\n",
       "\n",
       "def histogram(df, colname, num_bins=20, figsize=(2, 1)):\n",
       "  from matplotlib import pyplot as plt\n",
       "  _, ax = plt.subplots(figsize=figsize)\n",
       "  plt.hist(df[colname], bins=num_bins, histtype='stepfilled')\n",
       "  plt.ylabel('count')\n",
       "  plt.title(colname)\n",
       "  ax.spines[['top', 'right',]].set_visible(False)\n",
       "  plt.tight_layout()\n",
       "  return autoviz.MplChart.from_current_mpl_state()\n",
       "\n",
       "chart = histogram(df_6931137707896255445, *['Tpot (K)'], **{})\n",
       "chart"
      ]
     },
     "metadata": {},
     "output_type": "display_data"
    },
    {
     "data": {
      "text/html": [
       "      <div class=\"colab-quickchart-chart-with-code\" id=\"chart-fb6c792d-ade9-4658-a189-45879dcadf6f\">\n",
       "        <img src=\"data:image/png;base64,iVBORw0KGgoAAAANSUhEUgAAALkAAABgCAYAAABBnNO7AAAAOXRFWHRTb2Z0d2FyZQBNYXRwbG90\n",
       "bGliIHZlcnNpb24zLjcuMSwgaHR0cHM6Ly9tYXRwbG90bGliLm9yZy/bCgiHAAAACXBIWXMAAA9h\n",
       "AAAPYQGoP6dpAAANZklEQVR4nO3df0zU9R8H8OfB2VVwvxhcwPHLgCBFi5gYIogxoKg5PEqSsUXO\n",
       "X6MhhY0iJRCaOtcPoh/LmAViECUmZmyQtQjDAholm/IjHBwHCYfKLwX0uPf3D7595g1RTu6Xx+ux\n",
       "3cbnfW/u/fp89uTD+z73uc+HxxhjIMSK2Zi7AEKMjUJOrB6FnFg9CjmxehRyYvUo5MTqUciJ1aOQ\n",
       "E6tHISdWj0J+l1avXo2cnByTjTc0NAQvLy/09PTM2mf37t2IiIgwWU3/SU1NNem20NeCD7m9vT33\n",
       "uO+++2Bra6vTVldXZ+4SAQC5ubmIi4uDu7u7ycc+ceIEIiMjIZVKIRaL4e/vj507d+Lff/8FAGRl\n",
       "ZSE/Px+9vb0mr20uFnzIx8bGuEdGRgbCwsJ02sLCwsxdIkZGRlBYWIitW7eafOz9+/cjKSkJ8fHx\n",
       "aGtrw/DwMGpqamBnZ4fa2loAgEwmQ3R0ND799FOT1zcXCz7kc6HRaJCRkQFnZ2c4OTkhMzNzRp/e\n",
       "3l4kJiZCLpdDJpNh48aNUKvVAIDvv/8erq6uXN/i4mLweDxUVlZyry8SiWb9r1FTUwOJRIIlS5bo\n",
       "tJeUlMDX1xdCoRAKhQJDQ0M6z09MTOCtt96Ct7c3pFIpwsPD0dzczD1/48YN7Ny5U2e9bp6GKZVK\n",
       "ZGVl4YMPPkBKSgpkMhkAwMPDA7m5uXjxxRe513r66adx7NixOW5R06KQz8GBAwfwzTff4Oeff4ZK\n",
       "pQKfz8cff/zBPT85OYnIyEi4urqivb0dFy5cAJ/PR2JiIgAgIiICg4ODaGlpAQBUV1fD19cXNTU1\n",
       "AIDff/8dABASEnLL8ZuamhAQEKDTVl9fj02bNuH999/HlStX8PLLL+PQoUM6fbZv346GhgbU1tZC\n",
       "rVZjw4YNiImJ4f4Y9u3bh+PHj6O2thYqlQoCgUBnvaqrq6HVapGUlHTHbbR8+XK0trZibGzsjn1N\n",
       "jhHOrl272Jo1a2a0+/j4sIKCAm5Zo9EwJycnlp2dzRhjrKKigrm6ujKtVsv1UalUDADr6elhjDEW\n",
       "FhbG3n33XabVapmTkxOrqKhg3t7ejDHGsrKy2Lp162ata8uWLSwhIUGnbfPmzUyhUOi0KRQKrv7B\n",
       "wUEGgLW2ts5Yl5KSEsYYY97e3uyTTz7RWS+ZTMat1zvvvMNkMtmsdd2svb2dAWDd3d1z6m9KtCef\n",
       "A5VKhcWLF3PLtra28PDw4JY7OjrQ398PqVQKiUQCiUSCpUuXQiAQQKlUAgCio6NRU1OD5uZmSCQS\n",
       "rF+/HqOjo+js7MSPP/6I6OjoWcd3cHDA8PDwbWsCoLP8zz//AABWrlzJ1SSRSNDb2wuVSgVgeorl\n",
       "6emps143v7GVyWQYHBzE5OTkHbfRf/U5ODjcsa+p8c1dwL3Azc0NXV1d3PLU1JTOoTxnZ2d4enqi\n",
       "s7Nz1teIiorC3r17UVlZiZiYGPB4PERFRaG8vByNjY0oLi6e9XeDgoJQWlp625oA6Cw7OzsDAM6e\n",
       "PavzB3kzuVyO7u5ublmr1XJ/AAAQExMDGxsbfPXVV9i0adOs9QFAS0sL/Pz8YG9vf9t+ZmHufyWW\n",
       "ZLbpSl5eHvPy8mLnz59nExMT7O2332Z8Pp/7tz4yMsLc3d3Z7t272dDQEGOMsf7+fvb1119zrzE1\n",
       "NcWkUikTi8XsxIkTjDHGiouLmVgsZl5eXreta2hoiNnZ2bFz585xbXV1dWzRokXs5MmTTKPRsJMn\n",
       "T7IHHnhAp/64uDj23HPPsa6uLq7Oqqoq1tfXxxhjLCcnh/n4+LC2tjY2OTnJ9uzZo7NejDG2d+9e\n",
       "JhKJ2GeffcbUajVjbHoqlpOTw8rKyrh+GzZsYG+++eYdtrB50HRlDt544w0oFAqsWbMGbm5uuH79\n",
       "OlauXMk9LxQKcebMGSiVSixbtgwikQirVq3Cr7/+yvWxsbFBZGQkrl27hrVr1wKYnsKMjIwgKirq\n",
       "tuOLxWJs3rwZBw8e5NpWr16Nzz//HGlpaZBIJDh06NCMvW1paSmCgoIQFRUFoVAIPz8/FBYWgv3/\n",
       "G4+ZmZl49tlnERYWBrlcjvHxcQQGBuL+++/nXiMzMxOHDx9GeXk5vL29IRaLERkZibGxMe6DJ7Va\n",
       "jerqarzyyit3t4GNjMcYfcfzXnDlyhU8/vjjqKurm3X6MV8ajQYuLi4oKCjAxo0b5/x7O3bsgFQq\n",
       "xZ49e4xS13xRyBew0dFR/PLLL4iJicH169eRnZ2NoqIidHZ2QiKRmLs8g6HpygKm1WqRl5cHR0dH\n",
       "yOVyNDQ0oKqqyqoCDtCenCwAtCcnVo9CTqyeUUO+Y8cOeHl5gcfj4a+//jLmUITMyqghf/7553H6\n",
       "9Gmdj44JMTWjhjw8PBxubm539bsffvihgashC5VFnLsyOTk54ySgCxcumKkaYm0sIuT79u2b8WnZ\n",
       "k08+ecu+Xm/+MOvrdO1/1qB16WO2uu6mptuto6HGsESG3IY3s4ijK5mZmRgeHtZ5BAcHm7ssYiUs\n",
       "Yk8uEAggEAh02mxtbc1UDbE2eu/Jz549O6c2ANi2bRvc3NygUqkQExMDHx8f/SskZJ70DnlycvKc\n",
       "2gDg4MGDUKlU0Gg06O/v576tQogpzXm6MjAwgIsXL2J8fBwtLS3cOcnDw8O4evWq0QokZL7mHPKy\n",
       "sjLk5+ejr68P69at49rFYjEyMjKMUhwhhjDnkKelpSEtLQ15eXnIysoyZk2EGJTeR1eysrKg1Wpx\n",
       "8eJFaDQart1Y31YhZL70DnlxcTFSU1OxaNEi2NhMv2/l8XgYGBgweHGEGILeIc/NzUVjYyP8/PyM\n",
       "UQ8hBqf3IURHR0cKOLmn6B3yuLg45OfnY2BgACMjI9yDEEul93Rl165dAID09HTweDwwxsDj8TA1\n",
       "NWXw4ggxBL1DrtVqjVEHIUZjEWchEmJMeu/JbWxswOPxZrTTdIVYKr1DPjo6yv08Pj6Ow4cPU8CJ\n",
       "RdN7umJnZ8c9HB0dkZ6ejqNHjxqjNkIMYt5z8tbWVgwODhqiFkKMQu/pilQq5ebk/5278tFHHxm2\n",
       "KkIMSO+Q33yRID6fD2dnZ/qqGrFoeofc09MT165d48IulUrx4IMPGrouQgxG75DX19cjPj6euydN\n",
       "f38/KioqZr09HyHmpnfI/zuaEhoaCmA69K+99hp3L0pCLI3eR1fGx8e5gAPAqlWrMDExYdCiCDEk\n",
       "vUNub2+PU6dOccs//fQT7OzsDFoUIYak93SloKAACoWCO6Ki1Wot9p7qhAB3EfK+vj40NTWhv78f\n",
       "APDQQw+hoaHB4IURYih6T1eysrLg5OSEgIAABAQEwNHRkb69TyzavD/Wpy9MEEund8iFQiHq6+u5\n",
       "5d9++w1CodCgRRFiSHrPyQ8cOID169fD398fANDR0YHvvvvuln07Ojrw0ksvYXBwEGKxGEVFRVi6\n",
       "dOn8KiZET3qHPCQkBOfPn8eZM2cATB8nn+3mptu2bcPWrVuRnJyMo0ePIjk5GY2NjfMqmBB93dWc\n",
       "XCqVIjY2FrGxsbMGfGBgAE1NTUhKSgIAxMfHo6enh65sS0zOaBfh7+npgYuLC/j86SF4PB48PDyg\n",
       "VCpnXKf8VvcMojezxFCMdtvxP//8E4mJiWhra+PagoODsX//fjz11FM6fXNycmbcM8jf3x/PPPOM\n",
       "MUozmampKTQ0NCA4OHhBn45srO3g6emJtLS0O/YzWsgHBgbg4+ODy5cvg8/ngzEGFxcXnD59ek57\n",
       "8lvdYuVeMzIyArFYjOHhYYhEInOXYzbm3g5GuySFTCbDE088gSNHjgAAKioq4ObmdstbqggEAohE\n",
       "Ip3HvR5wYjmMticHgLa2NiQnJ+PSpUsQiUT48ssvsWzZMmMNZ3HMvQezFObeDka9+5ufnx93qJEQ\n",
       "c6EraBmRQCBAdnb2gp96mXs7GHW6QogloD05sXoUcmL1KOTE6lHIjeCHH35AUFAQBAIBXn31VZ3n\n",
       "tFotUlNT4e3tDR8fH3z88cfmKdIM+vv7oVAosHz5cjz66KPIz883ybhGPYS4UPn6+uKLL77At99+\n",
       "i7GxMZ3njhw5gnPnzqG9vR3Dw8MIDAzE2rVrF8QpyOnp6ViyZAmOHTuGq1evIjQ0FKGhoVixYoVR\n",
       "x6U9uRE88sgjeOyxx7iT025WXl6OLVu2wNbWFg4ODkhISEBZWZkZqjS9v//+G7GxsQCmr44cHh6O\n",
       "kpISo49LITcxpVIJT09PbtnLywtKpdKMFZlOUFAQSktLodVqoVarUV1dja6uLqOPS9OVuxASEoKO\n",
       "jo5bPtfc3Ax3d3cTV2QZ7rRd3nvvPbz++usIDAyETCZDREQE1Gq10euikN+F+Zyq4OHhge7ubu7a\n",
       "kV1dXVZzy/a5bJeioiLu5+3bt5vkvQhNV0zshRdeQGFhIaampnD58mWUl5cjISHB3GWZxKVLl3Dj\n",
       "xg0A03v248ePIyUlxfgDM2Jwp06dYnK5nAmFQmZvb8/kcjmrrKxkjDGm0WhYSkoKW7x4MXv44YdZ\n",
       "fn6+mas1naqqKubj48P8/f3ZihUrWG1trUnGpXNXiNWj6QqxehRyYvUo5MTqUciJ1aOQE6tHISdW\n",
       "j0JOrB6FnFg9CjmxehRyYvUo5MTq/Q/xheyzrcBF7wAAAABJRU5ErkJggg==\n",
       "\">\n",
       "        \n",
       "      </div>\n",
       "      <script></script>\n",
       "      <script type=\"text/javascript\">\n",
       "        (() => {\n",
       "          const chartElement = document.getElementById(\"chart-fb6c792d-ade9-4658-a189-45879dcadf6f\");\n",
       "          async function getCodeForChartHandler(event) {\n",
       "            const chartCodeResponse =  await google.colab.kernel.invokeFunction(\n",
       "                'getCodeForChart', [\"chart-fb6c792d-ade9-4658-a189-45879dcadf6f\"], {});\n",
       "            const responseJson = chartCodeResponse.data['application/json'];\n",
       "            await google.colab.notebook.addCell(responseJson.code, 'code');\n",
       "          }\n",
       "          chartElement.onclick = getCodeForChartHandler;\n",
       "        })();\n",
       "      </script>\n",
       "      <style>\n",
       "        .colab-quickchart-chart-with-code  {\n",
       "            display: block;\n",
       "            float: left;\n",
       "            border: 1px solid transparent;\n",
       "        }\n",
       "\n",
       "        .colab-quickchart-chart-with-code:hover {\n",
       "            cursor: pointer;\n",
       "            border: 1px solid #aaa;\n",
       "        }\n",
       "      </style>"
      ],
      "text/plain": [
       "import numpy as np\n",
       "from google.colab import autoviz\n",
       "df_6931137707896255445 = autoviz.get_registered_df('df_6931137707896255445')\n",
       "\n",
       "def histogram(df, colname, num_bins=20, figsize=(2, 1)):\n",
       "  from matplotlib import pyplot as plt\n",
       "  _, ax = plt.subplots(figsize=figsize)\n",
       "  plt.hist(df[colname], bins=num_bins, histtype='stepfilled')\n",
       "  plt.ylabel('count')\n",
       "  plt.title(colname)\n",
       "  ax.spines[['top', 'right',]].set_visible(False)\n",
       "  plt.tight_layout()\n",
       "  return autoviz.MplChart.from_current_mpl_state()\n",
       "\n",
       "chart = histogram(df_6931137707896255445, *['Tdew (degC)'], **{})\n",
       "chart"
      ]
     },
     "metadata": {},
     "output_type": "display_data"
    },
    {
     "data": {
      "text/html": [
       "<h4 class=\"colab-quickchart-section-title\">2-d distributions</h4>\n",
       "<style>\n",
       "  .colab-quickchart-section-title {\n",
       "      clear: both;\n",
       "  }\n",
       "</style>"
      ],
      "text/plain": [
       "<google.colab._quickchart_helpers.SectionTitle at 0x793f2776d690>"
      ]
     },
     "metadata": {},
     "output_type": "display_data"
    },
    {
     "data": {
      "text/html": [
       "      <div class=\"colab-quickchart-chart-with-code\" id=\"chart-18a6042b-4b69-43bd-9fb9-e87e61eeb6be\">\n",
       "        <img src=\"data:image/png;base64,iVBORw0KGgoAAAANSUhEUgAAA+MAAAD2CAYAAAC9d1ZlAAAAOXRFWHRTb2Z0d2FyZQBNYXRwbG90\n",
       "bGliIHZlcnNpb24zLjcuMSwgaHR0cHM6Ly9tYXRwbG90bGliLm9yZy/bCgiHAAAACXBIWXMAAA9h\n",
       "AAAPYQGoP6dpAABpzUlEQVR4nO3deVQUV/o38G/TQKNsRhTQKCICQXZFECRGQU0UDS7Rn2vctxBj\n",
       "XGKEGSWuQcfdGKNRoxOJBkRHTWIwgqJEE8ANNI5GVMQVEJRNGruh3j881jst3QgINMv3c04d6bq3\n",
       "bj1VWHQ9tdwrEQRBABERERERERHVGh1tB0BERERERETU2DAZJyIiIiIiIqplTMaJiIiIiIiIahmT\n",
       "cSIiIiIiIqJaxmSciIiIiIiIqJYxGSciIiIiIiKqZUzGiYiIiIiIiGoZk3EiIiIiIiKiWsZknIiI\n",
       "iIiIiKiWMRknIiIiIqJqER0djS5dusDV1RXe3t5ITk5WKT9+/DikUinWr1+vsQ2JRAIXFxe4u7vD\n",
       "3d0d8fHxNRw1kXZIBEEQtB0EERERERHVb48fP4atrS1OnToFJycnxMfH46OPPsLly5cBALm5uejT\n",
       "pw8sLCzQq1cvzJo1S207EokEjx8/RrNmzWoveCIt0Oqd8aysLLz//vtwdXVFx44dMW7cOBQVFamt\n",
       "m5mZib59+8LOzg7Ozs44depUhcqIiIiIiKjm3bhxA2ZmZnBycgIAdO/eHenp6Th//jwAYMaMGViw\n",
       "YAHMzMy0GSZRnaHVZHz58uWws7NDSkoKLl++jIyMDOzcuVNt3eDgYHh7e+P69evYuXMnRo0aBYVC\n",
       "8cqyitiwYUO1bA8R1Q885okaFx7zRLXDzs4O2dnZOHPmDADg8OHDyM/PR1paGqKioqCjo4PAwMAK\n",
       "tdWrVy+4ublhzpw5KCws1FivuLgYeXl5KtOaNWuqZXuIappWk3GJRIL8/HyUlpbi2bNnePr0Kdq0\n",
       "aaO2bmRkJKZPnw4A8PT0ROvWrXHy5MlXllXE7du3X3NLiKg+4TFP1LjwmCeqHaampoiKikJISAg8\n",
       "PDzw22+/wdHREQUFBVi2bFmFL4zdvn0b586dw5kzZ5CVlYV58+ZprBsWFgZTU1OVKSoqqro2iahG\n",
       "6Wpz5QsXLsQHH3wAS0tLFBUVYdSoUWqvlmVnZ0OhUMDS0lKcZ21tjfT09HLL1CkuLkZxcbHKvJKS\n",
       "kmraIiIiIiKixsvPzw9+fn4Anp93W1pa4vHjx3jw4AHc3d0BAI8ePcLhw4eRlZWF5cuXl2nDysoK\n",
       "AGBoaIigoCBMnTpV4/pCQkIwZ84clXkLFy6spq0hqlk1emfcx8cHLVq0UDvduXMHP/74IxwdHfHg\n",
       "wQPcv38ff//9N7Zv316TIam9epaYmFij6yQiIiIiagwePHgg/rx06VL4+/vj008/RUZGBtLS0pCW\n",
       "loahQ4ciNDRUbSL++PFjPH36FABQWlqKiIgIdOrUSeP6ZDIZTExMVCapVFr9G0ZUA2o0Gf/jjz/w\n",
       "6NEjtVPbtm2xefNmjB49GlKpFMbGxhg6dChOnDhRph0zMzPo6uri4cOH4ry0tDRYWVmVW6ZOSEgI\n",
       "cnNzVSYvL6/q33giIiIiokYmNDQUDg4OsLW1xe3bt7Fjx45XLrNlyxaEhoYCAK5evQpvb2+4ubnB\n",
       "xcUF2dnZ5Q6DRlSfafUxdRsbG0RHR6Nbt25QKBQ4evQofHx81NYdNmwYtmzZgkWLFiEpKQn37t1D\n",
       "jx49Xln2MplMBplMpjKPV8+IiIiIiF7ftm3bXlln165dKp9f9P0EPH+yNiUlpbrDIqqTtNqB24YN\n",
       "G5CQkAAXFxe4ubmhZcuWmD17NgDg7NmzCAgIEOuuXLkSZ86cgZ2dHcaPH4/w8HDo6em9sux1KUpK\n",
       "kVP4DIqS0mppj4iIGgd+fxA1LjzmiRqX6jjmtXpnvH379jh69Kjasi5duuDIkSPiZwsLC/z2229q\n",
       "65ZX9jpSMwuw7dRNZBUUo6WxDFO628DW3Kja10NERA0Lvz+IGhce80SNS3Ud81q9M16XKUpKse3U\n",
       "TdzIKoCBnhQ3MguwLf4mr3YSEVG5+P1B1LjwmCdqXKrzmNfqnfG6LF+uRFZBMcxNDGDa5Pkj71n5\n",
       "xciXK9HcUF/L0RERUV3F7w+ixoXHPFHjUp3HPO+Ma2BsoIuWxjJk5smRW6RAZp4cLY1lMDbg9Qsi\n",
       "ItKM3x9EjQuPeaLGpTqPeSbjGuhJdTCluw06mBtBrihBB3MjTOluAz0pdxkREWnG7w+ixoXHPFHj\n",
       "Up3HPC/ZlcPW3AjLBjkjX66EsYEu/6gSEVGF8PuDqHHhMU/UuFTXMc9k/BX0pDp834eIiCqN3x9E\n",
       "jQuPeaLGpTqOeV62IyIiIiIiIqplTMaJiIiIiIiIahmTcSIiIiIiIqJaxmSciIiIiIiIqJYxGSci\n",
       "IiIiIiKqZUzGiajS5HI5Bg0aBHt7e7i5uaFPnz5ITU0FAAiCgEWLFsHe3h4uLi7w8/MTl+vZsyfa\n",
       "t28Pd3d3uLu7Y926dWrbv3TpEt555x04ODjA2dkZEydORFFRkVgukUjg4uIithMfH1+zG0xERERE\n",
       "VM04tBkRVcnUqVPRr18/SCQSbNq0CZMnT0ZcXBw2btyIlJQUXL58Gfr6+nj48KHKcuvWrcOgQYPK\n",
       "bdvAwACbNm2Cq6srSkpKMGrUKKxcuRKLFi0S68THx6NZs2bVv2FERERERLWAyTgRVZqBgQECAgLE\n",
       "z97e3li9ejUAYNWqVTh+/Dj09Z+Pu2hpaVnp9u3s7MSfpVIpPD09cfny5deMmoiIiIio7uBj6kT0\n",
       "2jZs2ICBAwciLy8PGRkZOHToELp27YquXbsiIiJCpW5wcDBcXFwwfPhw3Lx585VtFxYWYvv27Rg4\n",
       "cKDK/F69esHNzQ1z5sxBYWGhxuWLi4uRl5enMpWUlFRtQ4mIiIiIqgmTcSJ6LV9++SVSU1MRFhYG\n",
       "pVIJpVKJoqIiJCQkICIiArNnz0ZycjIAYPfu3bh69SpSUlLQvXt3DBgwoNy2nz17huHDh+Pdd9/F\n",
       "4MGDxfm3b9/GuXPncObMGWRlZWHevHka2wgLC4OpqanKlJiYWD0bT0RERERURUzGiajKVq9ejQMH\n",
       "DuDXX39F06ZN0bx5cxgZGWHMmDEAAGtra/j6+iIpKQkA0LZtWwDPO2CbMWMGbt68iezsbLVtKxQK\n",
       "DB8+HK1atcKGDRtUyqysrAAAhoaGCAoKKrcDt5CQEOTm5qpMXl5er73tRERERESvg8k4EVXJ2rVr\n",
       "sXfvXhw7dkylI7WRI0ciOjoaAJCTk4PExES4urpCqVQiIyNDrLd//35YWFjAzMysTNtKpRIjRoxA\n",
       "8+bN8e2330IikYhljx8/xtOnTwEApaWliIiIQKdOnTTGKZPJYGJiojJJpdLX3Xwieg0ZGRkYMmQI\n",
       "XF1d0bFjR6xfv15j3czMTPTt2xd2dnZwdnbGqVOnai9QIiKiGsQO3Iio0u7evYu5c+fCxsZGHLpM\n",
       "JpMhISEBYWFhmDBhAjZv3gwAmD9/Pry8vFBYWIj+/fujuLgYOjo6aNGiBQ4fPiy2GRoaitatW2P6\n",
       "9OmIiIjAgQMH4OrqKibavr6++Prrr3H16lVMmzYNEokESqUSnTt3LnPnnIjqtjlz5sDR0REHDhxA\n",
       "YWEhfH194evrC09PzzJ1g4OD4e3tjejoaCQlJWHw4MG4desW9PT0tBA5ERFR9dFqMp6VlYWJEyfi\n",
       "9u3bUCgU8PLywpYtW9CkSZMydSdMmIDTp0+jSZMmMDIywvr168Uv7fHjx+PYsWNo2bIlAKBPnz5Y\n",
       "tWpVrW4LUWPSpk0bCIKgtszMzEwlyX7B0NAQZ8+e1djmkiVLxJ9Hjx6N0aNHq63n4+ODlJSUSkZM\n",
       "RHVJcnIyPv74YwDP/za888472L17t9pkPDIyEqmpqQAAT09PtG7dGidPnkTv3r1rNWYiIqLqptXH\n",
       "1JcvXw47OztxTOKMjAzs3LlTbd3BgwfjypUrSE5ORkhICIYNG6ZSPm/ePFy8eBEXL15kIk5ERFSH\n",
       "eXh4YM+ePSgtLUVWVhaOHj2KtLS0MvWys7OhUChUhki0trZGenq6xrY5ggIREdUXWk3GJRIJ8vPz\n",
       "UVpaimfPnuHp06do06aN2rqBgYHQ1X1+I9/b2xv37t2DUqmszXCJiIioAnx8fNCiRQu10507d7Bm\n",
       "zRoUFBSgU6dOGDVqFHr27Cl+x78ujqBARET1hVaT8YULFyI1NRWWlpYwNzdHx44dERgY+MrlNmzY\n",
       "gICAAJUv7g0bNsDV1RUDBgzAxYsXNS7LK+ZEREQ1648//sCjR4/UTm3btkWLFi2wa9cuJCcn49ix\n",
       "Y5BIJHBycirTjpmZGXR1dfHw4UNxXlpamjiigjocQYGIiOqLGk3GX3Vl/Mcff4SjoyMePHiA+/fv\n",
       "4++//8b27dvLbTM8PByRkZH49ttvxXnLly/HjRs3kJKSgkmTJqFfv34oKChQuzyvmBMREWnXi8fP\n",
       "AeDChQs4ePAggoKC1NYdNmwYtmzZAgBISkrCvXv30KNHD41tcwQFIiKqL2o0GX/VlfHNmzdj9OjR\n",
       "kEqlMDY2xtChQ3HixAmN7UVERGDx4sU4duwYLCwsxPlvvvkmdHSeb8rgwYNhYmKCa9euqW2DV8yJ\n",
       "iIi0KzExEY6OjujYsSOmTZuGyMhItGrVCgBw9uxZBAQEiHVXrlyJM2fOwM7ODuPHj0d4eDh7Uici\n",
       "ogZBq72p29jYIDo6Gt26dYNCocDRo0fh4+Ojtm5kZCQWLFiAmJiYMo+n3b17V3zX/M8//0R2djZs\n",
       "bW3VtiOTySCTyVTm8Yo5ERFR7enXrx+uX7+utqxLly44cuSI+NnCwgK//fZbbYVGRERUa7SajG/Y\n",
       "sAHTp0+Hi4sLSkpK4OPjg9mzZwN4fmU8NDRU/EIePXo0LC0tMXDgQHH52NhYmJmZYfz48cjIyIBU\n",
       "KkWTJk2wb98+mJqaamWbiIiIiIiIiF5Fq8l4+/btcfToUbVlL18Zf/FumToxMTHVHhsRERERERFR\n",
       "TdFqb+pEREREREREjRGTcSIiIiIiqhbR0dHo0qULXF1d4e3tjeTkZJXy48ePQyqVYv369RrbSEhI\n",
       "gJubG+zt7eHv74979+7VcNRE2sFknIiIiIiIXtvjx48xevRo/Pvf/0ZKSgpWrVqF0aNHi+W5ubkI\n",
       "Dg5WGTHhZaWlpRg9ejTWr1+Pv//+GwEBAZg1a1YtRE9U+5iMExERERHRa7tx4wbMzMzg5OQEAOje\n",
       "vTvS09Nx/vx5AMCMGTOwYMECmJmZaWzj3Llz0NXVhZ+fHwBg2rRp+OmnnyCXy2t+A4hqGZNxIiIi\n",
       "IiJ6bXZ2dsjOzsaZM2cAAIcPH0Z+fj7S0tIQFRUFHR0dBAYGlttGeno62rVrJ342NjaGiYkJ7t+/\n",
       "r7Z+cXEx8vLyVKaSkpLq2yiiGqTV3tSJiIiIiKhhMDU1RVRUFEJCQlBQUAAfHx84OjqioKAAa9eu\n",
       "RVxcXLWvMywsDIsXL1aZ5+3tXe3rIaoJTMaJiIiIiKha+Pn5iY+YFxcXw9LSEo8fP8aDBw/g7u4O\n",
       "AHj06BEOHz6MrKwsLF++XGV5Kysr3L59W/ycn5+P3NxctG7dWu36QkJCMGfOHJV5CxcurMYtIqo5\n",
       "TMaJiIiIiKhaPHjwAK1atQIALF26FP7+/vj000/x6aefinXGjx8Pd3d3tR2zeXh4QKFQ4MSJE/Dz\n",
       "88PWrVvx/vvvw8DAQO36ZDIZZDKZyjypVFp9G0RUg5iMExERERFRtQgNDUV8fDyUSiV8fHywY8eO\n",
       "Vy6zZcsW3L9/H0uWLIGOjg7Cw8Mxbdo0yOVytG7dGrt3766FyIlqH5NxIqoSuVyOESNG4MqVK2jS\n",
       "pAnMzc3xzTffwNbWFoIgYPHixdizZw9kMhlatGiBEydOAAB69uyJ27dvw9TUFAAwbtw4zJ49W+06\n",
       "fv75Z3z22WcoKSmBi4sLdu3aBRMTk1eWERERkXZs27btlXV27dql8nn69Okqn318fJCSklKdYRHV\n",
       "SexNnYiqbOrUqbh27RqSk5MxcOBATJ48GQCwceNGpKSk4PLly7h06RL27t2rsty6detw8eJFXLx4\n",
       "UWMiXlBQgEmTJuHgwYO4fv06WrdujaVLl76yjIiIiIioPmAyTkRVYmBggICAAEgkEgDPey5NS0sD\n",
       "AKxatQorVqyAvr4+AMDS0rLS7f/666/o1KkTHBwcAABBQUFiUl9eGRERERFRfcBknIiqxYYNGzBw\n",
       "4EDk5eUhIyMDhw4dQteuXdG1a1dERESo1A0ODoaLiwuGDx+Omzdvqm3v5XFGra2t8eDBAyiVynLL\n",
       "XsbxR4mIiIioLuI740T02r788kukpqYiNjYWcrkcSqUSRUVFSEhIQFpaGrp16wYHBwe4ublh9+7d\n",
       "aNu2LQRBwNdff40BAwbgypUrNRYbxx8lIiIiorqId8aJ6LWsXr0aBw4cwK+//oqmTZuiefPmMDIy\n",
       "wpgxYwA8v2vt6+uLpKQkAEDbtm0BABKJBDNmzMDNmzeRnZ1dpt2XxxlNS0tDq1atoKurW27Zy0JC\n",
       "QpCbm6syeXl5Ves+ICIiIiKqLCbjRFRla9euxd69e3Hs2DE0a9ZMnD9y5EhER0cDAHJycpCYmAhX\n",
       "V1colUpkZGSI9fbv3w8LCwuYmZmVabtv3744f/48rl69CgDYvHkzRowY8cqyl8lkMpiYmKhMHH+U\n",
       "iIiIiLSNj6kTUZXcvXsXc+fOhY2NDfz8/AA8T3wTEhIQFhaGCRMmYPPmzQCA+fPnw8vLC4WFhejf\n",
       "vz+Ki4uho6ODFi1a4PDhw2KboaGhaN26NaZPnw5jY2Ns374dgwYNglKphLOzM/79738DQLllRERE\n",
       "RET1AZNxIqqSNm3aQBAEtWVmZmYqSfYLhoaGOHv2rMY2lyxZovI5MDAQgYGBauuWV0ZEREREVNfx\n",
       "MXUiIiIiIiKiWqbVZDwrKwvvv/8+XF1d0bFjR4wbNw5FRUVq6/bs2RPt27eHu7s73N3dsW7dOrEs\n",
       "MzMTffv2hZ2dHZydnXHq1Kna2gQiIiIiIiKiStNqMr58+XLY2dkhJSUFly9fRkZGBnbu3Kmx/rp1\n",
       "63Dx4kVcvHgRs2fPFucHBwfD29sb169fx86dOzFq1CgoFIra2AQiIiIiIiKiStNqMi6RSJCfn4/S\n",
       "0lI8e/YMT58+RZs2bSrdTmRkJKZPnw4A8PT0ROvWrXHy5MnqDpeIiIiIiIioWmg1GV+4cCFSU1Nh\n",
       "aWkJc3NzdOzYsdwOmYKDg+Hi4oLhw4fj5s2bAIDs7GwoFApYWlqK9aytrZGenq62jeLiYuTl5alM\n",
       "JSUl1bthREREREREROWo0WTcx8cHLVq0UDvduXMHP/74IxwdHfHgwQPcv38ff//9N7Zv3662rd27\n",
       "d+Pq1atISUlB9+7dMWDAgCrFFBYWBlNTU5UpMTHxdTaTiIiIiIiIqFJqNBn/448/8OjRI7VT27Zt\n",
       "sXnzZowePRpSqRTGxsYYOnQoTpw4obattm3bAnj+aPuMGTNw8+ZNZGdnw8zMDLq6unj48KFYNy0t\n",
       "DVZWVmrbCQkJQW5ursrk5eVV/RtPREREREREpIFWH1O3sbFBdHQ0AEChUODo0aNwdnYuU0+pVCIj\n",
       "I0P8vH//flhYWMDMzAwAMGzYMGzZsgUAkJSUhHv37qFHjx5q1ymTyWBiYqIySaXS6t40IiIiIiIi\n",
       "Io10tbnyDRs2YPr06XBxcUFJSQl8fHzEXtLPnj2L0NBQHDlyBMXFxejfvz+Ki4uho6ODFi1a4PDh\n",
       "w2I7K1euxIcffgg7Ozvo6+sjPDwcenp62tosIiKieu3Zs2fQ19fXdhhEREQNmlaT8fbt2+Po0aNq\n",
       "y7p06YIjR44AAAwNDXH27FmN7VhYWOC3336rkRiJiIgag7i4OGzZsgWxsbHIzs6Grq4unJ2dMXTo\n",
       "UEyfPh3NmzfXdohEREQNilYfUyciIiLtCwgIwMaNGzFkyBCcP38excXFyM7OxpYtW6BUKuHv7y++\n",
       "VkZERETVQ6t3xomIiEj7Vq5cCRcXF5V5enp68PLygpeXF0JCQnDr1i0tRUdERNQw8c44ERFRI+fo\n",
       "6IinT5+Wmf/06VOUlpZCT08P9vb2WoiMiIio4WIyTkRE1MiFhIQgPDy8zPwffvgBISEhWoiIiIio\n",
       "4WMyTkRE1MjFxsZi0qRJZeZPnDgRv/zyixYiIiIiaviYjBMRETVypaWlkEqlZeZLpVLo6PBUgYiI\n",
       "qCbwG5aIiKiRKygoQHFxcZn5xcXFat8lJyIiotfHZJyIKk0ul2PQoEGwt7eHm5sb+vTpg9TUVACA\n",
       "IAhYtGgR7O3t4eLiAj8/vzLLHz9+HFKpFOvXr1fb/qVLl+Du7i5O1tbWKmMcW1tb46233hLLIyIi\n",
       "amQ7iRqLAQMGYObMmVAqleI8pVKJ2bNno3///lqMjIiIqOHi0GZEVCVTp05Fv379IJFIsGnTJkye\n",
       "PBlxcXHYuHEjUlJScPnyZejr6+Phw4cqy+Xm5iI4OBgBAQEa23ZxccHFixfFzzNmzIBEIlGpExER\n",
       "AXd39+rcJKJGa9myZejfvz9sbGzg4eEBADh//jzat29fI++MZ2Rk4KOPPkJqaioUCgWmTZuGWbNm\n",
       "qa3bs2dP3L59G6ampgCAcePGYfbs2dUeExERUW1jMk5ElWZgYKCSTHt7e2P16tUAgFWrVuH48ePQ\n",
       "19cHAFhaWqosO2PGDCxYsAAHDhyo0Lrkcjl++OEHnDhxopqiJ6KXGRoaIi4uDrGxsTh//jwA4JNP\n",
       "PoG/v3+NrG/OnDlwdHTEgQMHUFhYCF9fX/j6+sLT01Nt/XXr1mHQoEE1EgsREZG2VPgx9Rs3biA4\n",
       "OBheXl5o3bo1OnTogCFDhmDPnj0qj7URUeOzYcMGDBw4EHl5ecjIyMChQ4fQtWtXdO3aVeUR8qio\n",
       "KOjo6CAwMLDCbR84cAA2NjZl7oKPHTsWLi4umDRpErKysjQuX1xcjLy8PJWppKSk0ttI1Bj06tUL\n",
       "8+bNw7x582osEQeA5ORk8YKeoaEh3nnnHezevbvG1kdERFQXVejO+LRp03D+/HkMGzYMa9asgaWl\n",
       "JeRyOf773/8iOjoa//rXv7BlyxZ4e3vXdLxEVEPy8/MRHx+Pu3fvokmTJnBzc4Orq+srl/vyyy+R\n",
       "mpqK2NhYyOVyKJVKFBUVISEhAWlpaejWrRscHBxgYWGBZcuWIS4urlJx7dixo8yQS6dOnYKVlRUU\n",
       "CgUWLFiAcePG4ciRI2qXDwsLw+LFi1Xm8W8VkXrt27cv80pIs2bN4OPjg6VLl6r03fA6PDw8sGfP\n",
       "Hnh7eyM7OxtHjx7FW2+9pbF+cHAwFi5cCEdHR4SFhcHGxkZj3eLi4jKd0fECHBER1UUSQRCEV1X6\n",
       "5Zdfyu3AJTs7Gzdu3ICXl1e1Bldb5syZg7Vr12o7DCKtuH37NkJDQ/Hrr7/CxcVF5WJbaWkpPv/8\n",
       "c0ycOFHtsqtXr8aPP/6ImJgYNGvWDABgbGyM5ORk8WR52LBheO+999CqVStMnDgRTZo0AQA8evQI\n",
       "+vr6+Oijj7B8+XK17d+6dQvOzs64d++e2P7LHjx4AHt7e+Tn56stV3divnDhQmzYsOFVu4ao0Vm4\n",
       "cCHu3bsnXgDbuXMnmjVrBkEQcOfOHURGRlaoHR8fH1y/fl1t2YULF9CkSRN89tlnuHDhAszNzWFj\n",
       "Y4OsrCy1r6/cuXMHbdu2hSAI+Prrr7F582ZcuXJF47oXLVqk9gLcH3/8UaHYiej1REdHY8GCBXj2\n",
       "7BmaNm2KrVu3ws3NDRMmTMC5c+ego6MDPT09rFixAr169SqzfFpaGjp06AAXFxdx3v79+9GhQ4cK\n",
       "x8Bze6o3BBJmz56t7RCItKZ79+7CoUOHBIVCUabs1q1bQnBwsPDVV1+VKVuzZo3QuXNnIScnR2X+\n",
       "lClThK+//loQBEHIzs4WrKyshISEhDLLjxs3Tli3bl25sS1YsEAYPXq0yryCggLh8ePHKnF07969\n",
       "3HZexmOeSD0vLy+Vz6WlpYKnp6cgCILQsWPHGlvvtGnThAULFlSorkwmEx49eqSxXC6XC7m5uSrT\n",
       "zJkzqytUIipHTk6O0Lx5c+Hy5cuCIAjCqVOnBCcnJ0EQBJXv7vPnzwtvvPGGUFJSUqaNW7duCaam\n",
       "pq8VB7/nq9czZYmQXVAsPFOW/X3R66nQY+orVqyAoaEhPvnkE5X5X331FYqKivD555/XyIUCIqp5\n",
       "p06d0ljWunVrhIWFlZl/9+5dzJ07FzY2NuLQZTKZDAkJCQgLC8OECROwefNmAMD8+fMr9NTMli1b\n",
       "cP/+fSxZsgQAUFpail27duH7779XqZeRkYEPPvgAJSUlEAQBNjY2ZeoQUdXk5OTg6dOnaNq0KQDg\n",
       "6dOnePLkCYDnHTdWl+zsbJiYmEBPTw8XLlzAwYMHceHChTL1lEolsrOzYWFhAeD53TELCwuYmZlp\n",
       "bFsmk0Emk6nMk0ql1RY7EWl248YNmJmZwcnJCQDQvXt3pKen4/z58+jcubNYLzc3V1shUiWlZhZg\n",
       "26mbyCooRktjGaZ0t4GtuZG2w2owKpSMR0VF4ffffy8zf/LkyfDx8WEyTlSPrV+/Xu2QQsXFxRg0\n",
       "aBB+/fXXMmVt2rSBoOENFzMzMxw+fPiV6921a5fK5+nTp6t81tHRwZ07d8osZ2Njo/aknYhe36hR\n",
       "o+Dt7Y1hw4YBeJ78jhw5EgUFBbC2tq629SQmJmLmzJnQ1dWFsbExIiMj0apVKwDA2bNnERoaiiNH\n",
       "jqC4uBj9+/dHcXExdHR00KJFiwr9fSEi7bCzs0N2djbOnDmDbt264fDhw8jPz0daWho6d+6M4OBg\n",
       "7Nu3D48fP8b+/fuho6O+L+nCwkJ4enqipKQEgwYNwj//+U+NF9XYT0TNUZSUYtupm7iRVQBzEwPc\n",
       "yCzAtvibWDbIGXrSCvcDTuWoUDIuCILaK+JNmjTReEJORPXD1q1b0bx5c4wdO1ac9+zZMwwePFgc\n",
       "15eIGofFixfDy8sLx48fBwAsX75c7DOmosMRVkS/fv00vlPepUsXsUNGQ0NDnD17ttrWS0SVV5kO\n",
       "Xk1NTREVFYWQkBAUFBTAx8cHjo6O0NV9nnKsWLECK1asQExMDD7//HOcPn1aHAr1hVatWuHevXsw\n",
       "NzdHTk4Ohg8fjjVr1mi8+ceOWmtOvlyJrIJimJsYwLSJHgAgK78Y+XIlmhvqv2JpqogKXdJ48uSJ\n",
       "2qS7tLRUY6dJRFQ/HD16FIsWLcJPP/0EAFAoFPjggw9gZGSEPXv2aDk6Iqpt7777LoKCgrBmzZpy\n",
       "O28loobt9u3bGDduHDp06IA1a9bg5MmTOHjwIEaMGAEHBwd89913apfz8/PDyZMnce7cOaxZswb3\n",
       "79+Ho6OjSp3evXsjPz8fly5dKrO8TCaDubk5AKB58+aYOHEi4uPjNcYZEhKC3Nxclam+dipd1xgb\n",
       "6KKlsQyZeXLkFimQmSdHS2MZjA0qdD+XKqBCyXiPHj2wbNmyMvPDwsLQo0ePKq88KysL77//Plxd\n",
       "XdGxY0eMGzcORUVFaut27doV7u7ucHd3h7OzMyQSCVJSUgAA48ePx5tvvimWz5s3r8oxETU2VlZW\n",
       "OHLkCD7++GMcO3YMQ4cOhUwmw969ezU+PkZEDVNcXBzatWsn9gWRlJSEMWPGaDkqItKGDz/8EB98\n",
       "8AHu37+P2NhY/PDDD9i/fz+uXLmC6OhoXL9+HZs2bSqz3IMHD8Sfly5dCn9/f7Rr1w6pqani/MTE\n",
       "RGRmZqodpjAzMxMKhQLA80fQDxw4gE6dOmmMUyaTwcTERGViPxHVQ0+qgyndbdDB3AhyRQk6mBth\n",
       "SncbPqJejSp0WWPlypXo0aMHfvnlF/j4+AAA/vzzTzx58gQnT56s8sqXL18OOzs7/PTTTygpKUH/\n",
       "/v2xc+dOBAUFlambkJAg/hwVFYXFixerPCIzb948te+9EtGrOTg44ODBg+jVqxd69eqFiIgIfpER\n",
       "NULBwcGIj4/H0KFDAQCenp7so4GokSqvg1dra2u1HbwCQGhoKOLj46FUKuHj44MdO3ZAoVBg3Lhx\n",
       "yM3Nha6uLgwNDREVFYU33nhDXKZ169aYPn06fv/9d4SGhkIqlUKpVMLf3x///Oc/a2Qb6dVszY2w\n",
       "bJAz8uVKGBvoMhGvZhVKxlu2bInz58/jhx9+wPnz5wEAU6ZMwciRI8Uxg6tCIpEgPz8fpaWlePbs\n",
       "GZ4+fYo2bdq8crkdO3aIY6AS0et54403IJFIADzvOfnYsWNo2bIlBEGARCJBTk6OliMkotpSUlJS\n",
       "Zizfl9/nJKLG6+TJkygoKEDfvn01XrTftm2b2vmnT5/W2O6LkVQAYMiQIRgyZMjrBUrVSk+qw3fE\n",
       "a0iFH/g3MDDApEmTqjUJXrhwIT744ANYWlqiqKgIo0aNQmBgYLnL3LlzBydPnsTu3btV5m/YsAHf\n",
       "ffcdrKyssGzZMri7u6tdnj0uEqm6ePGitkMgojrCwMAABQUF4gW6S5cuvdZFdyJqOBYuXIg7d+5A\n",
       "R0cH27dvx3/+8x9th0RU71Xq7Xs/Pz/xC/qFZs2awcfHBzNnziwzrqePj4/G3lIvXLiAn376CY6O\n",
       "joiJicHTp08RGBiI7du3Y/LkyRpj2LVrFwYMGIAWLVqI85YvX45WrVpBR0cH//nPf8ReWo2Myo6B\n",
       "xx4XiVS1a9dO2yEQUR2xcOFCvPvuu7h37x7GjBmDmJgYduRI1Ej9+OOPGDFihPj5+vXr+PHHHwFA\n",
       "400vIqqcSj307+HhAV1dXUyaNAmTJ0+Gvr4+WrdujbNnz+KTTz4pU/+PP/7Ao0eP1E5t27bF5s2b\n",
       "MXr0aEilUhgbG2Po0KE4ceKExvULgoCdO3eWuTv/5ptvih1NDR48GCYmJrh27ZraNtjjIpGqoKAg\n",
       "3L17V22ZIAjYv38/T8aJGol3330XP/zwAxYtWoRu3brh9OnT8Pf313ZYRKQF//3vfzFkyBDxHKFD\n",
       "hw6YOHEiJk2axAv5RNWkUnfGz5w5g/j4ePEdkWHDhqF79+74/fff4eLiUumV29jYIDo6Gt26dYNC\n",
       "ocDRo0fFDuLUOX78OJRKJfr06aMy/+7du+K75n/++Seys7Nha2urtg2ZTFbmDj47qqLGrH///ggI\n",
       "CMAbb7yBrl27wsLCAnK5HNeuXcPp06cREBCg8i4XETVs7du3x0cffaTtMKgOU5SUsjOnRmDx4sX4\n",
       "66+/MGnSJAwYMADLli3DiRMnUFhYiL59+2o7PKIGoVLJeHZ2tspj6hKJBI8fP4auri4MDAwqvfIN\n",
       "GzZg+vTpcHFxQUlJCXx8fDB79mwAwNmzZxEaGoojR46I9Xfs2IEJEyaUGW5p/PjxyMjIgFQqRZMm\n",
       "TbBv3z6YmppWOh6ixqh///7o378/fv/9d8TFxeH69eto2rQp/P39sXbtWpVXQohexpPyhqF9+/Zl\n",
       "XkP7Xzdv3qzFaKguS80swLZTN5FVUIyWxjJM6W4DW/OyrwVSw+Dk5ITo6Ghs3rwZffv2xdq1a+Hk\n",
       "5KTtsIgajEol47169UK/fv3EMUf37NkDf39/FBQUlLnbXBHt27fH0aNH1ZZ16dJFJRF/sT51YmJi\n",
       "Kr3uxoonzqTJ22+/jbffflvbYVA9wpPyhuPnn38G8Pwd0bS0NEybNg3A816R+TgqvaAoKcW2Uzdx\n",
       "I6sA5iYGuJFZgG3xN7FskDPPKRqgixcvYvny5ZDJZAgNDUVgYCBmzZoFR0dHLFy4kCMtEFWDSiXj\n",
       "GzduxNatW3Hw4EEAwIABAzBt2jTo6urizz//rIn4qBrxxJmIqgtPyhuWF3e6oqOjkZSUJM739fWF\n",
       "l5cXX1UhAEC+XImsgmKYmxjAtIkeACArvxj5ciWHPWqAJk2ahPXr16OgoADTpk3DiRMnsH//fkRE\n",
       "RODdd99FXFyctkMkqvcqlYzr6uri448/xuTJk6t0J5y0hyfORFSdeFLeMOXm5qKwsBCGhoYAgMLC\n",
       "QuTm5mo5KqorjA100dJYhhuZBQCAzDw5OpgbwdigUqeTVE/I5XJ4enri6dOnyMvLE+cPHz4c7733\n",
       "nhYjI2o4KpWFpaSkwNnZGR06dAAAnDt3Dp9//nmNBEbV6+UTZ3MTA/HEmYiosl6clGfmyZFbpEBm\n",
       "nhwtjWU8Ka/nRo0aBW9vbyxduhRLly5Ft27dxFfTiPSkOpjS3QYdzI0gV5Sgg7kRpnS34UX9Bmru\n",
       "3LlwdHSEt7c3Fi5cqFLWrFkz7QRF1MBU6q/nzJkzsWXLFrRs2RIA0LlzZ/zyyy81EhhVL54406ss\n",
       "W7asQvOocVKUlCKn8BkUJaUAeFLeUC1atAgrV67EkydP8OTJE6xcuRKhoaHaDovqEFtzIywb5IzV\n",
       "w9ywbJAzX3drwCZOnIibN2/i77//xqBBg7QdDlGDVKlMrKCgQKWDJ4lEws4b6okXJ87b4m8iK7+Y\n",
       "J85UxoEDB7BgwYJXzqPGR1N/Ey9OytkpZMMSEBCAgIAAbYdBdZieVIevozQCCQkJ6Nq1q8byoqIi\n",
       "3Lp1C46OjrUYFVHDUul3xhUKhTj8yZ07dzhGdz3CE2dS5+jRo4iOjsa9e/cwZ84ccT7fEyXg1f1N\n",
       "8KS8YQgKCsI//vEPtGnTpkyZIAg4cOAAiouLMWrUKC1ER0TasGbNGjx+/BijRo1C165dYWFhAblc\n",
       "jmvXriE6Ohq//fYb1q1bx2Sc6DVUKhmfMWMGBg0ahKysLCxYsADh4eH417/+VVOxNSh1ZUgxnjjT\n",
       "ywwMDNCsWTPo6OjA1NRUnN+2bdsy74i9IJfLMWLECFy5cgVNmjSBubk5vvnmG9ja2kIQBCxevBh7\n",
       "9uyBTCZDixYtcOLECZXljx8/jj59+mDNmjWYNWuW2nVIJBI4OzuLF/y++uordO/eHcDzq/VTp05F\n",
       "UVER2rRpg927d+PNN9+shr1BL2NHbY1D//79ERAQgDfeeKPMSffp06cREBDAHtWJGpnIyEgkJSVh\n",
       "69atWL58Oe7evQtDQ0O4urrigw8+wOnTp8XOHomoaiqVjI8ZMwY2NjY4dOgQnj17hvDwcI5LXAEc\n",
       "Uozqsh49eqBHjx4YNGgQ3NzcKrzc1KlT0a9fP0gkEmzatAmTJ09GXFwcNm7ciJSUFFy+fBn6+vp4\n",
       "+PChynK5ubkIDg6u0GOw8fHxZTqJKS0txejRo7Ft2zb4+flh9erVmDVrFvbt21fh2Kni2Hty49C/\n",
       "f3/0798fv//+O+Li4nD9+nU0bdoU/v7+WLt2LVq0aKHtEElL6srNBNIOT09PeHp6ajsMogar0mdT\n",
       "3bp1Q7du3WoilgaJQ4pRfWFjY4OPP/4Yx44dAwC89957+PLLL2FsbFymroGBgUoy7e3tjdWrVwMA\n",
       "Vq1ahePHj4v9SVhaWqosO2PGDCxYsAAHDhyoUpznzp2Drq4u/Pz8AADTpk3DggULIJfLYWBgUKU2\n",
       "STP2N9G4vP3227zITiLeTCAiqlkVSsb9/PzE98TVOX78eLUF1NDwEU+qL4KCgtC0aVNERkZCIpFg\n",
       "69atCAoKwu7du1+57IYNGzBw4EDk5eUhIyMDhw4dQlRUFABgzpw5GD58OAAgKioKOjo6CAwMrFAy\n",
       "3qtXLyiVSvTq1QtLly6FoaEh0tPT0a5dO7GOsbExTExMcP/+fdjY2JRpo7i4GMXFxSrzSkpKXrlu\n",
       "+v/Y3wRR48ObCURENa9Cyfhnn30GADhx4gTOnz+PiRMnQiKRYOfOnejUqVONBljf8RFPqi9SUlKQ\n",
       "nJwsft68eXOFHlv/8ssvkZqaitjYWMjlciiVShQVFSEhIQFpaWno1q0bHBwcYGFhgWXLliEuLq5C\n",
       "8dy+fRtWVlYoLCzE9OnTMW/ePGzevLnS2xUWFobFixerzPP29q50O40d+5sgalx4M4GoceCrKNpV\n",
       "oYywf//+AIClS5fi999/h67u88WGDRuGd955p+aiawD4iCfVFyUlJcjPzxcfSy8oKHjlHeTVq1fj\n",
       "wIEDiImJQdOmTdG0aVMYGRlhzJgxAABra2v4+voiKSkJrVq1woMHD+Du7g4AePToEQ4fPoysrCws\n",
       "X768TNtWVlYAAENDQwQFBWHq1Kni/Nu3b4v18vPzkZubi9atW6uNMSQkRKWXeAAaO6YjIqLneDOB\n",
       "qOHjqyjaV6m/qDk5OSqPq+vo6CAnJ6fag2po+Ign1Qfjxo2Dt7e3+Eh5ZGQkJkyYoLH+2rVrsXfv\n",
       "XsTExKh0sjZy5EhER0cjKCgIOTk5SExMxLx58+Dl5YWMjAyx3vjx4+Hu7q62N/XHjx9DJpOhadOm\n",
       "KC0tRUREhPgUjoeHBxQKBU6cOAE/Pz9s3boV77//vsb3xWUyGWQymco8DslIpN7vv/8OHx8fHiPE\n",
       "mwkkUiqV2L9/P27cuAGlUinODw0N1WJU9Lr4KkrdUKlkvHfv3ujbty/Gjh0LAAgPD0efPn1qJLCG\n",
       "ho94Ul03b948ODs7IzY2FsDzu959+/ZVW/fu3buYO3cubGxsxI7UZDIZEhISEBYWhgkTJoiPlM+f\n",
       "Px9eXl6vXP+WLVtw//59LFmyBFevXsW0adMgkUigVCrRuXNnbNiwAcDzi4Dh4eGYNm0a5HI5Wrdu\n",
       "XaH32ono1b744gukpKTAy8sLvXr1Qu/eveHq6qrtsEhLeDOBAGDEiBF4+PAhvLy8eKGuAeGrKHVD\n",
       "pZLxjRs34ttvv8XBgwcBAIMGDcKUKVNqIi4i0oJ+/frBxcUFEomk3HG727RpA0EQ1JaZmZnh8OHD\n",
       "r1zXrl27VD5Pnz5d/NnHxwcpKSkal31VORFVTWxsLIqKihAfH4+YmBgMGjQIT58+LTNEITUevJlA\n",
       "ly5dwtWrV8vtzJnqH76KUjdUam/r6uoiKCgIQUFBNRUPEWlJcnIyRowYIT5Kbmlpib1791Zq7HEi\n",
       "qt+Kiopw8uRJHDt2DCdOnEDLli3Ru3dvbYdFRFrUtm1bPHv2rMwrX1S/8VWUuqFCyfi//vUvfPLJ\n",
       "J2jSpIna8nPnziEjI0Nl3GEiql8mT56MJUuWYNiwYQCeD0M2efJkJCUlaTkyIqotzZo1g6enJ+bM\n",
       "mYPQ0FCYmppqOyQi0pKNGzcCAGxtbdGzZ08MHjxYpX+WmTNnais0qiZ8FUX7KpSMGxoawtnZGW+/\n",
       "/Ta6du0KCwsLyOVyXLt2DdHR0bCwsBAPWCKqn+RyuZiIA8DQoUOxZMkSLUZERLVt3bp1iImJwT/+\n",
       "8Q906dIFffr0Qa9evdCmTRtth0ZEtezChQvizw4ODvjvf/8rfuYj6w0HX0XRrgol4x9//DEmTZqE\n",
       "qKgoxMXF4e7du2jatClcXV3x3XffwdnZuabjJKIa1rlzZ8TFxaFnz54AgJMnT8LDw0O7QRFRrXrx\n",
       "KlppaSl++OEHhIaGYuLEia8c5pCIGp6dO3eipKQE//jHP7By5Upth0PUIFX4nXEDAwOMGTNGHD+4\n",
       "OmRkZOCjjz5CamoqFAoFpk2bpnaYIwDIzMzE2LFjcePGDchkMmzevFkc47y8MiKqmPPnzyM8PBzW\n",
       "1tYAgLS0NDg6OqJz585iORE1bD/++CNiYmIQGxsLmUyGgIAAvjNO1IhJpVKcOHFC22EQNVha7S5v\n",
       "zpw5cHR0xIEDB1BYWAhfX1/4+vrC09OzTN3g4GB4e3sjOjoaSUlJGDx4MG7dugU9Pb1yy4ioYjZt\n",
       "2qTtEIhIy3766Sf07t0bX3zxBdq2bavtcIioDggICMDy5csxYcIEGBkZifNNTEy0GBVRw6DVZDw5\n",
       "ORkff/wxgOfvpb/zzjvYvXu32mQ8MjISqampAABPT0+0bt0aJ0+eRO/evcstI6LyjRw5Env37kWP\n",
       "Hj20HQoRadkPP/wAhUKB9PR0bYdCRHXEi/5jFi5cCIlEAkEQIJFI+PoKUTXQapd5Hh4e2LNnD0pL\n",
       "S5GVlYWjR48iLS2tTL3s7GwoFApYWlqK86ytrZGenl5umTrFxcXIy8tTmfjHhBqzq1evajsEIqoj\n",
       "Tp48iXbt2sHPzw8AkJSUVK2vpxFR/VNaWipOJSUl4r9E9PoqlIyPHDmySo37+PigRYsWaqc7d+5g\n",
       "zZo1KCgoQKdOnTBq1Cj07NkTuro1e7M+LCwMpqamKlNiYmKNrpOoLmOPqET0wvz58xEfHw8zMzMA\n",
       "z582+98elYmIiKj6VCjzreqdsz/++OOVdXbt2iX+PH36dDg5OZWpY2ZmBl1dXTx8+FC8A56WlgYr\n",
       "K6tyy9QJCQnBnDlzVOYtXLiwoptE1OCkpKSgefPmZea/eAwtJydHC1FRdVOUlHIcUXqlkpISdOjQ\n",
       "QWWevj6HvCEiIqoJFTojq6k7Zy8eMQeej2V48OBBBAUFqa07bNgwbNmyBcDzx+bu3bsnvuNaXtnL\n",
       "ZDIZTExMVCapVFrdm9YoKUpKkVP4DIqSUm2HQpXw1ltv4cKFC2Wmixcv8o5YA5GaWYAF/7mMz/Yl\n",
       "Y8HBy0jNLNB2SFRHGRgYoKCgQPzev3TpEpo0aaLlqIioPomOjkaXLl3g6uoKb29vJCcnAwAmTJgA\n",
       "V1dXuLu7w9PTE7GxsRrb+Pnnn+Hg4AA7OzsMGTIEeXl5tRU+Ua2q0J3xmrpzlpiYiJkzZ0JXVxfG\n",
       "xsaIjIxEq1atAABnz55FaGgojhw5AgBYuXIlPvzwQ9jZ2UFfXx/h4eFib+nllVHtSM0swLZTN5FV\n",
       "UIyWxjJM6W4DW3OjVy9IWieTydCuXTtth0E1RFFSim2nbuJGVgHMTQxwI7MA2+JvYtkgZ94hpzIW\n",
       "LlyId999F/fu3cOYMWMQExODPXv2aDssIqonHj9+jNGjR+PUqVNwcnJCfHw8Ro8ejcuXL2PdunVo\n",
       "1qwZgOc34Xr16oVHjx5BR0f1u6igoACTJk3CyZMn4eDggBkzZmDp0qVYtWqVFraIqGZVKBl/6623\n",
       "xKS4OvXr1w/Xr19XW9alSxeVdVpYWOC3335TW7e8Mqp5PNmv3wRB0HYIVIPy5UpkFRTD3MQApk2e\n",
       "X6TMyi9GvlyJ5oZ8/JhUvfvuu7Czs0N0dDQEQcDixYvLPLZORKTJjRs3YGZmJr522r17d6Snp+P8\n",
       "+fPo3LmzWC83N1djG7/++is6deoEBwcHAEBQUBDeffddJuPUIFUoU3px50zTRI3byyf75iYG4sk+\n",
       "1X18FL1hMzbQRUtjGTLz5MgtUiAzT46WxjIYG2h1ZEuqw9q3b4+PPvoIQUFBr5WI//LLL/Dw8IBM\n",
       "JsOsWbNUykpLS/HJJ5+gQ4cOsLW1xaZNmzS2c/36dXTr1g329vbw9PTEX3/9VeWYiKhm2dnZITs7\n",
       "G2fOnAEAHD58GPn5+eJoScHBwejQoQOGDBmC/fv3l7krDgDp6ekq+YW1tTUePHgApVL9eSVHSqL6\n",
       "rELJOO+cUXl4sk9Ud+lJdTCluw06mBtBrihBB3MjTOluw6dWSEX79u1hY2OjcaoKOzs7fPfdd5g3\n",
       "b16ZsvDwcFy5cgV///03EhMTsWrVKo1J9rRp0zB16lT8/fffmD9/PsaPH1+leIio5pmamiIqKgoh\n",
       "ISHw8PDAb7/9BkdHR3G0pBUrVuDGjRuIjIzE559/jmfPnr32OjlSEtVnFTob450zKg9P9onqNltz\n",
       "Iywb5IzVw9ywbJAz+3OgMn7++Wf89NNPGD16NHx9ffH999/j+++/R/fu3as8zri9vT3c3NzUDlka\n",
       "ERGBKVOmQCqVonnz5hg+fDj27t1bpl5mZibOnj0rxvDBBx/gzp07SE1NrVJMjQk7VSVt8fPzw8mT\n",
       "J3Hu3DmsWbMG9+/fh6Ojo0qd3r17Iz8/H5cuXSqzvJWVFW7fvi1+TktLQ6tWrTQOfxwSEoLc3FyV\n",
       "ycvLq3o3iqiG8NYlVYsXJ/scOomobtKT6vAdcdLoxfud0dHRSEpKEuf7+vrCy8sLS5Ysqdb1qXsM\n",
       "9c8//yxT786dOyon4RKJBFZWVkhPT4etra3atouLi1FcXKwyr7E9sspOVUmbHjx4IHbIvHTpUvj7\n",
       "+6Ndu3ZITU0Vj9vExERkZmaqffKmb9+++Pjjj3H16lU4ODhg8+bNGDFihMb1yWQyyGQylXkcKYnq\n",
       "CybjVG14sk9EVL/l5uaisLAQhoaGAIDCwkKNHS35+Pho7IT1woULaNu2bY3FWZ6wsDAsXrxYZZ63\n",
       "t7dWYtEGdqpK2hYaGor4+HgolUr4+Phgx44dUCgUGDduHHJzc6GrqwtDQ0NERUXhjTfeEJdp3bo1\n",
       "pk+fDmNjY2zfvh2DBg2CUqmEs7Mz/v3vf2t5q4hqBpNxIqo0uVyOESNG4MqVK2jSpAnMzc3xzTff\n",
       "wNbWVuyBec+ePZDJZGjRogVOnDihsvzx48fRp08frFmzpkzHTgBw//59TJgwAWlpaZDJZLCzs8OW\n",
       "LVvQsmVLAM/voslkMnH845CQEAwfPrzGt5uooRs1ahS8vb3xf//3fwCAffv2aXxM/Y8//qjyel48\n",
       "hurj4wPg+WOoVlZWZeq1bdtW7LhJV1cXgiAgPT1dbd0XQkJCMGfOHJV5CxcurHKs9Q1HUCBt27Zt\n",
       "m9r5p0+f1rjMy0/fBAYGIjAwsFrjIqqLeImUiKpk6tSpuHbtGpKTkzFw4EBMnjwZALBx40akpKTg\n",
       "8uXLuHTpUpn3QHNzcxEcHIyAgACNbUulUixcuBDXrl1DSkoKbGxsynQCFRERgYsXL+LixYtMxImq\n",
       "yaJFi7By5Uo8efIET548wcqVKxEaGlrt6xk2bBi2bduGkpIS5OTkICIiQu1xbG5ujs6dOyM8PBwA\n",
       "sH//frRp00bjI+rA80dWTUxMVKbG9MgqO1UlIqo/mIwTUaUZGBggICAAEokEwPNHQF8MW7Jq1Sqs\n",
       "WLEC+vrP78BYWlqqLDtjxgwsWLAAZmZmGtu3sLDA22+/LX7u2rWr2D4RVb+RI0eKPwcEBGDNmjVY\n",
       "s2YN+vXrV+U2Y2Nj0aZNG6xduxY7duxAmzZtcPjwYQDAhx9+CAcHB9jZ2cHT0xNz5syBi4sLgOdD\n",
       "Ib24uAcAW7duxdatW2Fvb48VK1Zg586dVY6pMWCnqkRE9QcvkxLRa9uwYQMGDhyIvLw8ZGRk4NCh\n",
       "Q4iKigIAzJkzR7zjFRUVBR0dHQQGBuLAgQMVarukpASbNm3CwIEDVeaPHTsWgiDAy8sLK1asEB9h\n",
       "fxk7cyJ6tatXr1Z7m7169cLdu3fVlkmlUnz99ddqy15+PPWtt956rUfiGyN2qkpEVD8wGSei1/Ll\n",
       "l18iNTUVsbGxkMvlUCqVKCoqQkJCAtLS0tCtWzc4ODjAwsICy5YtQ1xcXIXbFgQBQUFBeOONN/Dp\n",
       "p5+K80+dOgUrKysoFAosWLAA48aNw5EjR9S20dg7cyKqiBdPuVDDwU5ViYjqPibjRFRlq1evxoED\n",
       "BxATE4OmTZuiadOmMDIyEjt8sra2hq+vL5KSktCqVSs8ePAA7u7uAIBHjx7h8OHDyMrKwvLly9W2\n",
       "P3PmTNy5cwcHDx6Ejs7/v7PzovMmPT09zJo1C/b29hpjbOydORFVREpKCpo3b15mviAIkEgkyMnJ\n",
       "0UJUREREDRuTcSKqkrVr12Lv3r2IiYlBs2bNxPkjR45EdHQ0goKCkJOTg8TERMybNw9eXl7IyMgQ\n",
       "640fPx7u7u5qe1MHnifiqampOHjwoPj+OfB8qCWFQiGuc+/evejUqZPGODn+KNGrvfXWWxqfLiEi\n",
       "IqKawWSciCrt7t27mDt3LmxsbODn5wfgedKbkJCAsLAwTJgwAZs3bwYAzJ8/H15eXq9sc8uWLbh/\n",
       "/z6WLFmC06dP46uvvoKDgwO6du0KAGjfvj3+85//ICMjAx988AFKSkogCAJsbGzw/fff19zGEjUC\n",
       "MpkM7dq103YYREREjQqTcSKqtDZt2kAQBLVlZmZmYo/J5dm1a5fK5+nTp4s/+/r6amzfxsYGFy5c\n",
       "qHiwRPRKmo43IiIiqjnsXpOIiKiR4wUuIiKi2sdknIiIiIiIiKiWMRknIiIiIiIiqmVMxomIiIiI\n",
       "iIhqmVaT8YyMDAwZMgSurq7o2LEj1q9fr7HuhAkTYG9vDzc3N3Hc4hfGjx+PN998E+7u7nB3d8e8\n",
       "efNqIXoiIiIiIiKiqtFqb+pz5syBo6MjDhw4gMLCQvj6+sLX1xeenp5l6g4ePBjbtm2Drq4ufv75\n",
       "ZwwbNgxpaWli+bx58zSOV0xERERERERUl2j1znhycjICAgIAAIaGhnjnnXewe/dutXUDAwOhq/v8\n",
       "2oG3tzfu3bsHpVJZa7ESERERERERVRetJuMeHh7Ys2cPSktLkZWVhaNHj6rc7dZkw4YNCAgIEJPz\n",
       "F/NcXV0xYMAAXLx4UeOyxcXFyMvLU5lKSkqqYWuIiIiIiIiIKqZGH1P38fHB9evX1ZZduHABa9as\n",
       "wWeffYZOnTrB3NwcPXv2RFZWVrlthoeHIzIyEqdOnRLnLV++HK1atYKOjg7+85//oF+/frh+/TqM\n",
       "jIzKLB8WFobFixerzPP29q7C1hERERERERFVTY3eGf/jjz/w6NEjtVPbtm3RokUL7Nq1C8nJyTh2\n",
       "7BgkEgmcnJw0thcREYHFixfj2LFjsLCwEOe/+eab0NF5vimDBw+GiYkJrl27praNkJAQ5Obmqkxe\n",
       "Xl7Vu+FERERERERE5dBqB27Z2dkwMTGBnp4eLly4gIMHD+LChQtq60ZGRmLBggWIiYmBlZWVStnd\n",
       "u3fRpk0bAMCff/6J7Oxs2Nraqm1HJpNBJpOpzJNKpdWwNUREREREREQVo9VkPDExETNnzoSuri6M\n",
       "jY0RGRmJVq1aAQDOnj2L0NBQHDlyBAAwevRoWFpaYuDAgeLysbGxMDMzw/jx45GRkQGpVIomTZpg\n",
       "3759MDU11co2EREREREREb2KVpPxF+92q9OlSxcxEQcAhUKhsZ2YmJhqj42IiIiIiIiopmi1N3Ui\n",
       "IiIiIiKixojJOBEREREREVEtYzJORERERERUTyhKSpFT+AyKklJth0KvSavvjBMREREREVHFpGYW\n",
       "YNupm8gqKEZLYxmmdLeBrbmRtsOiKuKdcSKqNLlcjkGDBsHe3h5ubm7o06cPUlNTAQCCIGDRokWw\n",
       "t7eHi4sL/Pz8yix//PhxSKVSrF+/XuM6EhIS4ObmBnt7e/j7++PevXsVKiMiIiJqiBQlpdh26iZu\n",
       "ZBXAQE+KG5kF2BZ/k3fI6zEm40RUJVOnTsW1a9eQnJyMgQMHYvLkyQCAjRs3IiUlBZcvX8alS5ew\n",
       "d+9eleVyc3MRHByMgIAAjW2XlpZi9OjRWL9+Pf7++28EBARg1qxZrywjIiIiaqjy5UpkFRTD3MQA\n",
       "pk30YG5igKz8YuTLldoOjaqIyTgRVZqBgQECAgIgkUgAAN7e3khLSwMArFq1CitWrIC+vj4AwNLS\n",
       "UmXZGTNmYMGCBTAzM9PY/rlz56CrqyveVZ82bRp++uknyOXycsuIiIiIGipjA120NJYhM0+O3CIF\n",
       "MvPkaGksg7EB3zyur5iME9Fr27BhAwYOHIi8vDxkZGTg0KFD6Nq1K7p27YqIiAixXlRUFHR0dBAY\n",
       "GFhue+np6WjXrp342djYGCYmJrh//365ZeoUFxcjLy9PZSopKXnNLSYiIiKqXXpSHUzpboMO5kaQ\n",
       "K0rQwdwIU7rbQE/KlK6+4mUUInotX375JVJTUxEbGwu5XA6lUomioiIkJCQgLS0N3bp1g4ODAyws\n",
       "LLBs2TLExcXVanxhYWFYvHixyjxvb+9ajYGIiIioOtiaG2HZIGfky5UwNtBlIl7P8bdHRFW2evVq\n",
       "HDhwAL/++iuaNm2K5s2bw8jICGPGjAEAWFtbw9fXF0lJSTh37hwePHgAd3d3WFtbIyoqCkuWLME/\n",
       "//nPMu1aWVnh9u3b4uf8/Hzk5uaidevW5ZapExISgtzcXJXJy8urmvcEERERAUB0dDS6dOkCV1dX\n",
       "eHt7Izk5GQAwYcIEsePXF+cGmkgkEri4uMDd3R3u7u6Ij4+vrfDrBT2pDpob6jMRbwB4Z5yIqmTt\n",
       "2rXYu3cvYmJi0KxZM3H+yJEjER0djaCgIOTk5CAxMRHz5s2Dl5cXMjIyxHrjx4+Hu7u72s7XPDw8\n",
       "oFAocOLECfj5+WHr1q14//33YWBgUG6ZOjKZDDKZTGWeVCqtln1ARERE/9/jx48xevRonDp1Ck5O\n",
       "ToiPj8fo0aNx+fJlDB48GNu2bYOuri5+/vlnDBs2TOxvRp34+HiV8wuihojJOBFV2t27dzF37lzY\n",
       "2NiIHanJZDIkJCQgLCwMEyZMwObNmwEA8+fPr9Cd6C1btuD+/ftYsmQJdHR0EB4ejmnTpkEul6N1\n",
       "69bYvXs3AJRbRkRERNpz48YNmJmZwcnJCQDQvXt3pKen4/z58yr9xXh7e+PevXtQKpXQ1WU6Qo0X\n",
       "//cTUaW1adMGgiCoLTMzM8Phw4df2cauXbtUPk+fPl3ls4+PD1JSUtQuW14ZERERaYednR2ys7Nx\n",
       "5swZdOvWDYcPH0Z+fj7S0tLQuXNnsd6GDRsQEBBQbiLeq1cvKJVK9OrVC0uXLoWhoaHaesXFxSgu\n",
       "LlaZx45aqb7giwZERERERPTaTE1NERUVhZCQEHh4eOC3336Do6OjStIdHh6OyMhIfPvttxrbuX37\n",
       "Ns6dO4czZ84gKysL8+bN01g3LCwMpqamKlNiYmK1bhdRTWEyTkRERERE1cLPzw8nT57EuXPnsGbN\n",
       "Gty/fx+Ojo4AgIiICCxevBjHjh2DhYWFxjasrKwAAIaGhggKCiq3Azd21Er1GR9TJyIiIiKiavHg\n",
       "wQO0atUKALB06VL4+/vD1tYWkZGRWLBgAWJiYsRkW53Hjx9DJpOhadOmKC0tRUREBDp16qSxPjtq\n",
       "pfqMd8aJiIiIiKhahIaGwsHBAba2trh9+zZ27NgBABg9ejTkcjkGDhwoDlmWnZ0N4HknrqGhoQCA\n",
       "q1evwtvbG25ubnBxcUF2djbWr1+vrc0hqlG8M05ERERERNVi27ZtaucrFAqNy/xvJ67spJUaE94Z\n",
       "JyIiIiIiIqplWk3GMzIyMGTIELi6uqJjx47lPoLSs2dPtG/fXnysZd26dWJZZmYm+vbtCzs7Ozg7\n",
       "O+PUqVO1ED0RERFp8ssvv8DDwwMymQyzZs1SKSstLcUnn3yCDh06wNbWFps2bdLYjrW1Nd566y3x\n",
       "+z8iIqKGIyciIqodWn1Mfc6cOXB0dMSBAwdQWFgIX19f+Pr6wtPTU239devWYdCgQWXmBwcHw9vb\n",
       "G9HR0UhKSsLgwYNx69Yt6Onp1fAWEBERkTp2dnb47rvvsG/fPhQUFKiUhYeH48qVK/j777+Rm5uL\n",
       "Tp06wc/PD05OTmrbioiIgLu7ey1ETUREVHu0emc8OTkZAQEBAJ4PXfDOO+9g9+7dlW4nMjJSfNfE\n",
       "09MTrVu3xsmTJ6s1ViIiIqo4e3t7uLm5qYwv/EJERASmTJkCqVSK5s2bY/jw4di7d68WoiQiItIe\n",
       "rSbjHh4e2LNnD0pLS5GVlYWjR48iLS1NY/3g4GC4uLhg+PDhuHnzJgAgOzsbCoUClpaWYj1ra2uk\n",
       "p6erbaO4uBh5eXkqU0lJSbVuFxEREWmWnp6Odu3aiZ/L+94GgLFjx8LFxQWTJk1CVlZWuW3ze56I\n",
       "iOqLGk3GfXx80KJFC7XTnTt3sGbNGhQUFKBTp04YNWoUevbsqfYKOgDs3r0bV69eRUpKCrp3744B\n",
       "AwZUKaawsDCYmpqqTImJia+zmURERI3Oq77jq8upU6eQkpKC8+fPo0WLFhg3bly59fk9T0RE9UWN\n",
       "JuN//PEHHj16pHZq27YtWrRogV27diE5ORnHjh2DRCLR+L5Y27ZtAQASiQQzZszAzZs3kZ2dDTMz\n",
       "M+jq6uLhw4di3bS0NFhZWaltJyQkBLm5uSqTl5dX9W88ERFRA/aq7/jyWFlZ4fbt2+Ln8r63X8zX\n",
       "09PDrFmzEB8fX27b/J4nIqL6QquPqb94xBwALly4gIMHDyIoKKhMPaVSiYyMDPHz/v37YWFhATMz\n",
       "MwDAsGHDsGXLFgBAUlIS7t27hx49eqhdp0wmg4mJicoklUqre9OIiIhIg2HDhmHbtm0oKSlBTk4O\n",
       "IiIiMHz48DL1CgsL8eTJE/Hz3r170alTp3Lb5vc8ERHVF1rtTT0xMREzZ86Erq4ujI2NERkZiVat\n",
       "WgEAzp49i9DQUBw5cgTFxcXo378/iouLoaOjgxYtWuDw4cNiOytXrsSHH34IOzs76OvrIzw8nD2p\n",
       "ExERaVFsbCzGjRuHvLw8CIKAqKgobN68GYGBgfjwww+RlJQEOzs7SCQSzJkzBy4uLgCAw4cP4/Dh\n",
       "w9i+fTsyMjLwwQcfoKSkBIIgwMbGBt9//72Wt4yIiKh6aDUZ79evH65fv662rEuXLjhy5AiA5z2t\n",
       "nz17VmM7FhYW+O2332okRiIiIqq8Xr164e7du2rLpFIpvv76a7VlgYGBCAwMBADY2NjgwoULNRYj\n",
       "ERGRNmn1MXUiIiIiIiKixojJOBEREREREVEtYzJORJUml8sxaNAg2Nvbw83NDX369EFqaioAQBAE\n",
       "LFq0CPb29nBxcYGfn5+43IQJE+Dq6gp3d3d4enoiNjZWbftHjx6Fu7u7OLVu3RqdO3cWyyUSCVxc\n",
       "XMTyV/WuTERERERU12j1nXEiqr+mTp2Kfv36QSKRYNOmTZg8eTLi4uKwceNGpKSk4PLly9DX11cZ\n",
       "dnDdunVo1qwZgOcjKPTq1QuPHj2Cjo7qdcH33nsP7733nvh5wIABKkk9AMTHx4ttERERERHVN7wz\n",
       "TkSVZmBggICAAEgkEgCAt7c30tLSAACrVq3CihUroK+vDwCwtLQUl/vf5Dk3N7dC67p//z5iY2Px\n",
       "4YcfVk/wRERERER1AJNxInptGzZswMCBA5GXl4eMjAwcOnQIXbt2RdeuXREREaFSNzg4GB06dMCQ\n",
       "IUOwf//+MnfFX7Zr1y4EBATA3NxcZX6vXr3g5uaGOXPmoLCwUOPyxcXFyMvLU5lKSkqqvrFERERE\n",
       "RNWAyThRLVGUlCKn8BkUJaXaDqVaffnll0hNTUVYWBiUSiWUSiWKioqQkJCAiIgIzJ49G8nJyWL9\n",
       "FStW4MaNG4iMjMTnn3+OZ8+eaWxbEAR89913mDRpksr827dv49y5czhz5gyysrIwb948jW2EhYXB\n",
       "1NRUZUpMTFRbt6H+johIPR7zRI0Lj3mqa/jOOFEtSM0swLZTN5FVUIyWxjJM6W4DW3MjbYf12lav\n",
       "Xo0DBw4gJiYGTZs2RdOmTWFkZIQxY8YAAKytreHr64ukpCS4ubmpLNu7d2/MmDEDly5dgoeHh9r2\n",
       "T548CblcrvL+OABYWVkBAAwNDREUFISpU6dqjDEkJARz5sxRmbdw4cIy9Rrq74iI1OMxT9S48Jin\n",
       "uoh3xolqmKKkFNtO3cSNrAIY6ElxI7MA2+Jv1vursmvXrsXevXtx7NgxlXfBR44ciejoaABATk4O\n",
       "EhMT4erqCoVCIfa4DgCJiYnIzMyEjY2NxnXs2LED48ePh1QqFec9fvwYT58+BQCUlpYiIiICnTp1\n",
       "0tiGTCaDiYmJyvS/7QEN93dEROrxmCdqXHjMU13FO+NENSxfrkRWQTHMTQxg2kQPAJCVX4x8uRLN\n",
       "DfW1HF3V3L17F3PnzoWNjY3Yy7lMJkNCQgLCwsIwYcIEbN68GQAwf/58eHl54enTpxg3bhxyc3Oh\n",
       "q6sLQ0NDREVF4Y033gAAhIaGonXr1pg+fTqA5x28HThwAJcuXVJZ99WrVzFt2jRIJBIolUp07twZ\n",
       "GzZseK3taYi/IyLSjMc8UePCY57qKibjRDXM2EAXLY1luJFZAADIzJOjg7kRjA3q7+HXpk0bCIKg\n",
       "tszMzAyHDx8uM79p06Y4ffq0xjaXLFmi8tnU1FRtx2w+Pj5ISUmpZMTla4i/IyLSjMc8UePCY57q\n",
       "Kj6mTlTD9KQ6mNLdBh3MjSBXlKCDuRGmdLeBnpSHX13B3xFR48Jjnqhx4TFPdRUvBxHVAltzIywb\n",
       "5Ix8uRLGBrr8418H8XdE1LjwmCdqXHjMU13EZJyoluhJdfheUh3H3xFR48Jjnqhx4TFPdQ0vCRER\n",
       "ERERERHVMibjRERERERERLWMyTgRERERERFRLWMyTkRERERERFTLJIKmwYIbkSFDhsDa2lptWUlJ\n",
       "CRITE+Hl5QWpVFq7gdVT3GeV92KfDR06FHPnztV2OA1eecd8ZdXX/+/1NW6gYcXerl07fPrpp9oO\n",
       "q8GrzmO+surj/9f6FnN9iZfHe+3R5jFfW+rL//u6qLb2XUWOeSbjr5CXlwdTU1Pk5ubCxMRE2+HU\n",
       "C9xnlcd9Vn/V199dfY0bYOxUv9TH33l9i7m+xUtUHfj/vurq0r7jY+pEREREREREtYzJOBERERER\n",
       "EVEtYzJOREREREREVMuYjL+CTCbDF198AZlMpu1Q6g3us8rjPqu/6uvvrr7GDTB2ql/q4++8vsVc\n",
       "3+Ilqg78f191dWnfsQM3IiIiIiIiolrGO+NEREREREREtYzJOBEREREREVEtYzJOREREREREVMsa\n",
       "VTIeHR2NLl26wNXVFd7e3khOTgYAJCUlwdfXF25ubnB3d8fx48dVltu8eTM6duwIFxcXuLm5QS6X\n",
       "q21fIpHAxcUF7u7ucHd3R3x8fI1vU02qyv4aPHiwuP3u7u7Q0dHB4cOH1bZ//fp1dOvWDfb29vD0\n",
       "9MRff/1VK9tVk2p6n1lbW+Ott94S60ZERNTKdtH/l5GRgSFDhsDV1RUdO3bE+vXrNdbt2bMn2rdv\n",
       "L/6+1q1bV3uBqlGZ2DMzM9G3b1/Y2dnB2dkZp06dqr1A1cjKysL7778vxj5u3DgUFRWprVuX9ntl\n",
       "4q5r+5xUyeVyDBo0CPb29nBzc0OfPn2QmpoKABAEAYsWLYK9vT1cXFzg5+dXZvnjx49DKpWWe9wl\n",
       "JCTAzc0N9vb28Pf3x7179+p8zNV57lPVeCtzzP/8889wcHCAnZ0dhgwZgry8vCrHS6Qtv/zyCzw8\n",
       "PCCTyTBr1iyVstLSUnzyySfo0KEDbG1tsWnTJu0EWQ9U5ryoxgiNRE5OjtC8eXPh8uXLgiAIwqlT\n",
       "pwQnJyehtLRUePPNN4Vjx44JgiAI165dE9q2bSs8ffpUEARBOHjwoNCtWzfhyZMngiAIQmZmpqBU\n",
       "KtWuA4Dw+PHjmt+YWlDV/fW/kpKSBDMzM6G4uFjtOvz8/ISdO3cKgiAI+/btE7p06VIzG1NLamOf\n",
       "tWvXTrhw4UKNbQO92qhRo4R//vOfgiAIQkFBgeDm5iYkJiaqrdujRw/hP//5Ty1GV77KxD5hwgTh\n",
       "iy++EARBEBITE4U333xTePbsWW2FWsann34qzJ49WxAEQVAqlcJ7770nfP3112rr1qX9Xpm469o+\n",
       "J1VFRUXCL7/8IpSWlgqCIAhfffWV0KNHD0EQBGH9+vXC4MGDxb/dDx48UFn2yZMngqenpzBgwABh\n",
       "3bp1atsvKSkROnToIBw/flwQBEFYtWqVMHTo0DodsyBU77lPVeOt6DGfn58vmJubC//9738FQRCE\n",
       "jz/+WPjss8+qJXai2nTt2jXh4sWLwj//+U/h008/VSn797//Lfj7+wtKpVLIzs4WrKysxHNTUlWZ\n",
       "86Ka0mjujN+4cQNmZmZwcnICAHTv3h3p6elISkpCVlYWevfuDQCwt7dHs2bN8OuvvwIAVq1ahS++\n",
       "+AKmpqYAgJYtW0IqlWpnI2pRVffX/9qxYwfGjBkDfX39MmWZmZk4e/YsxowZAwD44IMPcOfOHfEK\n",
       "eH1U0/uM6obk5GQEBAQAAAwNDfHOO+9g9+7dWo6qYioTe2RkJKZPnw4A8PT0ROvWrXHy5Mlai/Vl\n",
       "EokE+fn5KC0txbNnz/D06VO0adNGa/FUVGXirmv7nFQZGBggICAAEokEAODt7Y20tDQAz88VVqxY\n",
       "If7ttrS0VFl2xowZWLBgAczMzDS2f+7cOejq6op3fKdNm4affvpJ49N4dSHm6vY68VbEr7/+ik6d\n",
       "OsHBwQEAEBQUhL1791ZP8ES16MXTI7q6umXKIiIiMGXKFEilUjRv3hzDhw/n/3MN6sI5XaNJxu3s\n",
       "7JCdnY0zZ84AAA4fPoz8/HzcvXsXrVq1QmRkJIDnjxNfu3ZN/ON/5coVnD17Fr6+vujSpQs2btxY\n",
       "7np69eoFNzc3zJkzB4WFhTW6TTWpqvvrhaKiIuzduxeTJk1S2/6dO3fQqlUr8Y+IRCKBlZUV0tPT\n",
       "a26jalhN77MXxo4dCxcXF0yaNAlZWVk1si2kmYeHB/bs2YPS0lJkZWXh6NGjZX6X/ys4OBguLi4Y\n",
       "Pnw4bt68WXuBqlHR2LOzs6FQKFROdq2trbV6fC5cuBCpqamwtLSEubk5OnbsiMDAQI3168p+r2jc\n",
       "dXGfU/k2bNiAgQMHIi8vDxkZGTh06BC6du2Krl27qrxCFBUVBR0dnXL/vwJAeno62rVrJ342NjaG\n",
       "iYkJ7t+/X2djfqGmzn0qGi9QsWP+5X1sbW2NBw8eQKlUVlvMRNqm7v85v0vUq+w5XU0oezmlgTI1\n",
       "NUVUVBRCQkJQUFAAHx8fODo6QldXF4cOHcL8+fMRFhYGJycnvP3222KSqFQqcevWLZw6dQqPHz9G\n",
       "jx49YGNjgwEDBpRZx+3bt2FlZYXCwkJMnz4d8+bNw+bNm2t7U6tFVffXC1FRUeJ7XY1FbeyzU6dO\n",
       "wcrKCgqFAgsWLMC4ceNw5MiRmt60RsXHxwfXr19XW3bhwgWsWbMGn332GTp16gRzc3P07NlT40WR\n",
       "3bt3o23bthAEAV9//TUGDBiAK1eu1IvYa9urYv/pp5/g6OiImJgYPH36FIGBgdi+fTsmT55cpn5t\n",
       "7vfqjJvqjy+//BKpqamIjY2FXC6HUqlEUVEREhISkJaWhm7dusHBwQEWFhZYtmwZ4uLitB1yjcVc\n",
       "U+c+FY3Xzc2t1v/WEtW0V323tG3btpYjqp/qxXlRrT4UX4fI5XKhWbNmwvXr18uUOTg4CDExMYIg\n",
       "CIKTk5MQGxsrln322WfiuwXlOXPmjODs7Fx9AWtZRffXCz169BC2bNmisb2MjAzB2NhYUCgUgiAI\n",
       "QmlpqWBhYaG2/fqquvfZy+7fvy8YGRm9dpz0eqZNmyYsWLCgQnVlMpnw6NGjGo6o4sqLvWnTpirv\n",
       "ZHp6eor9HmiDk5OTcPr0afHzpk2bhFGjRlVoWW3u98rEXdf2Oam3atUqwcPDQ+U9aSMjI+HGjRvi\n",
       "56FDhwrbtm0Tfv75Z8Hc3Fxo166d0K5dO8HQ0FB44403hH/84x9l2k1MTBTeeust8XNeXp6gr68v\n",
       "FBUV1dmYX1Zd5z6ViVcdTcd8ZGSk8N5774mf//rrL+HNN9987XiJtOWLL74o8854QECAsHfvXvHz\n",
       "vHnzKpS7UOXO6apLo3lMHQAePHgg/rx06VL4+/vD1tZWZf62bdtgaGgIf39/AMCoUaMQHR0N4Plj\n",
       "xHFxcXBzcyvT9uPHj/H06VMAz3sxjIiIQKdOnWpyc2pcVfYXAKSmpuLs2bMYOXKkxrbNzc3RuXNn\n",
       "hIeHAwD279+PNm3awNbWtga2pPbU5D4rLCzEkydPxM979+6t9//H6qMXjxMDz6+qHjx4EEFBQWXq\n",
       "KZVKZGRkiJ/3798PCwuLWn3/8mUVjR0Ahg0bhi1btgB4/mrFvXv30KNHj1qL9WU2Njbi32KFQoGj\n",
       "R4/C2dm5TL26tt8rGjdQ9/Y5lbV27Vrs3bsXx44dQ7NmzcT5I0eOFH/POTk5SExMhKurK/r374+M\n",
       "jAykpaUhLS0NQ4cORWhoKJYvX16mbQ8PDygUCpw4cQIAsHXrVrz//vswMDCoszHXxLlPZeOtzDHf\n",
       "t29fnD9/HlevXgXwfLScESNGvFa8RHXNsGHDsG3bNpSUlCAnJwcREREYPny4tsOqkypzXlRjajX1\n",
       "17LJkycLb731ltChQwdhzJgx4hXXRYsWCXZ2doKtra3w/vvvC+np6eIyRUVFwtixY4WOHTsKjo6O\n",
       "wsKFC8Wyb775Rvx85swZwcXFRXB1dRUcHR2FMWPGCNnZ2bW6fdWtKvtLEAQhJCREGDt2bJn2Dh06\n",
       "JEyaNEn8fPXqVcHb21uws7MTPDw8hJSUlBrdntpQk/vsxo0bgru7u+Di4iI4OzsLgYGBwq1bt2p6\n",
       "k+glR44cEWxtbQUHBwfB09NTOHnypFiWlJQk9OvXTxCE571yenh4CM7OzoKrq6vg7+8vXLx4UVth\n",
       "C4JQ8dgFQRAePnwo9OnTR7C1tRUcHR3FHp615ebNm8K7774rODs7Cx07dhQmTpwo3jGsy/u9onEL\n",
       "Qt3b56Tqzp07AgDBxsZGcHNzE9zc3AQvLy9BEATh0aNHwvvvvy84OTkJTk5OGnvMHzdunErP5P97\n",
       "HiEI//9cws7OTujRo0eZ74q6FnN1n/tUJd5XHfMLFy4UvvnmG/HzoUOHxO/pgQMHiqPlENUnMTEx\n",
       "wptvvikYGxsLRkZGwptvvikcOnRIEITnI3cEBQUJ7du3F2xsbIT169drOdq6q7zzotoiEQRBqN30\n",
       "n4iIiIiIiKhxa1SPqRMRERERERHVBUzGiYiIiIiIiGoZk3FSKzk5Gf3796/0cnFxcXB3d6+WGD77\n",
       "7DPs2bOnWtoiamzc3d3h7u4OR0dHSKVS8bOmTlw2bdqEFStWqC37+eef0bNnz9eOKTMzExMmTICN\n",
       "jQ06deqEzp0748svvxTXMXXq1NdeB1FjV9ljvyLi4uLEztM0+fnnnzF9+nQAQFpamkrna+np6XBw\n",
       "cMDatWsBAN27d8etW7eqHA9RQ1SZY/fy5cuwtrausVj+93iuqXUXFBRg1qxZsLW1hZubGzp16oTP\n",
       "PvsMCoUCKSkp6Nev32uvoz5oNOOMU+WEhIQgJCREa+svKSnB559/jrfffhvDhw+HVCrVWixE9dHF\n",
       "ixcBPD8pdnd3Fz+rU1RUhLVr1+LSpUs1Fk9RURF69OiB4cOH4/r165BKpXj69Cm2bdsGABgwYAC+\n",
       "+OILXL9+HXZ2djUWB1FDV5ljv6Li4uLw5MkT9O3bV2OdkJAQ/Pzzz2XmX716Ff369UNoaCgmTJgA\n",
       "AJg7dy6++OILfP/9968dG1FDURPHblVpOp6riyAIGDBgAOzs7HDp0iU0adIECoUCO3bsQHFxMVxd\n",
       "XSGTyXD8+HGV0YcaIt4Zb0QkEgkWLFiATp06wd7eHj/88IPaeunp6fjrr7/QvXt3AP//CvfChQvR\n",
       "uXNn2NnZ4fTp05g9ezbc3d3h7OyMy5cvi8srlUqMHTsWzs7O8PDwEP+YPHz4EH5+fvDw8ICTkxNm\n",
       "zJiB0tJSAMCuXbvg5+eHDz74AC4uLkhMTIS5uTk6dOiA3377rWZ3DFEjFxUVBV9fXxgaGgJ4PgRX\n",
       "UFAQ7Ozs4OXlJQ619MLu3bvRtWtXdO7cGe+88w6Sk5NVlrO3t4e3tzfmzp0r3lHfs2cPjI2NsWjR\n",
       "IvHiWtOmTfHpp5+K7f7f//0ftm/fXgtbTNQ4xcXFwdnZWe13NACsWrUKTk5OcHFxwejRo5Gbm4uL\n",
       "Fy9iy5Yt+OGHH+Du7o4lS5aUaTc+Ph7NmjVDu3btVOafO3cOffr0wbp168REHAD69++PX3/9Fbm5\n",
       "uTW2rUQNzaJFi2BnZwcPDw/8+OOPKmVHjx7F22+/DQ8PD5Xv7VGjRolPmW7evBn6+vooLCwEAPj7\n",
       "++PUqVNl1qPueK7KugHgiy++gK2tLTw9PbFgwQLxjvrx48eRmpqKr7/+Gk2aNAEA6OnpYfr06TAy\n",
       "MgLwfDjDrVu3vs4uqxeYjDcyEokEFy5cQHR0ND755BOkpaWVqXPy5El4enqqzMvNzYWHhwfOnz+P\n",
       "4OBgvPfeewgMDMTFixcxbtw4LF68WKz7119/Ydy4cbh8+TLmz5+PESNGQBAENGvWDD/99BPOnTuH\n",
       "lJQUpKWlITIyUlwuISEBX375JS5dugQfHx8AgI+PD2JjY2tmZxARgOcn6F27dhU/f/vtt7h27Rr+\n",
       "+usv/P777zh//rxYdvr0aezduxenTp3C+fPnsXz5cowaNUpc7vr16/jrr78QHx+PlJQUcblz586J\n",
       "x7UmPN6Jap6m7+hff/0V3333HU6fPo1Lly7B0NAQwcHBcHd3x/Tp0zF69GhcvHgRoaGhZdp8+W8I\n",
       "ADx9+hT+/v7Yvn07Bg0apFKmp6cHFxcXxMfH1+SmEjUYv/zyC/bt24dz587h7NmzKufvN2/exKJF\n",
       "i3DkyBGcO3cOe/bswahRo1BcXIzevXsjJiYGAHDs2DF06dIFJ0+exNOnT5GcnKz2e/nl47mq6/7l\n",
       "l1+wf/9+XLhwAYmJibh375643Llz5+Dh4QF9fX2N29xYzgmYjDcykydPBgDY2NjgnXfeUXtF7O7d\n",
       "u7CwsFCZZ2BgIH6ZdunSBUZGRvDz8wMAeHl54fr162Jda2tr9OrVC8DzO10PHz7EnTt3UFpaivnz\n",
       "54vvhZw9e1bliny3bt3w1ltvqazX0tISd+/efe3tJiLNXj7mY2NjMXbsWOjr60NfXx8TJ04Uyw4d\n",
       "OoTk5GR07doV7u7u+OSTT5CTk4OioiLExsZizJgx0NPTg56eHsaNG1epOHi8E9U8Td/RMTExGD58\n",
       "uPiu90cffYRjx45VqE1N5w29evXC119/jWfPnpVZhsc7UcXFxsbi//7v/2BiYgKJRIJp06aJZdHR\n",
       "0UhNTcU777wDd3d3DB06FDo6OkhPT0fv3r0RGxuLkpISXLlyBXPmzEFMTAzi4+Ph5eUFPT29MutS\n",
       "d05QlXXHxsZi2LBhMDY2hkQiwaRJkyq1zZaWlsjOzoZcLq/CHqs/+M54IyeRSMrMa9q0aZn/+DKZ\n",
       "TPxZKpXCwMBA5bNSqSx3HRKJBGvXrkVmZiYSEhJgYGCAOXPmqKznxWMp/0sul4uPrxBRzVB3zP+v\n",
       "//07IQgCxo0bJ3a8Vp7/Xc7DwwPffvttufV5vBPVvhff0ermV5S6vyE6OjqIiIjAiBEjMGTIEOzf\n",
       "v1/lXILHO1HVvfy93KdPH42dHstkMvzwww/w8PBAr169sHz5ckilUvGi3Msqe05Q3ro1Lefh4YGv\n",
       "vvoKz54903h3XC6XQyqVlnv3vCHgnfFGZufOnQCevwceHx8vvhf+v1xdXXHt2rUqryMtLU18XyQq\n",
       "KgoWFhZo06YNHj9+DEtLSxgYGODhw4fYt2/fK9v673//Czc3tyrHQkSv9vIx37t3b4SHh0OhUODZ\n",
       "s2fi3w0ACAwMRHh4ONLT0wEApaWlOHv2LIDn75/t2bMHCoUCCoVCpXOmkSNH4smTJ1i6dClKSkoA\n",
       "PO/UbePGjWIdHu9ENU/Td3Tv3r0RGRmJvLw8AMDWrVvx7rvvAgBMTEzKfb9b03mDnp4eIiIi0KRJ\n",
       "EwwaNEjlBJ/HO1HF9e7dG/v27UN+fj4EQVC5uP3ee+8hJiZG5dWwxMRElWVDQ0PRu3dvvPHGG9DT\n",
       "08O+ffvQu3dvtetSd05QlXX7+/tj//79KCgogCAI+O6778Q6/v7+aN++PWbOnCn+XVAqlfj2229R\n",
       "UFAA4PnfCGdnZ+joNOx0tWFvHZVRUlKCTp064d1338XGjRvVDk3w9ttv4+7du8jJyanSOpycnLBr\n",
       "1y64uLggLCwMe/fuhUQiwaeffoqEhAQ4OTnhww8/1PhH4AVBEBAbG4vBgwdXKQ4iqpihQ4fi6NGj\n",
       "4ucpU6bAzs4Ojo6OePvtt1WGK+zevTv+9a9/YfDgwXBzc4OTk5PYmcu0adNgbW0NR0dH+Pr6okOH\n",
       "DuIjr02bNsXJkydx48YN2NrawsXFBV27dsXTp0/FtqOjozF06NBa2WaixkrTd3S/fv0wYcIE+Pj4\n",
       "wMXFBXl5eQgLCwMADB48GBcvXtTYgduAAQNw+vRp8ULb/9LV1cXevXthYmKCgQMHQi6XIy0tDSUl\n",
       "JUzGiSooICAAQ4cORefOndGlSxdYWVmJZba2ttizZw+mTZsGNzc3dOzYEevXrxfLe/fujdu3b4vn\n",
       "3b1790ZhYaHG4+/l47mq6x4wYAAGDhwId3d3eHp6olmzZuI5gUQiwS+//AJ9fX04OTnB2dkZrq6u\n",
       "uH79uvj0bWM5J5AIgiBoOwiqHRKJBI8fP1YZ+1OTVatWAQDmzZtXw1FpFh0djfDwcISHh2stBqLG\n",
       "on///li0aFGZzhsrKz8/H8bGxlAoFBg9ejQ8PDwwf/78Vy736NEj+Pv74+zZsw3+kTQibYmLi8Os\n",
       "WbNqZMikjz/+GD179sSwYcNeWTc4OBi2trZiPzZEVLdU5nguz4tzAkEQMHfuXBQVFeGbb7555XLP\n",
       "nj1Dly5dcPz4cbRo0eK1YqjreGec1Pr000/VvsNdm3Jzc/Gvf/1LqzEQNRYbN25ERkbGa7fTu3dv\n",
       "uLu7w8XFBSYmJpg5c2aFlrtx4wa2bNnCRJyonlqyZAmKi4srVLd169YqHUMSUd1SmeO5PGPHjkWn\n",
       "Tp3g6OiI9PR0LF26tELL3bp1CytWrGjwiTjAO+NEREREREREtY53xomIiIiIiIhqGZNxIiIiIiIi\n",
       "olrGZJyIiIiIiIioljEZJyIiIiIiIqplTMaJiIiIiIiIahmTcSIiIiIiIqJaxmSciIiIiIiIqJYx\n",
       "GSciIiIiIiKqZUzGiYiIiIiIiGrZ/wPtZSz/up13sgAAAABJRU5ErkJggg==\n",
       "\">\n",
       "        \n",
       "      </div>\n",
       "      <script></script>\n",
       "      <script type=\"text/javascript\">\n",
       "        (() => {\n",
       "          const chartElement = document.getElementById(\"chart-18a6042b-4b69-43bd-9fb9-e87e61eeb6be\");\n",
       "          async function getCodeForChartHandler(event) {\n",
       "            const chartCodeResponse =  await google.colab.kernel.invokeFunction(\n",
       "                'getCodeForChart', [\"chart-18a6042b-4b69-43bd-9fb9-e87e61eeb6be\"], {});\n",
       "            const responseJson = chartCodeResponse.data['application/json'];\n",
       "            await google.colab.notebook.addCell(responseJson.code, 'code');\n",
       "          }\n",
       "          chartElement.onclick = getCodeForChartHandler;\n",
       "        })();\n",
       "      </script>\n",
       "      <style>\n",
       "        .colab-quickchart-chart-with-code  {\n",
       "            display: block;\n",
       "            float: left;\n",
       "            border: 1px solid transparent;\n",
       "        }\n",
       "\n",
       "        .colab-quickchart-chart-with-code:hover {\n",
       "            cursor: pointer;\n",
       "            border: 1px solid #aaa;\n",
       "        }\n",
       "      </style>"
      ],
      "text/plain": [
       "import numpy as np\n",
       "from google.colab import autoviz\n",
       "df_6931137707896255445 = autoviz.get_registered_df('df_6931137707896255445')\n",
       "\n",
       "def scatter_plots(df, colname_pairs, scatter_plot_size=2.5, size=8, alpha=.6):\n",
       "  from matplotlib import pyplot as plt\n",
       "  plt.figure(figsize=(len(colname_pairs) * scatter_plot_size, scatter_plot_size))\n",
       "  for plot_i, (x_colname, y_colname) in enumerate(colname_pairs, start=1):\n",
       "    ax = plt.subplot(1, len(colname_pairs), plot_i)\n",
       "    ax.scatter(df[x_colname], df[y_colname], s=size, alpha=alpha)\n",
       "    plt.xlabel(x_colname)\n",
       "    plt.ylabel(y_colname)\n",
       "    ax.spines[['top', 'right',]].set_visible(False)\n",
       "  plt.tight_layout()\n",
       "  return autoviz.MplChart.from_current_mpl_state()\n",
       "\n",
       "chart = scatter_plots(df_6931137707896255445, *[[['p (mbar)', 'T (degC)'], ['T (degC)', 'Tpot (K)'], ['Tpot (K)', 'Tdew (degC)'], ['Tdew (degC)', 'rh (%)']]], **{})\n",
       "chart"
      ]
     },
     "metadata": {},
     "output_type": "display_data"
    },
    {
     "data": {
      "text/html": [
       "<h4 class=\"colab-quickchart-section-title\">Time series</h4>\n",
       "<style>\n",
       "  .colab-quickchart-section-title {\n",
       "      clear: both;\n",
       "  }\n",
       "</style>"
      ],
      "text/plain": [
       "<google.colab._quickchart_helpers.SectionTitle at 0x793f275a8c70>"
      ]
     },
     "metadata": {},
     "output_type": "display_data"
    },
    {
     "data": {
      "text/html": [
       "      <div class=\"colab-quickchart-chart-with-code\" id=\"chart-080b9350-0858-469c-8e19-6b78c94a1d7d\">\n",
       "        <img src=\"data:image/png;base64,iVBORw0KGgoAAAANSUhEUgAAAQUAAACNCAYAAAC+Am+QAAAAOXRFWHRTb2Z0d2FyZQBNYXRwbG90\n",
       "bGliIHZlcnNpb24zLjcuMSwgaHR0cHM6Ly9tYXRwbG90bGliLm9yZy/bCgiHAAAACXBIWXMAAA9h\n",
       "AAAPYQGoP6dpAAAbF0lEQVR4nO3deVRTZ/4/8HcACTsUZRVZggGBhARDcUFA0H47rZWCpbYzdez5\n",
       "FvxOO7X6delUT/U3nTN27OixHXG+XZzO2KlWR6UCTtsB666lgguLqCyyCIggsi9hSfL8/qBEUhAT\n",
       "JFxMPq9zOJp7k+e+Sbwfn/vc597wGGMMhBDyExOuAxBCJhYqCoQQDVQUCCEaqCgQQjRQUSCEaKCi\n",
       "QAjRQEWBEKKBigIhRAMVBUKIBk6LQkNDAxYvXozg4GAEBATg1VdfhVwu5zISIUaP06Lw/vvvQygU\n",
       "oqCgAIWFhaivr8eePXu4jESI0eO0KPB4PLS3t0OlUqG3txddXV3w8PB44PN7enrQ1tam8bNjx45x\n",
       "TEyI4eO0KGzevBk3b96Eq6srnJ2dERAQgNjY2Ac+f+vWrbC3t9f4SUlJGcfEhBg+vRaFOXPmYMqU\n",
       "KcP+VFdX41//+hcCAwNx584d1NbWoqSkBJ9//vkD29u4cSNaW1s1fsLCwh74/KbuTpysKdbHr0aI\n",
       "wTLTZ+M//vjjiOs//vhj7N69G6amprC1tUVCQgJOnTqFpKSkYZ/P5/PB5/M1lpmamg773PLWe3jm\n",
       "aDJUYPgx4R1MsbQZ3S9BiJHh9PBBIBAgIyMDANDX14fMzEyIRKIxadvHbjKEDi6QK/rwydUzY9Im\n",
       "IcaA06Kwc+dOZGdnQywWQyKRwMnJCWvWrBmTtnk8HtaGLAQA/LPoAhrk7WPSLiGGTq+HDw/j4+OD\n",
       "zMxMvbUfPdUPIU7TkNtQjU+unsH/C3tOb9sixFAY9IxGHo+HtdL+3sKXRdm420W9BUIexqCLAgDM\n",
       "/6m30K3swyeFNLZAyMMYfFHg8XhYF/IUAODLoguo72rjOBEhE5vBFwUAiHIXQubkiR6lgs5EEPIQ\n",
       "RlEUBp+J2FucTb0FQkZgFEUBACLdhQh19kKPUoH/KzjNdRxCJiyjKQr9Ywv9vYWvSnJQR70FQoZl\n",
       "NEUBAOa5TceT1FsgZERGVRQGn4nYX5KDO52tHCciZOIxqqIAAOFuvpjl4t3fW7h6mus4hEw4RlcU\n",
       "Bs9y3F+cg1rqLRCiweiKAgDMdfPFLBcf9KqU+L+CU1zHIWRCMcqiMPhMxIGSi6jtaOE2ECETiFEW\n",
       "BaC/tzDbtb+38Nerp7mOQ8iEYbRFAYD6TAT1Fgi5T+uiUFZWhg0bNiAsLAzu7u7w9fXFkiVLsH//\n",
       "figUCn1m1Js5rgLMdRWgT6XELhpbIASAlkXhN7/5DV5++WU4Ojpix44dOHPmDNLS0vDyyy/j+PHj\n",
       "CA0NxYULF/SdVS8Gron4V+kl1HQ0c5yGEO5pdeel2NhYfPbZZ0OWi8ViLF26FI2NjSgrKxvzcONh\n",
       "tqsA4W6++OFOGf5acBofzI3nOhIhnNKqp7Bo0aIR10+ePHnEW61PdAPzFg5Sb4EQ7YrCBx98gF27\n",
       "dg1ZvmvXLmzbtm3MQ423Wa4+mOc2HX0qJZLzaWyBGDetikJKSgpWrFgxZHlSUhL2798/5qG4MDBv\n",
       "4VDpJVS3N3GchhDuaFUUGGOwsLAYstzS0hKMsTEPxYUnXbwR6S6EgqmQTGciiBHTqii0tLQMu/Or\n",
       "VCq0txvOHZIHxhYOl15GFfUWiJHSqihERUVhy5YtQ5Zv3boVUVFRYx6KK6EuXoga6C3kn+Q6DiGc\n",
       "0OqU5J///GdERUXh22+/xZw5cwAAFy5cQEtLC86cMawboa4NWYgztaU4fPMK3pJEw8t2MteRCBlX\n",
       "WvUUnJyccOXKFaxYsQK9vb3o7e3FihUrcOXKFTg7O+s747iSOXshaqoflExFZyKIUeKxx3ykcO3a\n",
       "tfjwww/HtM3Ld6vw/Lcfw5RngjNL1sHbjnoLxHjo9F2S0dHR4PF4GsscHBwwZ84crFq1asjXxD+u\n",
       "ZM6emD/VD6dvlyA5/yQ+jHiR60iEjBudrpKUyWQwMzNDYmIikpKSYG5uDnd3d1y6dAlvvfWWvjJy\n",
       "YuAKyq/LclHRdo/jNISMH516CllZWTh37hxMTU0BAC+++CIiIiJw/vx5iMVivQTkSojTNMR4+ONk\n",
       "TTGS80/io4ilXEciZFzo1FNobGzUOHzg8Xhobm6GmZnZsJObHndrfpq38HVZLspbqbdAjINORWHB\n",
       "ggV45plnsHfvXuzduxeLFy9GTEwMOjo6DGY8YbAQp2lY4DEDKsZo3gIxGjoVheTkZMTGxiItLQ1p\n",
       "aWl47rnnsGvXLtjY2Dy291N4mIH7LRwpz0V5awPHaQjRP53GFMzMzPDmm28iKSnJIHsGw5FM8cDC\n",
       "aTNwvLoIf8k/ieTIl7iORIhe6VQUCgoK8Ktf/QotLS2oqanB5cuXcfDgQYO4fHoka6ULcby6CGnl\n",
       "eVgtiYGvvRNnWfpUStyTd+CevAN35e24192BBnk7GuQduNfdAR+7KVjuPxvOVracZSSPN50mL82f\n",
       "Px9btmzBW2+9hdzcXDDGIBKJcO3aNX1mHJE+Ji8N57Xj/8Sx6huIF0ixK+rlMW1boVKisbvz/o4+\n",
       "aIcfeDyw4zf3dD20Pb6pGRJ8Z+I3oggIOCxg5PGkU0+ho6MD8+bNUz/m8XgwNzcf81AT0RrpQhyr\n",
       "voH0inyslsRgusPI07uVKhWaejrVO7P6f/PBO3xX/59N3V1g0H5iqSnPBFMsbeBkYQMnS1s4Wdpg\n",
       "iqUNHPhWyLh1DVcaqvBVSQ72l1zE056BeEMcBZmz56O+BcRI6Dym0NfXpz4tWV1drZ6zYOjEU6bi\n",
       "ac9AZFZdxweXM/FqwGzclXfgnrxd/efgHb6xuxMqHWaQm/B4mGLRv3M7Wdpq7PCDd3xnS1s48C1h\n",
       "wht+jPgNUSQu3r2FT66ewffVN5BRdQ0ZVdcwy8Ubb4ijEOPh/8DXEgLoWBRWrlyJuLg4NDQ0YNOm\n",
       "Tdi3b5/BjycMtka6AJlV19U72sPwwMNkC+uf7dg/7fBWmjv+E3wrmJo8+s7K4/EQ5uKNMBdvlLTU\n",
       "47PCczhSlovs+kpk11fCz8EZr4siESeQwtxUp4+fGAmdL4jKyspCeno6GGOIjY3VOJzgwniNKQx4\n",
       "L/vfSK/IhyPfetD/5MP8r25hC0cLK5iZcN+TutPZin9cz8K+4gto7+sBALhY2SEpMByv+M+Cnbnh\n",
       "TTwjo0dXSRqRtt5ufFWcjc+v/4D6rjYAgO0kPpb5z0ZiUDhcrew4TkgmAq2KwnBXRw528iR3s/2o\n",
       "KOiuV6lAWnkePi08i5KWuwCASSamWOIbgtdFkRA+ZBCVGDatDmLXr1+PdevWYebMmQCA1157DYmJ\n",
       "iTAxMYFMJhv1xuvr67FkyRIEBwcjICAAf/nLX0bdFtGeuakZlgpDcTzuf/HFwlcxy8UbfSolDpZe\n",
       "QnTqh3jt+D9xsb6S65iEIzodPsyePRvnz5+HmVn/AFVvby8iIyNHPcX5lVdegY+PD7Zs2YLOzk6E\n",
       "h4fjb3/7G5588kmt26Cewti4fPcWPrl6FplV19WnR2VOnnhDHIX/8gygMxZGRKdPuqmpSeMwwsTE\n",
       "BE1No7/rcX5+Pp599lkAgLW1NSIjI7F3794HPr+npwdtbW0aP0qlctTbJ/fJnL3w+YJf48yStXjF\n",
       "Lwx8UzNcbqhC0sm9iE79CPtLctCt6OM6JhkHOhWFhQsX4he/+IX6KslFixbhqaeeGvXGZTIZ9u/f\n",
       "D5VKhYaGBmRmZqKysvKBz9+6dSvs7e01fnJycka9fTKUwN4Jfw5fgh8T3sFbwdGwN7dAWWsDfvfD\n",
       "EcxN2Ya/FpxGa4+c65hEj3Q6fFAoFNi9ezdOnDgBoL9IrFixQn048XNz5sxBaWnpsOtyc3NhaWmJ\n",
       "9evXIzc3F87OzhAIBGhoaMCRI0eGfU1PTw96eno0lm3evBk7d+7U9lcgOuro68GBkhzsLjyPO12t\n",
       "AABrM3P8yj8MS6eHIsDRleOEZKxNqFOSr7/+OpycnPDHP/5R69fQmML46FMpkV6ej08Lz6KouU69\n",
       "fMYTrogXSBEnkGKqjQN3AcmY0erwYdu2bZDLH9xlvHz5Mr777judN97Y2Ii+vv7j1NzcXKSlpeG3\n",
       "v/2tzu0Q/ZtkYoqE6TPx/fOr8eVT/42nPQNhbmKKouY6bL2cgVmHP8AL332GfcXZWl20RSYurea5\n",
       "WltbQyQSYd68eZg1axZcXFzQ3d2N4uJiZGRkwMXFBcnJyTpvPCcnB6tWrYKZmRlsbW1x6NAhuLm5\n",
       "6dwOGT88Hg8xHv6I8fBHS08XvrtViNSyPFyoq0B2ff/P5gtHEePhj3iBFAumBcDSbBLXsYkOtD58\n",
       "6O7uRkpKCk6fPo2amhpYWVkhODgYCQkJEIlE+s75QHT4MDHUdrQgvSIfqeV5uN50R73cZhIfz3gF\n",
       "IV4QgnA33zG5voPo14QaUxgNKgoTT3FzPVLLc5FWnoeajhb1cmdLW8T6BCPeNwTBk6eOOEuWcIeK\n",
       "AtEbFVPh0t0qpJbl4t+VV9EyaKxBYDcF8b79A5Q+dlM4TEl+jooCGRe9SgXO3C5BankejlXdQLfy\n",
       "/kSoEKdpiBNIEesTDCdLuo0c16gokHHX0deDjFvXkFqeh3O1peqb0ZjyTDDPfTriBVL8wisINpOM\n",
       "4+bAE41WZx9++ctf4sCBA/rOQoyEzSQ+EqbPRML0mWiQt+NoRQFSy/KQd68aZ26X4MztElhkTcLT\n",
       "noGI95UiaqofJk2A+1IYC62KQlFRkb5zECPlZGmLxMBwJAaGo7z1HtLK85BanoeKtntIr8hHekU+\n",
       "nuBbYbFPMOIEUoQ6e9LFWXqmVVGgUWIyHgT2U7A2ZCHWSBegoPE2UstycbSiAHfl7fiy6AK+LLoA\n",
       "DxsHxAmkiBeEwP8JF64jGyStxhTMzMxgZzf0rjyMMfB4vEe6UvJR0ZiCYVOolMi6U47U8lz859Y1\n",
       "dPTdv/Yl0NEN8QIpnhdI4W5tz2FKw6JVUQgKChpxGrOXl9eYhtIFFQXjIVf04Xj1DaSW5eLU7RL0\n",
       "qfovm+eBh9muPoj3leJZLxEc+FYcJ328aXX4wOfzOd3xCQEAS7NJWOwTjMU+wWju6cK3FVeRWp6H\n",
       "7PoK/FhXjh/ryrHpx3REe/gj3jcECz1mwIKmWOtMq6LwmJ+1JAboCb4Vls2YhWUzZuF2R4t6gLKo\n",
       "uQ6ZVdeRWXUdtpP4eNZbhHhBCOa4CmiKtZZongIxKDea6tRTrGs7W9XLXazs8LxPMOIFIRBNdqfB\n",
       "8xFQUSAGScVUyKmvRGpZHr6pvIrW3vuX/k+3d+o/g+ErhZftZA5TTkxUFIjB61UqcPp2CVLL8nCs\n",
       "+jp6lAr1uplOnogXSBErCMZkCxsOU04cVBSIUWnv7VZPsT5/56bGFOtIdyHifaV42jMQ1kY8xZq+\n",
       "TJAYFVtzC7wolOFFoQz1XW34d0UBUsvzkH+vBqduF+PU7WJYmk3C055BiBdIETlVaHRTrKmnQAiA\n",
       "stYGpJbnIbUsD7faG9XLHfnWWOwjRrwgBDJnT6MYoKSiQMggjDHk3qtGalke/l1RgHvdHep1njaO\n",
       "iBNIEO8bYtBfrUdFgZAHUKiUOH+nDKlluci4dQ2dil71OpGjO+J9pYj1kcDNwKZY05gCIQ9gZmKK\n",
       "+VP9MH+qH+SKXhyruoHU8lycrilBYVMtCptqseXifzDXTYA4Qf8Ua3u+JdexHxn1FAjRUVN3J76p\n",
       "vIrUslxcvHtLvZxvavbTXaxDEOPh/9hOsaaiQMgjqG5v6r+LdVkeilvq1cvtzC3wrJcI8b4hmOPq\n",
       "81jdA4KKAiFjgDGGG813cKQsD+nl+eqv2AMAVys7PC+QIl4gQZDjxJ9iTUWBkDGmYipcqKtAanke\n",
       "vqu8itbebvU6ob2z+i7WnraOHKZ8MCoKhOhRj1KBkzVFSCvPx/HqGxpTrEOdvRAvkGKxTzAcLaw5\n",
       "TKmJigIh46Sttxv/+elr9n64UwaG/l3PjGeCtEVvQOo0jeOE/eiUJCHjxM7cAi8JQ/GSMBR1XW04\n",
       "Wt7/NXu1nS0ImuzOdTw1KgqEcMDVyg7/I4rA/4gi0NTdOaGur3h8zpMQYqAm0ngCQEWBEPIzj/1A\n",
       "45IlS+Dt7T3sOqVSiZycHISFhcHUdOJ0zx6E8urX45o3ISEB69atG7ftPvZFYSRtbW2wt7dHa2vr\n",
       "sN9bMdFQXv2ivNqhwwdCiAYqCoQQDVQUCCEaDLoo8Pl8/P73vwef/3jchJPy6hfl1Y5BDzQSQnRn\n",
       "0D0FQojuqCgQQjRQUSCEaJiwRSEjIwOhoaEIDg7G7NmzkZ+fDwC4ePEiwsPDIZFIIJVKcfLkSY3X\n",
       "ffzxxwgICIBYLIZEIkF3d/dwzYPH40EsFkMqlUIqleLcuXPqddnZ2ZBIJPDz80NMTAxu377Nad6r\n",
       "V6+qc0qlUnh7e8PR8f4NOry9veHv769ef/DgQb3kjY+P18hhYmKCo0ePDtt+aWkp5s6dCz8/Pzz5\n",
       "5JO4du2aVuu4yNvd3Y24uDj4+flBIpHgqaeews2bN9Xr58+fDx8fH3U7H330Ead5gZE/89G8vxrY\n",
       "BNTU1MQcHR1ZYWEhY4yxs2fPsqCgIKZSqdjUqVPZ999/zxhjrLi4mE2bNo11dXUxxhhLS0tjc+fO\n",
       "ZS0tLYwxxu7evcsUCsWw2wDAmpubhyxXKpXM19eXnTx5kjHG2Pbt21lCQgLneQd788032cqVK9WP\n",
       "vby8WG5u7kNf96h5B7t48SKbPHky6+npGXYb0dHRbM+ePYwxxg4fPsxCQ0O1WsdFXrlczr799lum\n",
       "UqkYY4zt2rWLRUVFqddHRUWx1NTUETOOZ17GRv7MdX1/f25CFoWLFy8yoVCosczW1pZlZ2czc3Nz\n",
       "jeVisZh9/fXXjDHGwsPDWWZmplbbeFBRyMnJYf7+/urHbW1tjM/nM7lczmneAXK5nDk4OGj8g9C1\n",
       "KIw272Cvv/46W7169bDt19fXM1tbW9bX18cYY0ylUjEXFxdWWlo64jqu8g63PS8vL/VjXYvCeOR9\n",
       "0Gc+mvf35ybk4YNQKERjYyOysrIAAEePHkV7eztqamrg5uaGQ4cOAejvihUXF6OyshIAcP36dVy6\n",
       "dAnh4eEIDQ1FcnLyiNtZsGABJBIJ1q5di87OTgBAVVUVvLy81M+xtbWFnZ0damtrOc8LAEeOHIFA\n",
       "IIBUKtVYvnz5cojFYiQmJqKhoWHENkabd4BcLseBAweQmJg4bPvV1dVwc3ODmVn/7Tp4PB48PT1R\n",
       "VVU14jqu8v7czp078fzzz2ss27BhA8RiMV566SWUl5eP+PrxyjvcZz6a9/fnJmRRsLe3R0pKCjZu\n",
       "3AiZTIZjx44hMDAQZmZmSE9Pxz/+8Q+EhIRg586dmDdvnvoNUCgUqKiowNmzZ5GRkYHPPvsM33zz\n",
       "zbDbuHXrFi5fvoysrCw0NDTg7bffntB5B/z9738f8o/l7NmzKCgowJUrVzBlyhS8+uqresk7ICUl\n",
       "BX5+fhCLxaN4t3Q3nnn/9Kc/4ebNm9i6dat62d69e1FUVISCggJERETgueee4zyvrp+5TrTuU3Co\n",
       "u7ubOTg4DNsFmjFjBjt+/DhjjLGgoCB24sQJ9br169ezd99996HtZ2VlMZFIxBgb/vDB3Nx8xMOH\n",
       "8cpbXl7OrKyshj3sGVBbW8tsbGy0zqpL3gFRUVHs008/fWB7Y334oO+8A7Zv385kMtmI7y9jjPH5\n",
       "fHbv3j3O8w4Y/JmPxfs7YYtCbW2t+u/vvvsuW7JkyZDlu3fvZjKZTD1A9P7777O3336bMcZYV1cX\n",
       "Cw0NZYcOHRrSdlNTE+vs7GSM9Q8srl69mv36179WPxYIBBoDjS+88AKneQds2rSJvfLKKxrLOjo6\n",
       "NP4R79ixg0VEROglL2OMlZaWMmtra9ba2jpi+1FRURqDXTKZTKt1XOXdsWMHmzlzJmtqatJY3tfX\n",
       "x+rq6tSPU1JSmKenJ6d5H/aZj+b9HWzCFoWkpCTm7+/PfH192bJly9RvwnvvvceEQiGbPn06W7x4\n",
       "MauqqlK/Ri6Xs+XLl7OAgAAWGBjINm/erF73ySefqB9nZWUxsVjMgoODWWBgIFu2bBlrbGxUP3dg\n",
       "vVAoZFFRURrb4CIvY/3FysPDQ12sBpSVlTGpVMrEYjETiUQsNjaWVVRU6CUvY4xt3LiRLV++fEh7\n",
       "6enpLDExUf24qKiIzZ49mwmFQiaTyVhBQYFW67jIW11dzQAwgUDAJBIJk0gkLCwsjDHWvwPKZDIm\n",
       "EolYcHAwi4mJYXl5eZzmfdhnPpr3dzC69oEQomFCDjQSQrhDRYEQooGKAiFEAxUFI5efn49Fixbp\n",
       "/LrTp08PmUA1WuvXr8f+/fvHpC3y6KgoGLmNGzdiw4YNnG1fqVTid7/7Hd577z0olUrOcpD7qCgY\n",
       "IB6Ph02bNiEkJAR+fn746quvhn1eVVUVrl27hoiICABAZWUlHBwcsHnzZsycORNCoRA//PAD1qxZ\n",
       "A6lUCpFIhMLCQvXrFQoFli9fDpFIBJlMhry8PABAXV0doqOjIZPJEBQUhJUrV0KlUgEAvvjiC0RH\n",
       "R+OFF16AWCxGTk4OnJ2d4evri2PHjun3jSHa0ekEJnksAGCbNm1ijPWf037iiSeGnbvw5ZdfakzM\n",
       "qqioYADUF/98/vnnzNraWj03Ytu2beorRk+dOsUAqGfjHTx4kPn7+zOVSsXkcjlrb29njDGmUCjY\n",
       "okWL2IEDBxhjjO3Zs4dZWlqyoqIijSx/+MMf2Lp168buTSCjRj0FA5WUlAQAEAgEiIyMxNmzZ4c8\n",
       "p6amBi4uLhrLLCwsEBcXBwAIDQ2FjY0NoqOjAQBhYWEoLS1VP9fb2xsLFiwAACxduhR1dXWorq6G\n",
       "SqXCO++8A4lEgpCQEFy6dEndiwCAuXPnwt/fX2O7rq6uqKmpeeTfmzw6+tZpI8Hj8YYss7KyGnJT\n",
       "l8F3DjY1NYWFhYXGY4VCMeI2eDwePvzwQ9y9exfZ2dmwsLDA2rVrNbZjY2Mz5LXd3d2wtLTU6Xci\n",
       "+kE9BQO1Z88eAP3jBOfOnVOPGwwWHByM4uLiUW+jsrISp06dAtB/ZZ+Liws8PDzQ3NwMV1dXWFhY\n",
       "oK6uDocPH35oWzdu3IBEIhl1FjJ2qKdgoJRKJUJCQtDZ2Ynk5ORhv4R33rx5qKmpQVNTk8bt3bQV\n",
       "FBSEL774AqtWrYK5uTkOHDgAHo+H1atXIyEhAUFBQXB3d8fChQtHbIcxhhMnTnB6FoTcR9c+GCAe\n",
       "j4fm5mY4ODg89Lnbt28HgEe6n8SjysjIwL59+7Bv3z7OMpD76PDByK1evXrYY/zx1Nraim3btnGa\n",
       "gdxHPQVCiAbqKRBCNFBRIIRooKJACNFARYEQooGKAiFEAxUFQogGKgqEEA1UFAghGv4/X9xsO4aQ\n",
       "I14AAAAASUVORK5CYII=\n",
       "\">\n",
       "        \n",
       "      </div>\n",
       "      <script></script>\n",
       "      <script type=\"text/javascript\">\n",
       "        (() => {\n",
       "          const chartElement = document.getElementById(\"chart-080b9350-0858-469c-8e19-6b78c94a1d7d\");\n",
       "          async function getCodeForChartHandler(event) {\n",
       "            const chartCodeResponse =  await google.colab.kernel.invokeFunction(\n",
       "                'getCodeForChart', [\"chart-080b9350-0858-469c-8e19-6b78c94a1d7d\"], {});\n",
       "            const responseJson = chartCodeResponse.data['application/json'];\n",
       "            await google.colab.notebook.addCell(responseJson.code, 'code');\n",
       "          }\n",
       "          chartElement.onclick = getCodeForChartHandler;\n",
       "        })();\n",
       "      </script>\n",
       "      <style>\n",
       "        .colab-quickchart-chart-with-code  {\n",
       "            display: block;\n",
       "            float: left;\n",
       "            border: 1px solid transparent;\n",
       "        }\n",
       "\n",
       "        .colab-quickchart-chart-with-code:hover {\n",
       "            cursor: pointer;\n",
       "            border: 1px solid #aaa;\n",
       "        }\n",
       "      </style>"
      ],
      "text/plain": [
       "import numpy as np\n",
       "from google.colab import autoviz\n",
       "df_6931137707896255445 = autoviz.get_registered_df('df_6931137707896255445')\n",
       "\n",
       "def time_series_multiline(df, timelike_colname, value_colname, series_colname, figsize=(2.5, 1.3), mpl_palette_name='Dark2'):\n",
       "  from matplotlib import pyplot as plt\n",
       "  import seaborn as sns\n",
       "  palette = list(sns.palettes.mpl_palette(mpl_palette_name))\n",
       "  def _plot_series(series, series_name, series_index=0):\n",
       "    if value_colname == 'count()':\n",
       "      counted = (series[timelike_colname]\n",
       "                 .value_counts()\n",
       "                 .reset_index(name='counts')\n",
       "                 .rename({'index': timelike_colname}, axis=1)\n",
       "                 .sort_values(timelike_colname, ascending=True))\n",
       "      xs = counted[timelike_colname]\n",
       "      ys = counted['counts']\n",
       "    else:\n",
       "      xs = series[timelike_colname]\n",
       "      ys = series[value_colname]\n",
       "    plt.plot(xs, ys, label=series_name, color=palette[series_index % len(palette)])\n",
       "\n",
       "  fig, ax = plt.subplots(figsize=figsize, layout='constrained')\n",
       "  df = df.sort_values(timelike_colname, ascending=True)\n",
       "  if series_colname:\n",
       "    for i, (series_name, series) in enumerate(df.groupby(series_colname)):\n",
       "      _plot_series(series, series_name, i)\n",
       "    fig.legend(title=series_colname, bbox_to_anchor=(1, 1), loc='upper left')\n",
       "  else:\n",
       "    _plot_series(df, '')\n",
       "  sns.despine(fig=fig, ax=ax)\n",
       "  plt.xlabel(timelike_colname)\n",
       "  plt.ylabel(value_colname)\n",
       "  return autoviz.MplChart.from_current_mpl_state()\n",
       "\n",
       "chart = time_series_multiline(df_6931137707896255445, *['p (mbar)', 'T (degC)', None], **{})\n",
       "chart"
      ]
     },
     "metadata": {},
     "output_type": "display_data"
    },
    {
     "data": {
      "text/html": [
       "      <div class=\"colab-quickchart-chart-with-code\" id=\"chart-5f77b2f5-2cf4-42d5-9ced-8b61eb5f33ac\">\n",
       "        <img src=\"data:image/png;base64,iVBORw0KGgoAAAANSUhEUgAAAQUAAACNCAYAAAC+Am+QAAAAOXRFWHRTb2Z0d2FyZQBNYXRwbG90\n",
       "bGliIHZlcnNpb24zLjcuMSwgaHR0cHM6Ly9tYXRwbG90bGliLm9yZy/bCgiHAAAACXBIWXMAAA9h\n",
       "AAAPYQGoP6dpAAAf90lEQVR4nO3deVwTZ/4H8E8AE0Au8UBQAUESBEIiwUBFtFjdth7FVq22BW1X\n",
       "112PravWqq/q1nZr3a1Xqa1Hd6v9FZVSj4q1SouiYqUG1AKiElHkEkEFueQMeX5/RFJTAgQkCcf3\n",
       "/Xrx0sxkZj6TkC/PTOaZh8MYYyCEkMdMjB2AENK5UFEghGigokAI0UBFgRCigYoCIUQDFQVCiAYq\n",
       "CoQQDVQUCCEaenRRiIiIMHYEQjqdHl0UcnJyjB2BkE6nRxcFQkhTVBS0yC4vxqrE7/F/1381dhRC\n",
       "DI6Kghbn797CXrkMn6edQV2DwthxCDEoKgpaTHMfgQEW1rhbVYaYrFRjxyHEoKgoaGFu1gtzvYIA\n",
       "ADvSz0LJlEZORIjhUFFoRrhnIKx78XCj9B5O5WUYOw4hBkNFoRk2XHOECQIBANuvnDVyGkIMh4pC\n",
       "C+Z5B4FrYorkezlILso2dhxCDIKKQgscLG0wbZgfAGotkJ6DikIrFviMAQccxOVdh/xhkbHjEKJ3\n",
       "VBRa4WbbHy+6eAMAdqZTa4F0f1QUdLBQOBYA8P2tFBRUlho3DCF6RkVBB+L+QzBqoBsUTIn/XvvF\n",
       "2HEI0SsqCjpa6PssAGCfPAkPa6uMG4YQPaKioKOxTh7wtndElaIO31BHKdKNUVHQEYfDwYLH5xZ2\n",
       "X09EtaLOyIkI0Q8qCm0w2VUIZyt7FNc8QnTmJWPHIUQvqCi0gZmJKeb7BAMAdqUnQKFsMHIiQjqe\n",
       "3opCTU0Npk6dCj6fD5FIhAkTJuDmzZsAAMYY1q1bBz6fD6FQiJCQEPVyzz77LIYOHQqxWAyxWIyt\n",
       "W7c2u41jx47B09MTHh4eeOWVV1BeXq6v3VGb6SGBPa838iof4lj2Fb1vjxBD02tLYf78+ZDL5UhN\n",
       "TUVoaCjmzZsHAPjss8+QlpaG9PR0XLlyBVFRURrLbd26FSkpKUhJScHSpUu1rruyshJz587FkSNH\n",
       "kJmZCScnJ/zrX//S5+4AACzMuPiz1ygAqkufadBu0t3orSiYm5tj4sSJ4HA4AIDAwEBkZ2cDADZu\n",
       "3Ih///vf4HK5AICBAwe2ef0nTpzAiBEj4OnpCQBYuHBhk+LypNraWpSXl2v8NDS0r/k/Z/gzsDTj\n",
       "4lrJXZwtyGzXOgjprAx2TiEiIgKhoaEoLy9HUVERYmJiEBAQgICAAERHR2s8d9WqVRAKhZg5cyay\n",
       "srK0ri83NxcuLi7qx66urrh79y4UCu23T9uwYQNsbW01fpKSktq1L314lnidPxIAsD3tTLvWQUhn\n",
       "ZZCi8PHHH+PmzZvYsGEDFAoFFAoFqqurIZPJEB0djaVLlyI1VXXbs8jISGRkZCAtLQ3BwcGYPHly\n",
       "h2RYvXo1ysrKNH6kUmm71zffOxhmHBMkFmYh5X5eh2QkpDNoU1GoqKjA8ePH8eWXXyIyMhJpaWmt\n",
       "LrNp0yYcPnwYJ06cgKWlJezt7WFlZYWwsDAAqr/wQUFBSE5OBgAMGTIEgOq6gMWLFyMrKwvFxcVN\n",
       "1uvs7KwxbkN2djYcHR1hZmamNQePx4ONjY3Gj6mpaVt2X4OTlR2muokBULdq0r3oVBRycnIwZ84c\n",
       "uLu7Y/PmzTh79iyOHDmCWbNmwdPTE7t379a63JYtWxAVFYW4uDjY2dmpp7/22muIjY0FAJSUlCAp\n",
       "KQm+vr5QKBQoKvq9e/KhQ4fg4OCAvn37Nln3Cy+8gMuXLyMjQ3WrtO3bt2PWrFk673hHaLyY6UTO\n",
       "VWSV3TfotgnRG6aD4OBgFhMTw+rr65vMu337Nlu1ahXbtm2bxvS8vDwGgLm5uTGRSMREIhGTSqWM\n",
       "McYePHjApkyZwry9vZm3tzf74osvGGOMVVZWMolEwnx8fJivry8bN24cS0lJUa9z7dq1bMeOHerH\n",
       "MTExTCAQMHd3dxYaGspKS0t12R21pUuXtun52syJ28MG7V7JVvxy6KnXRUhnwGHs6b5Tq6urU3+L\n",
       "0NUsW7YMW7Zseap1JBVl45XjO8E1McWvM1bCwdKmg9IRYhw6HT58+umnWqfX1tYiNDS0I/N0OVIH\n",
       "V/gPcEGdsgFfXTtv7DiEPDWdisKuXbvwzTffaEyrq6vDyy+/DFtbW70E60oWPT63EJlxAeV1NUZO\n",
       "Q8jT0ako/PTTT1i3bh1++OEHAEB9fT2mTZsGKysr7N+/X68Bu4LnhniCbzcAFfW12CuXGTsOIU9F\n",
       "p6Lg7OyM48ePY9GiRYiLi8P06dPB4/EQFRUFExPqU2XCMcECH1Vr4aurv6CWxp8kXZjOn2hPT08c\n",
       "OXIEr776Knr16oXo6Oin+p6/uwl1E8HR0hZF1RU4dOuyseMQ0m46FYU+ffrA3t4e48ePR1VVFeLi\n",
       "4tC/f3/1dAJwTc0w32c0AGDnlQQ0KGn8SdI1ab/87w9SUlL0HKN7eJ0vxacp8cgqf4DY3KuY5Co0\n",
       "diRC2kynovBkxyPSvN69eHhz+DOISI3H9itnMdHFR91LlJCuQqfDh4ULFyI/P1/rPMYYDh06RN9C\n",
       "PPbW8FHgmZoh9UE+Egu19/AkpDPTqaUwadIkTJw4EX369EFAQAAcHBxQU1MDuVyO8+fPY+LEifjw\n",
       "ww/1nbVL6GdhhVke/vi/jAvYfuUsghzdjR2JkDbRqaUwadIkpKWlYf369bCxsUFmZiaKi4sxbtw4\n",
       "yGQybNu2DX369NF31i5jvk8wTDgcnL1zA1eLC4wdh5A20aml0Gj06NEYPXq0vrJ0Gy7WfTHF1Rcx\n",
       "t1OxPf0svhj7mrEjEaIzuvJITxYIxwAAfridhtyKEiOnIUR3VBT0xKfvIIx18oCSMexKP2eUDIwx\n",
       "lNfVILeiBGkP8pFwJxNHs1Lx7Y1k5Fc+NEom0vm16fCBtM1C4VicLchEdOZFLBvxHPqaW7VrPQpl\n",
       "A8rqqlFaW43S2iqU1lbjYW3V42lVGtNL635/XF5Xgwam/SKqXiameI0/En/3DYFjb+rURn7XpqLw\n",
       "0UcfYc2aNa1OIyqjHN0h6jcYqQ/ysftaIhb7hmh8eMua+TA3/tv4oa+or32qHBZmvWDLtYAdzxJ2\n",
       "PAvUKBRIeZCHbzIuIDrzIsIEAVgkfBYDLK07aM9JV9amm6z4+fnh8uXLrU4DVIPBzJo1C9euXYOF\n",
       "hQUGDBiAHTt2YNiwYWCM4YMPPsD+/fvB4/HQr18/nD59WmP5+Ph4TJgwAZs3b8Y//vEP7eE5HPj4\n",
       "+Kj7YGzbtg3BwcG67k6H3GSlNceyr+Bvp/d1yLpsuOaw46o+2I0fcDueJey4FrB94v+qear5tlwL\n",
       "mJv1arKuxLu3sOm3OCQVZQMAzE174c3hz2ChcCzszXt3SF7SNenUUvjpp58QGxuLO3fuYNmyZerp\n",
       "ZWVlLS43f/58vPjii+BwOPj8888xb948nDlzRmMwGC6Xi8LCQo3lysrKsGrVKkycOLHVbOfOndO4\n",
       "/2Nn86KzN3zsnZBeovpq0pRjovFhtuNZqj7Q3D980Bv//7gI2HDNYWbScR3QRjm649BANyQUZGLj\n",
       "5TikPMjDzvQERGZcwDzv0ZjvHQxbnkWHbY90HToVBXNzc9jZ2cHExETjpipDhgzB2rVrm13myQ91\n",
       "YGAgNm3aBEA1GEx8fHyzg8EsXrwYa9asweHDh9u2Ny2ora1Fba1mM7y9g8G0hamJCY5OXoh71RWw\n",
       "5VrAqhev01z6zOFwMHYQH2OcPHAqPwObLschvaQAEanx2HM9EfO9gzHXKwjWXHNjRyWG1JYbOj55\n",
       "E9W2CgsLY2+//TYrKytjZmZm7JNPPmFSqZRJpVL27bffqp934MABNnv2bMYYY3PmzGFbt25tdp0A\n",
       "mJ+fH/P19WVLly5llZWVzT73/fffZwA0fgIDA9u9P92RUqlkP96+wsYd3sIG7V7JBu1eybz3fcA+\n",
       "Tz3NHtXVGjseMZA2fSXp5uaGRYsWgc/ng8/n4+9//zsqKipaXU7XwWAKCwvx0UcfISIiQqc8OTk5\n",
       "uHTpEhITE3H//n2sWLGi2ed29GAw3RGHw8FEVx/ETV2CL8a+Bnfb/iitrcKGS7EYdfAT/PfqOVQr\n",
       "6o0dk+hZm040hoeHw9LSEgsWLACHw8GuXbtQUVGByMjIZpfZtGkTvv32W5w8eVJ97G9tbY3U1FS4\n",
       "ubkBAGbMmIHnn38ejo6O+POf/wwLC9Wx7IMHD8DlcrFgwQKsX7++xWy//vor5s+fjytXdB8J2hAn\n",
       "GrsyhbIBR7JSsDXlFHIeX4DlYGmDt31DMIs/EjxT+ka7W2pLs8LX11enaY02b97M/Pz8WElJicb0\n",
       "v/zlL+qxHoqLi5mzszOTyWRNlm/p8KGkpIQ9evSIMcZYQ0MDW7JkCQsPD9d1VxhjHTPuQ09Q16Bg\n",
       "++QyJo3eoD6skEZvYPvkMlbXoDB2PNLB2nT40NDQoHG4UFlZ2ezJuvz8fCxfvhylpaUICQmBWCxG\n",
       "QEAAANVgr7GxsfDx8cGYMWOwcuVKnZryO3fuxD//+U8AQEZGBgIDAyESiSAUClFcXNzsrejJ0+ll\n",
       "YorX+VIkTHsH6wND4WBhjTuPSvHu+cN49vBmHLx5ie401Y206fBh48aN+PrrrzFz5kwAwHfffYe3\n",
       "3noLy5cv11tAfaLDh/apVtRjr/wCvkg7iwc1lQAAd9v+WCYejylDhTDh0NXzXVmbR4g6ceIETp06\n",
       "BQAYP348XnjhBb0EMwQqCk+nqr4Oe64nYkd6AkprqwAAAjsHvOM3AS84e3ear15J27Rr2Lj8/Hxw\n",
       "OBwMGjRIH5kMhopCx6ioq8FX187jy6vn1IPh8O0GIEwQgGnufnQRVBfTpnZeamoqhg8fDl9fXwiF\n",
       "Qnh5eSE1NVVf2UgXYc01xz/EzyFx+rtYIhqH3mZc3Ci9h3/KfoAk+mMs/+Ugfrufh3b8/SFG0KaW\n",
       "wsiRI/Huu+9ixowZAICDBw/iP//5D5KTk/UWUJ+opaAf5XU1OHzrN0RmXIC8tEg93cfeCWGeAXjZ\n",
       "TYzevXhGTEha0qaiIBQKm1wH4Ovri7S0tA4PZghUFPSLMYZL93IRKb+AY9lX1CNnWfXi4WU3McI9\n",
       "A+Bl72TklOSP2nT44OfnhzNnzqgfnz17FhKJpKMzkW6Cw+HA38EFEWNm4uKrq/G+dBLcbPqhsr4W\n",
       "kXIZ/hTzGV46th0HMi/RlZKdSJtbCteuXYOrqysAIDs7G15eXujVS9U1V1sX6s6MWgqGxxhDYmEW\n",
       "9mbIEJt7FfVK1XUutlxzTB8mQZggAB52A4ycsmdr03Wqn3/+ub5ykB6Cw+EgyNEdQY7uuF9dgejM\n",
       "S9gnlyGv8iG+unYeX107j8CBQxEmCMCLLj50KbUR6NRSeO211xAVFWWIPAZFLYXOQcmUOHsnE3vl\n",
       "MsTlXYfy8a+kPa83Znr44w2BFK42fY2csufQqQxnZGToOwfpwUw4JggZLEDIYAEKHpXh2xvJ2H8j\n",
       "CYVV5diRfhY70s9ijJMHwgQBmOA8HL068GYzpCmdigJdmUYMxam3LZaNGI+3RSGIz5cjMkOGM3du\n",
       "IKEgEwkFmXCwsMYs/ki8zpdikJWdseN2SzodPpiZmcHGxqbJdMYYOBwOSkq65rgGdPjQNeRVlGD/\n",
       "jWRE3UhW97Uw4XAwbrAA4YJAPDuID1MT6m/RUXRqKQgEAhw/flzfWQjRaoi1PVZKnsdS8XP4Ofca\n",
       "IuUynL97CyfzMnAyLwODetvhdf5IzOKPhINl0z9epG10Kgo8Ho+GoydGxzU1w+Shvpg81BdZZfex\n",
       "T56E6JuXcOdRKTb+FoetKafwJ2cvhAkCMNrJnXprtpNORYGuWSedjZttf6yVTsIKvz/hx5x07M24\n",
       "gOR7OTiek47jOelwse6LMIEUr3pI2j0IT0/Vrl6S3QWdU+heMh4WYq9chkM3L6sH0OGamOJFVx+E\n",
       "CwIQ4DCUTprrQG/tq5qaGkydOhV8Ph8ikQgTJkzAzZs3AahaHuvWrQOfz4dQKERISEiT5ePj42Fq\n",
       "atri3ZRkMhlEIhH4fD7GjRuHO3fu6Gt3SBfg2WcgPgoMxaWZ72FT0DSI+g1GnbIBMVmpmH7iS4z7\n",
       "fiu+unZefe8Hop1eD7rmz58PuVyO1NRUhIaGYt68eQCgMRjMlStXmlwYpctgMEqlEm+88QY+/fRT\n",
       "3LhxAxMnTmx2JCnSs1j24mIWfyR+nLIYx6csxut8KSzNuMgsu4f3H3fnXnbuAC7fz6VDYy0Mdvhw\n",
       "8eJFTJ8+HdnZ2Rg8eDDi4+PB5/O1Pjc8PBwzZszA4cOHIRaLtX7Yk5OTER4err6wqqKiAv3790dp\n",
       "aSnMzZsOXqJtMJi1a9fqfDt50rVV1NXg+6wUfJNxARkPfx+RzNveEWGCALzsPgJW1J0bgAGHoo+I\n",
       "iEBoaCjKy8tRVFSEmJgYBAQEICAgANHR0ernHTx4ECYmJnjppZdaXF9ubq7GNyLW1tawsbFBQUGB\n",
       "1udv2LABtra2Gj9JSUkds3Ok07PmmmO2ZyDiQpcgZtICzBjmB56pGa6W3MXqX49A8u16rEr8HunF\n",
       "dAhqkN4mjYPBnDp1CjU1NRqDwWRnZ2PUqFHw9PSEg4MDPvroI43u2R1l9erVGuNgAmh2yDvSfXE4\n",
       "HEgGuEAywAX/lE7GoZuXESmX4VbZfeyVy7BXLoO43xCEewbgpaG+sDDjGjuywem9KGzatAmHDx/G\n",
       "yZMnYWlpCUtLS1hZWSEsLAwA4OrqiqCgICQnJ8PR0RF3796FWCwGoBoM5ujRo7h//36TwWCcnZ2R\n",
       "k5OjflxRUYGysjI4OWm/aQePxwOPp9k8bBytmvRMfXiWmOc9GnO9gnCh6Db2ZshwPCcdKQ/ykPJL\n",
       "Hj5IOobp7n4I8wwA387B2HENRq9FYcuWLYiKitIYHQpQ9bqMjY3FwoULUVJSgqSkJKxYsQJSqRRF\n",
       "Rb/fvuvNN99s9pyCRCJBfX09Tp8+jZCQEOzatQtTpkzRej6BkJZwOBw8M9ANzwx0w4PqSkRnXsT+\n",
       "G0nIqSjB7uuJ2H09EQEOrggTBGKia/fvzq23E435+fkYMmQI3NzcYG1tDUD111omk6G4uBhvvfUW\n",
       "srKyAAALFy7EwoULm6zjj0Vh586dKCgowIcffghANVTcX//6V9TU1MDJyQmRkZEYMmSIzhnpOgXS\n",
       "HCVT4lzBTURmqLpzNzDVYDf2vN6Y4SHBG3wp3Gz7GTmlftDFS1QUSCsKq8rx7Y1k7JMn4W5VmXp6\n",
       "sNMwvCEIwPPOXt2qOzcVBSoKREcKZQNO58sRKZfhdP4NMKg+OgMsrDHLwx+vC6QYbNXHyCmfHhUF\n",
       "KgqkHfIqShB1IxlRmcm4X63qzs2Bqjt3mECKcYM9u2x3bioKVBTIU6hXNuCn3GvYJ5fhXMFN9XSn\n",
       "3rZ4nS/FLP5IDOxi3bmpKFBRIB0kq+wB9t1IwneZF/Hwcf8KU44JJgwZjnDPAAQ7DesS3bmpKFBR\n",
       "IB2sRlGPEzlXsVd+AbKibPV0F2t7vM6XYqaHP/pZdN7u3FQUqCgQPZI/LMI+uQwHb11WD77by8QU\n",
       "E118EOYZgMBO2J2bigIVBWIA1Yo6HL2dhsgMGVIe5KmnD7Ptrxqde5gf+vAsjZjwd1QUqCgQA0sv\n",
       "voO98iQcvvUbqhR1AFQnJi/MWNkpzjl07+s1CemEfPoOwr9HvYz3/F/EkawURMplGOPk0SkKAkBF\n",
       "gRCjseaaI9wzEGGCAPWYmp1B5yhNhPRgHA4H3E7UyYqKAiFEQ48+0fjKK6/A1dVV67yGhgYkJSVB\n",
       "KpV2yvsuUL6n19kzNuabPn06li9fbrDt9uii0JLy8nLY2tqirKxM65B5xkb5nl5nz2isfHT4QAjR\n",
       "QEWBEKKBigIhRAMVhWbweDy8//77TW722llQvqfX2TMaKx+daCSEaKCWAiFEAxUFQogGKgqEEA3d\n",
       "sijExsbC398fvr6+CAwMRGpqKgDVoLRBQUEQiUQQi8WIj4/XWG779u0YPnw4hEIhRCIRampqtK6f\n",
       "w+FAKBRCLBZDLBbj3Llz6nkymQwikQh8Ph/jxo3DnTtNxybUZ74rV66oc4nFYri6usLe3l4939XV\n",
       "FQKBQD3/yXE8nzbjyy+/rLFtExMTHD16VOv6MzMzMWrUKPD5fIwcORJXr17VaZ4h8tXU1GDq1Kng\n",
       "8/kQiUSYMGECbt78/f6Lzz77LIYOHapez9atWw3++rX0Pury+rWIdTMlJSXM3t6epaenM8YYS0hI\n",
       "YN7e3kypVLJBgwaxuLg4xhhjcrmcDRkyhFVVVTHGGDty5AgbNWoUKy0tZYwxdu/ePaZQKLRuAwB7\n",
       "+PBhk+kNDQ3M3d2dxcfHM8YY27hxI5s+fbrB8z1p0aJFbPHixerHLi4u7LfffmtxmfZmfFJycjLr\n",
       "27cvq62t1bqNkJAQtmfPHsYYYwcOHGD+/v46zTNEvurqavbjjz8ypVLJGGNs27ZtbOzYser5Y8eO\n",
       "Zd9//73W/TJEPsZafh9be/1a0+2KQnJyMvPw8NCYZm1tzWQyGeNyuRrThUIhO3ToEGOMsaCgIPbT\n",
       "Tz/ptI3mikJSUhITCATqx+Xl5YzH47Hq6mqD5mtUXV3N7OzsNH55dCkK7c34pL/97W9syZIlWtdf\n",
       "VFTErK2tWX19PWOMMaVSyRwcHFhmZmaL8wyV74+Sk5OZi4uL+nFrRcEQ+Zp7H3V5/VrT7Q4fPDw8\n",
       "UFxcjMTERADA0aNHUVFRgfz8fDg6OuK7774DoGrGyeVyZGdnAwCuXbuGixcvIigoCP7+/vjss89a\n",
       "3M5zzz0HkUiEZcuW4dGjRwCA3NxcuLi4qJ9jbW0NGxsbFBQUGDwfABw+fBhubm7qAXsbzZ49G0Kh\n",
       "EHPnzsX9+/c77DVsVF1djaioKMydO1drrry8PDg6OsLMTNVdmMPhwNnZGbm5uS3OM1S+P4qIiEBo\n",
       "aKjGtFWrVkEoFGLmzJnq4Q8NnU/b+6jL69eablcUbG1tcfDgQaxevRoSiQQ///wzvLy8YGZmhpiY\n",
       "GOzevRsjRoxAREQERo8erX7xFAoFbt++jYSEBMTGxmLXrl04duyY1m3k5OTg0qVLSExMxP3797Fi\n",
       "xYpOla/RV1991eQXKyEhAWlpabh8+TL69euHOXPmdFjGRgcPHgSfz4dQKNT5dWkLQ+b7+OOPcfPm\n",
       "TWzYsEE9LTIyEhkZGUhLS0NwcDAmT55s8Hy6vI/tpnOboouqqalhdnZ2WptPnp6e7OTJk4wxxry9\n",
       "vdmpU6fU89555x323nvvtbr+xMRE5uPjwxjTfvjA5XI1Dh8MlS8rK4tZWlpqPcxpVFBQwKysrJqd\n",
       "39aMjcaOHct27tzZ7Pqe9vBB3/kabdy4kUkkkhZfQ8YY4/F47MGDBwbP1+jJ97EjDh+6ZVEoKChQ\n",
       "//+9995jr7zySpPpX375JZNIJOqTSevXr2crVqxgjDFWVVXF/P392Xfffddk3SUlJezRo0eMMdWJ\n",
       "xSVLlrDw8HD1Yzc3N40TjdOmTTNovkZr1qxhb7zxhsa0yspKjV/wzZs3s+DgYK3LtycjY4xlZmay\n",
       "3r17s7KysmazMab6xX/yZJhEItFpnqHybd68mfn5+bGSkhKN6fX19aywsFD9+ODBg8zZ2dmg+Vp7\n",
       "H3V5/VrSLYvCvHnzmEAgYO7u7iwsLEz9Aq5bt455eHiwYcOGsSlTprDc3Fz1MtXV1Wz27Nls+PDh\n",
       "zMvLi61du1Y9b8eOHerHiYmJTCgUMl9fX+bl5cXCwsJYcXGx+rmN8z08PNjYsWM1tmGIfIypitPg\n",
       "wYPVxanRrVu3mFgsZkKhkPn4+LCXXnqJ3b59u8NeQ8YYW716NZs9e3aT9cXExLC5c+eqH2dkZLDA\n",
       "wEDm4eHBJBIJS0tL02meIfLl5eUxAMzNzY2JRCImEomYVCpljKk+kBKJhPn4+DBfX182btw4lpKS\n",
       "YtB8rb2Purx+LaG+D4QQDd3uRCMh5OlQUSCEaKCiQAjRQEWBtCg1NRWTJk1q83JnzpxpctFUe73z\n",
       "zjvYv39/h6yLtI6KAmnR6tWrsWrVKqNtv6GhAe+++y7WrVuHhobOM4pSd0ZFoQficDhYs2YNRowY\n",
       "AT6fj3379ml9Xm5uLq5evYrg4GAAQHZ2Nuzs7LB27Vr4+fnBw8MD58+fx9KlSyEWi+Hj44P09HT1\n",
       "8gqFArNnz4aPjw8kEglSUlIAAIWFhQgJCYFEIoG3tzcWL14MpVIJAPj6668REhKCadOmQSgUIikp\n",
       "CQMGDIC7uzt+/vln/b4wRKVNX2CSbgEAW7NmDWNM9Z13nz59tF6v8M0332hcfHX79m0GQN0Z6H//\n",
       "+x/r3bu3+nqITz75RN0r9PTp0wyA+mq96OhoJhAImFKpZNXV1ayiooIxxphCoWCTJk1iUVFRjDHG\n",
       "9uzZwywsLFhGRoZGlg8++IAtX768414E0ixqKfRQ8+bNAwC4ublhzJgxSEhIaPKc/Px8ODg4aEwz\n",
       "NzfH1KlTAQD+/v6wsrJCSEgIAEAqlSIzM1P9XFdXVzz33HMAgFdffRWFhYXIy8uDUqnEypUrIRKJ\n",
       "MGLECFy8eFHdigCAUaNGQSAQaGx34MCByM/Pf+r9Jq3rPKNaEqPicDhNpllaWja5kcuTdxY2NTWF\n",
       "ubm5xmOFQtHiNjgcDrZs2YJ79+5BJpPB3Nwcy5Yt09iOlZVVk2VrampgYWHRpn0i7UMthR5qz549\n",
       "AFTnCc6dO6c+b/AkX19fyOXydm8jOzsbp0+fBqDq+efg4IDBgwfj4cOHGDhwIMzNzVFYWIgDBw60\n",
       "uq7r169DJBK1OwvRHbUUeqiGhgaMGDECjx49wmeffaZ1oN3Ro0cjPz8fJSUlGrd005W3tze+/vpr\n",
       "vP322+ByuYiKigKHw8GSJUswffp0eHt7w8nJCePHj29xPYwxnDp1yqjfgvQk1PehB+JwOHj48CHs\n",
       "7Oxafe7GjRsBoE33jOhosbGx2Lt3L/bu3Wu0DD0JHT6QFi1ZskTrMb4hlZWV4ZNPPjFqhp6EWgqE\n",
       "EA3UUiCEaKCiQAjRQEWBEKKBigIhRAMVBUKIBioKhBANVBQIIRqoKBBCNPw/lyct+swT8+4AAAAA\n",
       "SUVORK5CYII=\n",
       "\">\n",
       "        \n",
       "      </div>\n",
       "      <script></script>\n",
       "      <script type=\"text/javascript\">\n",
       "        (() => {\n",
       "          const chartElement = document.getElementById(\"chart-5f77b2f5-2cf4-42d5-9ced-8b61eb5f33ac\");\n",
       "          async function getCodeForChartHandler(event) {\n",
       "            const chartCodeResponse =  await google.colab.kernel.invokeFunction(\n",
       "                'getCodeForChart', [\"chart-5f77b2f5-2cf4-42d5-9ced-8b61eb5f33ac\"], {});\n",
       "            const responseJson = chartCodeResponse.data['application/json'];\n",
       "            await google.colab.notebook.addCell(responseJson.code, 'code');\n",
       "          }\n",
       "          chartElement.onclick = getCodeForChartHandler;\n",
       "        })();\n",
       "      </script>\n",
       "      <style>\n",
       "        .colab-quickchart-chart-with-code  {\n",
       "            display: block;\n",
       "            float: left;\n",
       "            border: 1px solid transparent;\n",
       "        }\n",
       "\n",
       "        .colab-quickchart-chart-with-code:hover {\n",
       "            cursor: pointer;\n",
       "            border: 1px solid #aaa;\n",
       "        }\n",
       "      </style>"
      ],
      "text/plain": [
       "import numpy as np\n",
       "from google.colab import autoviz\n",
       "df_6931137707896255445 = autoviz.get_registered_df('df_6931137707896255445')\n",
       "\n",
       "def time_series_multiline(df, timelike_colname, value_colname, series_colname, figsize=(2.5, 1.3), mpl_palette_name='Dark2'):\n",
       "  from matplotlib import pyplot as plt\n",
       "  import seaborn as sns\n",
       "  palette = list(sns.palettes.mpl_palette(mpl_palette_name))\n",
       "  def _plot_series(series, series_name, series_index=0):\n",
       "    if value_colname == 'count()':\n",
       "      counted = (series[timelike_colname]\n",
       "                 .value_counts()\n",
       "                 .reset_index(name='counts')\n",
       "                 .rename({'index': timelike_colname}, axis=1)\n",
       "                 .sort_values(timelike_colname, ascending=True))\n",
       "      xs = counted[timelike_colname]\n",
       "      ys = counted['counts']\n",
       "    else:\n",
       "      xs = series[timelike_colname]\n",
       "      ys = series[value_colname]\n",
       "    plt.plot(xs, ys, label=series_name, color=palette[series_index % len(palette)])\n",
       "\n",
       "  fig, ax = plt.subplots(figsize=figsize, layout='constrained')\n",
       "  df = df.sort_values(timelike_colname, ascending=True)\n",
       "  if series_colname:\n",
       "    for i, (series_name, series) in enumerate(df.groupby(series_colname)):\n",
       "      _plot_series(series, series_name, i)\n",
       "    fig.legend(title=series_colname, bbox_to_anchor=(1, 1), loc='upper left')\n",
       "  else:\n",
       "    _plot_series(df, '')\n",
       "  sns.despine(fig=fig, ax=ax)\n",
       "  plt.xlabel(timelike_colname)\n",
       "  plt.ylabel(value_colname)\n",
       "  return autoviz.MplChart.from_current_mpl_state()\n",
       "\n",
       "chart = time_series_multiline(df_6931137707896255445, *['p (mbar)', 'Tpot (K)', None], **{})\n",
       "chart"
      ]
     },
     "metadata": {},
     "output_type": "display_data"
    },
    {
     "data": {
      "text/html": [
       "      <div class=\"colab-quickchart-chart-with-code\" id=\"chart-09eb1d81-5d45-4122-905e-efe7cc6b7019\">\n",
       "        <img src=\"data:image/png;base64,iVBORw0KGgoAAAANSUhEUgAAAQUAAACNCAYAAAC+Am+QAAAAOXRFWHRTb2Z0d2FyZQBNYXRwbG90\n",
       "bGliIHZlcnNpb24zLjcuMSwgaHR0cHM6Ly9tYXRwbG90bGliLm9yZy/bCgiHAAAACXBIWXMAAA9h\n",
       "AAAPYQGoP6dpAAAc1klEQVR4nO3deVhTV/oH8G/YwiqLClhlCwVkCUGCiKBFFrWCirXajh3HTks7\n",
       "tWqlWm2l1Ufbn60dfWpHu9npoq1bXWpFRdGC4i6gbCqC2gABLYqA7CIk5/cHkpohaIIJCeT9PE8e\n",
       "zb3JPV8S8nLvzTn3cBhjDIQQ8oCBtgMQQnQLFQVCiBwqCoQQOVQUCCFyqCgQQuRQUSCEyKGiQAiR\n",
       "Q0WBECKnzxaFdevWaTsCIb1Sny0KpaWl2o5ASK/UZ4sCIaR79LIoFFT/iXnHf8HBkkvajkKIzjHS\n",
       "dgBtOFh6CXtFuRDVVmKCiy84HI62IxGiM/RyT+FV71CYGhojv+oGTv15XdtxCNEpelkU7EwtMMNz\n",
       "OADg64vHtZyGEN2il0UBAP7lOwqGHAOcvHkd+XfKtR2HEJ2ht0XBycoOcTwBANpbIORhelsUAOBN\n",
       "v3AAQHLJJYhq72g5DSG6Qa+LgredI6KGDAUDw7eXTmg7DiE6QSeLwq1btzB16lT4+/vD29sb//nP\n",
       "fzTW1hx++97CrusXcKupTmPtENJbdKso3L9/X9055CxcuBA+Pj7Iz8/H+fPnsWnTJmRlZWmkrWAH\n",
       "VwTZu+C+VIIfCk5rpA1CehOli0J6ejr+9re/YeDAgTA1NYWJiQkCAwPxySefoLq6Wq2h8vLyEBMT\n",
       "AwCwsLDAM888g82bN3f5+JaWFtTV1cndJBKJUm1xOBzZ3sLmwnOou3/vyX8AQnoxpYpCTEwM1q9f\n",
       "j6lTpyI7OxstLS2oqqrChg0b0NbWhsjISKSkpKgtlFAoxLZt2yCVSlFZWYnDhw+jpKSky8evWrUK\n",
       "1tbWcrfMzEyl24t2GgpPG3vUt7Zgc+E5NfwEhPReHGXmfbh48SL4fH6X61tbW1FcXAxPT0+lGh05\n",
       "ciSuXbumcF1OTg7MzMywaNEi5OTkwN7eHjweD5WVldizZ4/C57S0tKClpUVu2bJly1QaPr3r2gUs\n",
       "OLUL9mZWODPtXZgaGSv9XEL6EqXGPvj4+KCpqQnm5uZyy5uammBqagpjY2OlCwIAnD179rGP2bRp\n",
       "k+z/s2fPhq+vb5eP5XK54HK5cssMDQ2VzgMAcTwB1uQcwc3GWuz+IxszvUao9HxC+gqlDh8SExOx\n",
       "ZcuWTsu3bt2KxMREtYeqqqpCa2srgPY9h71792LOnDlqb+dhJoZG+JfvaADAhosnIJFKNdoeIbpK\n",
       "qaKQlpaG+Pj4TstfffVVJCcnqz1UZmYmfHx84O3tjTfeeAM7d+7EoEGD1N7O/5rhORw2XHOU1Ffh\n",
       "UCkNqyb6SanDB6lUqnB33NDQEAYG6u/qMGHChC7POWiShTEX//Qeif/kpuHri8cR68qnYdVE7yj1\n",
       "iW5oaOh0Ig9oP8HX1NSk9lDaRMOqib5TqihMnDgR8+fPR1tbm2xZW1sbFixYgNjYWI2F0wYaVk30\n",
       "nVKHDytXrkRsbCx4PB6EQiEAIDs7G25ubho5p6Btb/iNxs+F52TDqv0HDNF2JEJ6jFJ7ChYWFkhP\n",
       "T8fGjRsRGhqK0NBQbNy4Eenp6bCwsNB0xh43xNKWhlUTvaXSNRqjoqIQFRWlqSw65U2/cOz5I0c2\n",
       "rJpnPUDbkQjpESp9deDm5gYejyd3CwwMxNy5c9U+/kHbvO0cEe1Ew6qJ/lGpKMycORNjxozB5s2b\n",
       "sXnzZkRGRiIyMhKmpqaYPXu2pjJqzRz+GAA0rJroF5UOH44cOYKMjAzZ/dDQUIwYMULW2aivCXZw\n",
       "xXB7F2TdLsUPBafxftAEbUciRONU2lOorq6W65fQ1NSEu3fvAgBMTU3VGkxX0LBqom9U2lN46aWX\n",
       "EBISgunTpwMAfv31V8yYMQMNDQ1wdXXVRD6ti3IaCi8bBxTdvYXNhecw13+MtiMRolFKDZ1+WHJy\n",
       "Mo4ePQoAiIyM1NnOSwsXLsTatWvVsq3d1y/g7ZO7MNDMEmenvUfDqkmfpvK0cePGjcPQoUPh7u6u\n",
       "iTw6KY4XgNXZNKya6AeVzimkp6fDxcUFERERAICsrCzMnDlTI8F0ibGBIQ2rJnpDpaKwZMkSnDx5\n",
       "Ev379wcADB8+HDk5ORoJpmte8gymYdVEL6hUFCQSSafDBhMTE7UG0lXmxiZ4xXskAOCri8eh4qkY\n",
       "QnoNlYqCqakpGhoaZNcYuHjxIszMzDQSTBe94h0KMyNjXKRh1aQPU6koLFu2DOPGjcONGzcwc+ZM\n",
       "jB07FitXrtRUNp1jZ2qBGR7tw6q/yqeBUqRvUunbh3HjxsHDwwMpKSlgjOHDDz/Uq28hAOBfD4ZV\n",
       "n/rzOvLulENAw6pJH6PytdTc3Nzw5ptvYs6cOXpXEAAaVk36PqX2FNzc3B55rUKRSKS2QL3Bm/xw\n",
       "/PpHDg7SsGrSBylVFA4cOAAA+OWXX1BSUoI33ngDAPDdd9/BxcVFc+l01FDb9mHVqWWF2HDpBFaH\n",
       "TdV2JELURqVuzsOHD5eb6JUxhuDgYI1N/vok1NnNWZGsWyV47uAGmBgY4uz09+Bg3k9jbRHSk1Q6\n",
       "0VhbW4vGxkbZJdgaGxtRW1urkWC6bvhDw6q/v3waHwzX3rBqiVSKiqY6iBuqUVZfDXFDDcT17f83\n",
       "4HDwliASYwYrP4MX0W/dGiX5wgsvAAB27dqlF92cuzLXfwz+mfoTthSdw1uCCPQz0czwccYYalqa\n",
       "2j/oDz7wD///RuNdtEq7nmU748iPiOMJsHz4RNibW2kkI+k7VCoKK1asQHBwMNLS0gAA//73vzFh\n",
       "gv5eeCRyiJdsWPXPhecw7wmGVTe33Ye4vgZlDdWdPvRlDTVoaO0878bDjDgGGGxpCxcrOzhZ2sLJ\n",
       "yg7OlrbIrhTjxytnkCTKw7HyIiQKn8XfvYJhwFH/JD6kb1B56HRvoelzCh12X8/G2yd3PnZYdZtU\n",
       "gpuNtXK79+27++2FoLK54bFtOZhZwdnKDk4PPvjOVnbtN0s7OJr3g2EXs3VdvHMD753Zg/yqGwAA\n",
       "4UBnfBo6Fd52jt3/wUmfpVRRmDNnDt5//30MGdK5ow5jDHv27EFLSwteeukljYTsjp4qCq1SCUbt\n",
       "XoMbjXexNCgGwx1cO/21L6uvwY3Gu5CwR4+u7GdiCmdLOzhZ2T74t+NDb4vBlrYwe4LrOEikUmwq\n",
       "PIvVFw6jse0+jDgGeN13NBYERMHcWD/GrxDlKHX4EBsbi5iYGNja2mLEiBFwcHDAvXv3UFRUhNOn\n",
       "TyMmJgYfffSRprPqJGMDQ/zLbzSWZ+zHyvMHH/lYEwNDub/ysr/2DwqBDddcYzkNDQwQ7xOGCS5+\n",
       "WJ6xD4dKL+ObS8dxoCQfK0PiEOU0VGNtk95FpcOHU6dOIT09HeXl5TA3N4e/vz8mTpyIAQN0r/NO\n",
       "T+0pAEBT632M37ceJXVVGGTRD06WdnC2sn3wr52sADiYW+nMsfzv4gIsPbcPNxrvAgAmuvKxYsQk\n",
       "ONJXq3qPzimoiZRJ0SaVwsRQ5YtZaU1jawvW5qTi+4LTkDAprIy5eE/4LP7hNaLL8xOk76N3Xk0M\n",
       "OAa9qiAAgIUxF8uCY3Fw0jwEDHBCfWsLlp5LQlzyN7hcdVPb8YiWUFEg8O3/FJJi38THIXGwMuYi\n",
       "904ZYvZ/if/LTEbjY74KJX0PFQUCoP1E5MveI3Fs6juY5OoPCZPi28snEfHbWvwuLtB2PNKDVCoK\n",
       "p06dgkTSdc850vs5mvfDNxEv4afof8LJ0hY3G2vxStrPeP3oZtxs1M8u7fpGpaKwfPlyODo6IjY2\n",
       "FmvXrkV+fr6mchEti3IaiqPPLcAcfjiMOAY4VHoZEXs+ww8Fp+lq1n2cSkUhLS0NYrEYCQkJqKio\n",
       "wJQpU+Do2P1eccnJyRAKheByuXj77bfl1kmlUrz11ltwd3fH008/jS+//LLb7ZDuMTMywftBE3Bo\n",
       "8nwIBzqjse0+lmfsx6QDXyH/Trm24xENUakoNDc34/jx4zh8+DBSU1MxcOBAxMfHd7txDw8P/Pjj\n",
       "j1i8eHGndVu2bEFBQQGuXr2KzMxMrFmzBpcvX+52W6T7vO0c8VvsbHw68jn0MzFFftUNTDzwFZZn\n",
       "7H/smAzS+6hUFGxsbLBy5UqEhYXh2LFjyMjIwMcff9ztxj09PSEQCGBk1PmrvB07duD111+HoaEh\n",
       "7Ozs8OKLL2L79u0Kt9PS0oK6ujq5G537UC8DjgFmDh2B9OfeQRxPAClj+KHgNCL2rEVKKRXrvkSl\n",
       "ovD555/D3t4e77//PubOnYuffvoJ5eWa2Y0Ui8VyV3VydXWFWCxW+NhVq1bB2tpa7paZmamRXPrO\n",
       "3twKX4XPwNZxr8LFyg5/NtXitaObEbv/S3x3+SQqmuq0HZE8IZWKwpw5c7Bnzx4UFBRg/PjxWLFi\n",
       "xSMvxzZy5EgMGDBA4a2srOyJw3dITExEbW2t3C04OFht2yedhQ/2ROqUBZjvHwFjA0Pk3SnHh5nJ\n",
       "GL5jFaYf+i+2FmWipqVJ2zFJN6jUBe+XX35Bamoq0tLSwOVyERMTg+jo6C4ff/bs2W4Hc3Z2Rmlp\n",
       "KUaObJ+VqaSkBM7Ozgofy+VyweVy5ZYZGhp2u22iHDMjY7wrHI9XfEJxoPgikorzcP52Kc5WiHC2\n",
       "QoSl55IQPtgDcW4BGOfsDQtj7uM3SrROpaKwf/9+REdHY/ny5XByctJUJgDA9OnT8d1332H69Omo\n",
       "ra3Fjh07ZBeQJbploJkVXvEJxSs+oShvqEGSKA9JxXkoqP4TqWWFSC0rhJmRMcY6eSPOTYAxQ7zA\n",
       "7WVdwvWJygOiWltbIRaL1TLnQ1paGl5++WXU1dWBMQZra2t8/fXXmDx5MiQSCebPn49Dhw6Bw+Fg\n",
       "/vz5SEhIUHrbPT0ginR29e6t9gIhykNJfZVsubWJKZ518cNzvACMdOTR4Csdo1JROH78OGbMmAEj\n",
       "IyOIxWJkZWVh3bp12LJliyYzdgsVBd3BGEPenXIkFedhX3E+bj10MtLezAoTXfmI4wUgcKDTI+cX\n",
       "IT1DpaIQEhKCrVu3Ytq0abIp6H19fXWy/wAVBd0kkUqRcasYSaI8JJdewt2HTkY6W9phMs8fcW4B\n",
       "dKk4LVLpwE6fp6In6mFoYIDQQe4IHeSO/wuZjJM3r2OvKBeHxQUQN1Tjy/x0fJmfDi8bB8TxBIjj\n",
       "CeBi1V/bsfWKSkVB36eiJ+plYmiEKKehiHIaiua2+0gtK8ReUS6OlReh6O4trM4+gtXZRzBsoBPi\n",
       "3ASY5OZPk+70AJWKwv9ORZ+amopt27ZpKhvRI2ZGJpjk5o9Jbv6obWnGodJLSCrOw+k//0BOZRly\n",
       "KsvwUVYyRjryEMcTIMbFT6PXtNRnKn/7UFxcLJuKfvz48To78zSdU+gbbjfV40BJPpJEebhQ+VeP\n",
       "VmMDQ4wZ7Ik4ngDjnHzoitRqRNdoJL1GWX01korzkSTKxZWaCtlyMyNjjHPywRSeAOGDPXvdZfF0\n",
       "jVJFoTdORU9FoW/r6AOxV5SL0vpq2XJrEzPEuPphipsAIdQHoltoKnrSK3naOGBx4DgsGjYWuXfK\n",
       "kSTKxf7ifNxqrsf2q1nYfjULDmZWmOjmjzieAMMGUB8IZdFU9KTPkEilONfRB6LkImrvN8vWuVjZ\n",
       "YbKbAFN4AfCyddBiSt1HU9GTPsPQwABhg9wRNsgdK0Mm48TNa9grysNh8WWU1lfji/xj+CL/GIba\n",
       "OmIKT4DJbgI4W9lpO7bOoanoSZ9kYmiEaCdvRDt5o6n1Pn4vu4IkUS6O3biKwpoKfHqhAp9eOIzA\n",
       "gc6I4wkwydUf9uZW2o6tE1T+9uHgwYOyqeijo6N1dip6OnwgitxtacKh0stIEuXhTMUfkD749Tfg\n",
       "cBDq6I44ngATXHz1ug+EUkVhxowZXV4KTVdRUSCPc7upHvsf9IHIfqgPhImBISKGeCHOTYCxzt4w\n",
       "M9KvPhBKHT4UFhZqOgchPc7e3ArxPmGI9wmDuL4a+4rzsFeUh8KaChwWF+CwuADmRiYY59zeB+KZ\n",
       "pzz0og+EUj8hfZVD+jpnKzvM84/APP8IFNZUyK4DIW6oxl5RLvaKcmHDNUeMix/ieAKEOLj12T4Q\n",
       "Sh0+GBkZoV+/zgNRGGPgcDiorq5W8CztosMH8qQYY8i5U4YkUR72F+fjdnO9bJ2DeT9McuVjCi8A\n",
       "ggFD+tQfTqWKgq+vLw4ePNjlel3swERFgaiTRCrFuQoR9hbn4WDJpf/pA9EfUx4M8/a06f19IJQq\n",
       "CoGBgcjOzu6JPGpDRYFoyn1JG47fuIq9xXk4Ii5Ac1urbJ23rSPieAGIc/OHUy/tA6HUOYU+OmaK\n",
       "kG4xMTTCWGcfjHX2QVPrfRwpK0CSKA/pN67iSk0FrlxIwacXUiDs6APh5o+BZr2nDwSNkiRETWpa\n",
       "mtqvAyHKw5k/RWD4qw/EqEFPI44nwLPOvrDm6vaFiagoEKIBt5rqsL84H0nFecip/Gvio44+EFN4\n",
       "AYh2GqqTfSCoKBCiYSV1VdhX3P4VZ9HdW7LlFrI+EAF4ZrAHjA10YwIjKgqE9KAr1RVIKs5FkigP\n",
       "ZQ01suWv+47C8uCJWkz2l77fPYsQHeJt5whvu2fxXuB4ZFeWtV8HoiQfE1z8tB1NhooCIVrA4XAg\n",
       "tHeG0N4Zy4MnQpf6PlFRIETLdK27tG6lIYRoXZ890Th16lS4urp2uV4ikSAzMxPBwcE6PW095VS/\n",
       "3pL14Zw8Hk+lCZafRJ8tCo9TV1cHa2tr1NbWKhzspSsop/r1lqzaykmHD4QQOVQUCCFyqCgQQuTo\n",
       "bVHgcrlYvnw5uFyutqM8EuVUv96SVVs59fZEIyFEMb3dUyCEKEZFgRAih4oCIUROrywKKSkpCAoK\n",
       "gr+/P0JCQpCXlwcAyMrKQlhYGAQCAQICAnD06FG553399dfw9vYGn8+HQCDAvXv3FG6fw+GAz+cj\n",
       "ICAAAQEBOHnypGxdRkYGBAIBPD09ERkZiRs3bmgl58WLF2X5AgIC4OrqCju7v64J6OrqCi8vL9n6\n",
       "HTt2qP01fe655+QyGBgYYN++fQq3f+3aNYSGhsLT0xPDhw/H5cuXlVrXkznv3buHKVOmwNPTEwKB\n",
       "AGPHjsX169dl68eMGQM3NzfZdj7//HOtvZ6Pen9VeT0VYr1MdXU1s7OzY5cuXWKMMXbixAnm6+vL\n",
       "pFIpGzx4MPv9998ZY4wVFRUxJycn1tTUxBhjbO/evSw0NJTdvXuXMcbY7du3WVtbm8I2ALCamppO\n",
       "yyUSCXN3d2dHjx5ljDG2Zs0aNm3aNK3lfNjcuXPZvHnzZPddXFxYTk7OY5/3JFkflpWVxfr3789a\n",
       "WloUthEREcE2btzIGGNs165dLCgoSKl1PZmzubmZJScnM6lUyhhj7IsvvmDh4eGy9eHh4ey3335T\n",
       "mK0nczL26PdX2dezK72uKGRlZTEPDw+5ZVZWViwjI4OZmJjILefz+ezXX39ljDEWFhbGDh8+rFQb\n",
       "XRWFzMxM5uXlJbtfV1fHuFwua25u1krODs3NzczGxkbul0SVotDdrA+bPXs2S0hIULj9W7duMSsr\n",
       "K9ba2soYY0wqlTIHBwd27dq1R67r6ZyK2nNxcZHdV7Yo9ETOrt5fVV7PrvS6wwcPDw9UVVXhzJkz\n",
       "AIB9+/ahvr4e5eXlGDRoEHbu3AmgfTetqKgIJSUlAICCggKcP38eYWFhCAoKwvr16x/ZTlRUFAQC\n",
       "ARYuXIjGxkYAgFgslpvjwsrKCv369cPNmze1lhMA9uzZAx6Ph4CAALnls2bNAp/PR3x8PCorK7t8\n",
       "fnezdmhubsb27dsRHx+vcPtlZWUYNGgQjIzaR+pzOBw4OztDLBY/cl1P5/xf69atQ1xcnNyyJUuW\n",
       "gM/n48UXX4RIJFL4vJ7Kqej9VeX17EqvKwrW1tbYvXs3EhMTIRQKceTIEfj4+MDIyAhJSUn48ccf\n",
       "MWzYMKxbtw6jRo2SvThtbW0oLi7GiRMnkJKSgm+//RYHDhxQ2EZpaSkuXLiAM2fOoLKyEosXL9bJ\n",
       "nB1++OGHTr9AJ06cQH5+PrKzszFgwAC8/PLLas/aYffu3fD09ASfz1f5dVJFT+b85JNPcP36daxa\n",
       "tUq2bPPmzSgsLER+fj5Gjx6NiRMVXz6tJ3Kq8v6qTOl9Ch117949ZmNjo3D3aOjQoSw1NZUxxpiv\n",
       "ry9LS0uTrVu0aBH74IMPHrv9M2fOMD8/P8aY4sMHExMThYcPPZVTJBIxc3NzhYc7HW7evMksLS0f\n",
       "m1HVrB3Cw8PZhg0butyeug4fNJ2zw5o1a5hQKHzka8oYY1wul925c0drOTs8/P6q4/ChVxaFmzdv\n",
       "yv7/wQcfsKlTp3Za/t///pcJhULZSaOPP/6YLV68mDHGWFNTEwsKCmI7d+7stO3q6mrW2NjIGGs/\n",
       "sZiQkMD+8Y9/yO7zeDy5E43PP/+8VnJ2WLp0Kfv73/8ut6yhoUHuF/qzzz5jo0eP7nIb3c3KGGPX\n",
       "rl1jFhYWrLa29pHbDw8Plzv5JRQKlVrX0zk/++wzFhgYyKqrq+WWt7a2soqKCtn93bt3M2dnZ63k\n",
       "fNz7q8rrqUivLAqvvfYa8/LyYu7u7mzmzJmyF2jFihXMw8ODPf3002zSpElMLBbLntPc3MxmzZrF\n",
       "vL29mY+PD1u2bJls3TfffCO7f+bMGcbn85m/vz/z8fFhM2fOZFVVVbLHdqz38PBg4eHhcm30ZE7G\n",
       "2ovUkCFDZEWqwx9//MECAgIYn89nfn5+bPLkyay4uFjtryljjCUmJrJZs2Z12l5SUhKLj4+X3S8s\n",
       "LGQhISHMw8ODCYVClp+fr9S6nsxZVlbGADAej8cEAgETCAQsODiYMdb+QRQKhczPz4/5+/uzyMhI\n",
       "lpubq5Wcj3t/VXk9FaGxD4QQOb3uRCMhRLOoKBBC5FBRIITIoaJA5OTl5SE2Nlbl56Wnp3fqPNVd\n",
       "ixYtwrZt29SyLaI6KgpETmJiIpYsWaK19iUSCd59912sWLECEolEazn0GRUFPcDhcLB06VIMGzYM\n",
       "np6e2Lp1q8LHicViXL58GaNHjwYAlJSUwMbGBsuWLUNgYCA8PDxw+vRpLFiwAAEBAfDz88OlS5dk\n",
       "z29ra8OsWbPg5+cHoVCI3NxcAEBFRQUiIiIgFArh6+uLefPmQSqVAgA2bdqEiIgIPP/88+Dz+cjM\n",
       "zIS9vT3c3d1x5MgRzb4wRDGVvsAkvRIAtnTpUsZY+3fctra2Cvst/Pzzz3KdsYqLixkA2SCg77//\n",
       "nllYWMj6RaxevVo2SvTYsWMMgKx33o4dO5iXlxeTSqWsubmZ1dfXM8YYa2trY7GxsWz79u2MMcY2\n",
       "btzIzMzMWGFhoVyWDz/8kL3zzjvqexGI0mhPQU+89tprAAAej4dnnnkGJ06c6PSY8vJyODg4yC0z\n",
       "NTXFlClTAABBQUGwtLREREQEACA4OBjXrl2TPdbV1RVRUVEAgBdeeAEVFRUoKyuDVCrFe++9B4FA\n",
       "gGHDhuH8+fOyvQgACA0NhZeXl1y7jo6OKC8vf+Kfm6iOJpjVUxwF0xybm5t3uqDLw1cSNjQ0hKmp\n",
       "qdz9tra2R7bB4XCwdu1a3L59GxkZGTA1NcXChQvl2rG0tOz03Hv37sHMzEyln4moB+0p6ImNGzcC\n",
       "aD9PcPLkSdl5g4f5+/ujqKio222UlJTg2LFjANpH+jk4OGDIkCGoqamBo6MjTE1NUVFRgV27dj12\n",
       "W1euXIFAIOh2FtJ9tKegJyQSCYYNG4bGxkasX79e4eS7o0aNQnl5Oaqrq+Uu7aYsX19fbNq0CfPn\n",
       "z4eJiQm2b98ODoeDhIQETJs2Db6+vnjqqacQHR39yO0wxpCWlqbVb0H0GY190AMcDgc1NTWwsbF5\n",
       "7GPXrFkDAN26hoS6pKSkYMuWLdiyZYvWMugzOnwgchISEhQe4/ek2tparF69WqsZ9BntKRBC5NCe\n",
       "AiFEDhUFQogcKgqEEDlUFAghcqgoEELkUFEghMihokAIkUNFgRAi5/8B65McqGPC0IIAAAAASUVO\n",
       "RK5CYII=\n",
       "\">\n",
       "        \n",
       "      </div>\n",
       "      <script></script>\n",
       "      <script type=\"text/javascript\">\n",
       "        (() => {\n",
       "          const chartElement = document.getElementById(\"chart-09eb1d81-5d45-4122-905e-efe7cc6b7019\");\n",
       "          async function getCodeForChartHandler(event) {\n",
       "            const chartCodeResponse =  await google.colab.kernel.invokeFunction(\n",
       "                'getCodeForChart', [\"chart-09eb1d81-5d45-4122-905e-efe7cc6b7019\"], {});\n",
       "            const responseJson = chartCodeResponse.data['application/json'];\n",
       "            await google.colab.notebook.addCell(responseJson.code, 'code');\n",
       "          }\n",
       "          chartElement.onclick = getCodeForChartHandler;\n",
       "        })();\n",
       "      </script>\n",
       "      <style>\n",
       "        .colab-quickchart-chart-with-code  {\n",
       "            display: block;\n",
       "            float: left;\n",
       "            border: 1px solid transparent;\n",
       "        }\n",
       "\n",
       "        .colab-quickchart-chart-with-code:hover {\n",
       "            cursor: pointer;\n",
       "            border: 1px solid #aaa;\n",
       "        }\n",
       "      </style>"
      ],
      "text/plain": [
       "import numpy as np\n",
       "from google.colab import autoviz\n",
       "df_6931137707896255445 = autoviz.get_registered_df('df_6931137707896255445')\n",
       "\n",
       "def time_series_multiline(df, timelike_colname, value_colname, series_colname, figsize=(2.5, 1.3), mpl_palette_name='Dark2'):\n",
       "  from matplotlib import pyplot as plt\n",
       "  import seaborn as sns\n",
       "  palette = list(sns.palettes.mpl_palette(mpl_palette_name))\n",
       "  def _plot_series(series, series_name, series_index=0):\n",
       "    if value_colname == 'count()':\n",
       "      counted = (series[timelike_colname]\n",
       "                 .value_counts()\n",
       "                 .reset_index(name='counts')\n",
       "                 .rename({'index': timelike_colname}, axis=1)\n",
       "                 .sort_values(timelike_colname, ascending=True))\n",
       "      xs = counted[timelike_colname]\n",
       "      ys = counted['counts']\n",
       "    else:\n",
       "      xs = series[timelike_colname]\n",
       "      ys = series[value_colname]\n",
       "    plt.plot(xs, ys, label=series_name, color=palette[series_index % len(palette)])\n",
       "\n",
       "  fig, ax = plt.subplots(figsize=figsize, layout='constrained')\n",
       "  df = df.sort_values(timelike_colname, ascending=True)\n",
       "  if series_colname:\n",
       "    for i, (series_name, series) in enumerate(df.groupby(series_colname)):\n",
       "      _plot_series(series, series_name, i)\n",
       "    fig.legend(title=series_colname, bbox_to_anchor=(1, 1), loc='upper left')\n",
       "  else:\n",
       "    _plot_series(df, '')\n",
       "  sns.despine(fig=fig, ax=ax)\n",
       "  plt.xlabel(timelike_colname)\n",
       "  plt.ylabel(value_colname)\n",
       "  return autoviz.MplChart.from_current_mpl_state()\n",
       "\n",
       "chart = time_series_multiline(df_6931137707896255445, *['p (mbar)', 'Tdew (degC)', None], **{})\n",
       "chart"
      ]
     },
     "metadata": {},
     "output_type": "display_data"
    },
    {
     "data": {
      "text/html": [
       "      <div class=\"colab-quickchart-chart-with-code\" id=\"chart-c8a4adcd-11ae-47c2-88f1-b240137789ff\">\n",
       "        <img src=\"data:image/png;base64,iVBORw0KGgoAAAANSUhEUgAAAQUAAACNCAYAAAC+Am+QAAAAOXRFWHRTb2Z0d2FyZQBNYXRwbG90\n",
       "bGliIHZlcnNpb24zLjcuMSwgaHR0cHM6Ly9tYXRwbG90bGliLm9yZy/bCgiHAAAACXBIWXMAAA9h\n",
       "AAAPYQGoP6dpAAAbsklEQVR4nO3deVhTd7oH8G/Y910WAUF2gSQgqAyKCLadjlVbl1t7x+1p6bSd\n",
       "W6dUu8mtWr3W8bl6bV3ajk7dpnWpCq1lakudSgBHWtAqIqKAyCK7QGQHSfK7fwAppyAESjghvJ/n\n",
       "4ak55+ScL4m+/Z335PwiYIwxEEJINx2+AxBCNAsVBUIIBxUFQggHFQVCCAcVBUIIBxUFQggHFQVC\n",
       "CAcVBUIIx5gsCnv27OE7AiFaa0wWhZKSEr4jEKK1xmRRIISojx7fAUaatL0FB3MvoVX2EO9Nn893\n",
       "HELGHK0bKdxtrMOe68k4kpuO8uYHfMchZMzRuqIQYj8JM508IWMK7M9J4zsOIWOO1hUFAPiLKAoA\n",
       "cCI/E7VtzTynIWRs0cqiMNPJE0F2ruiQy3Aw9998xyFkTNHKoiAQCPAX0RwAwD9u/YiGjjZ+AxEy\n",
       "hmhlUQCAxydNgY+VPZo6O/DZ7Z/4jkPImKG1RUFHoINXu3sLB3P/jTbZQ54TETI2aG1RAICnJ4vg\n",
       "amaNuvYWnMy/zHccQsYErS4Kejq6+C9hJABgf04aHsplPCciRPNpdVEAgP/wCoG9sTkqWhrw1d0s\n",
       "vuMQovG0vigY6enjpYAIAMDH2SmQKxQ8JyJEs2l9UQCAFX4zYGlgjLuNtfiuJIfvOIRoNLUWhaSk\n",
       "JISGhkIkEiEsLAzXr1/nrE9OToauri52796tzhgw0zfEC/7hAIB92RLQ998Q8mhqKwpSqRTLly/H\n",
       "P/7xD2RnZ2Pnzp1Yvny5cn1DQwPWr1+PefPmqSsCxwtTwmGiZ4Cb9ZWQlOePyjEJGYvUVhQKCwth\n",
       "a2uLgIAAAEBERARKS0tx9epVAMCaNWuwYcMG2NraDrifjo4ONDY2cn7kcvmQ81gbmWKl7wwAwEfZ\n",
       "kiE/n5DxQm1FwdvbG3V1dUhPTwcAJCYmoqmpCcXFxYiPj4eOjg4WLlw46H62b98OS0tLzk9mZuaw\n",
       "Mv0pMAIGOrrIrC5GRlXRsPZBiLZTW1GwtLREfHw84uLiEBISgvPnz8Pf3x/Nzc14//33VZ5nMS4u\n",
       "Dg0NDZyf6dOnDyuTo4kFnvUOBdDVWyCE9KXWmZeioqIQFdX1UeOOjg44OjpCKpWisrISQUFBAIDa\n",
       "2lokJibi/v372LZtW599GBoawtDQkLNMV1d32Jn+LJyNE/mZSCnPx43acgjtnIe9L0K0kVqvPlRW\n",
       "Vir/vHXrVkRHRyM2NhbV1dUoLi5GcXExli5dik2bNvVbENTBzdwWT08WAwA+upEyKsckZCxRa1HY\n",
       "tGkT/Pz84OXlhZKSEhw6dEidh1PZq923VX9bnIM7D2r4DUOIhlHr6cOnn3466DZHjx5VZ4R++Vk7\n",
       "4veT/PF9aS4+uZGKDyL+Y9QzEKKpxsUnGvvTM1r4svAaTfBKSC/jtihMnTAJs5y8aIJXQn5l3BYF\n",
       "AMop22iCV0J+Ma6LQriTJ4In0ASvhPQ2rotC1wSvXZ+joAleCeky5KsPTU1NuHjxIsrKymBsbAyx\n",
       "WAyRSKSObKPiMVc/+Fo5IO9BNT67/RP+Io7iOxIhvFJ5pFBSUoLVq1fD09MTu3btQmpqKs6ePYvn\n",
       "nnsOfn5+OHz4sDpzqo2OQAdrukcLn96kCV4JUbkorFy5EkuWLEFFRQUuXLiA48ePIyEhAbm5uUhK\n",
       "SkJBQQE++ugjdWZVmwWThXAzt0F9RwtO0ASvZJwTsDE448i6devwwQcfjOg+j93OwPofv4KTiSUu\n",
       "LX0LBrpa94XchKjkNzUaU1NTce7cuWHNb6BplnpNhYOxOSpbG/Bl4TW+4xDCm2EXhY0bN+LIkSNI\n",
       "SEjA0qVLRzITL4z09PFSYPcErzdSaYJXMm6pXBS++OILzuOCggIcPXoUhw8fRlGRdkxYssK3a4LX\n",
       "osZafEsTvJJxSuWicOvWLSxevBhlZWUAAE9PT7zwwguIiYmBm5ub2gKOJlN9Q8T4zwQwNiZ4rWpt\n",
       "xBf5l/Gy5Dhmxe/EueIbfEciWkDlbtqWLVtw8+ZNxMTEYP78+Xj//fchkUjQ0tKCJ598Up0ZR9Xz\n",
       "/uHYn5OG3PpKJJflYa6rH9+RlGQKOX6uKYWkPA+SsjzcrK/krI9NOw13c1sE2E7kKSHRBkPqKQQE\n",
       "BCApKQk6Ojp48skn4eDggAULFkBfX19d+UadtaEJVvqFAdCM0UJ1ayNOFVzBK5LjEJ/ciiXfHcBH\n",
       "2Sm4WV8JAQQQ27ng9aC5mD3RG+3yTvwp+Rik7S28ZiZjm8ojhaysLGzbtg2GhobYtGkTFi5ciNdf\n",
       "fx3+/v7YuHEjDAwM1JlzVL0UMAtHci/hSk0JMqqLEOboMWrHlinkuHr/HiRlXaOBnPoKznorQxNE\n",
       "OnsjytkXc5x9YGdsBgB40NGKp/75MUqa6rAm9Qt89vjz0NUZ159iJ8OkclGIiYnB7t270dzcjJdf\n",
       "fhkSiQQJCQk4deoUnnjiCaSkpKgx5uhyMLHAMu9QfJ6XgX3ZKWovCjWtTUgpz4OkLB9pFfloeNjO\n",
       "WS+2c8EcZx9Eu/ghyM6l33/sVoYmOBi9EgvPfYzUigLsuHoecaHac1pHRo/KRaG9vR3Tpk1Da2sr\n",
       "GhsblcuXLVuG3//+92oJx6dXhLNxIv8yUsvzkV1bBpGdy4jtW6aQ41rPaKA8HzfqyjnrLQ2MMcfZ\n",
       "B1Eu3NHAYKbYOOL/Zi7Fq6kn8fGNFAjtnDHfXThiucn4oHJReOONN+Dv7w89PT3s2LGDs87Kymqk\n",
       "c/HOzdwWT3uI8WXhNXx8IxUHopYP/qQB3G9rQkpZPiTleUgtL0DDQ+4dmSJbZ0S5+CLaxRdBdq7D\n",
       "Hvo/7SFGdl05DuSkYd3FM/C2tIevtcNvyk7GF/qY8wDypNWYe/ZDCCCAZNFaeFnZq/xcuULRNRro\n",
       "vlKQ3c9oQNkbcPHBBGPzEcstU8ix4vwR/LvyDiZb2OGb+a/C0tB4xPZPtJvKI4WMjAzMmDHjkevb\n",
       "2tpQVFQEf3//EQmmCXytHYY0wWttW7OyN5BaUYAHHa2c9UJbZ0R1nxYET3CFns7wv79iIHo6uvhk\n",
       "zn/iD4n7UNRYi9iLp3B47iroCKjxSAanclHYtWsXpFIp/vjHP2LGjBlwcHBAe3s78vLykJSUhPPn\n",
       "z+PDDz/UqqIAAGtEUfi+NBdfFl7DuuDH4GJmrVwnVyiQVXsPyWV5SCnPx/XaMs5zLQ2MMHuiD6Jd\n",
       "fBHp7AN7k5EbDQzGxsgUn0avwKJv9+OHe7exOysZ64IfG7Xjk7FL5aJw+vRpXL58GQcOHMC2bdtQ\n",
       "VlYGU1NTiEQiLFmyBJcuXYKpqak6s/IieIIrIiZ64WLFHezPScPr4rlIKf+lN/Dr0UCgzURlb0Cd\n",
       "owFViOxc8L/hi/D6xTP4IOsHCG0n4vFJ2lW0ycijnoIKLlUWYlnSp9ARCMAYwPDLS2ZhYITZE72V\n",
       "VwocTCxGLZeqNvz0NY7e+hHm+oY4t2ANPCwn8B2JaDCaNEAF4Y4eCLV3w5WaEgBAgI0Tolx8EeXs\n",
       "ixD7SbyOBlTx3vT5yK2vRGZ1MV5M/hyJ81+Fmb7h4E8k4xIVBRUIBAIcjF6JzOpiTLWfBEcNHA0M\n",
       "RF9HF/vnLMcf/rkP+Q9qsO7iGRyIWg6BQMB3NKKBqB2tIjtjM8xzDxxzBaGHvYk5/h61Avo6uvi2\n",
       "JAcf30jlOxLRUFQUxpEQ+0nYGrYQALDj6vdILc/nORHRREM+fZDJZEhISEBhYSFkMply+aZNm0Y0\n",
       "GFGPFb4zcL22DCfzL+O/Uk7i24Vr4GZuy3csokGGPFJ47rnnsG/fPtTW1qKpqUn505+kpCSEhoZC\n",
       "JBIhLCwM169fBwA8//zzEIlECAoKwrRp03DhwoXf9luQIXk/7GkE2bmi4WEb/pR8jKa1J1xsiHx8\n",
       "fJhCoRh0u/r6emZjY8NycnIYY4ylpaWxgIAAxhhjUqlUud3Vq1eZtbU1k8vlKmdYu3bt0EKTPsqb\n",
       "HzDxia3M+fA77NWUkyq9p2R8GPJIwdXVFQ8fDv5/lsLCQtja2iIgIAAAEBERgdLSUly9epVzA1VD\n",
       "Q8OA++no6EBjYyPnRxtmj+bbRFNL7I/6I/QEOjh7NwuHci/xHYloCJV7Cnv37gUAeHl5Yc6cOVi0\n",
       "aBGMjIyU61977TXO9t7e3qirq0N6ejrCw8ORmJiIpqYmFBcXY+rUqVi/fj3OnDkDqVSKhIQE6Dzi\n",
       "rsDt27djy5YtnGVhYWEq/4Lk0cIcPbBx+lN4L+Of2Hr5W/jbOCHcyZPvWIRnKn+i8fnnn3/0TgSC\n",
       "fr82TiKRYPPmzWhubsbvfvc7SCQSbN++HQsXLlRu88MPPyAuLg6XLl3qd/amjo4OdHR0cJZt3LgR\n",
       "e/bsUSU2GQRjDLEXT+PLwmuwNTLFdwv+golmVnzHInwayrmGTCZjb7/99rDOU9rb25mVlRUrKCjo\n",
       "s87X15dduXJF5X1RT2FktXZ2sCfO7mbOh99h8xL3sbbOh3xHIjwaUk9BV1cXEolE5e0rK3+ZbXjr\n",
       "1q2Ijo6Gm5sb7ty5o1yemZmJmpoaeHiM3jyIhMtYzwAHo1fCytAE12vL8O5PZ3mfsJbwZ8iNxnnz\n",
       "5mHbtm2oqKjgNP/6s2nTJvj5+cHLywslJSU4dOgQOjs7sXr1agQGBiIoKAhr165FfHw8rK2t+90H\n",
       "GR2u5jb425z/hI5AgFMFP+PzvAy+IxGeDPkuyd4NQYFAAMYYBALBqF4RGO27JMeTT26k4q9XvoO+\n",
       "ji7OPPkSQh2044t+iOqGPFJQKBTKH7lcrvwv0Q5/DpyN+e5CdCrkeElyDNWt/Y8Cifaiex8Ih0Ag\n",
       "wK5ZS+Fr5YCatia8LDmOh3LZ4E8kWoOKAunDVN8QB+euhIWBEa7UlGBz5jd8RyKjiIoC6ddkCzvs\n",
       "m/0cBBDgs9s/4VTBFb4jkVFCRYE80lxXP6wLngsA+O8fzyLr/j2eE5HRQEWBDChWHI0nXKegQy7D\n",
       "n5KPobatme9IRM2oKJAB6Qh0sHv2MnhY2KGytQF/TjkBmYKuNmkzKgpkUBYGRjg0dxVM9QzwY9Vd\n",
       "bMk8h9ZOmoNBW9HErUQl3lb2+DDiWbwkOYYjt9Jx9NaPcDO3gZ+1I6bYOGKKtROm2DjCzdyGvolq\n",
       "jKOiQFQ2zz0Q/zNjAfZlS3C/rRnFTXUobqpDUulN5TbGevrwteopFI7dRcMJ1oYmPCYnQ0FFgQzJ\n",
       "C/4z8YL/TNxva8JtaRVuS6twq74Kt6RVyH9QjTZZJ7Jq7yGrlnulwtHEAlOsnTgjC09LOxjo0l9B\n",
       "TUPvCBmWCcbmmGBsjoiJ3splMoUcxY11uCWtwq36yq6CIa3CvWYpqlobUdXaCEl5nnJ7fR1deFpO\n",
       "wJTu0UTPyMLRxIK+k4JHVBTIiNHT0YWXlT28rOyxYLJIubzxYTvyekYV3QXjlrQKzZ0dytHGV3ez\n",
       "lNtbGZr0OvXoGlX4WjnARL/vJDxk5FFRIGpnYWCEaQ7umObgrlzGGEN5ywNlgeg5DSlsvI8HHa34\n",
       "seoufqy6q9xeAAHczG04TU0/a2psqgMVBcILgUAAFzNruJhZc74Ju03WiTsParpHFZXdI4sq1Lb/\n",
       "0tj8ruSXxqaJngF8rR26+xUOmGLT1begxubwUVEgGsVYTx9CO2cI7Zw5y3sam11NzUrcllYj/0E1\n",
       "WmUPce3+PVz71UewnUws+1wu9bScAH0N/zJgTUBFgYwJj2psFjXWdReL7lGFtBJlzQ9Q2dqAytaG\n",
       "Po1NL8sJnKbmFBsnOBibU2OzFyoKZMzS09GFt5U9vB/R2Pz1VZDmzo7uwlHF2Y+1oUlXgeh1FcTX\n",
       "2gHGeuOzsUlFgWidRzU2y5qlva6AdI0q7jbWQvqIxqa7hW13oegeVVg7YZK5tdY3NqkokHFBIBDA\n",
       "1dwGruY2/TY2u/oUXQUjt74Sde0tKGqsRVFjLb4tyVFub6JnAL+eU49eBcNKixqbVBTIuKZqY/NW\n",
       "fRUKGmrQKnuIq/dLcfV+KWd7JxNLZVOzp8E5VhubVBQI6cdAjU3OZyt+1dhMLuM2Nr2t7Pv0K+w1\n",
       "vLFJRYEQFfVubC6EWLn8143NnoLR3NmB3PpK5NZXcvZj3f2Jzd5XQfxtnDTmPhDNSEHIGDZQY/OX\n",
       "KyDVnMZmetVdpPdqbF5c8iYmW9jxkL4vKgqEqEHvxuYTv2psFjyo5lwFKWmqg5u5DY9puagoEDKK\n",
       "jPX0IbJzgcjOhe8oj6TdF1wJIUNGRYEQwjHkL5jVBIsXL4a7u/sj18vlcmRmZmL69OnQ1dX868Rj\n",
       "LS9AmUdD77weHh6IjY0dleOOyaIwmMbGRlhaWqKhoQEWFhZ8xxnUWMsLUObRwFdeOn0ghHBQUSCE\n",
       "cFBRIIRwaGVRMDQ0xHvvvQdDQ0O+o6hkrOUFKPNo4CuvVjYaCSHDp5UjBULI8FFRIIRwUFEghHBo\n",
       "XFFISkpCaGgoRCIRwsLCcP36dQDA5cuXMXPmTIjFYgQFBSE5OZnzvE8++QRTpkyBUCiEWCxGe3t7\n",
       "v/sXCAQQCoUICgpCUFAQLl68qFyXkZEBsVgMHx8fREdHo7y8nPfMN27cUGYNCgqCu7s7bGx+uaPO\n",
       "3d0dvr6+yvWnTp1SS95FixZxcujo6CAxMbHf/RcUFCA8PBw+Pj6YNm0abt68qdI6vjK3t7fjmWee\n",
       "gY+PD8RiMR5//HHcuXNHuX7OnDmYPHmycj8ffvghr3mBgd/34b7GSkyD1NfXMxsbG5aTk8MYYywt\n",
       "LY0FBAQwhULBnJ2d2b/+9S/GGGN5eXnM1dWVtba2MsYYO3v2LAsPD2cPHjxgjDFWU1PDZDJZv8cA\n",
       "wKRSaZ/lcrmceXp6suTkZMYYYzt37mRLly7ViMy9vfrqq2zNmjXKx25ubuzatWuDPu+35u3t8uXL\n",
       "zNbWlnV0dPR7jKioKHbkyBHGGGNnzpxhoaGhKq3jK3NbWxs7d+4cUygUjDHG9u3bxyIjI5XrIyMj\n",
       "2VdffTVoztHKy9jA7/twXuPeNKooXL58mXl7e3OWmZubs4yMDGZgYMBZLhQKWUJCAmOMsZkzZ7Lv\n",
       "v/9epWM8qihkZmYyX19f5ePGxkZmaGjI2traeM/co62tjVlZWXH+Mgy1KAw3b2+vvPIKi42N7Xf/\n",
       "1dXVzNzcnHV2djLGGFMoFMzBwYEVFBQMuI7PzP0dz83NTfl4qEVhNPI+6n0f7mvcm0adPnh7e6Ou\n",
       "rg7p6ekAgMTERDQ1NaGsrAxOTk44ffo0gK4hWF5eHoqLiwEAubm5uHLlCmbOnInQ0FDs3bt3wOPM\n",
       "nTsXYrEY69atQ0tLCwCgtLQUbm5uym3Mzc1hYWGBiooKjcgMAF9++SU8PDwQFBTEWb5q1SoIhULE\n",
       "xMTg/v37asnbo62tDSdPnkRMTEy/+7937x6cnJygp9c1VYdAIMCkSZNQWlo64Do+M//anj178PTT\n",
       "T3OWrV+/HkKhEMuWLcPdu3cf8czRzdvf+z7c17g3jSoKlpaWiI+PR1xcHEJCQnD+/Hn4+/tDT08P\n",
       "X3/9NQ4fPozg4GDs2bMHs2bNUv7iMpkMRUVFSEtLQ1JSEg4cOIBvvvmm32OUlJTg559/Rnp6Ou7f\n",
       "v4+33npL4zP3OHToUJ+/KGlpacjOzsbVq1dhZ2eH1atXqyVvj/j4ePj4+EAoFA7j1Rqe0cz817/+\n",
       "FXfu3MH27duVyz7//HPcvn0b2dnZiIiIwPz583nPO9T3fUhUHlPwoL29nVlZWfU79PHz82M//PAD\n",
       "Y4yxgIAAduHCBeW6N998k7377ruD7j89PZ0FBgYyxvo/fTAwMBj09GG0Mt+9e5eZmJj0e+rTo6Ki\n",
       "gpmZmaklb4/IyEi2f//+R+5PHacP6s7cY+fOnSwkJGTA15gxxgwNDVltbS3veXv0ft9H4jXWuKJQ\n",
       "UVGh/PO7777LFi9e3Gf53//+dxYSEqJsDG3bto299dZbjDHGWltbWWhoKDt9+nSffdfX17OWlhbG\n",
       "WFdjMTY2lq1cuVL52MPDg9NoXLJkCe+Ze2zYsIEtX76cs6y5uZnzF3jXrl0sIiJCLXkZY6ygoICZ\n",
       "mpqyhoaGAfcfGRnJaXSFhISotI7PzLt27WJTp05l9fX1nOWdnZ2sqqpK+Tg+Pp5NmjSJ17yDve/D\n",
       "fY17aFxRePHFF5mvry/z9PRkK1asUP7ymzdvZt7e3szLy4stWLCAlZaWKp/T1tbGVq1axaZMmcL8\n",
       "/f3Zxo0blev+9re/KR+np6czoVDIRCIR8/f3ZytWrGB1dXXKbXvWe3t7s8jISM4x+MrMWFfBcnFx\n",
       "URasHoWFhSwoKIgJhUIWGBjIFi5cyIqKitSSlzHG4uLi2KpVq/rs7+uvv2YxMTHKx7dv32ZhYWHM\n",
       "29ubhYSEsOzsbJXW8ZX53r17DADz8PBgYrGYicViNn36dMZY1z/AkJAQFhgYyEQiEYuOjmZZWVm8\n",
       "5h3sfR/ua9yD7n0ghHBoVKOREMI/KgqEEA4qCoQQDioK49j169fx1FNPDfl5KSkpfT5ANVxvvvkm\n",
       "Tpw4MSL7IiODisI4FhcXh/Xr1/N2fLlcjrfffhubN2+GXC7nLQfhoqKgZQQCATZs2IDg4GD4+Pjg\n",
       "+PHj/W5XWlqKmzdvIiIiAgBQXFwMKysrbNy4EVOnToW3tzcuXbqEtWvXIigoCIGBgcjJyVE+XyaT\n",
       "YdWqVQgMDERISAiysrIAAFVVVYiKikJISAgCAgKwZs0aKBQKAMDRo0cRFRWFJUuWQCgUIjMzE/b2\n",
       "9vD09MT58+fV+8IQ1Q3pAibReADYhg0bGGNd17Otra37/ezCZ599xvlwVlFREQOgvPHn4MGDzNTU\n",
       "VPnZiB07dijvGpVIJAyA8pN4p06dYr6+vkyhULC2tjbW1NTEGGNMJpOxp556ip08eZIxxtiRI0eY\n",
       "sbExu337NifLli1b2BtvvDFyLwL5TWikoIVefPFFAICHhwdmz56NtLS0PtuUlZXBwcGBs8zIyAjP\n",
       "PPMMACA0NBRmZmaIiooCAEyfPh0FBQXKbd3d3TF37lwAwLPPPouqqircu3cPCoUC77zzDsRiMYKD\n",
       "g3HlyhXlKAIAwsPD4evryzmuo6MjysrKfvPvTUYGfev0OCAQCPosMzEx6TOpS+9Zg3V1dWFkZMR5\n",
       "LJPJBjyGQCDABx98gJqaGmRkZMDIyAjr1q3jHMfMzKzPc9vb22FsbDyk34moD40UtNCRI0cAdPUJ\n",
       "Ll68qOwb9CYSiZCXlzfsYxQXF0MikQDouqvPwcEBLi4ukEqlcHR0hJGREaqqqnDmzJlB93Xr1i2I\n",
       "xeJhZyEji0YKWkgulyM4OBgtLS3Yu3dvv1/GO2vWLJSVlaG+vp4zvZuqAgICcPToUbz22mswMDDA\n",
       "yZMnIRAIEBsbi6VLlyIgIAATJ07EY489NuB+GGO4cOECr1dBCBfd+6BlBAIBpFIprKysBt12586d\n",
       "APCb55T4LZKSknDs2DEcO3aMtwyEi04fxrHY2Nh+z/FHU0NDA3bs2MFrBsJFIwVCCAeNFAghHFQU\n",
       "CCEcVBQIIRxUFAghHFQUCCEcVBQIIRxUFAghHFQUCCEc/w/bdlFbd2bpmAAAAABJRU5ErkJggg==\n",
       "\">\n",
       "        \n",
       "      </div>\n",
       "      <script></script>\n",
       "      <script type=\"text/javascript\">\n",
       "        (() => {\n",
       "          const chartElement = document.getElementById(\"chart-c8a4adcd-11ae-47c2-88f1-b240137789ff\");\n",
       "          async function getCodeForChartHandler(event) {\n",
       "            const chartCodeResponse =  await google.colab.kernel.invokeFunction(\n",
       "                'getCodeForChart', [\"chart-c8a4adcd-11ae-47c2-88f1-b240137789ff\"], {});\n",
       "            const responseJson = chartCodeResponse.data['application/json'];\n",
       "            await google.colab.notebook.addCell(responseJson.code, 'code');\n",
       "          }\n",
       "          chartElement.onclick = getCodeForChartHandler;\n",
       "        })();\n",
       "      </script>\n",
       "      <style>\n",
       "        .colab-quickchart-chart-with-code  {\n",
       "            display: block;\n",
       "            float: left;\n",
       "            border: 1px solid transparent;\n",
       "        }\n",
       "\n",
       "        .colab-quickchart-chart-with-code:hover {\n",
       "            cursor: pointer;\n",
       "            border: 1px solid #aaa;\n",
       "        }\n",
       "      </style>"
      ],
      "text/plain": [
       "import numpy as np\n",
       "from google.colab import autoviz\n",
       "df_6931137707896255445 = autoviz.get_registered_df('df_6931137707896255445')\n",
       "\n",
       "def time_series_multiline(df, timelike_colname, value_colname, series_colname, figsize=(2.5, 1.3), mpl_palette_name='Dark2'):\n",
       "  from matplotlib import pyplot as plt\n",
       "  import seaborn as sns\n",
       "  palette = list(sns.palettes.mpl_palette(mpl_palette_name))\n",
       "  def _plot_series(series, series_name, series_index=0):\n",
       "    if value_colname == 'count()':\n",
       "      counted = (series[timelike_colname]\n",
       "                 .value_counts()\n",
       "                 .reset_index(name='counts')\n",
       "                 .rename({'index': timelike_colname}, axis=1)\n",
       "                 .sort_values(timelike_colname, ascending=True))\n",
       "      xs = counted[timelike_colname]\n",
       "      ys = counted['counts']\n",
       "    else:\n",
       "      xs = series[timelike_colname]\n",
       "      ys = series[value_colname]\n",
       "    plt.plot(xs, ys, label=series_name, color=palette[series_index % len(palette)])\n",
       "\n",
       "  fig, ax = plt.subplots(figsize=figsize, layout='constrained')\n",
       "  df = df.sort_values(timelike_colname, ascending=True)\n",
       "  if series_colname:\n",
       "    for i, (series_name, series) in enumerate(df.groupby(series_colname)):\n",
       "      _plot_series(series, series_name, i)\n",
       "    fig.legend(title=series_colname, bbox_to_anchor=(1, 1), loc='upper left')\n",
       "  else:\n",
       "    _plot_series(df, '')\n",
       "  sns.despine(fig=fig, ax=ax)\n",
       "  plt.xlabel(timelike_colname)\n",
       "  plt.ylabel(value_colname)\n",
       "  return autoviz.MplChart.from_current_mpl_state()\n",
       "\n",
       "chart = time_series_multiline(df_6931137707896255445, *['p (mbar)', 'rh (%)', None], **{})\n",
       "chart"
      ]
     },
     "metadata": {},
     "output_type": "display_data"
    }
   ],
   "source": [
    "df.head()"
   ]
  },
  {
   "cell_type": "markdown",
   "metadata": {
    "id": "WRzj1inMfgcO"
   },
   "source": [
    "Here is the evolution of a few features over time:"
   ]
  },
  {
   "cell_type": "code",
   "execution_count": 5,
   "metadata": {
    "colab": {
     "base_uri": "https://localhost:8080/",
     "height": 1000
    },
    "id": "Vg5XIc5tfNlG",
    "outputId": "c4547760-9693-446e-9a9a-15e40d4e47f4"
   },
   "outputs": [
    {
     "data": {
      "image/png": "[encoded data removed]",
      "text/plain": [
       "<Figure size 800x600 with 3 Axes>"
      ]
     },
     "metadata": {},
     "output_type": "display_data"
    },
    {
     "data": {
      "image/png": "[encoded data removed]",
      "text/plain": [
       "<Figure size 800x600 with 3 Axes>"
      ]
     },
     "metadata": {},
     "output_type": "display_data"
    }
   ],
   "source": [
    "plot_cols = ['T (degC)', 'p (mbar)', 'rho (g/m**3)']\n",
    "plot_features = df[plot_cols]\n",
    "plot_features.index = date_time\n",
    "_ = plot_features.plot(subplots=True)\n",
    "\n",
    "plot_features = df[plot_cols][:480]\n",
    "plot_features.index = date_time[:480]\n",
    "_ = plot_features.plot(subplots=True)"
   ]
  },
  {
   "cell_type": "markdown",
   "metadata": {
    "id": "wXWLG0_WBhZS"
   },
   "source": [
    "### Inspect and cleanup"
   ]
  },
  {
   "cell_type": "markdown",
   "metadata": {
    "id": "yhmZXJew6GlS"
   },
   "source": [
    "Next, look at the statistics of the dataset:"
   ]
  },
  {
   "cell_type": "code",
   "execution_count": 6,
   "metadata": {
    "colab": {
     "base_uri": "https://localhost:8080/",
     "height": 488
    },
    "id": "h510pgKVrrai",
    "outputId": "74a81e09-eb7b-4410-bc98-61b68837e3cd"
   },
   "outputs": [
    {
     "data": {
      "text/html": [
       "\n",
       "\n",
       "  <div id=\"df-c969c971-3e4b-47d9-a06f-9c811489294f\">\n",
       "    <div class=\"colab-df-container\">\n",
       "      <div>\n",
       "<style scoped>\n",
       "    .dataframe tbody tr th:only-of-type {\n",
       "        vertical-align: middle;\n",
       "    }\n",
       "\n",
       "    .dataframe tbody tr th {\n",
       "        vertical-align: top;\n",
       "    }\n",
       "\n",
       "    .dataframe thead th {\n",
       "        text-align: right;\n",
       "    }\n",
       "</style>\n",
       "<table border=\"1\" class=\"dataframe\">\n",
       "  <thead>\n",
       "    <tr style=\"text-align: right;\">\n",
       "      <th></th>\n",
       "      <th>count</th>\n",
       "      <th>mean</th>\n",
       "      <th>std</th>\n",
       "      <th>min</th>\n",
       "      <th>25%</th>\n",
       "      <th>50%</th>\n",
       "      <th>75%</th>\n",
       "      <th>max</th>\n",
       "    </tr>\n",
       "  </thead>\n",
       "  <tbody>\n",
       "    <tr>\n",
       "      <th>p (mbar)</th>\n",
       "      <td>70091.0</td>\n",
       "      <td>989.212842</td>\n",
       "      <td>8.358886</td>\n",
       "      <td>913.60</td>\n",
       "      <td>984.20</td>\n",
       "      <td>989.57</td>\n",
       "      <td>994.720</td>\n",
       "      <td>1015.29</td>\n",
       "    </tr>\n",
       "    <tr>\n",
       "      <th>T (degC)</th>\n",
       "      <td>70091.0</td>\n",
       "      <td>9.450482</td>\n",
       "      <td>8.423384</td>\n",
       "      <td>-22.76</td>\n",
       "      <td>3.35</td>\n",
       "      <td>9.41</td>\n",
       "      <td>15.480</td>\n",
       "      <td>37.28</td>\n",
       "    </tr>\n",
       "    <tr>\n",
       "      <th>Tpot (K)</th>\n",
       "      <td>70091.0</td>\n",
       "      <td>283.493086</td>\n",
       "      <td>8.504424</td>\n",
       "      <td>250.85</td>\n",
       "      <td>277.44</td>\n",
       "      <td>283.46</td>\n",
       "      <td>289.530</td>\n",
       "      <td>311.21</td>\n",
       "    </tr>\n",
       "    <tr>\n",
       "      <th>Tdew (degC)</th>\n",
       "      <td>70091.0</td>\n",
       "      <td>4.956471</td>\n",
       "      <td>6.730081</td>\n",
       "      <td>-24.80</td>\n",
       "      <td>0.24</td>\n",
       "      <td>5.21</td>\n",
       "      <td>10.080</td>\n",
       "      <td>23.06</td>\n",
       "    </tr>\n",
       "    <tr>\n",
       "      <th>rh (%)</th>\n",
       "      <td>70091.0</td>\n",
       "      <td>76.009788</td>\n",
       "      <td>16.474920</td>\n",
       "      <td>13.88</td>\n",
       "      <td>65.21</td>\n",
       "      <td>79.30</td>\n",
       "      <td>89.400</td>\n",
       "      <td>100.00</td>\n",
       "    </tr>\n",
       "    <tr>\n",
       "      <th>VPmax (mbar)</th>\n",
       "      <td>70091.0</td>\n",
       "      <td>13.576576</td>\n",
       "      <td>7.739883</td>\n",
       "      <td>0.97</td>\n",
       "      <td>7.77</td>\n",
       "      <td>11.82</td>\n",
       "      <td>17.610</td>\n",
       "      <td>63.77</td>\n",
       "    </tr>\n",
       "    <tr>\n",
       "      <th>VPact (mbar)</th>\n",
       "      <td>70091.0</td>\n",
       "      <td>9.533968</td>\n",
       "      <td>4.183658</td>\n",
       "      <td>0.81</td>\n",
       "      <td>6.22</td>\n",
       "      <td>8.86</td>\n",
       "      <td>12.360</td>\n",
       "      <td>28.25</td>\n",
       "    </tr>\n",
       "    <tr>\n",
       "      <th>VPdef (mbar)</th>\n",
       "      <td>70091.0</td>\n",
       "      <td>4.042536</td>\n",
       "      <td>4.898549</td>\n",
       "      <td>0.00</td>\n",
       "      <td>0.87</td>\n",
       "      <td>2.19</td>\n",
       "      <td>5.300</td>\n",
       "      <td>46.01</td>\n",
       "    </tr>\n",
       "    <tr>\n",
       "      <th>sh (g/kg)</th>\n",
       "      <td>70091.0</td>\n",
       "      <td>6.022560</td>\n",
       "      <td>2.655812</td>\n",
       "      <td>0.51</td>\n",
       "      <td>3.92</td>\n",
       "      <td>5.59</td>\n",
       "      <td>7.800</td>\n",
       "      <td>18.07</td>\n",
       "    </tr>\n",
       "    <tr>\n",
       "      <th>H2OC (mmol/mol)</th>\n",
       "      <td>70091.0</td>\n",
       "      <td>9.640437</td>\n",
       "      <td>4.234862</td>\n",
       "      <td>0.81</td>\n",
       "      <td>6.29</td>\n",
       "      <td>8.96</td>\n",
       "      <td>12.490</td>\n",
       "      <td>28.74</td>\n",
       "    </tr>\n",
       "    <tr>\n",
       "      <th>rho (g/m**3)</th>\n",
       "      <td>70091.0</td>\n",
       "      <td>1216.061232</td>\n",
       "      <td>39.974263</td>\n",
       "      <td>1059.45</td>\n",
       "      <td>1187.47</td>\n",
       "      <td>1213.80</td>\n",
       "      <td>1242.765</td>\n",
       "      <td>1393.54</td>\n",
       "    </tr>\n",
       "    <tr>\n",
       "      <th>wv (m/s)</th>\n",
       "      <td>70091.0</td>\n",
       "      <td>1.702567</td>\n",
       "      <td>65.447512</td>\n",
       "      <td>-9999.00</td>\n",
       "      <td>0.99</td>\n",
       "      <td>1.76</td>\n",
       "      <td>2.860</td>\n",
       "      <td>14.01</td>\n",
       "    </tr>\n",
       "    <tr>\n",
       "      <th>max. wv (m/s)</th>\n",
       "      <td>70091.0</td>\n",
       "      <td>2.963041</td>\n",
       "      <td>75.597657</td>\n",
       "      <td>-9999.00</td>\n",
       "      <td>1.76</td>\n",
       "      <td>2.98</td>\n",
       "      <td>4.740</td>\n",
       "      <td>23.50</td>\n",
       "    </tr>\n",
       "    <tr>\n",
       "      <th>wd (deg)</th>\n",
       "      <td>70091.0</td>\n",
       "      <td>174.789095</td>\n",
       "      <td>86.619431</td>\n",
       "      <td>0.00</td>\n",
       "      <td>125.30</td>\n",
       "      <td>198.10</td>\n",
       "      <td>234.000</td>\n",
       "      <td>360.00</td>\n",
       "    </tr>\n",
       "  </tbody>\n",
       "</table>\n",
       "</div>\n",
       "      <button class=\"colab-df-convert\" onclick=\"convertToInteractive('df-c969c971-3e4b-47d9-a06f-9c811489294f')\"\n",
       "              title=\"Convert this dataframe to an interactive table.\"\n",
       "              style=\"display:none;\">\n",
       "\n",
       "  <svg xmlns=\"http://www.w3.org/2000/svg\" height=\"24px\"viewBox=\"0 0 24 24\"\n",
       "       width=\"24px\">\n",
       "    <path d=\"M0 0h24v24H0V0z\" fill=\"none\"/>\n",
       "    <path d=\"M18.56 5.44l.94 2.06.94-2.06 2.06-.94-2.06-.94-.94-2.06-.94 2.06-2.06.94zm-11 1L8.5 8.5l.94-2.06 2.06-.94-2.06-.94L8.5 2.5l-.94 2.06-2.06.94zm10 10l.94 2.06.94-2.06 2.06-.94-2.06-.94-.94-2.06-.94 2.06-2.06.94z\"/><path d=\"M17.41 7.96l-1.37-1.37c-.4-.4-.92-.59-1.43-.59-.52 0-1.04.2-1.43.59L10.3 9.45l-7.72 7.72c-.78.78-.78 2.05 0 2.83L4 21.41c.39.39.9.59 1.41.59.51 0 1.02-.2 1.41-.59l7.78-7.78 2.81-2.81c.8-.78.8-2.07 0-2.86zM5.41 20L4 18.59l7.72-7.72 1.47 1.35L5.41 20z\"/>\n",
       "  </svg>\n",
       "      </button>\n",
       "\n",
       "\n",
       "\n",
       "    <div id=\"df-98203504-32e1-48e3-93c1-42e80c075722\">\n",
       "      <button class=\"colab-df-quickchart\" onclick=\"quickchart('df-98203504-32e1-48e3-93c1-42e80c075722')\"\n",
       "              title=\"Suggest charts.\"\n",
       "              style=\"display:none;\">\n",
       "\n",
       "<svg xmlns=\"http://www.w3.org/2000/svg\" height=\"24px\"viewBox=\"0 0 24 24\"\n",
       "     width=\"24px\">\n",
       "    <g>\n",
       "        <path d=\"M19 3H5c-1.1 0-2 .9-2 2v14c0 1.1.9 2 2 2h14c1.1 0 2-.9 2-2V5c0-1.1-.9-2-2-2zM9 17H7v-7h2v7zm4 0h-2V7h2v10zm4 0h-2v-4h2v4z\"/>\n",
       "    </g>\n",
       "</svg>\n",
       "      </button>\n",
       "    </div>\n",
       "\n",
       "<style>\n",
       "  .colab-df-quickchart {\n",
       "    background-color: #E8F0FE;\n",
       "    border: none;\n",
       "    border-radius: 50%;\n",
       "    cursor: pointer;\n",
       "    display: none;\n",
       "    fill: #1967D2;\n",
       "    height: 32px;\n",
       "    padding: 0 0 0 0;\n",
       "    width: 32px;\n",
       "  }\n",
       "\n",
       "  .colab-df-quickchart:hover {\n",
       "    background-color: #E2EBFA;\n",
       "    box-shadow: 0px 1px 2px rgba(60, 64, 67, 0.3), 0px 1px 3px 1px rgba(60, 64, 67, 0.15);\n",
       "    fill: #174EA6;\n",
       "  }\n",
       "\n",
       "  [theme=dark] .colab-df-quickchart {\n",
       "    background-color: #3B4455;\n",
       "    fill: #D2E3FC;\n",
       "  }\n",
       "\n",
       "  [theme=dark] .colab-df-quickchart:hover {\n",
       "    background-color: #434B5C;\n",
       "    box-shadow: 0px 1px 3px 1px rgba(0, 0, 0, 0.15);\n",
       "    filter: drop-shadow(0px 1px 2px rgba(0, 0, 0, 0.3));\n",
       "    fill: #FFFFFF;\n",
       "  }\n",
       "</style>\n",
       "\n",
       "    <script>\n",
       "      async function quickchart(key) {\n",
       "        const containerElement = document.querySelector('#' + key);\n",
       "        const charts = await google.colab.kernel.invokeFunction(\n",
       "            'suggestCharts', [key], {});\n",
       "      }\n",
       "    </script>\n",
       "\n",
       "      <script>\n",
       "\n",
       "function displayQuickchartButton(domScope) {\n",
       "  let quickchartButtonEl =\n",
       "    domScope.querySelector('#df-98203504-32e1-48e3-93c1-42e80c075722 button.colab-df-quickchart');\n",
       "  quickchartButtonEl.style.display =\n",
       "    google.colab.kernel.accessAllowed ? 'block' : 'none';\n",
       "}\n",
       "\n",
       "        displayQuickchartButton(document);\n",
       "      </script>\n",
       "      <style>\n",
       "    .colab-df-container {\n",
       "      display:flex;\n",
       "      flex-wrap:wrap;\n",
       "      gap: 12px;\n",
       "    }\n",
       "\n",
       "    .colab-df-convert {\n",
       "      background-color: #E8F0FE;\n",
       "      border: none;\n",
       "      border-radius: 50%;\n",
       "      cursor: pointer;\n",
       "      display: none;\n",
       "      fill: #1967D2;\n",
       "      height: 32px;\n",
       "      padding: 0 0 0 0;\n",
       "      width: 32px;\n",
       "    }\n",
       "\n",
       "    .colab-df-convert:hover {\n",
       "      background-color: #E2EBFA;\n",
       "      box-shadow: 0px 1px 2px rgba(60, 64, 67, 0.3), 0px 1px 3px 1px rgba(60, 64, 67, 0.15);\n",
       "      fill: #174EA6;\n",
       "    }\n",
       "\n",
       "    [theme=dark] .colab-df-convert {\n",
       "      background-color: #3B4455;\n",
       "      fill: #D2E3FC;\n",
       "    }\n",
       "\n",
       "    [theme=dark] .colab-df-convert:hover {\n",
       "      background-color: #434B5C;\n",
       "      box-shadow: 0px 1px 3px 1px rgba(0, 0, 0, 0.15);\n",
       "      filter: drop-shadow(0px 1px 2px rgba(0, 0, 0, 0.3));\n",
       "      fill: #FFFFFF;\n",
       "    }\n",
       "  </style>\n",
       "\n",
       "      <script>\n",
       "        const buttonEl =\n",
       "          document.querySelector('#df-c969c971-3e4b-47d9-a06f-9c811489294f button.colab-df-convert');\n",
       "        buttonEl.style.display =\n",
       "          google.colab.kernel.accessAllowed ? 'block' : 'none';\n",
       "\n",
       "        async function convertToInteractive(key) {\n",
       "          const element = document.querySelector('#df-c969c971-3e4b-47d9-a06f-9c811489294f');\n",
       "          const dataTable =\n",
       "            await google.colab.kernel.invokeFunction('convertToInteractive',\n",
       "                                                     [key], {});\n",
       "          if (!dataTable) return;\n",
       "\n",
       "          const docLinkHtml = 'Like what you see? Visit the ' +\n",
       "            '<a target=\"_blank\" href=https://colab.research.google.com/notebooks/data_table.ipynb>data table notebook</a>'\n",
       "            + ' to learn more about interactive tables.';\n",
       "          element.innerHTML = '';\n",
       "          dataTable['output_type'] = 'display_data';\n",
       "          await google.colab.output.renderOutput(dataTable, element);\n",
       "          const docLink = document.createElement('div');\n",
       "          docLink.innerHTML = docLinkHtml;\n",
       "          element.appendChild(docLink);\n",
       "        }\n",
       "      </script>\n",
       "    </div>\n",
       "  </div>\n"
      ],
      "text/plain": [
       "                   count         mean        std      min      25%      50%  \\\n",
       "p (mbar)         70091.0   989.212842   8.358886   913.60   984.20   989.57   \n",
       "T (degC)         70091.0     9.450482   8.423384   -22.76     3.35     9.41   \n",
       "Tpot (K)         70091.0   283.493086   8.504424   250.85   277.44   283.46   \n",
       "Tdew (degC)      70091.0     4.956471   6.730081   -24.80     0.24     5.21   \n",
       "rh (%)           70091.0    76.009788  16.474920    13.88    65.21    79.30   \n",
       "VPmax (mbar)     70091.0    13.576576   7.739883     0.97     7.77    11.82   \n",
       "VPact (mbar)     70091.0     9.533968   4.183658     0.81     6.22     8.86   \n",
       "VPdef (mbar)     70091.0     4.042536   4.898549     0.00     0.87     2.19   \n",
       "sh (g/kg)        70091.0     6.022560   2.655812     0.51     3.92     5.59   \n",
       "H2OC (mmol/mol)  70091.0     9.640437   4.234862     0.81     6.29     8.96   \n",
       "rho (g/m**3)     70091.0  1216.061232  39.974263  1059.45  1187.47  1213.80   \n",
       "wv (m/s)         70091.0     1.702567  65.447512 -9999.00     0.99     1.76   \n",
       "max. wv (m/s)    70091.0     2.963041  75.597657 -9999.00     1.76     2.98   \n",
       "wd (deg)         70091.0   174.789095  86.619431     0.00   125.30   198.10   \n",
       "\n",
       "                      75%      max  \n",
       "p (mbar)          994.720  1015.29  \n",
       "T (degC)           15.480    37.28  \n",
       "Tpot (K)          289.530   311.21  \n",
       "Tdew (degC)        10.080    23.06  \n",
       "rh (%)             89.400   100.00  \n",
       "VPmax (mbar)       17.610    63.77  \n",
       "VPact (mbar)       12.360    28.25  \n",
       "VPdef (mbar)        5.300    46.01  \n",
       "sh (g/kg)           7.800    18.07  \n",
       "H2OC (mmol/mol)    12.490    28.74  \n",
       "rho (g/m**3)     1242.765  1393.54  \n",
       "wv (m/s)            2.860    14.01  \n",
       "max. wv (m/s)       4.740    23.50  \n",
       "wd (deg)          234.000   360.00  "
      ]
     },
     "execution_count": 6,
     "metadata": {},
     "output_type": "execute_result"
    }
   ],
   "source": [
    "df.describe().transpose()"
   ]
  },
  {
   "cell_type": "markdown",
   "metadata": {
    "id": "TzOTnWOoWMGK"
   },
   "source": [
    "#### Wind velocity"
   ]
  },
  {
   "cell_type": "markdown",
   "metadata": {
    "id": "i47LiW5DCVsP"
   },
   "source": [
    "One thing that should stand out is the `min` value of the wind velocity (`wv (m/s)`) and the maximum value (`max. wv (m/s)`) columns. This `-9999` is likely erroneous.\n",
    "\n",
    "There's a separate wind direction column, so the velocity should be greater than zero (`>=0`). Replace it with zeros:"
   ]
  },
  {
   "cell_type": "code",
   "execution_count": 7,
   "metadata": {
    "colab": {
     "base_uri": "https://localhost:8080/"
    },
    "id": "qFOq0_80vF4d",
    "outputId": "99e6b13b-0ee2-49ff-cd12-7c45df152f67"
   },
   "outputs": [
    {
     "data": {
      "text/plain": [
       "0.0"
      ]
     },
     "execution_count": 7,
     "metadata": {},
     "output_type": "execute_result"
    }
   ],
   "source": [
    "wv = df['wv (m/s)']\n",
    "bad_wv = wv == -9999.0\n",
    "wv[bad_wv] = 0.0\n",
    "\n",
    "max_wv = df['max. wv (m/s)']\n",
    "bad_max_wv = max_wv == -9999.0\n",
    "max_wv[bad_max_wv] = 0.0\n",
    "\n",
    "# The above inplace edits are reflected in the DataFrame.\n",
    "df['wv (m/s)'].min()"
   ]
  },
  {
   "cell_type": "markdown",
   "metadata": {
    "id": "vtmu2IBPgPG8"
   },
   "source": [
    "### Feature engineering\n",
    "\n",
    "Before diving in to build a model, it's important to understand your data and be sure that you're passing the model appropriately formatted data."
   ]
  },
  {
   "cell_type": "markdown",
   "metadata": {
    "id": "FYyEaqiD6j4s"
   },
   "source": [
    "#### Wind\n",
    "The last column of the data, `wd (deg)`—gives the wind direction in units of degrees. Angles do not make good model inputs: 360° and 0° should be close to each other and wrap around smoothly. Direction shouldn't matter if the wind is not blowing.\n",
    "\n",
    "Right now the distribution of wind data looks like this:"
   ]
  },
  {
   "cell_type": "code",
   "execution_count": 8,
   "metadata": {
    "colab": {
     "base_uri": "https://localhost:8080/",
     "height": 564
    },
    "id": "YO7JGTcWQG2z",
    "outputId": "44fd7183-36c5-4cc6-d191-4ed4fb4f5d36"
   },
   "outputs": [
    {
     "data": {
      "text/plain": [
       "Text(0, 0.5, 'Wind Velocity [m/s]')"
      ]
     },
     "execution_count": 8,
     "metadata": {},
     "output_type": "execute_result"
    },
    {
     "data": {
      "image/png": "[encoded data removed]",
      "text/plain": [
       "<Figure size 800x600 with 2 Axes>"
      ]
     },
     "metadata": {},
     "output_type": "display_data"
    }
   ],
   "source": [
    "plt.hist2d(df['wd (deg)'], df['wv (m/s)'], bins=(50, 50), vmax=400)\n",
    "plt.colorbar()\n",
    "plt.xlabel('Wind Direction [deg]')\n",
    "plt.ylabel('Wind Velocity [m/s]')"
   ]
  },
  {
   "cell_type": "markdown",
   "metadata": {
    "id": "yWnf5dwMU1_g"
   },
   "source": [
    "But this will be easier for the model to interpret if you convert the wind direction and velocity columns to a wind **vector**:"
   ]
  },
  {
   "cell_type": "code",
   "execution_count": 9,
   "metadata": {
    "id": "6GmSTHXw6lI1"
   },
   "outputs": [],
   "source": [
    "wv = df.pop('wv (m/s)')\n",
    "max_wv = df.pop('max. wv (m/s)')\n",
    "\n",
    "# Convert to radians.\n",
    "wd_rad = df.pop('wd (deg)')*np.pi / 180\n",
    "\n",
    "# Calculate the wind x and y components.\n",
    "df['Wx'] = wv*np.cos(wd_rad)\n",
    "df['Wy'] = wv*np.sin(wd_rad)\n",
    "\n",
    "# Calculate the max wind x and y components.\n",
    "df['max Wx'] = max_wv*np.cos(wd_rad)\n",
    "df['max Wy'] = max_wv*np.sin(wd_rad)"
   ]
  },
  {
   "cell_type": "markdown",
   "metadata": {
    "id": "7iI0zDoxWDyB"
   },
   "source": [
    "The distribution of wind vectors is much simpler for the model to correctly interpret:"
   ]
  },
  {
   "cell_type": "code",
   "execution_count": 10,
   "metadata": {
    "colab": {
     "base_uri": "https://localhost:8080/",
     "height": 564
    },
    "id": "bMgCG5o2SYKD",
    "outputId": "257a7b6a-1d00-4f78-97f9-f32695a14bda"
   },
   "outputs": [
    {
     "data": {
      "text/plain": [
       "(-11.30551397313467, 8.244699285490789, -8.274385403355149, 7.733831295546778)"
      ]
     },
     "execution_count": 10,
     "metadata": {},
     "output_type": "execute_result"
    },
    {
     "data": {
      "image/png": "[encoded data removed]",
      "text/plain": [
       "<Figure size 800x600 with 2 Axes>"
      ]
     },
     "metadata": {},
     "output_type": "display_data"
    }
   ],
   "source": [
    "plt.hist2d(df['Wx'], df['Wy'], bins=(50, 50), vmax=400)\n",
    "plt.colorbar()\n",
    "plt.xlabel('Wind X [m/s]')\n",
    "plt.ylabel('Wind Y [m/s]')\n",
    "ax = plt.gca()\n",
    "ax.axis('tight')"
   ]
  },
  {
   "cell_type": "markdown",
   "metadata": {
    "id": "_8im1ttOWlRB"
   },
   "source": [
    "#### Time"
   ]
  },
  {
   "cell_type": "markdown",
   "metadata": {
    "id": "7YE21HKK40zQ"
   },
   "source": [
    "Similarly, the `Date Time` column is very useful, but not in this string form. Start by converting it to seconds:"
   ]
  },
  {
   "cell_type": "code",
   "execution_count": 11,
   "metadata": {
    "id": "LIFf-VjMfnh3"
   },
   "outputs": [],
   "source": [
    "timestamp_s = date_time.map(pd.Timestamp.timestamp)"
   ]
  },
  {
   "cell_type": "markdown",
   "metadata": {
    "id": "EC_pnM1D5Sgc"
   },
   "source": [
    "Similar to the wind direction, the time in seconds is not a useful model input. Being weather data, it has clear daily and yearly periodicity. There are many ways you could deal with periodicity.\n",
    "\n",
    "You can get usable signals by using sine and cosine transforms to clear \"Time of day\" and \"Time of year\" signals:"
   ]
  },
  {
   "cell_type": "code",
   "execution_count": 12,
   "metadata": {
    "id": "MBfX6CDwax73"
   },
   "outputs": [],
   "source": [
    "day = 24*60*60\n",
    "year = (365.2425)*day\n",
    "\n",
    "df['Day sin'] = np.sin(timestamp_s * (2 * np.pi / day))\n",
    "df['Day cos'] = np.cos(timestamp_s * (2 * np.pi / day))\n",
    "df['Year sin'] = np.sin(timestamp_s * (2 * np.pi / year))\n",
    "df['Year cos'] = np.cos(timestamp_s * (2 * np.pi / year))"
   ]
  },
  {
   "cell_type": "code",
   "execution_count": 13,
   "metadata": {
    "colab": {
     "base_uri": "https://localhost:8080/",
     "height": 581
    },
    "id": "mXBbTJZfuuTC",
    "outputId": "bab05adb-f509-4314-c53a-9896d4d5d3db"
   },
   "outputs": [
    {
     "data": {
      "text/plain": [
       "Text(0.5, 1.0, 'Time of day signal')"
      ]
     },
     "execution_count": 13,
     "metadata": {},
     "output_type": "execute_result"
    },
    {
     "data": {
      "image/png": "[encoded data removed]",
      "text/plain": [
       "<Figure size 800x600 with 1 Axes>"
      ]
     },
     "metadata": {},
     "output_type": "display_data"
    }
   ],
   "source": [
    "plt.plot(np.array(df['Day sin'])[:25])\n",
    "plt.plot(np.array(df['Day cos'])[:25])\n",
    "plt.xlabel('Time [h]')\n",
    "plt.title('Time of day signal')"
   ]
  },
  {
   "cell_type": "markdown",
   "metadata": {
    "id": "HiurzTGQgf_D"
   },
   "source": [
    "This gives the model access to the most important frequency features. In this case you knew ahead of time which frequencies were important.\n",
    "\n",
    "If you don't have that information, you can determine which frequencies are important by extracting features with <a href=\"https://en.wikipedia.org/wiki/Fast_Fourier_transform\" class=\"external\">Fast Fourier Transform</a>. To check the assumptions, here is the `tf.signal.rfft` of the temperature over time. Note the obvious peaks at frequencies near `1/year` and `1/day`:\n"
   ]
  },
  {
   "cell_type": "code",
   "execution_count": 14,
   "metadata": {
    "colab": {
     "base_uri": "https://localhost:8080/",
     "height": 547
    },
    "id": "EN4U1fcMiTYs",
    "outputId": "8ccdeb1d-7b45-49b4-d953-4406d625cee9"
   },
   "outputs": [
    {
     "data": {
      "image/png": "[encoded data removed]",
      "text/plain": [
       "<Figure size 800x600 with 1 Axes>"
      ]
     },
     "metadata": {},
     "output_type": "display_data"
    }
   ],
   "source": [
    "fft = tf.signal.rfft(df['T (degC)'])\n",
    "f_per_dataset = np.arange(0, len(fft))\n",
    "\n",
    "n_samples_h = len(df['T (degC)'])\n",
    "hours_per_year = 24*365.2524\n",
    "years_per_dataset = n_samples_h/(hours_per_year)\n",
    "\n",
    "f_per_year = f_per_dataset/years_per_dataset\n",
    "plt.step(f_per_year, np.abs(fft))\n",
    "plt.xscale('log')\n",
    "plt.ylim(0, 400000)\n",
    "plt.xlim([0.1, max(plt.xlim())])\n",
    "plt.xticks([1, 365.2524], labels=['1/Year', '1/day'])\n",
    "_ = plt.xlabel('Frequency (log scale)')"
   ]
  },
  {
   "cell_type": "markdown",
   "metadata": {
    "id": "2rbL8bSGDHy3"
   },
   "source": [
    "### Split the data"
   ]
  },
  {
   "cell_type": "markdown",
   "metadata": {
    "id": "qoFJZmXBaxCc"
   },
   "source": [
    "You'll use a `(70%, 20%, 10%)` split for the training, validation, and test sets. Note the data is **not** being randomly shuffled before splitting. This is for two reasons:\n",
    "\n",
    "1. It ensures that chopping the data into windows of consecutive samples is still possible.\n",
    "2. It ensures that the validation/test results are more realistic, being evaluated on the data collected after the model was trained."
   ]
  },
  {
   "cell_type": "code",
   "execution_count": 15,
   "metadata": {
    "id": "ia-MPAHxbInX"
   },
   "outputs": [],
   "source": [
    "column_indices = {name: i for i, name in enumerate(df.columns)}\n",
    "\n",
    "n = len(df)\n",
    "train_df = df[0:int(n*0.7)]\n",
    "val_df = df[int(n*0.7):int(n*0.9)]\n",
    "test_df = df[int(n*0.9):]\n",
    "\n",
    "num_features = df.shape[1]"
   ]
  },
  {
   "cell_type": "markdown",
   "metadata": {
    "id": "-eFckdUUHWmT"
   },
   "source": [
    "### Normalize the data\n",
    "\n",
    "It is important to scale features before training a neural network. Normalization is a common way of doing this scaling: subtract the mean and divide by the standard deviation of each feature."
   ]
  },
  {
   "cell_type": "markdown",
   "metadata": {
    "id": "mxbIic5TMlxx"
   },
   "source": [
    "The mean and standard deviation should only be computed using the training data so that the models have no access to the values in the validation and test sets.\n",
    "\n",
    "It's also arguable that the model shouldn't have access to future values in the training set when training, and that this normalization should be done using moving averages. That's not the focus of this tutorial, and the validation and test sets ensure that you get (somewhat) honest metrics. So, in the interest of simplicity this tutorial uses a simple average."
   ]
  },
  {
   "cell_type": "code",
   "execution_count": 16,
   "metadata": {
    "id": "Eji6njXvHusN"
   },
   "outputs": [],
   "source": [
    "train_mean = train_df.mean()\n",
    "train_std = train_df.std()\n",
    "\n",
    "train_df = (train_df - train_mean) / train_std\n",
    "val_df = (val_df - train_mean) / train_std\n",
    "test_df = (test_df - train_mean) / train_std"
   ]
  },
  {
   "cell_type": "markdown",
   "metadata": {
    "id": "G6ufs8kk9JQw"
   },
   "source": [
    "Now, peek at the distribution of the features. Some features do have long tails, but there are no obvious errors like the `-9999` wind velocity value."
   ]
  },
  {
   "cell_type": "code",
   "execution_count": 17,
   "metadata": {
    "colab": {
     "base_uri": "https://localhost:8080/",
     "height": 653
    },
    "id": "T0UYEnkwm8Fe",
    "outputId": "9727f79e-d8a5-4d19-d923-24951dfcc0a5"
   },
   "outputs": [
    {
     "data": {
      "image/png": "[encoded data removed]",
      "text/plain": [
       "<Figure size 1200x600 with 1 Axes>"
      ]
     },
     "metadata": {},
     "output_type": "display_data"
    }
   ],
   "source": [
    "df_std = (df - train_mean) / train_std\n",
    "df_std = df_std.melt(var_name='Column', value_name='Normalized')\n",
    "plt.figure(figsize=(12, 6))\n",
    "ax = sns.violinplot(x='Column', y='Normalized', data=df_std)\n",
    "_ = ax.set_xticklabels(df.keys(), rotation=90)"
   ]
  },
  {
   "cell_type": "markdown",
   "metadata": {
    "id": "ZBBmdxZ2HgfJ"
   },
   "source": [
    "## Data windowing\n",
    "\n",
    "The models in this tutorial will make a set of predictions based on a window of consecutive samples from the data.\n",
    "\n",
    "The main features of the input windows are:\n",
    "\n",
    "- The width (number of time steps) of the input and label windows.\n",
    "- The time offset between them.\n",
    "- Which features are used as inputs, labels, or both.\n",
    "\n",
    "This tutorial builds a variety of models (including Linear, DNN, CNN and RNN models), and uses them for both:\n",
    "\n",
    "- *Single-output*, and *multi-output* predictions.\n",
    "- *Single-time-step* and *multi-time-step* predictions.\n",
    "\n",
    "This section focuses on implementing the data windowing so that it can be reused for all of those models.\n"
   ]
  },
  {
   "cell_type": "markdown",
   "metadata": {
    "id": "YAhGUVx1jtOy"
   },
   "source": [
    "Depending on the task and type of model you may want to generate a variety of data windows. Here are some examples:\n",
    "\n",
    "1. For example, to make a single prediction 24 hours into the future, given 24 hours of history, you might define a window like this:\n",
    "\n",
    "  ![One prediction 24 hours into the future.](https://github.com/tensorflow/docs/blob/master/site/en/tutorials/structured_data/images/raw_window_24h.png?raw=1)\n",
    "\n",
    "2. A model that makes a prediction one hour into the future, given six hours of history, would need a window like this:\n",
    "\n",
    "  ![One prediction one hour into the future.](https://github.com/tensorflow/docs/blob/master/site/en/tutorials/structured_data/images/raw_window_1h.png?raw=1)"
   ]
  },
  {
   "cell_type": "markdown",
   "metadata": {
    "id": "sa2BbfNZt8wy"
   },
   "source": [
    "The rest of this section defines a `WindowGenerator` class. This class can:\n",
    "\n",
    "1. Handle the indexes and offsets as shown in the diagrams above.\n",
    "1. Split windows of features into `(features, labels)` pairs.\n",
    "2. Plot the content of the resulting windows.\n",
    "3. Efficiently generate batches of these windows from the training, evaluation, and test data, using `tf.data.Dataset`s."
   ]
  },
  {
   "cell_type": "markdown",
   "metadata": {
    "id": "rfx3jGjyziUF"
   },
   "source": [
    "### 1. Indexes and offsets\n",
    "\n",
    "Start by creating the `WindowGenerator` class. The `__init__` method includes all the necessary logic for the input and label indices.\n",
    "\n",
    "It also takes the training, evaluation, and test DataFrames as input. These will be converted to `tf.data.Dataset`s of windows later."
   ]
  },
  {
   "cell_type": "code",
   "execution_count": 18,
   "metadata": {
    "id": "Kem30j8QHxyW"
   },
   "outputs": [],
   "source": [
    "class WindowGenerator():\n",
    "  def __init__(self, input_width, label_width, shift,\n",
    "               train_df=train_df, val_df=val_df, test_df=test_df,\n",
    "               label_columns=None):\n",
    "    # Store the raw data.\n",
    "    self.train_df = train_df\n",
    "    self.val_df = val_df\n",
    "    self.test_df = test_df\n",
    "\n",
    "    # Work out the label column indices.\n",
    "    self.label_columns = label_columns\n",
    "    if label_columns is not None:\n",
    "      self.label_columns_indices = {name: i for i, name in\n",
    "                                    enumerate(label_columns)}\n",
    "    self.column_indices = {name: i for i, name in\n",
    "                           enumerate(train_df.columns)}\n",
    "\n",
    "    # Work out the window parameters.\n",
    "    self.input_width = input_width\n",
    "    self.label_width = label_width\n",
    "    self.shift = shift\n",
    "\n",
    "    self.total_window_size = input_width + shift\n",
    "\n",
    "    self.input_slice = slice(0, input_width)\n",
    "    self.input_indices = np.arange(self.total_window_size)[self.input_slice]\n",
    "\n",
    "    self.label_start = self.total_window_size - self.label_width\n",
    "    self.labels_slice = slice(self.label_start, None)\n",
    "    self.label_indices = np.arange(self.total_window_size)[self.labels_slice]\n",
    "\n",
    "  def __repr__(self):\n",
    "    return '\\n'.join([\n",
    "        f'Total window size: {self.total_window_size}',\n",
    "        f'Input indices: {self.input_indices}',\n",
    "        f'Label indices: {self.label_indices}',\n",
    "        f'Label column name(s): {self.label_columns}'])"
   ]
  },
  {
   "cell_type": "markdown",
   "metadata": {
    "id": "yVJgblsYzL1g"
   },
   "source": [
    "Here is code to create the 2 windows shown in the diagrams at the start of this section:"
   ]
  },
  {
   "cell_type": "code",
   "execution_count": 19,
   "metadata": {
    "colab": {
     "base_uri": "https://localhost:8080/"
    },
    "id": "IsM5kRkz0UwK",
    "outputId": "0b2b5e61-7ea5-4651-c225-31089d86c5bf"
   },
   "outputs": [
    {
     "data": {
      "text/plain": [
       "Total window size: 48\n",
       "Input indices: [ 0  1  2  3  4  5  6  7  8  9 10 11 12 13 14 15 16 17 18 19 20 21 22 23]\n",
       "Label indices: [47]\n",
       "Label column name(s): ['T (degC)']"
      ]
     },
     "execution_count": 19,
     "metadata": {},
     "output_type": "execute_result"
    }
   ],
   "source": [
    "w1 = WindowGenerator(input_width=24, label_width=1, shift=24,\n",
    "                     label_columns=['T (degC)'])\n",
    "w1"
   ]
  },
  {
   "cell_type": "code",
   "execution_count": 20,
   "metadata": {
    "colab": {
     "base_uri": "https://localhost:8080/"
    },
    "id": "viwKsYeAKFUn",
    "outputId": "6144ad87-d6e2-42a6-a1e2-8893ee8c81df"
   },
   "outputs": [
    {
     "data": {
      "text/plain": [
       "Total window size: 7\n",
       "Input indices: [0 1 2 3 4 5]\n",
       "Label indices: [6]\n",
       "Label column name(s): ['T (degC)']"
      ]
     },
     "execution_count": 20,
     "metadata": {},
     "output_type": "execute_result"
    }
   ],
   "source": [
    "w2 = WindowGenerator(input_width=6, label_width=1, shift=1,\n",
    "                     label_columns=['T (degC)'])\n",
    "w2"
   ]
  },
  {
   "cell_type": "markdown",
   "metadata": {
    "id": "kJaUyTWQJd-L"
   },
   "source": [
    "### 2. Split\n",
    "\n",
    "Given a list of consecutive inputs, the `split_window` method will convert them to a window of inputs and a window of labels.\n",
    "\n",
    "The example `w2` you define earlier will be split like this:\n",
    "\n",
    "![The initial window is all consecutive samples, this splits it into an (inputs, labels) pairs](https://github.com/tensorflow/docs/blob/master/site/en/tutorials/structured_data/images/split_window.png?raw=1)\n",
    "\n",
    "This diagram doesn't show the `features` axis of the data, but this `split_window` function also handles the `label_columns` so it can be used for both the single output and multi-output examples."
   ]
  },
  {
   "cell_type": "code",
   "execution_count": 21,
   "metadata": {
    "id": "W4KbxfzqkXPW"
   },
   "outputs": [],
   "source": [
    "def split_window(self, features):\n",
    "  inputs = features[:, self.input_slice, :]\n",
    "  labels = features[:, self.labels_slice, :]\n",
    "  if self.label_columns is not None:\n",
    "    labels = tf.stack(\n",
    "        [labels[:, :, self.column_indices[name]] for name in self.label_columns],\n",
    "        axis=-1)\n",
    "\n",
    "  # Slicing doesn't preserve static shape information, so set the shapes\n",
    "  # manually. This way the `tf.data.Datasets` are easier to inspect.\n",
    "  inputs.set_shape([None, self.input_width, None])\n",
    "  labels.set_shape([None, self.label_width, None])\n",
    "\n",
    "  return inputs, labels\n",
    "\n",
    "WindowGenerator.split_window = split_window"
   ]
  },
  {
   "cell_type": "markdown",
   "metadata": {
    "id": "G6U6VtVuM15s"
   },
   "source": [
    "Try it out:"
   ]
  },
  {
   "cell_type": "code",
   "execution_count": 22,
   "metadata": {
    "colab": {
     "base_uri": "https://localhost:8080/"
    },
    "id": "YeCWbq6KLmL7",
    "outputId": "97ce1917-ae78-45c4-a189-c40f948e9732"
   },
   "outputs": [
    {
     "name": "stdout",
     "output_type": "stream",
     "text": [
      "All shapes are: (batch, time, features)\n",
      "Window shape: (3, 7, 19)\n",
      "Inputs shape: (3, 6, 19)\n",
      "Labels shape: (3, 1, 1)\n"
     ]
    }
   ],
   "source": [
    "# Stack three slices, the length of the total window.\n",
    "example_window = tf.stack([np.array(train_df[:w2.total_window_size]),\n",
    "                           np.array(train_df[100:100+w2.total_window_size]),\n",
    "                           np.array(train_df[200:200+w2.total_window_size])])\n",
    "\n",
    "example_inputs, example_labels = w2.split_window(example_window)\n",
    "\n",
    "print('All shapes are: (batch, time, features)')\n",
    "print(f'Window shape: {example_window.shape}')\n",
    "print(f'Inputs shape: {example_inputs.shape}')\n",
    "print(f'Labels shape: {example_labels.shape}')"
   ]
  },
  {
   "cell_type": "markdown",
   "metadata": {
    "id": "xtMk1ffk2Mmd"
   },
   "source": [
    "Typically, data in TensorFlow is packed into arrays where the outermost index is across examples (the \"batch\" dimension). The middle indices are the \"time\" or \"space\" (width, height) dimension(s). The innermost indices are the features.\n",
    "\n",
    "The code above took a batch of three 7-time step windows with 19 features at each time step. It splits them into a batch of 6-time step 19-feature inputs, and a 1-time step 1-feature label. The label only has one feature because the `WindowGenerator` was initialized with `label_columns=['T (degC)']`. Initially, this tutorial will build models that predict single output labels."
   ]
  },
  {
   "cell_type": "markdown",
   "metadata": {
    "id": "tFZukGXrJoGo"
   },
   "source": [
    "### 3. Plot\n",
    "\n",
    "Here is a plot method that allows a simple visualization of the split window:"
   ]
  },
  {
   "cell_type": "code",
   "execution_count": 23,
   "metadata": {
    "id": "fmgd1qkYUWT7"
   },
   "outputs": [],
   "source": [
    "w2.example = example_inputs, example_labels"
   ]
  },
  {
   "cell_type": "code",
   "execution_count": 24,
   "metadata": {
    "id": "jIrYccI-Hm3B"
   },
   "outputs": [],
   "source": [
    "def plot(self, model=None, plot_col='T (degC)', max_subplots=3):\n",
    "  inputs, labels = self.example\n",
    "  plt.figure(figsize=(12, 8))\n",
    "  plot_col_index = self.column_indices[plot_col]\n",
    "  max_n = min(max_subplots, len(inputs))\n",
    "  for n in range(max_n):\n",
    "    plt.subplot(max_n, 1, n+1)\n",
    "    plt.ylabel(f'{plot_col} [normed]')\n",
    "    plt.plot(self.input_indices, inputs[n, :, plot_col_index],\n",
    "             label='Inputs', marker='.', zorder=-10)\n",
    "\n",
    "    if self.label_columns:\n",
    "      label_col_index = self.label_columns_indices.get(plot_col, None)\n",
    "    else:\n",
    "      label_col_index = plot_col_index\n",
    "\n",
    "    if label_col_index is None:\n",
    "      continue\n",
    "\n",
    "    plt.scatter(self.label_indices, labels[n, :, label_col_index],\n",
    "                edgecolors='k', label='Labels', c='#2ca02c', s=64)\n",
    "    if model is not None:\n",
    "      predictions = model(inputs)\n",
    "      plt.scatter(self.label_indices, predictions[n, :, label_col_index],\n",
    "                  marker='X', edgecolors='k', label='Predictions',\n",
    "                  c='#ff7f0e', s=64)\n",
    "\n",
    "    if n == 0:\n",
    "      plt.legend()\n",
    "\n",
    "  plt.xlabel('Time [h]')\n",
    "\n",
    "WindowGenerator.plot = plot"
   ]
  },
  {
   "cell_type": "markdown",
   "metadata": {
    "id": "HXvctEuK68vX"
   },
   "source": [
    "This plot aligns inputs, labels, and (later) predictions based on the time that the item refers to:"
   ]
  },
  {
   "cell_type": "code",
   "execution_count": 25,
   "metadata": {
    "colab": {
     "base_uri": "https://localhost:8080/",
     "height": 696
    },
    "id": "XjTqUnglOOni",
    "outputId": "d0879c37-6ca7-4e3e-ccde-a10053cd2d67"
   },
   "outputs": [
    {
     "data": {
      "image/png": "[encoded data removed]",
      "text/plain": [
       "<Figure size 1200x800 with 3 Axes>"
      ]
     },
     "metadata": {},
     "output_type": "display_data"
    }
   ],
   "source": [
    "w2.plot()"
   ]
  },
  {
   "cell_type": "markdown",
   "metadata": {
    "id": "UqiqcPOldPG6"
   },
   "source": [
    "You can plot the other columns, but the example window `w2` configuration only has labels for the `T (degC)` column."
   ]
  },
  {
   "cell_type": "code",
   "execution_count": 26,
   "metadata": {
    "colab": {
     "base_uri": "https://localhost:8080/",
     "height": 696
    },
    "id": "EBRe4wnlfCH8",
    "outputId": "0e6023bd-cd58-461e-bcbc-eea4dbd47956"
   },
   "outputs": [
    {
     "data": {
      "image/png": "[encoded data removed]",
      "text/plain": [
       "<Figure size 1200x800 with 3 Axes>"
      ]
     },
     "metadata": {},
     "output_type": "display_data"
    }
   ],
   "source": [
    "w2.plot(plot_col='p (mbar)')"
   ]
  },
  {
   "cell_type": "markdown",
   "metadata": {
    "id": "xCvD-UaUzYMw"
   },
   "source": [
    "### 4. Create `tf.data.Dataset`s"
   ]
  },
  {
   "cell_type": "markdown",
   "metadata": {
    "id": "kLO3SFR9Osdf"
   },
   "source": [
    "Finally, this `make_dataset` method will take a time series DataFrame and convert it to a `tf.data.Dataset` of `(input_window, label_window)` pairs using the `tf.keras.utils.timeseries_dataset_from_array` function:"
   ]
  },
  {
   "cell_type": "code",
   "execution_count": 27,
   "metadata": {
    "id": "35qoSQeRVfJg"
   },
   "outputs": [],
   "source": [
    "def make_dataset(self, data):\n",
    "  data = np.array(data, dtype=np.float32)\n",
    "  ds = tf.keras.utils.timeseries_dataset_from_array(\n",
    "      data=data,\n",
    "      targets=None,\n",
    "      sequence_length=self.total_window_size,\n",
    "      sequence_stride=1,\n",
    "      shuffle=True,\n",
    "      batch_size=32,)\n",
    "\n",
    "  ds = ds.map(self.split_window)\n",
    "\n",
    "  return ds\n",
    "\n",
    "WindowGenerator.make_dataset = make_dataset"
   ]
  },
  {
   "cell_type": "markdown",
   "metadata": {
    "id": "LvsxQwJaCift"
   },
   "source": [
    "The `WindowGenerator` object holds training, validation, and test data.\n",
    "\n",
    "Add properties for accessing them as `tf.data.Dataset`s using the `make_dataset` method you defined earlier. Also, add a standard example batch for easy access and plotting:"
   ]
  },
  {
   "cell_type": "code",
   "execution_count": 28,
   "metadata": {
    "id": "2jZ2KkqGCfzu"
   },
   "outputs": [],
   "source": [
    "@property\n",
    "def train(self):\n",
    "  return self.make_dataset(self.train_df)\n",
    "\n",
    "@property\n",
    "def val(self):\n",
    "  return self.make_dataset(self.val_df)\n",
    "\n",
    "@property\n",
    "def test(self):\n",
    "  return self.make_dataset(self.test_df)\n",
    "\n",
    "@property\n",
    "def example(self):\n",
    "  \"\"\"Get and cache an example batch of `inputs, labels` for plotting.\"\"\"\n",
    "  result = getattr(self, '_example', None)\n",
    "  if result is None:\n",
    "    # No example batch was found, so get one from the `.train` dataset\n",
    "    result = next(iter(self.train))\n",
    "    # And cache it for next time\n",
    "    self._example = result\n",
    "  return result\n",
    "\n",
    "WindowGenerator.train = train\n",
    "WindowGenerator.val = val\n",
    "WindowGenerator.test = test\n",
    "WindowGenerator.example = example"
   ]
  },
  {
   "cell_type": "markdown",
   "metadata": {
    "id": "fF_Vj6Iw3Y2w"
   },
   "source": [
    "Now, the `WindowGenerator` object gives you access to the `tf.data.Dataset` objects, so you can easily iterate over the data.\n",
    "\n",
    "The `Dataset.element_spec` property tells you the structure, data types, and shapes of the dataset elements."
   ]
  },
  {
   "cell_type": "code",
   "execution_count": 29,
   "metadata": {
    "colab": {
     "base_uri": "https://localhost:8080/"
    },
    "id": "daJ0-U383YVs",
    "outputId": "4e893e73-1867-4e90-ac78-5fcf19860b99"
   },
   "outputs": [
    {
     "data": {
      "text/plain": [
       "(TensorSpec(shape=(None, 6, 19), dtype=tf.float32, name=None),\n",
       " TensorSpec(shape=(None, 1, 1), dtype=tf.float32, name=None))"
      ]
     },
     "execution_count": 29,
     "metadata": {},
     "output_type": "execute_result"
    }
   ],
   "source": [
    "# Each element is an (inputs, label) pair.\n",
    "w2.train.element_spec"
   ]
  },
  {
   "cell_type": "markdown",
   "metadata": {
    "id": "XKTx3_Z7ua-n"
   },
   "source": [
    "Iterating over a `Dataset` yields concrete batches:"
   ]
  },
  {
   "cell_type": "code",
   "execution_count": 30,
   "metadata": {
    "colab": {
     "base_uri": "https://localhost:8080/"
    },
    "id": "6gtKXEgf4Iml",
    "outputId": "e9e292c3-ee9c-41ea-f2a0-ffd14d4dbb1b"
   },
   "outputs": [
    {
     "name": "stdout",
     "output_type": "stream",
     "text": [
      "Inputs shape (batch, time, features): (32, 6, 19)\n",
      "Labels shape (batch, time, features): (32, 1, 1)\n"
     ]
    }
   ],
   "source": [
    "for example_inputs, example_labels in w2.train.take(1):\n",
    "  print(f'Inputs shape (batch, time, features): {example_inputs.shape}')\n",
    "  print(f'Labels shape (batch, time, features): {example_labels.shape}')"
   ]
  },
  {
   "cell_type": "markdown",
   "metadata": {
    "id": "LyuGuJUgjUK3"
   },
   "source": [
    "## Single step models\n",
    "\n",
    "The simplest model you can build on this sort of data is one that predicts a single feature's value—1 time step (one hour) into the future based only on the current conditions.\n",
    "\n",
    "So, start by building models to predict the `T (degC)` value one hour into the future.\n",
    "\n",
    "![Predict the next time step](https://github.com/tensorflow/docs/blob/master/site/en/tutorials/structured_data/images/narrow_window.png?raw=1)\n",
    "\n",
    "Configure a `WindowGenerator` object to produce these single-step `(input, label)` pairs:"
   ]
  },
  {
   "cell_type": "code",
   "execution_count": 31,
   "metadata": {
    "colab": {
     "base_uri": "https://localhost:8080/"
    },
    "id": "G5QX1G1JTPCr",
    "outputId": "b9bfc2eb-f957-4e4f-d450-7ef728af7521"
   },
   "outputs": [
    {
     "data": {
      "text/plain": [
       "Total window size: 2\n",
       "Input indices: [0]\n",
       "Label indices: [1]\n",
       "Label column name(s): ['T (degC)']"
      ]
     },
     "execution_count": 31,
     "metadata": {},
     "output_type": "execute_result"
    }
   ],
   "source": [
    "single_step_window = WindowGenerator(\n",
    "    input_width=1, label_width=1, shift=1,\n",
    "    label_columns=['T (degC)'])\n",
    "single_step_window"
   ]
  },
  {
   "cell_type": "markdown",
   "metadata": {
    "id": "RKTm8ajVGw4N"
   },
   "source": [
    "The `window` object creates `tf.data.Dataset`s from the training, validation, and test sets, allowing you to easily iterate over batches of data.\n"
   ]
  },
  {
   "cell_type": "code",
   "execution_count": 32,
   "metadata": {
    "colab": {
     "base_uri": "https://localhost:8080/"
    },
    "id": "Do4ILUaBF8oc",
    "outputId": "8ca29ceb-9f02-4e4f-99da-e30720b0de7f"
   },
   "outputs": [
    {
     "name": "stdout",
     "output_type": "stream",
     "text": [
      "Inputs shape (batch, time, features): (32, 1, 19)\n",
      "Labels shape (batch, time, features): (32, 1, 1)\n"
     ]
    }
   ],
   "source": [
    "for example_inputs, example_labels in single_step_window.train.take(1):\n",
    "  print(f'Inputs shape (batch, time, features): {example_inputs.shape}')\n",
    "  print(f'Labels shape (batch, time, features): {example_labels.shape}')"
   ]
  },
  {
   "cell_type": "markdown",
   "metadata": {
    "id": "D1bbPiR3VAm_"
   },
   "source": [
    "### Baseline\n",
    "\n",
    "Before building a trainable model it would be good to have a performance baseline as a point for comparison with the later more complicated models.\n",
    "\n",
    "This first task is to predict temperature one hour into the future, given the current value of all features. The current values include the current temperature.\n",
    "\n",
    "So, start with a model that just returns the current temperature as the prediction, predicting \"No change\". This is a reasonable baseline since temperature changes slowly. Of course, this baseline will work less well if you make a prediction further in the future.\n",
    "\n",
    "![Send the input to the output](https://github.com/tensorflow/docs/blob/master/site/en/tutorials/structured_data/images/baseline.png?raw=1)"
   ]
  },
  {
   "cell_type": "code",
   "execution_count": 33,
   "metadata": {
    "id": "9TybQaIsi3yg"
   },
   "outputs": [],
   "source": [
    "class Baseline(tf.keras.Model):\n",
    "  def __init__(self, label_index=None):\n",
    "    super().__init__()\n",
    "    self.label_index = label_index\n",
    "\n",
    "  def call(self, inputs):\n",
    "    if self.label_index is None:\n",
    "      return inputs\n",
    "    result = inputs[:, :, self.label_index]\n",
    "    return result[:, :, tf.newaxis]"
   ]
  },
  {
   "cell_type": "markdown",
   "metadata": {
    "id": "0vb3f948i8p8"
   },
   "source": [
    "Instantiate and evaluate this model:"
   ]
  },
  {
   "cell_type": "code",
   "execution_count": 34,
   "metadata": {
    "colab": {
     "base_uri": "https://localhost:8080/"
    },
    "id": "IS3-QKc4sX0D",
    "outputId": "3362650a-3320-4714-a237-a91de7feea13"
   },
   "outputs": [
    {
     "name": "stdout",
     "output_type": "stream",
     "text": [
      "439/439 [==============================] - 3s 6ms/step - loss: 0.0128 - mean_absolute_error: 0.0785\n"
     ]
    }
   ],
   "source": [
    "baseline = Baseline(label_index=column_indices['T (degC)'])\n",
    "\n",
    "baseline.compile(loss=tf.keras.losses.MeanSquaredError(),\n",
    "                 metrics=[tf.keras.metrics.MeanAbsoluteError()])\n",
    "\n",
    "val_performance = {}\n",
    "performance = {}\n",
    "val_performance['Baseline'] = baseline.evaluate(single_step_window.val)\n",
    "performance['Baseline'] = baseline.evaluate(single_step_window.test, verbose=0)"
   ]
  },
  {
   "cell_type": "markdown",
   "metadata": {
    "id": "nhBxQcCSs7Ec"
   },
   "source": [
    "That printed some performance metrics, but those don't give you a feeling for how well the model is doing.\n",
    "\n",
    "The `WindowGenerator` has a plot method, but the plots won't be very interesting with only a single sample.\n",
    "\n",
    "So, create a wider `WindowGenerator` that generates windows 24 hours of consecutive inputs and labels at a time. The new `wide_window` variable doesn't change the way the model operates. The model still makes predictions one hour into the future based on a single input time step. Here, the `time` axis acts like the `batch` axis: each prediction is made independently with no interaction between time steps:"
   ]
  },
  {
   "cell_type": "code",
   "execution_count": 35,
   "metadata": {
    "colab": {
     "base_uri": "https://localhost:8080/"
    },
    "id": "C8jNR5uuJ5Zp",
    "outputId": "1e73fae3-75e0-4161-91cb-ef377b616ac3"
   },
   "outputs": [
    {
     "data": {
      "text/plain": [
       "Total window size: 25\n",
       "Input indices: [ 0  1  2  3  4  5  6  7  8  9 10 11 12 13 14 15 16 17 18 19 20 21 22 23]\n",
       "Label indices: [ 1  2  3  4  5  6  7  8  9 10 11 12 13 14 15 16 17 18 19 20 21 22 23 24]\n",
       "Label column name(s): ['T (degC)']"
      ]
     },
     "execution_count": 35,
     "metadata": {},
     "output_type": "execute_result"
    }
   ],
   "source": [
    "wide_window = WindowGenerator(\n",
    "    input_width=24, label_width=24, shift=1,\n",
    "    label_columns=['T (degC)'])\n",
    "\n",
    "wide_window"
   ]
  },
  {
   "cell_type": "markdown",
   "metadata": {
    "id": "ZAnj7CFZkuYv"
   },
   "source": [
    "This expanded window can be passed directly to the same `baseline` model without any code changes. This is possible because the inputs and labels have the same number of time steps, and the baseline just forwards the input to the output:\n",
    "\n",
    "![One prediction 1h into the future, ever hour.](https://github.com/tensorflow/docs/blob/master/site/en/tutorials/structured_data/images/last_window.png?raw=1)"
   ]
  },
  {
   "cell_type": "code",
   "execution_count": 36,
   "metadata": {
    "colab": {
     "base_uri": "https://localhost:8080/"
    },
    "id": "sGKdvdg087qs",
    "outputId": "4e7fa582-ceb3-442a-8171-fab671e7dde5"
   },
   "outputs": [
    {
     "name": "stdout",
     "output_type": "stream",
     "text": [
      "Input shape: (32, 24, 19)\n",
      "Output shape: (32, 24, 1)\n"
     ]
    }
   ],
   "source": [
    "print('Input shape:', wide_window.example[0].shape)\n",
    "print('Output shape:', baseline(wide_window.example[0]).shape)"
   ]
  },
  {
   "cell_type": "markdown",
   "metadata": {
    "id": "SKqQHX1K0JW-"
   },
   "source": [
    "By plotting the baseline model's predictions, notice that it is simply the labels shifted right by one hour:"
   ]
  },
  {
   "cell_type": "code",
   "execution_count": 37,
   "metadata": {
    "colab": {
     "base_uri": "https://localhost:8080/",
     "height": 696
    },
    "id": "jQyAPVLgWTOZ",
    "outputId": "2a113cc0-983d-4f36-e9fb-968829a8d269"
   },
   "outputs": [
    {
     "data": {
      "image/png": "[encoded data removed]",
      "text/plain": [
       "<Figure size 1200x800 with 3 Axes>"
      ]
     },
     "metadata": {},
     "output_type": "display_data"
    }
   ],
   "source": [
    "wide_window.plot(baseline)"
   ]
  },
  {
   "cell_type": "markdown",
   "metadata": {
    "id": "e93TLUhfAVg2"
   },
   "source": [
    "In the above plots of three examples the single step model is run over the course of 24 hours. This deserves some explanation:\n",
    "\n",
    "- The blue `Inputs` line shows the input temperature at each time step. The model receives all features, this plot only shows the temperature.\n",
    "- The green `Labels` dots show the target prediction value. These dots are shown at the prediction time, not the input time. That is why the range of labels is shifted 1 step relative to the inputs.\n",
    "- The orange `Predictions` crosses are the model's prediction's for each output time step. If the model were predicting perfectly the predictions would land directly on the `Labels`."
   ]
  },
  {
   "cell_type": "markdown",
   "metadata": {
    "id": "E4aOJScj52Yu"
   },
   "source": [
    "### Linear model\n",
    "\n",
    "The simplest **trainable** model you can apply to this task is to insert linear transformation between the input and output. In this case the output from a time step only depends on that step:\n",
    "\n",
    "![A single step prediction](https://github.com/tensorflow/docs/blob/master/site/en/tutorials/structured_data/images/narrow_window.png?raw=1)\n",
    "\n",
    "A `tf.keras.layers.Dense` layer with no `activation` set is a linear model. The layer only transforms the last axis of the data from `(batch, time, inputs)` to `(batch, time, units)`; it is applied independently to every item across the `batch` and `time` axes."
   ]
  },
  {
   "cell_type": "code",
   "execution_count": 38,
   "metadata": {
    "id": "6341OXuQ5xA9"
   },
   "outputs": [],
   "source": [
    "linear = tf.keras.Sequential([\n",
    "    tf.keras.layers.Dense(units=1)\n",
    "])"
   ]
  },
  {
   "cell_type": "code",
   "execution_count": 39,
   "metadata": {
    "colab": {
     "base_uri": "https://localhost:8080/"
    },
    "id": "KwaOM8RucUSn",
    "outputId": "933f8644-91fe-486e-9d93-3ccc5a76b6e8"
   },
   "outputs": [
    {
     "name": "stdout",
     "output_type": "stream",
     "text": [
      "Input shape: (32, 1, 19)\n",
      "Output shape: (32, 1, 1)\n"
     ]
    }
   ],
   "source": [
    "print('Input shape:', single_step_window.example[0].shape)\n",
    "print('Output shape:', linear(single_step_window.example[0]).shape)"
   ]
  },
  {
   "cell_type": "markdown",
   "metadata": {
    "id": "OMZTYIj3bYLg"
   },
   "source": [
    "This tutorial trains many models, so package the training procedure into a function:"
   ]
  },
  {
   "cell_type": "code",
   "execution_count": null,
   "metadata": {
    "id": "CbCL6VIrk-Gt"
   },
   "outputs": [],
   "source": [
    "MAX_EPOCHS = 20\n",
    "\n",
    "def compile_and_fit(model, window, patience=2):\n",
    "  early_stopping = tf.keras.callbacks.EarlyStopping(monitor='val_loss',\n",
    "                                                    patience=patience,\n",
    "                                                    mode='min')\n",
    "\n",
    "  model.compile(loss=tf.keras.losses.MeanSquaredError(),\n",
    "                optimizer=tf.keras.optimizers.Adam(),\n",
    "                metrics=[tf.keras.metrics.MeanAbsoluteError()])\n",
    "\n",
    "  history = model.fit(window.train, epochs=MAX_EPOCHS,\n",
    "                      validation_data=window.val,\n",
    "                      callbacks=[early_stopping])\n",
    "  return history"
   ]
  },
  {
   "cell_type": "markdown",
   "metadata": {
    "id": "OobVjM-schwj"
   },
   "source": [
    "Train the model and evaluate its performance:"
   ]
  },
  {
   "cell_type": "code",
   "execution_count": null,
   "metadata": {
    "id": "9agbz2qB9bLS"
   },
   "outputs": [],
   "source": [
    "history = compile_and_fit(linear, single_step_window)\n",
    "\n",
    "val_performance['Linear'] = linear.evaluate(single_step_window.val)\n",
    "performance['Linear'] = linear.evaluate(single_step_window.test, verbose=0)"
   ]
  },
  {
   "cell_type": "markdown",
   "metadata": {
    "id": "7U9XukYh8beN"
   },
   "source": [
    "Like the `baseline` model, the linear model can be called on batches of wide windows. Used this way the model makes a set of independent predictions on consecutive time steps. The `time` axis acts like another `batch` axis. There are no interactions between the predictions at each time step.\n",
    "\n",
    "![A single step prediction](https://github.com/tensorflow/docs/blob/master/site/en/tutorials/structured_data/images/wide_window.png?raw=1)"
   ]
  },
  {
   "cell_type": "code",
   "execution_count": null,
   "metadata": {
    "id": "K9UVM5Sw9KQN"
   },
   "outputs": [],
   "source": [
    "print('Input shape:', wide_window.example[0].shape)\n",
    "print('Output shape:', linear(wide_window.example[0]).shape)"
   ]
  },
  {
   "cell_type": "markdown",
   "metadata": {
    "id": "X-CGj85oKaOG"
   },
   "source": [
    "Here is the plot of its example predictions on the `wide_window`, note how in many cases the prediction is clearly better than just returning the input temperature, but in a few cases it's worse:"
   ]
  },
  {
   "cell_type": "code",
   "execution_count": null,
   "metadata": {
    "id": "bCC8VVo-OvwV"
   },
   "outputs": [],
   "source": [
    "wide_window.plot(linear)"
   ]
  },
  {
   "cell_type": "markdown",
   "metadata": {
    "id": "Is51vU8EMl6c"
   },
   "source": [
    "One advantage to linear models is that they're relatively simple to  interpret.\n",
    "You can pull out the layer's weights and visualize the weight assigned to each input:"
   ]
  },
  {
   "cell_type": "code",
   "execution_count": null,
   "metadata": {
    "id": "d4uCTbsmK8VI"
   },
   "outputs": [],
   "source": [
    "plt.bar(x = range(len(train_df.columns)),\n",
    "        height=linear.layers[0].kernel[:,0].numpy())\n",
    "axis = plt.gca()\n",
    "axis.set_xticks(range(len(train_df.columns)))\n",
    "_ = axis.set_xticklabels(train_df.columns, rotation=90)"
   ]
  },
  {
   "cell_type": "markdown",
   "metadata": {
    "id": "Ylng7215boIY"
   },
   "source": [
    "Sometimes the model doesn't even place the most weight on the input `T (degC)`. This is one of the risks of random initialization."
   ]
  },
  {
   "cell_type": "markdown",
   "metadata": {
    "id": "W18e6da1cNbw"
   },
   "source": [
    "### Dense\n",
    "\n",
    "Before applying models that actually operate on multiple time-steps, it's worth checking the performance of deeper, more powerful, single input step models.\n",
    "\n",
    "Here's a model similar to the `linear` model, except it stacks several a few `Dense` layers between the input and the output:"
   ]
  },
  {
   "cell_type": "code",
   "execution_count": null,
   "metadata": {
    "id": "Z86WkYp7cNAD"
   },
   "outputs": [],
   "source": [
    "dense = tf.keras.Sequential([\n",
    "    tf.keras.layers.Dense(units=64, activation='relu'),\n",
    "    tf.keras.layers.Dense(units=64, activation='relu'),\n",
    "    tf.keras.layers.Dense(units=1)\n",
    "])\n",
    "\n",
    "history = compile_and_fit(dense, single_step_window)\n",
    "\n",
    "val_performance['Dense'] = dense.evaluate(single_step_window.val)\n",
    "performance['Dense'] = dense.evaluate(single_step_window.test, verbose=0)"
   ]
  },
  {
   "cell_type": "markdown",
   "metadata": {
    "id": "j5dv_whJdswH"
   },
   "source": [
    "### Multi-step dense\n",
    "\n",
    "A single-time-step model has no context for the current values of its inputs. It can't see how the input features are changing over time. To address this issue the model needs access to multiple time steps when making predictions:\n",
    "\n",
    "![Three time steps are used for each prediction.](https://github.com/tensorflow/docs/blob/master/site/en/tutorials/structured_data/images/conv_window.png?raw=1)\n"
   ]
  },
  {
   "cell_type": "markdown",
   "metadata": {
    "id": "Zac-ti8agbJ7"
   },
   "source": [
    "The `baseline`, `linear` and `dense` models handled each time step independently. Here the model will take multiple time steps as input to produce a single output.\n",
    "\n",
    "Create a `WindowGenerator` that will produce batches of three-hour inputs and one-hour labels:"
   ]
  },
  {
   "cell_type": "markdown",
   "metadata": {
    "id": "gtN4BwZ37niR"
   },
   "source": [
    "Note that the `Window`'s `shift` parameter is relative to the end of the two windows.\n"
   ]
  },
  {
   "cell_type": "code",
   "execution_count": null,
   "metadata": {
    "id": "lBh0j5djUKY2"
   },
   "outputs": [],
   "source": [
    "CONV_WIDTH = 3\n",
    "conv_window = WindowGenerator(\n",
    "    input_width=CONV_WIDTH,\n",
    "    label_width=1,\n",
    "    shift=1,\n",
    "    label_columns=['T (degC)'])\n",
    "\n",
    "conv_window"
   ]
  },
  {
   "cell_type": "code",
   "execution_count": null,
   "metadata": {
    "id": "dCQ5gvs68Xkd"
   },
   "outputs": [],
   "source": [
    "conv_window.plot()\n",
    "plt.title(\"Given 3 hours of inputs, predict 1 hour into the future.\")"
   ]
  },
  {
   "cell_type": "markdown",
   "metadata": {
    "id": "We0HdMxKeqB_"
   },
   "source": [
    "You could train a `dense` model on a multiple-input-step window by adding a `tf.keras.layers.Flatten` as the first layer of the model:"
   ]
  },
  {
   "cell_type": "code",
   "execution_count": null,
   "metadata": {
    "id": "oNQnUOkOnC1G"
   },
   "outputs": [],
   "source": [
    "multi_step_dense = tf.keras.Sequential([\n",
    "    # Shape: (time, features) => (time*features)\n",
    "    tf.keras.layers.Flatten(),\n",
    "    tf.keras.layers.Dense(units=32, activation='relu'),\n",
    "    tf.keras.layers.Dense(units=32, activation='relu'),\n",
    "    tf.keras.layers.Dense(units=1),\n",
    "    # Add back the time dimension.\n",
    "    # Shape: (outputs) => (1, outputs)\n",
    "    tf.keras.layers.Reshape([1, -1]),\n",
    "])"
   ]
  },
  {
   "cell_type": "code",
   "execution_count": null,
   "metadata": {
    "id": "cayD74luo4Vq"
   },
   "outputs": [],
   "source": [
    "print('Input shape:', conv_window.example[0].shape)\n",
    "print('Output shape:', multi_step_dense(conv_window.example[0]).shape)"
   ]
  },
  {
   "cell_type": "code",
   "execution_count": null,
   "metadata": {
    "id": "fu91yEbRo9-J"
   },
   "outputs": [],
   "source": [
    "history = compile_and_fit(multi_step_dense, conv_window)\n",
    "\n",
    "IPython.display.clear_output()\n",
    "val_performance['Multi step dense'] = multi_step_dense.evaluate(conv_window.val)\n",
    "performance['Multi step dense'] = multi_step_dense.evaluate(conv_window.test, verbose=0)"
   ]
  },
  {
   "cell_type": "code",
   "execution_count": null,
   "metadata": {
    "id": "tnqdXYT6pkEh"
   },
   "outputs": [],
   "source": [
    "conv_window.plot(multi_step_dense)"
   ]
  },
  {
   "cell_type": "markdown",
   "metadata": {
    "id": "gWfrsP8mq8lV"
   },
   "source": [
    "The main down-side of this approach is that the resulting model can only be executed on input windows of exactly this shape."
   ]
  },
  {
   "cell_type": "code",
   "execution_count": null,
   "metadata": {
    "id": "j-q6tz5Yq8Jk"
   },
   "outputs": [],
   "source": [
    "print('Input shape:', wide_window.example[0].shape)\n",
    "try:\n",
    "  print('Output shape:', multi_step_dense(wide_window.example[0]).shape)\n",
    "except Exception as e:\n",
    "  print(f'\\n{type(e).__name__}:{e}')"
   ]
  },
  {
   "cell_type": "markdown",
   "metadata": {
    "id": "bvvajm3ip_8V"
   },
   "source": [
    "The convolutional models in the next section fix this problem."
   ]
  },
  {
   "cell_type": "markdown",
   "metadata": {
    "id": "CrpU6gwSJome"
   },
   "source": [
    "### Convolution neural network\n",
    "\n",
    "A convolution layer (`tf.keras.layers.Conv1D`) also takes multiple time steps as input to each prediction."
   ]
  },
  {
   "cell_type": "markdown",
   "metadata": {
    "id": "cdLBwoaHmsWb"
   },
   "source": [
    "Below is the **same** model as `multi_step_dense`, re-written with a convolution.\n",
    "\n",
    "Note the changes:\n",
    "* The `tf.keras.layers.Flatten` and the first `tf.keras.layers.Dense` are replaced by a `tf.keras.layers.Conv1D`.\n",
    "* The `tf.keras.layers.Reshape` is no longer necessary since the convolution keeps the time axis in its output."
   ]
  },
  {
   "cell_type": "code",
   "execution_count": null,
   "metadata": {
    "id": "5azaMBj4ac9t"
   },
   "outputs": [],
   "source": [
    "conv_model = tf.keras.Sequential([\n",
    "    tf.keras.layers.Conv1D(filters=32,\n",
    "                           kernel_size=(CONV_WIDTH,),\n",
    "                           activation='relu'),\n",
    "    tf.keras.layers.Dense(units=32, activation='relu'),\n",
    "    tf.keras.layers.Dense(units=1),\n",
    "])"
   ]
  },
  {
   "cell_type": "markdown",
   "metadata": {
    "id": "ftaH6B5ECRiK"
   },
   "source": [
    "Run it on an example batch to check that the model produces outputs with the expected shape:"
   ]
  },
  {
   "cell_type": "code",
   "execution_count": null,
   "metadata": {
    "id": "5YNgt1-e98lH"
   },
   "outputs": [],
   "source": [
    "print(\"Conv model on `conv_window`\")\n",
    "print('Input shape:', conv_window.example[0].shape)\n",
    "print('Output shape:', conv_model(conv_window.example[0]).shape)"
   ]
  },
  {
   "cell_type": "markdown",
   "metadata": {
    "id": "5m4kC-jGCY3x"
   },
   "source": [
    "Train and evaluate it on the ` conv_window` and it should give performance similar to the `multi_step_dense` model."
   ]
  },
  {
   "cell_type": "code",
   "execution_count": null,
   "metadata": {
    "id": "QDVWdm4paUW7"
   },
   "outputs": [],
   "source": [
    "history = compile_and_fit(conv_model, conv_window)\n",
    "\n",
    "IPython.display.clear_output()\n",
    "val_performance['Conv'] = conv_model.evaluate(conv_window.val)\n",
    "performance['Conv'] = conv_model.evaluate(conv_window.test, verbose=0)"
   ]
  },
  {
   "cell_type": "markdown",
   "metadata": {
    "id": "sYRipDeXs0Kr"
   },
   "source": [
    "The difference between this `conv_model` and the `multi_step_dense` model is that the `conv_model` can be run on inputs of any length. The convolutional layer is applied to a sliding window of inputs:\n",
    "\n",
    "![Executing a convolutional model on a sequence](https://github.com/tensorflow/docs/blob/master/site/en/tutorials/structured_data/images/wide_conv_window.png?raw=1)\n",
    "\n",
    "If you run it on wider input, it produces wider output:"
   ]
  },
  {
   "cell_type": "code",
   "execution_count": null,
   "metadata": {
    "id": "hoqccxx9r5jF"
   },
   "outputs": [],
   "source": [
    "print(\"Wide window\")\n",
    "print('Input shape:', wide_window.example[0].shape)\n",
    "print('Labels shape:', wide_window.example[1].shape)\n",
    "print('Output shape:', conv_model(wide_window.example[0]).shape)"
   ]
  },
  {
   "cell_type": "markdown",
   "metadata": {
    "id": "h_WGxtLIHhRF"
   },
   "source": [
    "Note that the output is shorter than the input. To make training or plotting work, you need the labels, and prediction to have the same length. So build a `WindowGenerator` to produce wide windows with a few extra input time steps so the label and prediction lengths match:"
   ]
  },
  {
   "cell_type": "code",
   "execution_count": null,
   "metadata": {
    "id": "_VPvJ_VwTc0f"
   },
   "outputs": [],
   "source": [
    "LABEL_WIDTH = 24\n",
    "INPUT_WIDTH = LABEL_WIDTH + (CONV_WIDTH - 1)\n",
    "wide_conv_window = WindowGenerator(\n",
    "    input_width=INPUT_WIDTH,\n",
    "    label_width=LABEL_WIDTH,\n",
    "    shift=1,\n",
    "    label_columns=['T (degC)'])\n",
    "\n",
    "wide_conv_window"
   ]
  },
  {
   "cell_type": "code",
   "execution_count": null,
   "metadata": {
    "id": "gtqlWYXeKXej"
   },
   "outputs": [],
   "source": [
    "print(\"Wide conv window\")\n",
    "print('Input shape:', wide_conv_window.example[0].shape)\n",
    "print('Labels shape:', wide_conv_window.example[1].shape)\n",
    "print('Output shape:', conv_model(wide_conv_window.example[0]).shape)"
   ]
  },
  {
   "cell_type": "markdown",
   "metadata": {
    "id": "yzxbbS56cSBV"
   },
   "source": [
    "Now, you can plot the model's predictions on a wider window. Note the 3 input time steps before the first prediction. Every prediction here is based on the 3 preceding time steps:"
   ]
  },
  {
   "cell_type": "code",
   "execution_count": null,
   "metadata": {
    "id": "gR7VyL45UuEe"
   },
   "outputs": [],
   "source": [
    "wide_conv_window.plot(conv_model)"
   ]
  },
  {
   "cell_type": "markdown",
   "metadata": {
    "id": "H4crpOcoMlSe"
   },
   "source": [
    "### Recurrent neural network\n",
    "\n",
    "A Recurrent Neural Network (RNN) is a type of neural network well-suited to time series data. RNNs process a time series step-by-step, maintaining an internal state from time-step to time-step.\n",
    "\n",
    "You can learn more in the [Text generation with an RNN](https://www.tensorflow.org/text/tutorials/text_generation) tutorial and the [Recurrent Neural Networks (RNN) with Keras](https://www.tensorflow.org/guide/keras/rnn) guide.\n",
    "\n",
    "In this tutorial, you will use an RNN layer called Long Short-Term Memory (`tf.keras.layers.LSTM`)."
   ]
  },
  {
   "cell_type": "markdown",
   "metadata": {
    "id": "vfQbHSMb1ATa"
   },
   "source": [
    "An important constructor argument for all Keras RNN layers, such as `tf.keras.layers.LSTM`, is the `return_sequences` argument. This setting can configure the layer in one of two ways:\n",
    "\n",
    "1. If `False`, the default, the layer only returns the output of the final time step, giving the model time to warm up its internal state before making a single prediction:\n",
    "\n",
    "![An LSTM warming up and making a single prediction](https://github.com/tensorflow/docs/blob/master/site/en/tutorials/structured_data/images/lstm_1_window.png?raw=1)\n",
    "\n",
    "2. If `True`, the layer returns an output for each input. This is useful for:\n",
    "  * Stacking RNN layers.\n",
    "  * Training a model on multiple time steps simultaneously.\n",
    "\n",
    "![An LSTM making a prediction after every time step](https://github.com/tensorflow/docs/blob/master/site/en/tutorials/structured_data/images/lstm_many_window.png?raw=1)"
   ]
  },
  {
   "cell_type": "code",
   "execution_count": null,
   "metadata": {
    "id": "DXKLCJy8nWNU"
   },
   "outputs": [],
   "source": [
    "lstm_model = tf.keras.models.Sequential([\n",
    "    # Shape [batch, time, features] => [batch, time, lstm_units]\n",
    "    tf.keras.layers.LSTM(32, return_sequences=True),\n",
    "    # Shape => [batch, time, features]\n",
    "    tf.keras.layers.Dense(units=1)\n",
    "])"
   ]
  },
  {
   "cell_type": "markdown",
   "metadata": {
    "id": "F124B00KZcLC"
   },
   "source": [
    "With `return_sequences=True`, the model can be trained on 24 hours of data at a time.\n",
    "\n",
    "Note: This will give a pessimistic view of the model's performance. On the first time step, the model has no access to previous steps and, therefore, can't do any better than the simple `linear` and `dense` models shown earlier."
   ]
  },
  {
   "cell_type": "code",
   "execution_count": null,
   "metadata": {
    "id": "eZEROCQVYV6q"
   },
   "outputs": [],
   "source": [
    "print('Input shape:', wide_window.example[0].shape)\n",
    "print('Output shape:', lstm_model(wide_window.example[0]).shape)"
   ]
  },
  {
   "cell_type": "code",
   "execution_count": null,
   "metadata": {
    "id": "uvdWRl1e9WJl"
   },
   "outputs": [],
   "source": [
    "history = compile_and_fit(lstm_model, wide_window)\n",
    "\n",
    "IPython.display.clear_output()\n",
    "val_performance['LSTM'] = lstm_model.evaluate(wide_window.val)\n",
    "performance['LSTM'] = lstm_model.evaluate(wide_window.test, verbose=0)"
   ]
  },
  {
   "cell_type": "code",
   "execution_count": null,
   "metadata": {
    "id": "NwAOWCVgB26e"
   },
   "outputs": [],
   "source": [
    "wide_window.plot(lstm_model)"
   ]
  },
  {
   "cell_type": "markdown",
   "metadata": {
    "id": "pYglOCKehi8F"
   },
   "source": [
    "### Performance"
   ]
  },
  {
   "cell_type": "markdown",
   "metadata": {
    "id": "2pCk0_rwhi8H"
   },
   "source": [
    "With this dataset typically each of the models does slightly better than the one before it:"
   ]
  },
  {
   "cell_type": "code",
   "execution_count": null,
   "metadata": {
    "id": "JjEkt488hi8I"
   },
   "outputs": [],
   "source": [
    "x = np.arange(len(performance))\n",
    "width = 0.3\n",
    "metric_name = 'mean_absolute_error'\n",
    "metric_index = lstm_model.metrics_names.index('mean_absolute_error')\n",
    "val_mae = [v[metric_index] for v in val_performance.values()]\n",
    "test_mae = [v[metric_index] for v in performance.values()]\n",
    "\n",
    "plt.ylabel('mean_absolute_error [T (degC), normalized]')\n",
    "plt.bar(x - 0.17, val_mae, width, label='Validation')\n",
    "plt.bar(x + 0.17, test_mae, width, label='Test')\n",
    "plt.xticks(ticks=x, labels=performance.keys(),\n",
    "           rotation=45)\n",
    "_ = plt.legend()"
   ]
  },
  {
   "cell_type": "code",
   "execution_count": null,
   "metadata": {
    "id": "cBMCpsdphi8L"
   },
   "outputs": [],
   "source": [
    "for name, value in performance.items():\n",
    "  print(f'{name:12s}: {value[1]:0.4f}')"
   ]
  },
  {
   "cell_type": "markdown",
   "metadata": {
    "id": "b5rUJ_2YMWzG"
   },
   "source": [
    "### Multi-output models\n",
    "\n",
    "The models so far all predicted a single output feature, `T (degC)`, for a single time step.\n",
    "\n",
    "All of these models can be converted to predict multiple features just by changing the number of units in the output layer and adjusting the training windows to include all features in the `labels` (`example_labels`):"
   ]
  },
  {
   "cell_type": "code",
   "execution_count": null,
   "metadata": {
    "id": "9Gk0Z91xjOwv"
   },
   "outputs": [],
   "source": [
    "single_step_window = WindowGenerator(\n",
    "    # `WindowGenerator` returns all features as labels if you\n",
    "    # don't set the `label_columns` argument.\n",
    "    input_width=1, label_width=1, shift=1)\n",
    "\n",
    "wide_window = WindowGenerator(\n",
    "    input_width=24, label_width=24, shift=1)\n",
    "\n",
    "for example_inputs, example_labels in wide_window.train.take(1):\n",
    "  print(f'Inputs shape (batch, time, features): {example_inputs.shape}')\n",
    "  print(f'Labels shape (batch, time, features): {example_labels.shape}')"
   ]
  },
  {
   "cell_type": "markdown",
   "metadata": {
    "id": "XmcjHfDskX1N"
   },
   "source": [
    "Note above that the `features` axis of the labels now has the same depth as the inputs, instead of `1`."
   ]
  },
  {
   "cell_type": "markdown",
   "metadata": {
    "id": "9k7S5IHNhSNF"
   },
   "source": [
    "#### Baseline\n",
    "\n",
    "The same baseline model (`Baseline`) can be used here, but this time repeating all features instead of selecting a specific `label_index`:"
   ]
  },
  {
   "cell_type": "code",
   "execution_count": null,
   "metadata": {
    "id": "sqqB9W-pjr5i"
   },
   "outputs": [],
   "source": [
    "baseline = Baseline()\n",
    "baseline.compile(loss=tf.keras.losses.MeanSquaredError(),\n",
    "                 metrics=[tf.keras.metrics.MeanAbsoluteError()])"
   ]
  },
  {
   "cell_type": "code",
   "execution_count": null,
   "metadata": {
    "id": "ltQdgaqQjQWu"
   },
   "outputs": [],
   "source": [
    "val_performance = {}\n",
    "performance = {}\n",
    "val_performance['Baseline'] = baseline.evaluate(wide_window.val)\n",
    "performance['Baseline'] = baseline.evaluate(wide_window.test, verbose=0)"
   ]
  },
  {
   "cell_type": "markdown",
   "metadata": {
    "id": "dfbCrf5q3P6n"
   },
   "source": [
    "#### Dense"
   ]
  },
  {
   "cell_type": "code",
   "execution_count": null,
   "metadata": {
    "id": "NdpzH1dYjdIN"
   },
   "outputs": [],
   "source": [
    "dense = tf.keras.Sequential([\n",
    "    tf.keras.layers.Dense(units=64, activation='relu'),\n",
    "    tf.keras.layers.Dense(units=64, activation='relu'),\n",
    "    tf.keras.layers.Dense(units=num_features)\n",
    "])"
   ]
  },
  {
   "cell_type": "code",
   "execution_count": null,
   "metadata": {
    "id": "6uHuU9Cd3PTo"
   },
   "outputs": [],
   "source": [
    "history = compile_and_fit(dense, single_step_window)\n",
    "\n",
    "IPython.display.clear_output()\n",
    "val_performance['Dense'] = dense.evaluate(single_step_window.val)\n",
    "performance['Dense'] = dense.evaluate(single_step_window.test, verbose=0)"
   ]
  },
  {
   "cell_type": "markdown",
   "metadata": {
    "id": "dsc9pur_mHsx"
   },
   "source": [
    "#### RNN\n"
   ]
  },
  {
   "cell_type": "code",
   "execution_count": null,
   "metadata": {
    "id": "4QbGLMyomXaz"
   },
   "outputs": [],
   "source": [
    "%%time\n",
    "wide_window = WindowGenerator(\n",
    "    input_width=24, label_width=24, shift=1)\n",
    "\n",
    "lstm_model = tf.keras.models.Sequential([\n",
    "    # Shape [batch, time, features] => [batch, time, lstm_units]\n",
    "    tf.keras.layers.LSTM(32, return_sequences=True),\n",
    "    # Shape => [batch, time, features]\n",
    "    tf.keras.layers.Dense(units=num_features)\n",
    "])\n",
    "\n",
    "history = compile_and_fit(lstm_model, wide_window)\n",
    "\n",
    "IPython.display.clear_output()\n",
    "val_performance['LSTM'] = lstm_model.evaluate( wide_window.val)\n",
    "performance['LSTM'] = lstm_model.evaluate( wide_window.test, verbose=0)\n",
    "\n",
    "print()"
   ]
  },
  {
   "cell_type": "markdown",
   "metadata": {
    "id": "UwhY2f_Nn0_K"
   },
   "source": [
    "<a id=\"residual\"></a>\n",
    "\n",
    "#### Advanced: Residual connections\n",
    "\n",
    "The `Baseline` model from earlier took advantage of the fact that the sequence doesn't change drastically from time step to time step. Every model trained in this tutorial so far was randomly initialized, and then had to learn that the output is a a small change from the previous time step.\n",
    "\n",
    "While you can get around this issue with careful initialization, it's  simpler to build this into the model structure.\n",
    "\n",
    "It's common in time series analysis to build models that instead of predicting the next value, predict how the value will change in the next time step. Similarly, <a href=\"https://arxiv.org/abs/1512.03385\" class=\"external\">residual networks</a>—or ResNets—in deep learning refer to architectures where each layer adds to the model's accumulating result.\n",
    "\n",
    "That is how you take advantage of the knowledge that the change should be small.\n",
    "\n",
    "![A model with a residual connection](https://github.com/tensorflow/docs/blob/master/site/en/tutorials/structured_data/images/residual.png?raw=1)\n",
    "\n",
    "Essentially, this initializes the model to match the `Baseline`. For this task it helps models converge faster, with slightly better performance."
   ]
  },
  {
   "cell_type": "markdown",
   "metadata": {
    "id": "yP58A_ORx0kM"
   },
   "source": [
    "This approach can be used in conjunction with any model discussed in this tutorial.\n",
    "\n",
    "Here, it is being applied to the LSTM model, note the use of the `tf.initializers.zeros` to ensure that the initial predicted changes are small, and don't overpower the residual connection. There are no symmetry-breaking concerns for the gradients here, since the `zeros` are only used on the last layer."
   ]
  },
  {
   "cell_type": "code",
   "execution_count": null,
   "metadata": {
    "id": "7YlfnDQC22TQ"
   },
   "outputs": [],
   "source": [
    "class ResidualWrapper(tf.keras.Model):\n",
    "  def __init__(self, model):\n",
    "    super().__init__()\n",
    "    self.model = model\n",
    "\n",
    "  def call(self, inputs, *args, **kwargs):\n",
    "    delta = self.model(inputs, *args, **kwargs)\n",
    "\n",
    "    # The prediction for each time step is the input\n",
    "    # from the previous time step plus the delta\n",
    "    # calculated by the model.\n",
    "    return inputs + delta"
   ]
  },
  {
   "cell_type": "code",
   "execution_count": null,
   "metadata": {
    "id": "NNeH02pspc9B"
   },
   "outputs": [],
   "source": [
    "%%time\n",
    "residual_lstm = ResidualWrapper(\n",
    "    tf.keras.Sequential([\n",
    "    tf.keras.layers.LSTM(32, return_sequences=True),\n",
    "    tf.keras.layers.Dense(\n",
    "        num_features,\n",
    "        # The predicted deltas should start small.\n",
    "        # Therefore, initialize the output layer with zeros.\n",
    "        kernel_initializer=tf.initializers.zeros())\n",
    "]))\n",
    "\n",
    "history = compile_and_fit(residual_lstm, wide_window)\n",
    "\n",
    "IPython.display.clear_output()\n",
    "val_performance['Residual LSTM'] = residual_lstm.evaluate(wide_window.val)\n",
    "performance['Residual LSTM'] = residual_lstm.evaluate(wide_window.test, verbose=0)\n",
    "print()"
   ]
  },
  {
   "cell_type": "markdown",
   "metadata": {
    "id": "I42Er9Du6co1"
   },
   "source": [
    "#### Performance"
   ]
  },
  {
   "cell_type": "markdown",
   "metadata": {
    "id": "LZxR38P_6pUi"
   },
   "source": [
    "Here is the overall performance for these multi-output models."
   ]
  },
  {
   "cell_type": "code",
   "execution_count": null,
   "metadata": {
    "id": "6XgTK9tnr7rc"
   },
   "outputs": [],
   "source": [
    "x = np.arange(len(performance))\n",
    "width = 0.3\n",
    "\n",
    "metric_name = 'mean_absolute_error'\n",
    "metric_index = lstm_model.metrics_names.index('mean_absolute_error')\n",
    "val_mae = [v[metric_index] for v in val_performance.values()]\n",
    "test_mae = [v[metric_index] for v in performance.values()]\n",
    "\n",
    "plt.bar(x - 0.17, val_mae, width, label='Validation')\n",
    "plt.bar(x + 0.17, test_mae, width, label='Test')\n",
    "plt.xticks(ticks=x, labels=performance.keys(),\n",
    "           rotation=45)\n",
    "plt.ylabel('MAE (average over all outputs)')\n",
    "_ = plt.legend()"
   ]
  },
  {
   "cell_type": "code",
   "execution_count": null,
   "metadata": {
    "id": "URz3ajCc6kBj"
   },
   "outputs": [],
   "source": [
    "for name, value in performance.items():\n",
    "  print(f'{name:15s}: {value[1]:0.4f}')"
   ]
  },
  {
   "cell_type": "markdown",
   "metadata": {
    "id": "_Vt2MJhNxwPU"
   },
   "source": [
    "The above performances are averaged across all model outputs."
   ]
  },
  {
   "cell_type": "markdown",
   "metadata": {
    "id": "eYokb7Om2YbK"
   },
   "source": [
    "## Multi-step models\n",
    "\n",
    "Both the single-output and multiple-output models in the previous sections made **single time step predictions**, one hour into the future.\n",
    "\n",
    "This section looks at how to expand these models to make **multiple time step predictions**.\n",
    "\n",
    "In a multi-step prediction, the model needs to learn to predict a range of future values. Thus, unlike a single step model, where only a single future point is predicted, a multi-step model predicts a sequence of the future values.\n",
    "\n",
    "There are two rough approaches to this:\n",
    "\n",
    "1. Single shot predictions where the entire time series is predicted at once.\n",
    "2. Autoregressive predictions where the model only makes single step predictions and its output is fed back as its input.\n",
    "\n",
    "In this section all the models will predict **all the features across all output time steps**.\n"
   ]
  },
  {
   "cell_type": "markdown",
   "metadata": {
    "id": "WFsDAwVt4_rq"
   },
   "source": [
    "For the multi-step model, the training data again consists of hourly samples. However, here, the models will learn to predict 24 hours into the future, given 24 hours of the past.\n",
    "\n",
    "Here is a `Window` object that generates these slices from the dataset:"
   ]
  },
  {
   "cell_type": "code",
   "execution_count": null,
   "metadata": {
    "id": "1cFYtsz6XiGw"
   },
   "outputs": [],
   "source": [
    "OUT_STEPS = 24\n",
    "multi_window = WindowGenerator(input_width=24,\n",
    "                               label_width=OUT_STEPS,\n",
    "                               shift=OUT_STEPS)\n",
    "\n",
    "multi_window.plot()\n",
    "multi_window"
   ]
  },
  {
   "cell_type": "markdown",
   "metadata": {
    "id": "5lg8SInh9Jzd"
   },
   "source": [
    "### Baselines"
   ]
  },
  {
   "cell_type": "markdown",
   "metadata": {
    "id": "axwpoWYOApJL"
   },
   "source": [
    "A simple baseline for this task is to repeat the last input time step for the required number of output time steps:\n",
    "\n",
    "![Repeat the last input, for each output step](https://github.com/tensorflow/docs/blob/master/site/en/tutorials/structured_data/images/multistep_last.png?raw=1)"
   ]
  },
  {
   "cell_type": "code",
   "execution_count": null,
   "metadata": {
    "id": "_5iaHSaJ9Rxv"
   },
   "outputs": [],
   "source": [
    "class MultiStepLastBaseline(tf.keras.Model):\n",
    "  def call(self, inputs):\n",
    "    return tf.tile(inputs[:, -1:, :], [1, OUT_STEPS, 1])\n",
    "\n",
    "last_baseline = MultiStepLastBaseline()\n",
    "last_baseline.compile(loss=tf.keras.losses.MeanSquaredError(),\n",
    "                      metrics=[tf.keras.metrics.MeanAbsoluteError()])\n",
    "\n",
    "multi_val_performance = {}\n",
    "multi_performance = {}\n",
    "\n",
    "multi_val_performance['Last'] = last_baseline.evaluate(multi_window.val)\n",
    "multi_performance['Last'] = last_baseline.evaluate(multi_window.test, verbose=0)\n",
    "multi_window.plot(last_baseline)"
   ]
  },
  {
   "cell_type": "markdown",
   "metadata": {
    "id": "AvHZ93ObAfMA"
   },
   "source": [
    "Since this task is to predict 24 hours into the future, given 24 hours of the past, another simple approach is to repeat the previous day, assuming tomorrow will be similar:\n",
    "\n",
    "![Repeat the previous day](https://github.com/tensorflow/docs/blob/master/site/en/tutorials/structured_data/images/multistep_repeat.png?raw=1)"
   ]
  },
  {
   "cell_type": "code",
   "execution_count": null,
   "metadata": {
    "id": "L8Y1uMhGwIRs"
   },
   "outputs": [],
   "source": [
    "class RepeatBaseline(tf.keras.Model):\n",
    "  def call(self, inputs):\n",
    "    return inputs\n",
    "\n",
    "repeat_baseline = RepeatBaseline()\n",
    "repeat_baseline.compile(loss=tf.keras.losses.MeanSquaredError(),\n",
    "                        metrics=[tf.keras.metrics.MeanAbsoluteError()])\n",
    "\n",
    "multi_val_performance['Repeat'] = repeat_baseline.evaluate(multi_window.val)\n",
    "multi_performance['Repeat'] = repeat_baseline.evaluate(multi_window.test, verbose=0)\n",
    "multi_window.plot(repeat_baseline)"
   ]
  },
  {
   "cell_type": "markdown",
   "metadata": {
    "id": "tbndS-ct9C2Q"
   },
   "source": [
    "### Single-shot models\n",
    "\n",
    "One high-level approach to this problem is to use a \"single-shot\" model, where the model makes the entire sequence prediction in a single step.\n",
    "\n",
    "This can be implemented efficiently as a `tf.keras.layers.Dense` with `OUT_STEPS*features` output units. The model just needs to reshape that output to the required `(OUTPUT_STEPS, features)`."
   ]
  },
  {
   "cell_type": "markdown",
   "metadata": {
    "id": "NCKS4m1VKrDQ"
   },
   "source": [
    "#### Linear\n",
    "\n",
    "A simple linear model based on the last input time step does better than either baseline, but is underpowered. The model needs to predict `OUTPUT_STEPS` time steps, from a single input time step with a linear projection. It can only capture a low-dimensional slice of the behavior, likely based mainly on the time of day and time of year.\n",
    "\n",
    "![Predict all timesteps from the last time-step](https://github.com/tensorflow/docs/blob/master/site/en/tutorials/structured_data/images/multistep_dense.png?raw=1)"
   ]
  },
  {
   "cell_type": "code",
   "execution_count": null,
   "metadata": {
    "id": "kfRz_WVhIQcd"
   },
   "outputs": [],
   "source": [
    "multi_linear_model = tf.keras.Sequential([\n",
    "    # Take the last time-step.\n",
    "    # Shape [batch, time, features] => [batch, 1, features]\n",
    "    tf.keras.layers.Lambda(lambda x: x[:, -1:, :]),\n",
    "    # Shape => [batch, 1, out_steps*features]\n",
    "    tf.keras.layers.Dense(OUT_STEPS*num_features,\n",
    "                          kernel_initializer=tf.initializers.zeros()),\n",
    "    # Shape => [batch, out_steps, features]\n",
    "    tf.keras.layers.Reshape([OUT_STEPS, num_features])\n",
    "])\n",
    "\n",
    "history = compile_and_fit(multi_linear_model, multi_window)\n",
    "\n",
    "IPython.display.clear_output()\n",
    "multi_val_performance['Linear'] = multi_linear_model.evaluate(multi_window.val)\n",
    "multi_performance['Linear'] = multi_linear_model.evaluate(multi_window.test, verbose=0)\n",
    "multi_window.plot(multi_linear_model)"
   ]
  },
  {
   "cell_type": "markdown",
   "metadata": {
    "id": "zi2TMHk2IRrh"
   },
   "source": [
    "#### Dense\n",
    "\n",
    "Adding a `tf.keras.layers.Dense` between the input and output gives the linear model more power, but is still only based on a single input time step."
   ]
  },
  {
   "cell_type": "code",
   "execution_count": null,
   "metadata": {
    "id": "jezm-BKaGj91"
   },
   "outputs": [],
   "source": [
    "multi_dense_model = tf.keras.Sequential([\n",
    "    # Take the last time step.\n",
    "    # Shape [batch, time, features] => [batch, 1, features]\n",
    "    tf.keras.layers.Lambda(lambda x: x[:, -1:, :]),\n",
    "    # Shape => [batch, 1, dense_units]\n",
    "    tf.keras.layers.Dense(512, activation='relu'),\n",
    "    # Shape => [batch, out_steps*features]\n",
    "    tf.keras.layers.Dense(OUT_STEPS*num_features,\n",
    "                          kernel_initializer=tf.initializers.zeros()),\n",
    "    # Shape => [batch, out_steps, features]\n",
    "    tf.keras.layers.Reshape([OUT_STEPS, num_features])\n",
    "])\n",
    "\n",
    "history = compile_and_fit(multi_dense_model, multi_window)\n",
    "\n",
    "IPython.display.clear_output()\n",
    "multi_val_performance['Dense'] = multi_dense_model.evaluate(multi_window.val)\n",
    "multi_performance['Dense'] = multi_dense_model.evaluate(multi_window.test, verbose=0)\n",
    "multi_window.plot(multi_dense_model)"
   ]
  },
  {
   "cell_type": "markdown",
   "metadata": {
    "id": "icsBAjCzMaMl"
   },
   "source": [
    "#### CNN"
   ]
  },
  {
   "cell_type": "markdown",
   "metadata": {
    "id": "34lCZrWYNBwd"
   },
   "source": [
    "A convolutional model makes predictions based on a fixed-width history, which may lead to better performance than the dense model since it can see how things are changing over time:\n",
    "\n",
    "![A convolutional model sees how things change over time](https://github.com/tensorflow/docs/blob/master/site/en/tutorials/structured_data/images/multistep_conv.png?raw=1)"
   ]
  },
  {
   "cell_type": "code",
   "execution_count": null,
   "metadata": {
    "id": "0xJoIP6PMWMI"
   },
   "outputs": [],
   "source": [
    "CONV_WIDTH = 3\n",
    "multi_conv_model = tf.keras.Sequential([\n",
    "    # Shape [batch, time, features] => [batch, CONV_WIDTH, features]\n",
    "    tf.keras.layers.Lambda(lambda x: x[:, -CONV_WIDTH:, :]),\n",
    "    # Shape => [batch, 1, conv_units]\n",
    "    tf.keras.layers.Conv1D(256, activation='relu', kernel_size=(CONV_WIDTH)),\n",
    "    # Shape => [batch, 1,  out_steps*features]\n",
    "    tf.keras.layers.Dense(OUT_STEPS*num_features,\n",
    "                          kernel_initializer=tf.initializers.zeros()),\n",
    "    # Shape => [batch, out_steps, features]\n",
    "    tf.keras.layers.Reshape([OUT_STEPS, num_features])\n",
    "])\n",
    "\n",
    "history = compile_and_fit(multi_conv_model, multi_window)\n",
    "\n",
    "IPython.display.clear_output()\n",
    "\n",
    "multi_val_performance['Conv'] = multi_conv_model.evaluate(multi_window.val)\n",
    "multi_performance['Conv'] = multi_conv_model.evaluate(multi_window.test, verbose=0)\n",
    "multi_window.plot(multi_conv_model)"
   ]
  },
  {
   "cell_type": "markdown",
   "metadata": {
    "id": "weBjeZAFJOP4"
   },
   "source": [
    "#### RNN"
   ]
  },
  {
   "cell_type": "markdown",
   "metadata": {
    "id": "8022xOKxOO92"
   },
   "source": [
    "A recurrent model can learn to use a long history of inputs, if it's relevant to the predictions the model is making. Here the model will accumulate internal state for 24 hours, before making a single prediction for the next 24 hours.\n",
    "\n",
    "In this single-shot format, the LSTM only needs to produce an output at the last time step, so set `return_sequences=False` in `tf.keras.layers.LSTM`.\n",
    "\n",
    "![The LSTM accumulates state over the input window, and makes a single prediction for the next 24 hours](https://github.com/tensorflow/docs/blob/master/site/en/tutorials/structured_data/images/multistep_lstm.png?raw=1)\n"
   ]
  },
  {
   "cell_type": "code",
   "execution_count": null,
   "metadata": {
    "id": "Bf1ks6RTzF64"
   },
   "outputs": [],
   "source": [
    "multi_lstm_model = tf.keras.Sequential([\n",
    "    # Shape [batch, time, features] => [batch, lstm_units].\n",
    "    # Adding more `lstm_units` just overfits more quickly.\n",
    "    tf.keras.layers.LSTM(32, return_sequences=False),\n",
    "    # Shape => [batch, out_steps*features].\n",
    "    tf.keras.layers.Dense(OUT_STEPS*num_features,\n",
    "                          kernel_initializer=tf.initializers.zeros()),\n",
    "    # Shape => [batch, out_steps, features].\n",
    "    tf.keras.layers.Reshape([OUT_STEPS, num_features])\n",
    "])\n",
    "\n",
    "history = compile_and_fit(multi_lstm_model, multi_window)\n",
    "\n",
    "IPython.display.clear_output()\n",
    "\n",
    "multi_val_performance['LSTM'] = multi_lstm_model.evaluate(multi_window.val)\n",
    "multi_performance['LSTM'] = multi_lstm_model.evaluate(multi_window.test, verbose=0)\n",
    "multi_window.plot(multi_lstm_model)"
   ]
  },
  {
   "cell_type": "markdown",
   "metadata": {
    "id": "d5n-1cDW12Vo"
   },
   "source": [
    "### Advanced: Autoregressive model\n",
    "\n",
    "The above models all predict the entire output sequence in a single step.\n",
    "\n",
    "In some cases it may be helpful for the model to decompose this prediction into individual time steps. Then, each model's output can be fed back into itself at each step and predictions can be made conditioned on the previous one, like in the classic <a href=\"https://arxiv.org/abs/1308.0850\" class=\"external\">Generating Sequences With Recurrent Neural Networks</a>.\n",
    "\n",
    "One clear advantage to this style of model is that it can be set up to produce output with a varying length.\n",
    "\n",
    "You could take any of the single-step multi-output models trained in the first half of this tutorial and run in an autoregressive feedback loop, but here you'll focus on building a model that's been explicitly trained to do that.\n",
    "\n",
    "![Feedback a model's output to its input](https://github.com/tensorflow/docs/blob/master/site/en/tutorials/structured_data/images/multistep_autoregressive.png?raw=1)"
   ]
  },
  {
   "cell_type": "markdown",
   "metadata": {
    "id": "PKRreBbULRXY"
   },
   "source": [
    "#### RNN\n",
    "\n",
    "This tutorial only builds an autoregressive RNN model, but this pattern could be applied to any model that was designed to output a single time step.\n",
    "\n",
    "The model will have the same basic form as the single-step LSTM models from earlier: a `tf.keras.layers.LSTM` layer followed by a `tf.keras.layers.Dense` layer that converts the `LSTM` layer's outputs to model predictions.\n",
    "\n",
    "A `tf.keras.layers.LSTM` is a `tf.keras.layers.LSTMCell` wrapped in the higher level `tf.keras.layers.RNN` that manages the state and sequence results for you (Check out the [Recurrent Neural Networks (RNN) with Keras](https://www.tensorflow.org/guide/keras/rnn) guide for details).\n",
    "\n",
    "In this case, the model has to manually manage the inputs for each step, so it uses `tf.keras.layers.LSTMCell` directly for the lower level, single time step interface."
   ]
  },
  {
   "cell_type": "code",
   "execution_count": null,
   "metadata": {
    "id": "s5tz3Nu0R5JG"
   },
   "outputs": [],
   "source": [
    "class FeedBack(tf.keras.Model):\n",
    "  def __init__(self, units, out_steps):\n",
    "    super().__init__()\n",
    "    self.out_steps = out_steps\n",
    "    self.units = units\n",
    "    self.lstm_cell = tf.keras.layers.LSTMCell(units)\n",
    "    # Also wrap the LSTMCell in an RNN to simplify the `warmup` method.\n",
    "    self.lstm_rnn = tf.keras.layers.RNN(self.lstm_cell, return_state=True)\n",
    "    self.dense = tf.keras.layers.Dense(num_features)"
   ]
  },
  {
   "cell_type": "code",
   "execution_count": null,
   "metadata": {
    "id": "2OXVM9G1U7xR"
   },
   "outputs": [],
   "source": [
    "feedback_model = FeedBack(units=32, out_steps=OUT_STEPS)"
   ]
  },
  {
   "cell_type": "markdown",
   "metadata": {
    "id": "ph5uFSfTUNho"
   },
   "source": [
    "The first method this model needs is a `warmup` method to initialize its internal state based on the inputs. Once trained, this state will capture the relevant parts of the input history. This is equivalent to the single-step `LSTM` model from earlier:"
   ]
  },
  {
   "cell_type": "code",
   "execution_count": null,
   "metadata": {
    "id": "vM2K_LLdRjDZ"
   },
   "outputs": [],
   "source": [
    "def warmup(self, inputs):\n",
    "  # inputs.shape => (batch, time, features)\n",
    "  # x.shape => (batch, lstm_units)\n",
    "  x, *state = self.lstm_rnn(inputs)\n",
    "\n",
    "  # predictions.shape => (batch, features)\n",
    "  prediction = self.dense(x)\n",
    "  return prediction, state\n",
    "\n",
    "FeedBack.warmup = warmup"
   ]
  },
  {
   "cell_type": "markdown",
   "metadata": {
    "id": "6JkaSYaZ9eB7"
   },
   "source": [
    "This method returns a single time-step prediction and the internal state of the `LSTM`:"
   ]
  },
  {
   "cell_type": "code",
   "execution_count": null,
   "metadata": {
    "id": "w9Fz6NTKXXwU"
   },
   "outputs": [],
   "source": [
    "prediction, state = feedback_model.warmup(multi_window.example[0])\n",
    "prediction.shape"
   ]
  },
  {
   "cell_type": "markdown",
   "metadata": {
    "id": "S_ZdvPjdX3y3"
   },
   "source": [
    "With the `RNN`'s state, and an initial prediction you can now continue iterating the model feeding the predictions at each step back as the input.\n",
    "\n",
    "The simplest approach for collecting the output predictions is to use a Python list and a `tf.stack` after the loop."
   ]
  },
  {
   "cell_type": "markdown",
   "metadata": {
    "id": "yotTad3nZXQU"
   },
   "source": [
    "Note: Stacking a Python list like this only works with eager-execution, using `Model.compile(..., run_eagerly=True)` for training, or with a fixed length output. For a dynamic output length, you would need to use a `tf.TensorArray` instead of a Python list, and `tf.range` instead of the Python `range`."
   ]
  },
  {
   "cell_type": "code",
   "execution_count": null,
   "metadata": {
    "id": "g1GRDu3mZtr9"
   },
   "outputs": [],
   "source": [
    "def call(self, inputs, training=None):\n",
    "  # Use a TensorArray to capture dynamically unrolled outputs.\n",
    "  predictions = []\n",
    "  # Initialize the LSTM state.\n",
    "  prediction, state = self.warmup(inputs)\n",
    "\n",
    "  # Insert the first prediction.\n",
    "  predictions.append(prediction)\n",
    "\n",
    "  # Run the rest of the prediction steps.\n",
    "  for n in range(1, self.out_steps):\n",
    "    # Use the last prediction as input.\n",
    "    x = prediction\n",
    "    # Execute one lstm step.\n",
    "    x, state = self.lstm_cell(x, states=state,\n",
    "                              training=training)\n",
    "    # Convert the lstm output to a prediction.\n",
    "    prediction = self.dense(x)\n",
    "    # Add the prediction to the output.\n",
    "    predictions.append(prediction)\n",
    "\n",
    "  # predictions.shape => (time, batch, features)\n",
    "  predictions = tf.stack(predictions)\n",
    "  # predictions.shape => (batch, time, features)\n",
    "  predictions = tf.transpose(predictions, [1, 0, 2])\n",
    "  return predictions\n",
    "\n",
    "FeedBack.call = call"
   ]
  },
  {
   "cell_type": "markdown",
   "metadata": {
    "id": "Ubop-YWp15XW"
   },
   "source": [
    "Test run this model on the example inputs:"
   ]
  },
  {
   "cell_type": "code",
   "execution_count": null,
   "metadata": {
    "id": "Xja83zEYaM2D"
   },
   "outputs": [],
   "source": [
    "print('Output shape (batch, time, features): ', feedback_model(multi_window.example[0]).shape)"
   ]
  },
  {
   "cell_type": "markdown",
   "metadata": {
    "id": "qMs0rYB8be9M"
   },
   "source": [
    "Now, train the model:"
   ]
  },
  {
   "cell_type": "code",
   "execution_count": null,
   "metadata": {
    "id": "VBRVG2hnNyrO"
   },
   "outputs": [],
   "source": [
    "history = compile_and_fit(feedback_model, multi_window)\n",
    "\n",
    "IPython.display.clear_output()\n",
    "\n",
    "multi_val_performance['AR LSTM'] = feedback_model.evaluate(multi_window.val)\n",
    "multi_performance['AR LSTM'] = feedback_model.evaluate(multi_window.test, verbose=0)\n",
    "multi_window.plot(feedback_model)"
   ]
  },
  {
   "cell_type": "markdown",
   "metadata": {
    "id": "hGjcJsAQJUkI"
   },
   "source": [
    "### Performance"
   ]
  },
  {
   "cell_type": "markdown",
   "metadata": {
    "id": "sODAwr2ndtDB"
   },
   "source": [
    "There are clearly diminishing returns as a function of model complexity on this problem:"
   ]
  },
  {
   "cell_type": "code",
   "execution_count": null,
   "metadata": {
    "id": "WZwWBA8S6B3L"
   },
   "outputs": [],
   "source": [
    "x = np.arange(len(multi_performance))\n",
    "width = 0.3\n",
    "\n",
    "metric_name = 'mean_absolute_error'\n",
    "metric_index = lstm_model.metrics_names.index('mean_absolute_error')\n",
    "val_mae = [v[metric_index] for v in multi_val_performance.values()]\n",
    "test_mae = [v[metric_index] for v in multi_performance.values()]\n",
    "\n",
    "plt.bar(x - 0.17, val_mae, width, label='Validation')\n",
    "plt.bar(x + 0.17, test_mae, width, label='Test')\n",
    "plt.xticks(ticks=x, labels=multi_performance.keys(),\n",
    "           rotation=45)\n",
    "plt.ylabel(f'MAE (average over all times and outputs)')\n",
    "_ = plt.legend()"
   ]
  },
  {
   "cell_type": "markdown",
   "metadata": {
    "id": "Zq3hUsedCEmJ"
   },
   "source": [
    "The metrics for the multi-output models in the first half of this tutorial show the performance averaged across all output features. These performances are similar but also averaged across output time steps."
   ]
  },
  {
   "cell_type": "code",
   "execution_count": null,
   "metadata": {
    "id": "jKq3eAIvH4Db"
   },
   "outputs": [],
   "source": [
    "for name, value in multi_performance.items():\n",
    "  print(f'{name:8s}: {value[1]:0.4f}')"
   ]
  },
  {
   "cell_type": "markdown",
   "metadata": {
    "id": "MpBFwfnaHP23"
   },
   "source": [
    "The gains achieved going from a dense model to convolutional and recurrent models are only a few percent (if any), and the autoregressive model performed clearly worse. So these more complex approaches may not be worth while on **this** problem, but there was no way to know without trying, and these models could be helpful for **your** problem."
   ]
  },
  {
   "cell_type": "markdown",
   "metadata": {
    "id": "pOzaIRYBhqwg"
   },
   "source": [
    "## Next steps\n",
    "\n",
    "This tutorial was a quick introduction to time series forecasting using TensorFlow.\n",
    "\n",
    "To learn more, refer to:\n",
    "\n",
    "- Chapter 15 of <a href=\"https://www.oreilly.com/library/view/hands-on-machine-learning/9781492032632/\" class=\"external\">Hands-on Machine Learning with Scikit-Learn, Keras, and TensorFlow</a>, 2nd Edition.\n",
    "- Chapter 6 of <a href=\"https://www.manning.com/books/deep-learning-with-python\" class=\"external\">Deep Learning with Python</a>.\n",
    "- Lesson 8 of <a href=\"https://www.udacity.com/course/intro-to-tensorflow-for-deep-learning--ud187\" class=\"external\">Udacity's intro to TensorFlow for deep learning</a>, including the <a href=\"https://github.com/tensorflow/examples/tree/master/courses/udacity_intro_to_tensorflow_for_deep_learning\" class=\"external\">exercise notebooks</a>.\n",
    "\n",
    "Also, remember that you can implement any <a href=\"https://otexts.com/fpp2/index.html\" class=\"external\">classical time series model</a> in TensorFlow—this tutorial just focuses on TensorFlow's built-in functionality.\n"
   ]
  }
 ],
 "metadata": {
  "accelerator": "GPU",
  "colab": {
   "name": "time_series.ipynb",
   "provenance": [],
   "toc_visible": true
  },
  "kernelspec": {
   "display_name": "Python 3 (ipykernel)",
   "language": "python",
   "name": "python3"
  }
 },
 "nbformat": 4,
 "nbformat_minor": 1
}
